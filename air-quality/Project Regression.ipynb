{
 "cells": [
  {
   "cell_type": "markdown",
   "metadata": {},
   "source": [
    "## Regression Problem\n",
    "#### Dataset Description:  \n",
    "The dataset includes 9358 data samples of responses from 5 metal oxide chemical sensors embedded in an Air Quality Monitoring Device, recorded along with hours. The device was located on the field in a significantly polluted area in Italy. The data was collected to estimate benzene concentration with the response from the previously mentioned sensors, which are originally designed to monitor non-benzene substance concentration(i.e. there maybe a potential relationship between the concentration of benzene and the 5 kinds of non-benzene substance.).Consequently, the labels should be the true values of benzene concentration.  \n",
    "The dataset is provided in S. De Vito, E. Massera, M. Piga, L. Martinotto, G. Di Francia, On field calibration of an electronic nose for benzene estimation in an urban pollution monitoring scenario, Sensors and Actuators B: Chemical, Volume 129, Issue 2, 22 February 2008, Pages 750-757, ISSN 0925-4005.  "
   ]
  },
  {
   "cell_type": "markdown",
   "metadata": {},
   "source": [
    "### LS Solution Approach by Changlin Jiang\n",
    "#### Libraries and dataset importing"
   ]
  },
  {
   "cell_type": "code",
   "execution_count": 62,
   "metadata": {},
   "outputs": [],
   "source": [
    "# import libraries\n",
    "import csv\n",
    "import numpy as np\n",
    "from numpy import linalg as la\n",
    "import matplotlib.pyplot as plt\n",
    "import math\n",
    "from sklearn import linear_model\n",
    "import copy"
   ]
  },
  {
   "cell_type": "code",
   "execution_count": 2,
   "metadata": {},
   "outputs": [],
   "source": [
    "# read dataset from csv file\n",
    "with open('AirQualityUCI.csv') as csv_file:\n",
    "    csv_reader=csv.reader(csv_file, delimiter=',')\n",
    "    date,time,CO_true,CO_measured,NMHC_true,C6H6_true,NMHC_measured,NOx_true,NOx_measured,NO2_true,NO2_measured,O3_measured,temp,RH,AH=[0 for i in range(9357)],[0 for i in range(9357)],[0 for i in range(9357)],[0 for i in range(9357)],[0 for i in range(9357)],[0 for i in range(9357)],[0 for i in range(9357)],[0 for i in range(9357)],[0 for i in range(9357)],[0 for i in range(9357)],[0 for i in range(9357)],[0 for i in range(9357)],[0 for i in range(9357)],[0 for i in range(9357)],[0 for i in range(9357)]\n",
    "    #print(len(CO_true))\n",
    "    line_count=0\n",
    "    for row in csv_reader:\n",
    "        #print(len(row))\n",
    "        if row[0]==\"\":\n",
    "            break;\n",
    "        if(line_count!=0):\n",
    "            date[line_count-1],time[line_count-1],CO_true[line_count-1],CO_measured[line_count-1],NMHC_true[line_count-1],C6H6_true[line_count-1],NMHC_measured[line_count-1],NOx_true[line_count-1],NOx_measured[line_count-1],NO2_true[line_count-1],NO2_measured[line_count-1],O3_measured[line_count-1],temp[line_count-1],RH[line_count-1],AH[line_count-1]=row[0],row[1],row[2],row[3],row[4],row[5],row[6],row[7],row[8],row[9],row[10],row[11],row[12],row[13],row[14]\n",
    "        line_count+=1"
   ]
  },
  {
   "cell_type": "code",
   "execution_count": 3,
   "metadata": {},
   "outputs": [
    {
     "name": "stdout",
     "output_type": "stream",
     "text": [
      "9358\n"
     ]
    }
   ],
   "source": [
    "print(line_count)"
   ]
  },
  {
   "cell_type": "markdown",
   "metadata": {},
   "source": [
    "#### Data Cleaning\n",
    "The missing values in the dataset was tagged with -200. To clean the dataset, the missing values are filled with the mean of the dimension."
   ]
  },
  {
   "cell_type": "code",
   "execution_count": 4,
   "metadata": {
    "scrolled": true
   },
   "outputs": [],
   "source": [
    "# clean the data and label by replacing invalid value with mean\n",
    "def clean_replace(data,labels):\n",
    "    # clean the data\n",
    "    m,n=np.shape(data)\n",
    "    mean=[0 for i in range(m)]\n",
    "    for i in range(m):\n",
    "        sum=0\n",
    "        count=0\n",
    "        for j in range(n):\n",
    "            if(data[i,j]>=0):\n",
    "                sum+=data[i,j]\n",
    "                count+=1\n",
    "        mean[i]=sum/count\n",
    "    for i in range(m):\n",
    "        for j in range(n):\n",
    "            if data[i,j]<0:\n",
    "                data[i,j]=mean[i]\n",
    "\n",
    "    # clean the label\n",
    "    labels=np.array(labels).astype(np.float64)\n",
    "    sum=0\n",
    "    count=0\n",
    "    for i in range(n):\n",
    "        if labels[i]>=0:\n",
    "            sum+=labels[i]\n",
    "            count+=1\n",
    "    mean=sum/count\n",
    "    for i in range(n):\n",
    "        if labels[i]<0:\n",
    "            labels[i]=mean\n",
    "    return data,labels"
   ]
  },
  {
   "cell_type": "markdown",
   "metadata": {},
   "source": [
    "#### LS solution implementation"
   ]
  },
  {
   "cell_type": "code",
   "execution_count": 5,
   "metadata": {},
   "outputs": [],
   "source": [
    "# implement LS solution\n",
    "def ls_solution(data,labels):\n",
    "    m,n=np.shape(data)\n",
    "    data_hat=np.row_stack((data,[1 for i in range(n)])).T.astype(np.float64)\n",
    "    w=la.inv(data_hat.T*data_hat)*data_hat.T*labels.T\n",
    "    return w"
   ]
  },
  {
   "cell_type": "markdown",
   "metadata": {},
   "source": [
    "#### Cross Validation Implementation"
   ]
  },
  {
   "cell_type": "code",
   "execution_count": 42,
   "metadata": {},
   "outputs": [],
   "source": [
    "# Build cross validation function, return regression error for each test and derived labels\n",
    "def cross_validation(data,labels,k:int):\n",
    "    m,n=np.shape(data)\n",
    "    data_with_labels=np.mat(np.row_stack((data,labels))).astype(np.float64)\n",
    "    a=n//k\n",
    "    fold=[0 for i in range(k)]\n",
    "    for i in range(k):\n",
    "        if i!=k-1:\n",
    "            fold[i]=data_with_labels[:,i*a:(i+1)*a].astype(np.float64)\n",
    "        else:\n",
    "            fold[i]=data_with_labels[:,i*a:].astype(np.float64)\n",
    "    reg_error=[0 for i in range(k)]\n",
    "    labels_derived=np.mat([0 for i in range(n)]).astype(np.float64).T\n",
    "    \n",
    "    for i in range(k):\n",
    "        test_data=fold[i].astype(np.float64)\n",
    "        mi,ni=np.shape(fold[i])\n",
    "        training_data=np.mat([[0 for j in range(n-ni)] for i in range(m+1)]).astype(np.float64)\n",
    "        sample_number=0\n",
    "        for j in range(k):\n",
    "            if j==i:\n",
    "                continue\n",
    "            mj,nj=np.shape(fold[j])\n",
    "            training_data[:,sample_number:sample_number+nj]=fold[j]\n",
    "            sample_number=sample_number+nj\n",
    "        # Algorithm implementation\n",
    "        w=ls_solution(training_data[:m,:],training_data[m,:])\n",
    "        test_data_hat=np.row_stack((test_data[:m,:],np.mat([1 for x in range(ni)])))\n",
    "        y=test_data_hat.T*w\n",
    "        print(type(y))\n",
    "        if i!=k-1:\n",
    "            labels_derived[i*a:(i+1)*a]=y\n",
    "        else:\n",
    "            labels_derived[i*a:]=y\n",
    "        reg_error[i]=la.norm(y-labels,2)\n",
    "    overall_error=la.norm(reg_error)\n",
    "    return reg_error,labels_derived,overall_error"
   ]
  },
  {
   "cell_type": "code",
   "execution_count": 45,
   "metadata": {},
   "outputs": [
    {
     "name": "stdout",
     "output_type": "stream",
     "text": [
      "<class 'numpy.matrixlib.defmatrix.matrix'>\n"
     ]
    },
    {
     "ename": "TypeError",
     "evalue": "ufunc 'subtract' did not contain a loop with signature matching types dtype('<U32') dtype('<U32') dtype('<U32')",
     "output_type": "error",
     "traceback": [
      "\u001b[1;31m---------------------------------------------------------------------------\u001b[0m",
      "\u001b[1;31mTypeError\u001b[0m                                 Traceback (most recent call last)",
      "\u001b[1;32m<ipython-input-45-b43065bb83d6>\u001b[0m in \u001b[0;36m<module>\u001b[1;34m()\u001b[0m\n\u001b[1;32m----> 1\u001b[1;33m \u001b[0mcross_validation\u001b[0m\u001b[1;33m(\u001b[0m\u001b[0mdata\u001b[0m\u001b[1;33m,\u001b[0m \u001b[0mlabels\u001b[0m\u001b[1;33m,\u001b[0m \u001b[1;36m5\u001b[0m\u001b[1;33m)\u001b[0m\u001b[1;33m\u001b[0m\u001b[0m\n\u001b[0m",
      "\u001b[1;32m<ipython-input-42-718e8319f50c>\u001b[0m in \u001b[0;36mcross_validation\u001b[1;34m(data, labels, k)\u001b[0m\n\u001b[0;32m     33\u001b[0m         \u001b[1;32melse\u001b[0m\u001b[1;33m:\u001b[0m\u001b[1;33m\u001b[0m\u001b[0m\n\u001b[0;32m     34\u001b[0m             \u001b[0mlabels_derived\u001b[0m\u001b[1;33m[\u001b[0m\u001b[0mi\u001b[0m\u001b[1;33m*\u001b[0m\u001b[0ma\u001b[0m\u001b[1;33m:\u001b[0m\u001b[1;33m]\u001b[0m\u001b[1;33m=\u001b[0m\u001b[0my\u001b[0m\u001b[1;33m\u001b[0m\u001b[0m\n\u001b[1;32m---> 35\u001b[1;33m         \u001b[0mreg_error\u001b[0m\u001b[1;33m[\u001b[0m\u001b[0mi\u001b[0m\u001b[1;33m]\u001b[0m\u001b[1;33m=\u001b[0m\u001b[0mla\u001b[0m\u001b[1;33m.\u001b[0m\u001b[0mnorm\u001b[0m\u001b[1;33m(\u001b[0m\u001b[0my\u001b[0m\u001b[1;33m-\u001b[0m\u001b[0mlabels\u001b[0m\u001b[1;33m,\u001b[0m\u001b[1;36m2\u001b[0m\u001b[1;33m)\u001b[0m\u001b[1;33m\u001b[0m\u001b[0m\n\u001b[0m\u001b[0;32m     36\u001b[0m     \u001b[0moverall_error\u001b[0m\u001b[1;33m=\u001b[0m\u001b[0mla\u001b[0m\u001b[1;33m.\u001b[0m\u001b[0mnorm\u001b[0m\u001b[1;33m(\u001b[0m\u001b[0mreg_error\u001b[0m\u001b[1;33m)\u001b[0m\u001b[1;33m\u001b[0m\u001b[0m\n\u001b[0;32m     37\u001b[0m     \u001b[1;32mreturn\u001b[0m \u001b[0mreg_error\u001b[0m\u001b[1;33m,\u001b[0m\u001b[0mlabels_derived\u001b[0m\u001b[1;33m,\u001b[0m\u001b[0moverall_error\u001b[0m\u001b[1;33m\u001b[0m\u001b[0m\n",
      "\u001b[1;31mTypeError\u001b[0m: ufunc 'subtract' did not contain a loop with signature matching types dtype('<U32') dtype('<U32') dtype('<U32')"
     ]
    }
   ],
   "source": [
    "cross_validation(data, labels, 5)"
   ]
  },
  {
   "cell_type": "markdown",
   "metadata": {},
   "source": [
    "#### Overall process implementation\n",
    "The pipeline implemented is as below:  \n",
    "- Data importing:  \n",
    "Import data from csv file and save each dimension into a individual list.\n",
    "- Data cleaning:\n",
    "Fill all the missing values in data with the mean of the dimension.\n",
    "- Algorithm implement:\n",
    "Implement LS solution to learn the dataset.\n",
    "- Algorithm evaluation:\n",
    "Build K-folds cross validation to compute the regression error of the algorithm\n",
    "- Parameter determination:\n",
    "Run K-folds cross validation with K in a linear array to find the best K for this certain dataset."
   ]
  },
  {
   "cell_type": "code",
   "execution_count": 7,
   "metadata": {},
   "outputs": [],
   "source": [
    "# Define overall process function to show the results\n",
    "def ls_regression(data,labels):\n",
    "    m,n=np.shape(np.mat(data))\n",
    "    if m>1:\n",
    "        data=np.row_stack(data)\n",
    "    data=np.mat(data).astype(np.float64)\n",
    "    data,labels=clean_replace(data,labels)\n",
    "    # Implement LS regression nand cross validation to find the best K\n",
    "    k=[2,3,4,5,6,7,8,9,10]\n",
    "    overall_error=[0 for i in range(9)]\n",
    "    for i in range(9):\n",
    "        overall_error[i]=cross_validation(data,labels,k[i])[2]\n",
    "    # Plot the K-Error plot to show the best K\n",
    "    plt.figure(1)\n",
    "    plt.plot(k,overall_error)\n",
    "    plt.title('K-Error Plot')\n",
    "    print(\"The best K is \",k[overall_error.index(min(overall_error))])\n",
    "    # Plot the regression result derived by the best K in a predicted-versus-measured scatter plot\n",
    "    reg_error,labels_derived,overall_error=cross_validation(data,labels,k[overall_error.index(min(overall_error))])\n",
    "    labels_derived=np.array(labels_derived).reshape(-1,1)\n",
    "    labels=np.array(labels).reshape(1,-1).T\n",
    "    plt.figure(2)\n",
    "    plt.scatter(labels,labels_derived,color='b')\n",
    "    ymax=max([max(labels),max(labels_derived)])\n",
    "    plt.plot([0,max(labels)],[0,max(labels)], color='r', linewidth=1, alpha=0.6)\n",
    "    plt.xlabel('Predicted Labels')\n",
    "    plt.ylabel('Measured Labels')\n",
    "    plt.title('Overall L2-Loss Regression Error={}'.format(overall_error))"
   ]
  },
  {
   "cell_type": "code",
   "execution_count": 44,
   "metadata": {},
   "outputs": [
    {
     "name": "stdout",
     "output_type": "stream",
     "text": [
      "<class 'numpy.matrixlib.defmatrix.matrix'>\n",
      "<class 'numpy.matrixlib.defmatrix.matrix'>\n",
      "<class 'numpy.matrixlib.defmatrix.matrix'>\n"
     ]
    },
    {
     "ename": "KeyboardInterrupt",
     "evalue": "",
     "output_type": "error",
     "traceback": [
      "\u001b[1;31m---------------------------------------------------------------------------\u001b[0m",
      "\u001b[1;31mKeyboardInterrupt\u001b[0m                         Traceback (most recent call last)",
      "\u001b[1;32m<ipython-input-44-bb093ad643bf>\u001b[0m in \u001b[0;36m<module>\u001b[1;34m()\u001b[0m\n\u001b[0;32m      1\u001b[0m \u001b[0mdata\u001b[0m\u001b[1;33m=\u001b[0m\u001b[1;33m(\u001b[0m\u001b[0mCO_measured\u001b[0m\u001b[1;33m,\u001b[0m\u001b[0mNMHC_measured\u001b[0m\u001b[1;33m,\u001b[0m\u001b[0mNOx_measured\u001b[0m\u001b[1;33m,\u001b[0m\u001b[0mNO2_measured\u001b[0m\u001b[1;33m,\u001b[0m\u001b[0mO3_measured\u001b[0m\u001b[1;33m,\u001b[0m\u001b[0mtemp\u001b[0m\u001b[1;33m,\u001b[0m\u001b[0mRH\u001b[0m\u001b[1;33m,\u001b[0m\u001b[0mAH\u001b[0m\u001b[1;33m)\u001b[0m\u001b[1;33m\u001b[0m\u001b[0m\n\u001b[0;32m      2\u001b[0m \u001b[0mlabels\u001b[0m\u001b[1;33m=\u001b[0m\u001b[0mC6H6_true\u001b[0m\u001b[1;33m\u001b[0m\u001b[0m\n\u001b[1;32m----> 3\u001b[1;33m \u001b[0mls_regression\u001b[0m\u001b[1;33m(\u001b[0m\u001b[0mdata\u001b[0m\u001b[1;33m,\u001b[0m\u001b[0mlabels\u001b[0m\u001b[1;33m)\u001b[0m\u001b[1;33m\u001b[0m\u001b[0m\n\u001b[0m",
      "\u001b[1;32m<ipython-input-7-22b4e0665b3c>\u001b[0m in \u001b[0;36mls_regression\u001b[1;34m(data, labels)\u001b[0m\n\u001b[0;32m     10\u001b[0m     \u001b[0moverall_error\u001b[0m\u001b[1;33m=\u001b[0m\u001b[1;33m[\u001b[0m\u001b[1;36m0\u001b[0m \u001b[1;32mfor\u001b[0m \u001b[0mi\u001b[0m \u001b[1;32min\u001b[0m \u001b[0mrange\u001b[0m\u001b[1;33m(\u001b[0m\u001b[1;36m9\u001b[0m\u001b[1;33m)\u001b[0m\u001b[1;33m]\u001b[0m\u001b[1;33m\u001b[0m\u001b[0m\n\u001b[0;32m     11\u001b[0m     \u001b[1;32mfor\u001b[0m \u001b[0mi\u001b[0m \u001b[1;32min\u001b[0m \u001b[0mrange\u001b[0m\u001b[1;33m(\u001b[0m\u001b[1;36m9\u001b[0m\u001b[1;33m)\u001b[0m\u001b[1;33m:\u001b[0m\u001b[1;33m\u001b[0m\u001b[0m\n\u001b[1;32m---> 12\u001b[1;33m         \u001b[0moverall_error\u001b[0m\u001b[1;33m[\u001b[0m\u001b[0mi\u001b[0m\u001b[1;33m]\u001b[0m\u001b[1;33m=\u001b[0m\u001b[0mcross_validation\u001b[0m\u001b[1;33m(\u001b[0m\u001b[0mdata\u001b[0m\u001b[1;33m,\u001b[0m\u001b[0mlabels\u001b[0m\u001b[1;33m,\u001b[0m\u001b[0mk\u001b[0m\u001b[1;33m[\u001b[0m\u001b[0mi\u001b[0m\u001b[1;33m]\u001b[0m\u001b[1;33m)\u001b[0m\u001b[1;33m[\u001b[0m\u001b[1;36m2\u001b[0m\u001b[1;33m]\u001b[0m\u001b[1;33m\u001b[0m\u001b[0m\n\u001b[0m\u001b[0;32m     13\u001b[0m     \u001b[1;31m# Plot the K-Error plot to show the best K\u001b[0m\u001b[1;33m\u001b[0m\u001b[1;33m\u001b[0m\u001b[0m\n\u001b[0;32m     14\u001b[0m     \u001b[0mplt\u001b[0m\u001b[1;33m.\u001b[0m\u001b[0mfigure\u001b[0m\u001b[1;33m(\u001b[0m\u001b[1;36m1\u001b[0m\u001b[1;33m)\u001b[0m\u001b[1;33m\u001b[0m\u001b[0m\n",
      "\u001b[1;32m<ipython-input-42-718e8319f50c>\u001b[0m in \u001b[0;36mcross_validation\u001b[1;34m(data, labels, k)\u001b[0m\n\u001b[0;32m     33\u001b[0m         \u001b[1;32melse\u001b[0m\u001b[1;33m:\u001b[0m\u001b[1;33m\u001b[0m\u001b[0m\n\u001b[0;32m     34\u001b[0m             \u001b[0mlabels_derived\u001b[0m\u001b[1;33m[\u001b[0m\u001b[0mi\u001b[0m\u001b[1;33m*\u001b[0m\u001b[0ma\u001b[0m\u001b[1;33m:\u001b[0m\u001b[1;33m]\u001b[0m\u001b[1;33m=\u001b[0m\u001b[0my\u001b[0m\u001b[1;33m\u001b[0m\u001b[0m\n\u001b[1;32m---> 35\u001b[1;33m         \u001b[0mreg_error\u001b[0m\u001b[1;33m[\u001b[0m\u001b[0mi\u001b[0m\u001b[1;33m]\u001b[0m\u001b[1;33m=\u001b[0m\u001b[0mla\u001b[0m\u001b[1;33m.\u001b[0m\u001b[0mnorm\u001b[0m\u001b[1;33m(\u001b[0m\u001b[0my\u001b[0m\u001b[1;33m-\u001b[0m\u001b[0mlabels\u001b[0m\u001b[1;33m,\u001b[0m\u001b[1;36m2\u001b[0m\u001b[1;33m)\u001b[0m\u001b[1;33m\u001b[0m\u001b[0m\n\u001b[0m\u001b[0;32m     36\u001b[0m     \u001b[0moverall_error\u001b[0m\u001b[1;33m=\u001b[0m\u001b[0mla\u001b[0m\u001b[1;33m.\u001b[0m\u001b[0mnorm\u001b[0m\u001b[1;33m(\u001b[0m\u001b[0mreg_error\u001b[0m\u001b[1;33m)\u001b[0m\u001b[1;33m\u001b[0m\u001b[0m\n\u001b[0;32m     37\u001b[0m     \u001b[1;32mreturn\u001b[0m \u001b[0mreg_error\u001b[0m\u001b[1;33m,\u001b[0m\u001b[0mlabels_derived\u001b[0m\u001b[1;33m,\u001b[0m\u001b[0moverall_error\u001b[0m\u001b[1;33m\u001b[0m\u001b[0m\n",
      "\u001b[1;32mO:\\Anaconda\\lib\\site-packages\\numpy\\linalg\\linalg.py\u001b[0m in \u001b[0;36mnorm\u001b[1;34m(x, ord, axis, keepdims)\u001b[0m\n\u001b[0;32m   2406\u001b[0m             \u001b[1;32mraise\u001b[0m \u001b[0mValueError\u001b[0m\u001b[1;33m(\u001b[0m\u001b[1;34m'Duplicate axes given.'\u001b[0m\u001b[1;33m)\u001b[0m\u001b[1;33m\u001b[0m\u001b[0m\n\u001b[0;32m   2407\u001b[0m         \u001b[1;32mif\u001b[0m \u001b[0mord\u001b[0m \u001b[1;33m==\u001b[0m \u001b[1;36m2\u001b[0m\u001b[1;33m:\u001b[0m\u001b[1;33m\u001b[0m\u001b[0m\n\u001b[1;32m-> 2408\u001b[1;33m             \u001b[0mret\u001b[0m \u001b[1;33m=\u001b[0m  \u001b[0m_multi_svd_norm\u001b[0m\u001b[1;33m(\u001b[0m\u001b[0mx\u001b[0m\u001b[1;33m,\u001b[0m \u001b[0mrow_axis\u001b[0m\u001b[1;33m,\u001b[0m \u001b[0mcol_axis\u001b[0m\u001b[1;33m,\u001b[0m \u001b[0mamax\u001b[0m\u001b[1;33m)\u001b[0m\u001b[1;33m\u001b[0m\u001b[0m\n\u001b[0m\u001b[0;32m   2409\u001b[0m         \u001b[1;32melif\u001b[0m \u001b[0mord\u001b[0m \u001b[1;33m==\u001b[0m \u001b[1;33m-\u001b[0m\u001b[1;36m2\u001b[0m\u001b[1;33m:\u001b[0m\u001b[1;33m\u001b[0m\u001b[0m\n\u001b[0;32m   2410\u001b[0m             \u001b[0mret\u001b[0m \u001b[1;33m=\u001b[0m \u001b[0m_multi_svd_norm\u001b[0m\u001b[1;33m(\u001b[0m\u001b[0mx\u001b[0m\u001b[1;33m,\u001b[0m \u001b[0mrow_axis\u001b[0m\u001b[1;33m,\u001b[0m \u001b[0mcol_axis\u001b[0m\u001b[1;33m,\u001b[0m \u001b[0mamin\u001b[0m\u001b[1;33m)\u001b[0m\u001b[1;33m\u001b[0m\u001b[0m\n",
      "\u001b[1;32mO:\\Anaconda\\lib\\site-packages\\numpy\\linalg\\linalg.py\u001b[0m in \u001b[0;36m_multi_svd_norm\u001b[1;34m(x, row_axis, col_axis, op)\u001b[0m\n\u001b[0;32m   2197\u001b[0m     \"\"\"\n\u001b[0;32m   2198\u001b[0m     \u001b[0my\u001b[0m \u001b[1;33m=\u001b[0m \u001b[0mmoveaxis\u001b[0m\u001b[1;33m(\u001b[0m\u001b[0mx\u001b[0m\u001b[1;33m,\u001b[0m \u001b[1;33m(\u001b[0m\u001b[0mrow_axis\u001b[0m\u001b[1;33m,\u001b[0m \u001b[0mcol_axis\u001b[0m\u001b[1;33m)\u001b[0m\u001b[1;33m,\u001b[0m \u001b[1;33m(\u001b[0m\u001b[1;33m-\u001b[0m\u001b[1;36m2\u001b[0m\u001b[1;33m,\u001b[0m \u001b[1;33m-\u001b[0m\u001b[1;36m1\u001b[0m\u001b[1;33m)\u001b[0m\u001b[1;33m)\u001b[0m\u001b[1;33m\u001b[0m\u001b[0m\n\u001b[1;32m-> 2199\u001b[1;33m     \u001b[0mresult\u001b[0m \u001b[1;33m=\u001b[0m \u001b[0mop\u001b[0m\u001b[1;33m(\u001b[0m\u001b[0msvd\u001b[0m\u001b[1;33m(\u001b[0m\u001b[0my\u001b[0m\u001b[1;33m,\u001b[0m \u001b[0mcompute_uv\u001b[0m\u001b[1;33m=\u001b[0m\u001b[1;36m0\u001b[0m\u001b[1;33m)\u001b[0m\u001b[1;33m,\u001b[0m \u001b[0maxis\u001b[0m\u001b[1;33m=\u001b[0m\u001b[1;33m-\u001b[0m\u001b[1;36m1\u001b[0m\u001b[1;33m)\u001b[0m\u001b[1;33m\u001b[0m\u001b[0m\n\u001b[0m\u001b[0;32m   2200\u001b[0m     \u001b[1;32mreturn\u001b[0m \u001b[0mresult\u001b[0m\u001b[1;33m\u001b[0m\u001b[0m\n\u001b[0;32m   2201\u001b[0m \u001b[1;33m\u001b[0m\u001b[0m\n",
      "\u001b[1;32mO:\\Anaconda\\lib\\site-packages\\numpy\\linalg\\linalg.py\u001b[0m in \u001b[0;36msvd\u001b[1;34m(a, full_matrices, compute_uv)\u001b[0m\n\u001b[0;32m   1572\u001b[0m \u001b[1;33m\u001b[0m\u001b[0m\n\u001b[0;32m   1573\u001b[0m         \u001b[0msignature\u001b[0m \u001b[1;33m=\u001b[0m \u001b[1;34m'D->d'\u001b[0m \u001b[1;32mif\u001b[0m \u001b[0misComplexType\u001b[0m\u001b[1;33m(\u001b[0m\u001b[0mt\u001b[0m\u001b[1;33m)\u001b[0m \u001b[1;32melse\u001b[0m \u001b[1;34m'd->d'\u001b[0m\u001b[1;33m\u001b[0m\u001b[0m\n\u001b[1;32m-> 1574\u001b[1;33m         \u001b[0ms\u001b[0m \u001b[1;33m=\u001b[0m \u001b[0mgufunc\u001b[0m\u001b[1;33m(\u001b[0m\u001b[0ma\u001b[0m\u001b[1;33m,\u001b[0m \u001b[0msignature\u001b[0m\u001b[1;33m=\u001b[0m\u001b[0msignature\u001b[0m\u001b[1;33m,\u001b[0m \u001b[0mextobj\u001b[0m\u001b[1;33m=\u001b[0m\u001b[0mextobj\u001b[0m\u001b[1;33m)\u001b[0m\u001b[1;33m\u001b[0m\u001b[0m\n\u001b[0m\u001b[0;32m   1575\u001b[0m         \u001b[0ms\u001b[0m \u001b[1;33m=\u001b[0m \u001b[0ms\u001b[0m\u001b[1;33m.\u001b[0m\u001b[0mastype\u001b[0m\u001b[1;33m(\u001b[0m\u001b[0m_realType\u001b[0m\u001b[1;33m(\u001b[0m\u001b[0mresult_t\u001b[0m\u001b[1;33m)\u001b[0m\u001b[1;33m,\u001b[0m \u001b[0mcopy\u001b[0m\u001b[1;33m=\u001b[0m\u001b[1;32mFalse\u001b[0m\u001b[1;33m)\u001b[0m\u001b[1;33m\u001b[0m\u001b[0m\n\u001b[0;32m   1576\u001b[0m         \u001b[1;32mreturn\u001b[0m \u001b[0ms\u001b[0m\u001b[1;33m\u001b[0m\u001b[0m\n",
      "\u001b[1;31mKeyboardInterrupt\u001b[0m: "
     ]
    }
   ],
   "source": [
    "data=(CO_measured,NMHC_measured,NOx_measured,NO2_measured,O3_measured,temp,RH,AH)\n",
    "labels=C6H6_true\n",
    "ls_regression(data,labels)"
   ]
  },
  {
   "cell_type": "code",
   "execution_count": 9,
   "metadata": {},
   "outputs": [],
   "source": [
    "data=(CO_measured,NMHC_measured,NOx_measured,NO2_measured,O3_measured,temp,RH,AH)\n",
    "targets = C6H6_true\n",
    "#print(targets)"
   ]
  },
  {
   "cell_type": "code",
   "execution_count": 10,
   "metadata": {},
   "outputs": [
    {
     "name": "stdout",
     "output_type": "stream",
     "text": [
      "8\n"
     ]
    }
   ],
   "source": [
    "print(len(data))"
   ]
  },
  {
   "cell_type": "code",
   "execution_count": 67,
   "metadata": {},
   "outputs": [
    {
     "name": "stdout",
     "output_type": "stream",
     "text": [
      "(9, 9357)\n",
      "(9, 1)\n",
      "(9, 1)\n",
      "(9, 1)\n",
      "(9, 1)\n",
      "(9, 1)\n",
      "progressing\n",
      "(9, 9357)\n",
      "(9, 1)\n",
      "(9, 1)\n",
      "(9, 1)\n",
      "(9, 1)\n",
      "(9, 1)\n",
      "progressing\n",
      "(9, 9357)\n",
      "(9, 1)\n",
      "(9, 1)\n",
      "(9, 1)\n",
      "(9, 1)\n",
      "(9, 1)\n",
      "progressing\n",
      "(9, 9357)\n",
      "(9, 1)\n",
      "(9, 1)\n",
      "(9, 1)\n",
      "(9, 1)\n",
      "(9, 1)\n",
      "progressing\n",
      "(9, 9357)\n",
      "(9, 1)\n",
      "(9, 1)\n",
      "(9, 1)\n",
      "(9, 1)\n",
      "(9, 1)\n",
      "progressing\n",
      "(9, 9357)\n",
      "(9, 1)\n",
      "(9, 1)\n",
      "(9, 1)\n",
      "(9, 1)\n",
      "(9, 1)\n",
      "progressing\n",
      "(9, 9357)\n",
      "(9, 1)\n",
      "(9, 1)\n",
      "(9, 1)\n",
      "(9, 1)\n",
      "(9, 1)\n",
      "progressing\n",
      "(9, 9357)\n",
      "(9, 1)\n",
      "(9, 1)\n",
      "(9, 1)\n",
      "(9, 1)\n",
      "(9, 1)\n",
      "progressing\n",
      "(9, 9357)\n",
      "(9, 1)\n",
      "(9, 1)\n",
      "(9, 1)\n",
      "(9, 1)\n",
      "(9, 1)\n",
      "progressing\n",
      "(9, 9357)\n",
      "(9, 1)\n",
      "(9, 1)\n",
      "(9, 1)\n",
      "(9, 1)\n",
      "(9, 1)\n",
      "progressing\n",
      "(9, 9357)\n",
      "(9, 1)\n",
      "(9, 1)\n",
      "(9, 1)\n",
      "(9, 1)\n",
      "(9, 1)\n",
      "progressing\n"
     ]
    }
   ],
   "source": [
    "# Build cross validation function, return regression error for each test and derived labels\n",
    "def cross_validation(data,labels,k:int,alpha):\n",
    "    \n",
    "    m,n=np.shape(data)\n",
    "    data_with_labels=np.mat(np.row_stack((data,labels))).astype(np.float64)\n",
    "    #print(data_with_labels.shape)\n",
    "    a=n//k\n",
    "    fold=[0 for i in range(k)]\n",
    "    for i in range(k):\n",
    "        if i!=k-1:\n",
    "            fold[i]=data_with_labels[:,i*a:(i+1)*a].astype(np.float64)\n",
    "        else:\n",
    "            fold[i]=data_with_labels[:,i*a:].astype(np.float64)\n",
    "    reg_error=[0 for i in range(k)]\n",
    "    labels_derived=np.mat([0 for i in range(n)]).astype(np.float64).T\n",
    "    w_arr = []\n",
    "    for i in range(k):\n",
    "        test_data=fold[i].astype(np.float64)\n",
    "        mi,ni=np.shape(fold[i])\n",
    "        training_data=np.mat([[0 for j in range(n-ni)] for i in range(m+1)]).astype(np.float64)\n",
    "        sample_number=0\n",
    "        for j in range(k):\n",
    "            if j==i:\n",
    "                continue\n",
    "            mj,nj=np.shape(fold[j])\n",
    "            training_data[:,sample_number:sample_number+nj]=fold[j]\n",
    "            sample_number=sample_number+nj\n",
    "        # Algorithm implementation\n",
    "        reg = linear_model.LassoLars(alpha = alpha)\n",
    "        reg.fit(np.vstack((training_data[:m, :], np.ones((1, training_data.shape[1])))).T, training_data[m].T)\n",
    "        w = reg.coef_[np.newaxis].T\n",
    "        \n",
    "        test_data_hat=np.row_stack((test_data[:m,:],np.mat([1 for x in range(ni)])))\n",
    "        #print(w.shape)\n",
    "        y=test_data_hat.T.dot(w)\n",
    "        if i!=k-1:\n",
    "            labels_derived[i*a:(i+1)*a]=y\n",
    "            reg_error[i]=la.norm(y-np.asarray(labels)[i*a:(i+1)*a].astype(np.float64),2)\n",
    "        else:\n",
    "            labels_derived[i*a:]=y\n",
    "            reg_error[i]=la.norm(y-np.asarray(labels)[i*a:].astype(np.float64),2)\n",
    "        w_arr.append(w.T.tolist()[0])\n",
    "    print('progressing')\n",
    "    w_arr = np.asarray(w_arr)\n",
    "    w_arr_avg = np.sum(w_arr, axis = 0)\n",
    "    overall_error=la.norm(reg_error)\n",
    "    return reg_error,labels_derived,overall_error, w_arr_avg\n",
    "\"\"\"reg = linear_model.LassoLars(alpha=.1)\n",
    "data_array = np.asarray(data).T\n",
    "print(targets)\n",
    "reg.fit(data_array, targets)\n",
    "print(reg.coef_)\"\"\"\n",
    "\n",
    "\n",
    "\n",
    "\n",
    "lasso_err, targets_est, overall_error, weights = cross_validation(data, targets, 5, 0.1)\n",
    "\n",
    "lasso_err_arr = []\n",
    "error_arr = []\n",
    "weights_arr = []\n",
    "for a in np.linspace(0, 0.5, num=10):\n",
    "    lasso_err, targets_est, overall_error, weights = cross_validation(data, targets, 5, a)\n",
    "    lasso_err_arr.append(lasso_err)\n",
    "    error_arr.append(overall_error)\n",
    "    weights_arr.append(weights)\n",
    "\n",
    "    \n"
   ]
  },
  {
   "cell_type": "code",
   "execution_count": 76,
   "metadata": {},
   "outputs": [
    {
     "name": "stderr",
     "output_type": "stream",
     "text": [
      "O:\\Anaconda\\lib\\site-packages\\ipykernel_launcher.py:7: RuntimeWarning: invalid value encountered in true_divide\n",
      "  import sys\n"
     ]
    },
    {
     "data": {
      "image/png": "[encoded data removed]",
      "text/plain": [
       "<Figure size 432x288 with 2 Axes>"
      ]
     },
     "metadata": {
      "needs_background": "light"
     },
     "output_type": "display_data"
    }
   ],
   "source": [
    "fig = plt.figure()\n",
    "ax = fig.add_subplot(121)\n",
    "#weights_list = copy.deepcopy(weights_arr)\n",
    "weights_arr = np.asarray(weights_list).T\n",
    "ax.plot(range(weights_arr.shape[0]), weights_arr)\n",
    "ax = fig.add_subplot(122)\n",
    "weights_arr = weights_arr/weights_arr[0]\n",
    "ax.plot(range(weights_arr.shape[0]), weights_arr)\n",
    "plt.show()"
   ]
  },
  {
   "cell_type": "code",
   "execution_count": 75,
   "metadata": {},
   "outputs": [],
   "source": [
    "weights_list = weights_list.tolist()"
   ]
  },
  {
   "cell_type": "markdown",
   "metadata": {},
   "source": [
    "#### Discussion:\n",
    "At the start of coding this algorithm, there was a great issue. The dataset was provided by UCI, which didn't tag the labels dimension in all the 14 dimensions. Picking the right attribute took a long period of time. The process was as below.  \n",
    "Firstly, I assumed UCI just provided this dataset for free-researching, i.e. there was no explicit attribute in all the attributes so that we could pick any one by our requirement to check our algorithm freely.  \n",
    "Our first pick was picking the true value of CO as the labels attribute and estimate it with the responses from the 5 sensors.Firstly I directly plotted a true-versus-measured plot of CO concentration to find out if it fitted linear model."
   ]
  },
  {
   "cell_type": "code",
   "execution_count": null,
   "metadata": {},
   "outputs": [],
   "source": [
    "plt.scatter(CO_true,CO_measured)\n",
    "plt.title('CO_True VS CO_Measured')"
   ]
  },
  {
   "cell_type": "markdown",
   "metadata": {},
   "source": [
    "It can be indicated from the plot that the model is totally non-linear.The response of the sensor is likely to be random when the true concentration of CO is exactly at some certain value, plotted as vertical straight-line-like shapes in the scatter plot.  \n",
    "That was the reason why I decided to treat the problem as random model, and directly implement LS solution to find out one answer:\n",
    "Is there any potential relationships between the responses from the 5 sensors so that I can input all of them to get a better result on when measuring concentration of one certain kind of the substance? That is to say,if I input all the 5 measured attribute into regression algorithm, can I get a lower regression error to the true CO concentration than only inputting the measured CO concentration?  \n",
    "To find out the answer, firstly I put only the measured CO concentration into LS regression algorithm to get the error:"
   ]
  },
  {
   "cell_type": "code",
   "execution_count": null,
   "metadata": {},
   "outputs": [],
   "source": [
    "ls_regression(CO_measured,CO_true)"
   ]
  },
  {
   "cell_type": "markdown",
   "metadata": {},
   "source": [
    "Then I implemented the algorithm with input dataset of all the 5 sensors responses, the result was:"
   ]
  },
  {
   "cell_type": "code",
   "execution_count": null,
   "metadata": {},
   "outputs": [],
   "source": [
    "data=(CO_measured,NMHC_measured,NOx_measured,NO2_measured,O3_measured,temp,RH,AH)\n",
    "labels=CO_true\n",
    "ls_regression(data,labels)"
   ]
  },
  {
   "cell_type": "code",
   "execution_count": null,
   "metadata": {},
   "outputs": [],
   "source": []
  },
  {
   "cell_type": "markdown",
   "metadata": {},
   "source": [
    "It can be indicated by comparing the two L2-Loss that there is no enhancement by adding more attributes to the input.It seems hard to continue using the same attribute as labels.  \n",
    "Finally I directly read the paper cited on the UCL dataset page and found out that the purpose of the collection of this dataset was to estimate the potential of true benzene concentration and the responses of sensors. By implementing the same algorithm on such data and labels input I got the above result.The result is the cell above this discussion section."
   ]
  },
  {
   "cell_type": "code",
   "execution_count": null,
   "metadata": {},
   "outputs": [],
   "source": []
  }
 ],
 "metadata": {
  "kernelspec": {
   "display_name": "Python 3",
   "language": "python",
   "name": "python3"
  },
  "language_info": {
   "codemirror_mode": {
    "name": "ipython",
    "version": 3
   },
   "file_extension": ".py",
   "mimetype": "text/x-python",
   "name": "python",
   "nbconvert_exporter": "python",
   "pygments_lexer": "ipython3",
   "version": "3.6.6"
  }
 },
 "nbformat": 4,
 "nbformat_minor": 2
}
