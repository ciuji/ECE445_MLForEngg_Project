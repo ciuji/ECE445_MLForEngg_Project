{
 "cells": [
  {
   "cell_type": "markdown",
   "metadata": {},
   "source": [
    "## Regression Problem\n",
    "#### Dataset Description:  \n",
    "The dataset includes 9358 data samples of responses from 5 metal oxide chemical sensors embedded in an Air Quality Monitoring Device, recorded along with hours. The device was located on the field in a significantly polluted area in Italy. The data was collected to estimate benzene concentration with the response from the previously mentioned sensors, which are originally designed to monitor non-benzene substance concentration(i.e. there maybe a potential relationship between the concentration of benzene and the 5 kinds of non-benzene substance.).Consequently, the labels should be the true values of benzene concentration.  \n",
    "The dataset is provided in S. De Vito, E. Massera, M. Piga, L. Martinotto, G. Di Francia, On field calibration of an electronic nose for benzene estimation in an urban pollution monitoring scenario, Sensors and Actuators B: Chemical, Volume 129, Issue 2, 22 February 2008, Pages 750-757, ISSN 0925-4005.  "
   ]
  },
  {
   "cell_type": "markdown",
   "metadata": {},
   "source": [
    "### LS Solution Approach by Changlin Jiang\n",
    "#### Libraries and dataset importing"
   ]
  },
  {
   "cell_type": "code",
   "execution_count": 1,
   "metadata": {},
   "outputs": [],
   "source": [
    "# import libraries\n",
    "import csv\n",
    "import numpy as np\n",
    "from numpy import linalg as la\n",
    "import matplotlib.pyplot as plt\n",
    "import math"
   ]
  },
  {
   "cell_type": "code",
   "execution_count": 2,
   "metadata": {},
   "outputs": [],
   "source": [
    "# read dataset from csv file\n",
    "with open('AirQualityUCI.csv') as csv_file:\n",
    "    csv_reader=csv.reader(csv_file, delimiter=',')\n",
    "    date,time,CO_true,CO_measured,NMHC_true,C6H6_true,NMHC_measured,NOx_true,NOx_measured,NO2_true,NO2_measured,O3_measured,temp,RH,AH=[0 for i in range(9357)],[0 for i in range(9357)],[0 for i in range(9357)],[0 for i in range(9357)],[0 for i in range(9357)],[0 for i in range(9357)],[0 for i in range(9357)],[0 for i in range(9357)],[0 for i in range(9357)],[0 for i in range(9357)],[0 for i in range(9357)],[0 for i in range(9357)],[0 for i in range(9357)],[0 for i in range(9357)],[0 for i in range(9357)]\n",
    "    line_count=0\n",
    "    for row in csv_reader:\n",
    "        if row[0]==\"\":\n",
    "            break;\n",
    "        if(line_count!=0):\n",
    "            date[line_count-1],time[line_count-1],CO_true[line_count-1],CO_measured[line_count-1],NMHC_true[line_count-1],C6H6_true[line_count-1],NMHC_measured[line_count-1],NOx_true[line_count-1],NOx_measured[line_count-1],NO2_true[line_count-1],NO2_measured[line_count-1],O3_measured[line_count-1],temp[line_count-1],RH[line_count-1],AH[line_count-1]=row[0],row[1],row[2],row[3],row[4],row[5],row[6],row[7],row[8],row[9],row[10],row[11],row[12],row[13],row[14]\n",
    "        line_count+=1"
   ]
  },
  {
   "cell_type": "markdown",
   "metadata": {},
   "source": [
    "#### Data Cleaning\n",
    "The missing values in the dataset was tagged with -200. To clean the dataset, the missing values are filled with the mean of the dimension."
   ]
  },
  {
   "cell_type": "code",
   "execution_count": 3,
   "metadata": {
    "scrolled": true
   },
   "outputs": [],
   "source": [
    "# clean the data and label by replacing invalid value with mean\n",
    "def clean_replace(data,labels):\n",
    "    # clean the data\n",
    "    m,n=np.shape(data)\n",
    "    mean=[0 for i in range(m)]\n",
    "    for i in range(m):\n",
    "        sum=0\n",
    "        count=0\n",
    "        for j in range(n):\n",
    "            if(data[i,j]>=0):\n",
    "                sum+=data[i,j]\n",
    "                count+=1\n",
    "        mean[i]=sum/count\n",
    "    for i in range(m):\n",
    "        for j in range(n):\n",
    "            if data[i,j]<0:\n",
    "                data[i,j]=mean[i]\n",
    "\n",
    "    # clean the label\n",
    "    labels=np.array(labels).astype(np.float64)\n",
    "    sum=0\n",
    "    count=0\n",
    "    for i in range(n):\n",
    "        if labels[i]>=0:\n",
    "            sum+=labels[i]\n",
    "            count+=1\n",
    "    mean=sum/count\n",
    "    for i in range(n):\n",
    "        if labels[i]<0:\n",
    "            labels[i]=mean\n",
    "    return data,labels"
   ]
  },
  {
   "cell_type": "markdown",
   "metadata": {},
   "source": [
    "#### LS solution implementation"
   ]
  },
  {
   "cell_type": "code",
   "execution_count": 4,
   "metadata": {},
   "outputs": [],
   "source": [
    "# implement LS solution\n",
    "def ls_solution(data,labels):\n",
    "    m,n=np.shape(data)\n",
    "    data_hat=np.row_stack((data,[1 for i in range(n)])).T.astype(np.float64)\n",
    "    w=la.inv(data_hat.T*data_hat)*data_hat.T*labels.T\n",
    "    return w"
   ]
  },
  {
   "cell_type": "markdown",
   "metadata": {},
   "source": [
    "#### Cross Validation Implementation"
   ]
  },
  {
   "cell_type": "code",
   "execution_count": 5,
   "metadata": {},
   "outputs": [],
   "source": [
    "# Build cross validation function, return regression error for each test and derived labels\n",
    "def cross_validation(data,labels,k:int):\n",
    "    m,n=np.shape(data)\n",
    "    data_with_labels=np.mat(np.row_stack((data,labels))).astype(np.float64)\n",
    "    a=n//k\n",
    "    fold=[0 for i in range(k)]\n",
    "    for i in range(k):\n",
    "        if i!=k-1:\n",
    "            fold[i]=data_with_labels[:,i*a:(i+1)*a].astype(np.float64)\n",
    "        else:\n",
    "            fold[i]=data_with_labels[:,i*a:].astype(np.float64)\n",
    "    reg_error=[0 for i in range(k)]\n",
    "    labels_derived=np.mat([0 for i in range(n)]).astype(np.float64).T\n",
    "    \n",
    "    for i in range(k):\n",
    "        test_data=fold[i].astype(np.float64)\n",
    "        mi,ni=np.shape(fold[i])\n",
    "        training_data=np.mat([[0 for j in range(n-ni)] for i in range(m+1)]).astype(np.float64)\n",
    "        sample_number=0\n",
    "        for j in range(k):\n",
    "            if j==i:\n",
    "                continue\n",
    "            mj,nj=np.shape(fold[j])\n",
    "            training_data[:,sample_number:sample_number+nj]=fold[j]\n",
    "            sample_number=sample_number+nj\n",
    "        # Algorithm implementation\n",
    "        w=ls_solution(training_data[:m,:],training_data[m,:])\n",
    "        test_data_hat=np.row_stack((test_data[:m,:],np.mat([1 for x in range(ni)])))\n",
    "        y=test_data_hat.T*w\n",
    "        if i!=k-1:\n",
    "            labels_derived[i*a:(i+1)*a]=y\n",
    "        else:\n",
    "            labels_derived[i*a:]=y\n",
    "        reg_error[i]=la.norm(y-labels,2)\n",
    "    overall_error=la.norm(reg_error)\n",
    "    return reg_error,labels_derived,overall_error"
   ]
  },
  {
   "cell_type": "markdown",
   "metadata": {},
   "source": [
    "#### Overall process implementation\n",
    "The pipeline implemented is as below:  \n",
    "- Data importing:  \n",
    "Import data from csv file and save each dimension into a individual list.\n",
    "- Data cleaning:\n",
    "Fill all the missing values in data with the mean of the dimension.\n",
    "- Algorithm implement:\n",
    "Implement LS solution to learn the dataset.\n",
    "- Algorithm evaluation:\n",
    "Build K-folds cross validation to compute the regression error of the algorithm\n",
    "- Parameter determination:\n",
    "Run K-folds cross validation with K in a linear array to find the best K for this certain dataset."
   ]
  },
  {
   "cell_type": "code",
   "execution_count": 6,
   "metadata": {},
   "outputs": [],
   "source": [
    "# Define overall process function to show the results\n",
    "def ls_regression(data,labels):\n",
    "    m,n=np.shape(np.mat(data))\n",
    "    if m>1:\n",
    "        data=np.row_stack(data)\n",
    "    data=np.mat(data).astype(np.float64)\n",
    "    data,labels=clean_replace(data,labels)\n",
    "    # Implement LS regression nand cross validation to find the best K\n",
    "    k=[2,3,4,5,6,7,8,9,10]\n",
    "    overall_error=[0 for i in range(9)]\n",
    "    for i in range(9):\n",
    "        overall_error[i]=cross_validation(data,labels,k[i])[2]\n",
    "    # Plot the K-Error plot to show the best K\n",
    "    plt.figure(1)\n",
    "    plt.plot(k,overall_error)\n",
    "    plt.title('K-Error Plot')\n",
    "    print(\"The best K is \",k[overall_error.index(min(overall_error))])\n",
    "    # Plot the regression result derived by the best K in a predicted-versus-measured scatter plot\n",
    "    reg_error,labels_derived,overall_error=cross_validation(data,labels,k[overall_error.index(min(overall_error))])\n",
    "    labels_derived=np.array(labels_derived).reshape(-1,1)\n",
    "    labels=np.array(labels).reshape(1,-1).T\n",
    "    plt.figure(2)\n",
    "    plt.scatter(labels,labels_derived,color='b')\n",
    "    ymax=max([max(labels),max(labels_derived)])\n",
    "    plt.plot([0,max(labels)],[0,max(labels)], color='r', linewidth=1, alpha=0.6)\n",
    "    plt.xlabel('Predicted Labels')\n",
    "    plt.ylabel('Measured Labels')\n",
    "    plt.title('Overall L2-Loss Regression Error={}'.format(overall_error))"
   ]
  },
  {
   "cell_type": "code",
   "execution_count": 7,
   "metadata": {},
   "outputs": [],
   "source": [
    "data=(CO_measured,NMHC_measured,NOx_measured,NO2_measured,O3_measured,temp,RH,AH)\n",
    "labels=C6H6_true\n",
    "#ls_regression(data,labels)"
   ]
  },
  {
   "cell_type": "code",
   "execution_count": 10,
   "metadata": {},
   "outputs": [
    {
     "name": "stdout",
     "output_type": "stream",
     "text": [
      "compare to sklearn least regression\n",
      "error: 114.61370295241286\n"
     ]
    },
    {
     "data": {
      "image/png": "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\n",
      "text/plain": [
       "<Figure size 432x288 with 1 Axes>"
      ]
     },
     "metadata": {
      "needs_background": "light"
     },
     "output_type": "display_data"
    }
   ],
   "source": [
    "print(\"compare to sklearn least regression\")\n",
    "from sklearn import linear_model\n",
    "clean_data=np.array(data)\n",
    "reg=linear_model.LinearRegression()\n",
    "reg.fit(clean_data.T,labels)\n",
    "y=reg.predict(clean_data.T)\n",
    "print (\"error:\",np.linalg.norm(labels-y))\n",
    "plt.scatter(labels,y)\n",
    "plt.show()"
   ]
  },
  {
   "cell_type": "markdown",
   "metadata": {},
   "source": [
    "## random forest approach by Chaoji Zuo"
   ]
  },
  {
   "cell_type": "markdown",
   "metadata": {},
   "source": [
    "When I started solving this problem, I did not use any other optimazation methods, I just try to put all the cleaned data into the Random Forest Regression model and did not know clearly what would I get.\n",
    "\n",
    "And the result really surprise me, the error is really small and random forest looks like a perfect solution for this dataset."
   ]
  },
  {
   "cell_type": "code",
   "execution_count": 11,
   "metadata": {},
   "outputs": [],
   "source": [
    "from sklearn.ensemble import RandomForestRegressor\n",
    "data=np.array(data).astype(np.float64)\n",
    "data,labels=clean_replace(data,labels)\n",
    "clean_data=np.array(data)\n",
    "X_train, y_train = clean_data.T[:6000],labels[:6000]\n",
    "X_test,y_test=clean_data.T[6000:],labels[6000:]"
   ]
  },
  {
   "cell_type": "code",
   "execution_count": 12,
   "metadata": {},
   "outputs": [
    {
     "data": {
      "text/plain": [
       "RandomForestRegressor(bootstrap=True, criterion='mse', max_depth=None,\n",
       "           max_features='auto', max_leaf_nodes=None,\n",
       "           min_impurity_decrease=0.0, min_impurity_split=None,\n",
       "           min_samples_leaf=1, min_samples_split=2,\n",
       "           min_weight_fraction_leaf=0.0, n_estimators=10, n_jobs=1,\n",
       "           oob_score=False, random_state=None, verbose=0, warm_start=False)"
      ]
     },
     "execution_count": 12,
     "metadata": {},
     "output_type": "execute_result"
    }
   ],
   "source": [
    "regr=RandomForestRegressor()\n",
    "regr.fit(clean_data.T,labels)"
   ]
  },
  {
   "cell_type": "code",
   "execution_count": 13,
   "metadata": {},
   "outputs": [
    {
     "data": {
      "image/png": "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\n",
      "text/plain": [
       "<Figure size 432x288 with 1 Axes>"
      ]
     },
     "metadata": {
      "needs_background": "light"
     },
     "output_type": "display_data"
    },
    {
     "name": "stdout",
     "output_type": "stream",
     "text": [
      "2-norm error: 8.681710660923919\n",
      "R^2 score of predict values: 0.9998489365496641\n"
     ]
    }
   ],
   "source": [
    "data=np.array(data).astype(np.float64)\n",
    "clean_data=np.array(data)\n",
    "labels=np.array(labels).astype(np.float64)\n",
    "res=regr.predict(clean_data.T)\n",
    "\n",
    "plt.scatter(res,labels)\n",
    "plt.plot([min(labels),max(labels)],[min(labels),max(labels)],c='r')\n",
    "plt.title(\"first try on the whole datasets\")\n",
    "plt.xlabel(\"true values\")\n",
    "plt.ylabel(\"predict values\")\n",
    "plt.show()\n",
    "print(\"2-norm error:\",np.linalg.norm(res-labels))\n",
    "print(\"R^2 score of predict values:\",regr.score(clean_data.T,labels))"
   ]
  },
  {
   "cell_type": "markdown",
   "metadata": {},
   "source": [
    "However, this may be just because I use the training data to do the test. And it may have some kind of over-fitting so I then leave some test data and train the model using the training data.\n",
    "\n",
    "And It still get a great performance."
   ]
  },
  {
   "cell_type": "code",
   "execution_count": 14,
   "metadata": {},
   "outputs": [
    {
     "data": {
      "image/png": "iVBORw0KGgoAAAANSUhEUgAAAYIAAAEWCAYAAABrDZDcAAAABHNCSVQICAgIfAhkiAAAAAlwSFlzAAALEgAACxIB0t1+/AAAADl0RVh0U29mdHdhcmUAbWF0cGxvdGxpYiB2ZXJzaW9uIDIuMi4zLCBodHRwOi8vbWF0cGxvdGxpYi5vcmcvIxREBQAAIABJREFUeJzt3XeYE1X3wPHvYVmqNGnSsQsiRZAiFlQQsKI/lBexo9h5bSi8NlBQkPdVQLGADRQBRQUbTQSlSO9SpPfepS675/fHncVsNtnNwmazSc7nefbZzGTuzEkymZN778wdUVWMMcbErzyRDsAYY0xkWSIwxpg4Z4nAGGPinCUCY4yJc5YIjDEmzlkiMMaYOGeJIBcSka4i8kWk48guIqIick6k4zhVIjJJRB7Iwe09JCJ9Mnh+rYg0DXFdt4jIBhH5W0TqnGJcOfo+xCoR6SgiPSMdB1giiDoi0kRENkY6jmDCeZAQkapeUsmbDev6TES6Z0dcQdYf8kE6SPl8wItA72wK6b/A46p6mqrOy6Z1IiL3isiU7FpfbhPmHzEDgDtFpEyY1h8ySwQxKDsOlCbibgaWqeqmbFpfFeDPbFpXxIhIQqRjCFVm30NVPQKMBu7OmYgyoKpx+Qc8D2wCDgDLgWu8+XmAzsAqYBfwFXC6T7nLgGnAXmADcK83vxgwGNgBrMP9msvjPXcvMAX3q2wPsAZo6bPOM4HfvFjGA+8CXwSIuTBwGEgB/vb+ygNdgRHAF8B+b9uHgJI+Zet6sSUGWG9+oA+w2fvrA+T3nmsCbASeAbYDW4D7grynPYBk4IgX27vefAUeBlZ4r78/ID7l7geWes+NBaoEWf96b12pr71RRuUBAd724t4HLARqAB2AJOCYt54fgmyvGbDMK/uu9xk94D13NvCrt4/sBIYAxb3nPvc+o8Pe+p/z5n8NbPXW9ztwYQb75yfAi37z7vL2rV3AC8BaoGlG+6332f7tvW8HgVXe8qnLHgCWALf4bKcrPvsfUNUrn9ebngQ8AFTzPutkbxt7g7yWScAbwEzvtY8i7Xcq6PsCfAa8D/zsxd8UuB6Yh9vXNwBdA8R6n/fcHty+d4n3+e/F2y8z2/+8WFLft7+BNt78G4D53rqmATV91rUWd2xZCBwF8hLkWOMt3w6YGPHjYaQDiMiLhvO9naS8z85ztvf4SWA6UNH7En0IDPWeq+x9mG2BRKAkUNt7brC3gxfx1vcX0N577l7cgedBIAF4BHfAFe/5P4C3vO1d4W0jXSLwlm0CbPSb19VbfyvcAaGg98V5xGeZt4F3gqzzVe81lwFKezv3az7bO+4tkwhch0syJYKsaxLewdJnngI/AsW993AH0MJ7rhWwEndQyYtLYtOCrLsqPgekzMoDzYE53nbFW6ac99xnQPcM9pFSuANNa+91P+W9D6mJ4BxcosjvvWe/A318yq/FO0j7zLvf2z9SE+/8DLY/C7jNZ7o67mB0hVf+LS+e1EQQdL/1+QzO8Zm+DfcjIg/QBnewS31vuhJCIvDZt6dk8n2bhDsQ1sD9mPnGb/1B3xfvc9oHNPZiLYDbJy/ypmsC24BWfrF+4C17LS5ZjcTt3xVwPwyuDGX/C/C+XeyVb4D7Lt/jfdapP5zW4pJEJdz3MOixxmd9uyN+TIx0ABF50e5LvB336yLR77mlpM3Y5XAH2bxAF+C7AOtLwGX/6j7zHgIm+XxZVvo8V8jbwc7AHRiPA4V9nv+SrCeC3/3mtQGm+sS3FagfZJ2rgOt8ppsDa322d5i0B9/tQMMg65pE4ERwmc/0V0Bn7/FovITpTefBJZoqAdZdlfSJIGh54GpcQm6IVzvzWe4zMk4EdwPTfaYFVzN6IMjyrYB5PtNr8UsEfssX915LsSDPr8BLlt70y8Awn+nCuBpNaiIIut/6fAbnZBDPfOBmn/0puxNBT5/p6l7sCZm9L97nNDiT9fcB3vaLtYLP87vwfs17098AT4ay//m/b7jayWt+21/OP4llLXC/z3NBjzXe8+cCyRm9vpz4i8s+AlVdifsF1RXYLiLDRKS893QV4DsR2Ssie3FfsGSgLC7LrwqwylJAPly1PdU63K+PVFt9tn/Ie3ga7lfZHlU96Fc2qzb4TY8CqovIWbhfrvtUdWaQsuUDxF7eZ3qXqh73mT7kxZ4VW30e+5avAvT1eb934w66FQhN0PKq+iuuSac/sE1EBohI0RDXWx6f91Tdt/bEtIiU8fabTSKyH9csVyrYykQkQUR6isgqb/m13lPByuzB/UoOFs9B3AEuVUb7baB47haR+T7L18go/mzgu3+uw9WySoX4vqTZt0WkgYhMFJEdIrIP1/TjH/s2n8eHA0yf7P5XBXgmdXmvTCXSfl98P6eMjjXgPuN9QbaVY+IyEQCo6peqehnug1Wgl/fUBlz7fXGfvwLqOu024NqG/e3E/fqq4jOvMq46nJktQAkRKexXNmjoocxX1xH1Fa4N8i5cu3Uwm0kf++YMls9IsPiC2QA85Pd+F1TVaSGuO8PyqtpPVesCFwLnAZ1CjHML7gsOgIiI7zSuzVtx7cNFgTtxB5Bgsd6B6wBuiutPqpq66iDbX+jFGyyeQrimyVQZ7bdpiEgVYCDwOK4fqTiw2CeWg7haa6ozgsQIoX/evu9dZdz3ZSehvS/+2/gS+B6opKrFcM1Awd7HzGRl/0tdvoff8oVUdWiweDM41oBrklpwkrFnm7hMBCJyvohcLSL5ce2Hh3G/nsDtVD28LwsiUlpEbvaeGwI0FZHbRSSviJQUkdqqmow76PYQkSJe2adxvxIzpKrrgNlANxHJJyKXATdmUGQbUFJEioXwUgfjqu43ZRLLUOBF77WWwjVDnOx1DNuAs7Kw/AdAFxG5EEBEionIbUGW3YHrhPVdf9DyInKJ9+sxEXdwS+3YDCXOn4ALReRW7+yPjqQ9IBbB6yAVkQr8k2BS+a+/CK75cBfuIPt6BtsG18dzpc/0COAGEbnMO7X0VdJ+fzPab/0Vxh2QdnjL3oerEaSaD1whIpW9/axLBnFuAyp6MWXkThGp7iWwV4ER3vcmq+8LXpndqnpEROrjksnJymz/8/8cBwIPe/uViEhhEbleRHxrbydkcqwB9xmPPoX4s0VcJgJcp1RP3C+SrbhOpP94z/XF/doYJyIHcB1wDQBUdT2us/QZXBVyPlDLK/cE7mCzGneG0Je4Mz9CcYe3jd3AK7gDeECqugx34F7tVU3LZ7DsVNyBc66qrs1g+91xyWghsAiY6807GX2B1iKyR0T6Zbawqn6H+4U0zGsaWAy0DLLsIdyZSVO9194wk/JFcV/cPfxzts1/vec+xjWd7RWRkQG2tRPXodrTK3cuMNVnkW64jr59uKTxrd8q3sAl170i8izuM12HqyUuwe1XGfkBuCD181XVP4HHcPvVFu81+V5PEnS/DfDalgD/w52ksA3X8TrV5/nxwHDc/jAH19EfzK+401K3isjODJb7HNfevxXXidvRm5/V9wXgUeBV73W+jPsRdlJC2P+6AoO8z/F2VZ2NO+njXdxnsBL3YyuYoMcaESmAO54MOtn4s0vqWSsmRonIr8CXqvpRpGMxWSMiHXAnIDwZ6VhOhYhMwnU+2z7oQ0SewDVvPRfpWOzCoxgmIpfgfrUGayIwuZiqDoh0DCZ8VPWdSMeQKl6bhmKeiAwCfsGdJncg0vEYY3Ivaxoyxpg4ZzUCY4yJc1HRR1CqVCmtWrVqpMMwxpioMmfOnJ2qWjqz5aIiEVStWpXZs2dHOgxjjIkqIhLSKAXWNGSMMXHOEoExxsQ5SwTGGBPnLBEYY0ycs0RgjDFxzhKBMcbEOUsExhgT5ywRGGNMbrR6NTzzDKSkhH1TlgiMMSY3SU6Gt9+GGjVg4EBYsiTsm7REYIwxucWff0LjxvD003D11S4J1KiReblTZInAGGMi7dgxePVVqFMHVq2CL7+EH36AihVzZPNRMdaQMcbErFmzoH17WLQI7rgD+vSB0pmOE5etrEZgjDGRcOgQdOoEDRvC7t3w/fcwZEiOJwGwGoExxuS8SZPgwQdh5Up46CHo1QuKFYtYOFYjMMaYnLJvHzz8MFx1FajCr7/CBx9ENAmAJQJjjMkZP/4IF17oTgl99llYuNAlhFzAEoExxoTTjh2uE/jGG6FECfjjD+jdGwoVinRkJ4Q1EYhIcREZISLLRGSpiDQSkdNFZLyIrPD+lwhnDMYYExGqMHQoVK8OI0ZAt24wZw7Urx/pyNIJd42gLzBGVS8AagFLgc7ABFU9F5jgTRtjTOzYuBFuusnVBM46C+bOhZdfhnz5Ih1ZQGFLBCJSFLgC+BhAVY+p6l7gZmCQt9ggoFW4YjDGmByVkgIDBri+gAkT4K23YNq0HLk6+FSEs0ZwFrAD+FRE5onIRyJSGCirqlsAvP9lAhUWkQ4iMltEZu/YsSOMYRpjTDZYuRKuucadDlq3rrtA7KmnICEh0pFlKpyJIC9wMfC+qtYBDpKFZiBVHaCq9VS1XukIXGBhjDEhSU6G//0PatZ0TUADB7rawNlnRzqykIUzEWwENqrqDG96BC4xbBORcgDe/+1hjMEYY8Jn8WJo1MidDtq0qRsk7oEHQCTSkWVJ2BKBqm4FNojI+d6sa4AlwPfAPd68e4BR4YrBGGPC4tgx6NoVLr4Y1q6FYcNg1CioUCHSkZ2UcA8x8QQwRETyAauB+3DJ5ysRaQ+sB24LcwzGGJN9Zs6E++93Q0a3a+cGiStVKtJRnZKwJgJVnQ/UC/DUNeHcrjHGZLtDh+Cll9yBv3x5d6Xw9ddHOqpsYYPOGWNMZiZOdG3/q1e7sYJ69YKiRSMdVbaxISaMMSaYffugQwd3t7A8edyooe+/H1NJACwRGGNMYD/84IaH+PhjeO45N0jclVdGOqqwsERgjDG+duyAtm3dEBElS8KMGa4pqGDBSEcWNpYIjDEG3CBxQ4ZAtWrw7bfw2mswezbUC3S+S2yxzmJjjNmwAR55BH76yd068uOPXbNQnLAagTEmfqWkuDuEXXihOzOoTx+YMiWukgBYjcAYE69WrHD3Df7tNzdY3IABbsjoOGQ1AmNMfDl+3N0hrGZNmD/fNQONHx+3SQCsRmCMiScLF0L79q4T+Oab4b333FXCcc5qBMaY2Hf0qLtDWN26sH49fPUVfPedJQGP1QiMMbFt+nRXC1iyBO66C95+210fYE6wGoExJjYdPOjuEHbppXDgAPz8MwwebEkgAKsRGGNiz4QJ7oygNWvg0UfhjTdibnyg7GQ1AmNM7Ni7140S2rQp5M3rTg3t39+SQCYsERhjYsOoUe5CsM8+g+efhwUL4IorIh1VVLCmIWNMdNu2DTp2dGcC1arlRg2tWzfSUUUVqxEYY6KTKnzxhasFjBwJPXrArFmWBE6C1QiMMdFn/Xp3p7DRo6FRI3d1cLVqkY4qalmNwBgTPVJS3NXAF14Iv/8O/frB5MmWBE6R1QiMMRE3ct4meo9dzua9hylfvCCdmp9PqzoV0sxvkLSTdye+T6l5M6BZMzdIXNWqkQ49JlgiMMZE1Mh5m+jy7SIOJyUDsGnvYbp8u4jZ63bzzZxNHDt6jIdmfsdTU4ZwJDE/c7u+xcUvPwkiEY48doQ1EYjIWuAAkAwcV9V6InI6MByoCqwFblfVPeGMwxgTWcF+8QP0Hrv8RBJIdTgpmaEzNnDetlW8+XNfLtq2ijHnNeKlZo+QRFnmx3gSyOj9CoecqBFcpao7faY7AxNUtaeIdPamn8+BOIwxERDsFz9AqzoV2Lz3cLoy+Y8f4/Fpw3l4xgj2FizCw626MOb8xu7Jw0mMnLcprAfGSMrs/QqHSHQW3wwM8h4PAlpFIAZjTA4J9ou/99jlAJQvnvam8BdvXMpPn3bkiT+GM6p6E5q2f/+fJOCzzliV2fsVDuFOBAqME5E5ItLBm1dWVbcAeP/LBCooIh1EZLaIzN6xY0eYwzTGhEugX/y+8zs1P5+CiQkUOnaYV375kBFDnqPQ8WPcfVs3nr3+KfYVLBLyOmNBZu9XOIS7aaixqm4WkTLAeBFZFmpBVR0ADACoV6+ehitAY0x4lS9ekE0BDmKpNYFWdSpQevrvnPnC05Tfs5URjVpR4M2erJqyCYIc/PxrEbEks/crHMJaI1DVzd7/7cB3QH1gm4iUA/D+bw9nDMaYyEr9xe+rYGICnZqfD3v2wP330/jRO0jKm8ht7Xrx9k1PcLzwaXRqfj6JedJ3CicmiCsbozJ8v8IkbIlARAqLSJHUx8C1wGLge+Aeb7F7gFHhisEYE3mt6lTgjVsvokLxgghQoXhB3rj1IlqtnQnVq5MyeDAfXtqGa+/uy6yKF6bpHO19Wy2KF0w8sa4ShRLp3bpWzHYUQwbvVxhfs6iGp9VFRM7C1QLANUF9qao9RKQk8BVQGVgP3KaquzNaV7169XT27NlhidMYk8O2boUnnoARI6B2be677CEmFq6UbrEKxQsytfPVEQgwdojIHFWtl9lyYesjUNXVQK0A83cB14Rru8aYXEoVPv8cnnwSDh2C11+HZ59l0kvjAi4eyx3CuY2NNWSMCb9166BlS7jnHjda6Pz50KULJCYG7QSN5Q7h3MYSgTEmy0bO20Tjnr9yZuefaNzzV0bO2xR4wZQUd4ewGjVgyhR45x03WNwFF5xYJBKdoyYtG2vIGJMlIV/5uny5u23klCnQvDl8+CFUqZJufb5DTeTUkAomLUsExpgsyejK11Z1KkBSEvz3v9CtGxQq5G4deffdGQ4S16pOBTvwR5AlAmNMlmR45eu8edC+vfvfurVrCjrjjByO0GSV9REYY7IkUCdu/uPH6DZjCFxyCWzeDN98A19/bUkgSlgiMMZkiX/nbt2NSxj9WUfunjTUNQEtXQq33hrBCE1WWdOQMSZLUtvy+38/jzu//5C75v3EkTMqwNixcO21EY7OnAxLBMaYLGu1fTGtPnkMNmyAJ56gUI8ecNppkQ7LnCRLBMYYIPBdsSDtaZ3/aViG6z/7Lwwa5K4FmDwZGjfOZM0mt7NEYIwJeG1ApxELQCEpxY1HdtGMX6jf/QNSjuwnzwsvwIsvQoECkQzbZBNLBMaYgNcGJCW7BFD67928Ov4DWv41jcVlz6bT/T35rHuHQKsxUcoSgTEm8LUBqrRePIGXJgykwPFj9LzyXgbWv4WUPAnplzVRzRKBMSbdXbEq7tvG62Pe5Yq185hZsTqdW3RkdcmKgBse2sQWSwTGGDo1P58u3y7iyLEk7p77E8/9NggV4ZVrH2Fw7ZaouEuObDC42GSJwBhDqzoVOG31Cso88yw11/3JH+ddwv633qFO+Yr8YoPBxbxME4F3m8nDqpoiIucBFwCjVTUp7NEZY8IvKQl696Zpt27uWoDBg2l0550nBomzA3/sC2WIid+BAiJSAZgA3Ad8Fs6gjDE5ZO5cNz7QCy9Aq1awZAncdVeGI4Wa2BNKIhBVPQTcCryjqrcA1cMbljEmrA4fhs6doX592LYNvvsOhg+HsmUjHZmJgFD6CEREGgHtgPZZKGeMyY0mT3Y3jPnrLzdkdO/eUKJEpKMyERRKjeBJoAvwnar+KSJnARPDG5YxJtsdOACPPQZXXAHHjsH48fDRR5YETOa/7FX1N+A3r9MYVV0NdAx3YMaYbDR6NDz0EGzcCE8+Cd27Q+HCkY7K5BKZ1ghEpJGILAGWetO1ROS9UDcgIgkiMk9EfvSmzxSRGSKyQkSGi0i+k47eGJOxXbvcPQKuu86dETR1Krz9tiUBk0YoTUN9gObALgBVXQBckYVt/BsviXh6AW+r6rnAHv7pdzDGZBdVd4ew6tVh6FB46SV3+8hGjSIdmcmFQrpDmapu8JuVHHBBPyJSEbge+MibFuBqYIS3yCCgVUiRGmNCs2WLu0PY7bdDpUoweza8+irkzx/pyEwuFUoi2CAilwIqIvlE5FnS/sLPSB/gOSDFmy4J7FXV4970RiDg1Soi0kFEZovI7B07doS4OWPimCp88glUqwZjxsCbb8L06VCrVqQjM7lcKIngYeAx3AF7I1Dbm86QiNwAbFfVOb6zAyyqgcqr6gBVraeq9UqXLh1CmMbEsTVr3G0i27d3B/4FC6BTJ8hrZ3qbzIVy1tBO3DUEWdUYuElErgMKAEVxNYTiIpLXqxVUBDafxLqNiVu+dxKrWDQf/fdMo+Z7b0JCArz/PnToAHlCavU1BghtrKFPCfCrXVXvz6icqnbBXX+AiDQBnlXVdiLyNdAaGAbcA4zKetjGxJfUg7/vUNHn7FxPr8/7UXPzMrY2voozhg5yfQLGZFEo9cYffR4XAG7h1H7FPw8ME5HuwDzg41NYlzExr93AP5i6aveJ6bzJx3l4xgiemDaMg/kK8e8bnmH2pS2ZaknAnKRQmoa+8Z0WkaHAL1nZiKpOAiZ5j1cD9bNS3ph45Z8EamxdSe+f+1Btx1p+uOByujZ9iF2FiyP7jkQwShPtTqYn6VygcnYHYoxJa+S8TSeSQP6kozw19UsenPkdOwsX58FbX2T8uQ1PLFve7hpmTkEofQQHcH0E4v3fimveMcaEUe+xywFosH4RPcf048w9W/iyVnN6NrmP/QVOO7GcgN01zJySUJqGiuREIMbEO98O4QQRCh45SPdJn3Ln/NGsK34Gbf/Vgz+qpL0mQIB2DSvbzWPMKQmaCETk4owKqurc7A/HmPjU7K1JrNh+8MT05Stn8vrY/pT9ezcDL2nFW5fdyeF8BdKUqWC3jjTZJKMawf8yeE5xQ0UYY07ByHmbePbrBRxPcWdolzi0j5cnDOSWJZP4q2RlHr2zC/PLp232aXz26Qx50MYMMtknaCJQ1atyMhBj4s2LIxfxxfT1bkKVG5ZNpusvH1LsyN/0adyW9xrezrG8iSeWtxqACZeQzhoSkRq421OeqJuq6uBwBWVMrBs5b9OJJFDmwC56jHuPZitnsOCMc2n3rx4sL101zfIVihdkamerhJvwCOWsoVeAJrhE8DPQEpgCWCIw5iR1++FPUKXNwnG8MPET8iUn0f2q+/m03s0k50lIs2zBxAQ7K8iEVSg1gtZALWCeqt4nImXxhpU2xpyc0zZv4N0x/Wi8biHTK9Xg+ZYdWVeifLrlrDnI5IRQEsFhVU0RkeMiUhTYDpwV5riMiU3JydCvH+M+7sLxPHno0vxxhtW6FpW0g8SdW6Yw459uEpkYTdwJJRHMFpHiwEBgDvA3MDOsURkTI14cuYihMzaQrMoFO9czcPL7VPprEbPOrc9zTR9la9FS6crc2bAy3VtdFIFoTbwK5YKyR72HH4jIGKCoqi4Mb1jGRK8XRy5iyPT1J4bsTUxO4rHpI3h82nAO5C/EV0/3JF+7duwasRBS0g7sa0nAREIoncWjgOHAKFVdG/aIjIliaU4JBWpu+Yteo/tRbcdaRlW7km5NO7AvX3FWXVwRRE7cV6C89QWYCAqlaegtoA3whojMxCWFH1XVhjs0xk9qEiiQdISnpnzJA7NGsr1wCdr/30tMOKeBW0hdLaBVnQp24De5QihNQ78Bv4lIAu5q4geBT3B3HDPG8E9zEEDD9QvpOfodqu7dwpe1WvDGVfdxIH/hE8smSKA7thoTOaFeUFYQuBFXM7gYGBTOoIyJJqn3DChy9CBdJn7KHQvGsLZ4Odr+63X+qFIz3fJtG9gNZEzuEkofwXCgATAG6A9MUtWUcAdmTG43ct4muv3wJ3sOJXH1ypn0GNufMgf3MOCSW3jr8nYcSUw7SFzqSKHWGWxym1BqBJ8Cd6hqcriDMSYa+J4VdPqhffT9ZQA3L/2NZaWq8PAt/2FB+fRXAfdpU9v6A0yuFUofwZicCMSYaHBiuGhVblr6O6/88iFFjh7ircva8X7D1iQlJKYrc6fdL8Dkcidzq0pj4or/dQFn7N9J93H9abpqFvPLncdzLTvyl98gcansugATDSwRGJOBBj3Gs+3AMQBEU/jXgnF0mfgJiSnJvHb1A3xa90ZS/AaJA7tngIkuoXQWT1DVazKbZ0ys8U0CVfZspueYd2i0fhHTKtekc4snWF+iXLoyxQsm0vWmC60pyESVjG5VWQAoBJQSkRK4kx7AXT+QfpjEwOV/B/J72xmhqq+IyJnAMOB0YC5wl6oeO6VXYUw2a/bWJLYdOEaelGTunz2KZyYPISlPAs+3eILhNa8Fv2sBCudLoMctF1kCMFEpoxrBQ8CTuIP+HP5JBPtxp5Fm5ihwtar+LSKJwBQRGQ08DbytqsNE5AOgPfD+yb4AY7KTb3/AeTvW8ubovtTesoLx59TnxWsfZVuR9IPE2UihJtpldKvKvkBfEXlCVd/J6opVVXEjlQIken+p9zq+w5s/COiKJQITQSPnbaL32OVs2nsY8AaJ++MrHv3ja/YXKMzjNz3Hjxdcnq4WYNcFmFgRSmdxiogUV9W9AF4zUVtVfS+zgt6wFHOAc3C1iFXAXlU97i2yEQhYlxaRDkAHgMqVK4cQpjFZ59sPAFBr83LeHN2X83eu57vqTXj1mgfZU6hYunLWGWxiSZ7MF+HB1CQAoKp7cOMNZUpVk1W1NlARqA9UC7RYkLIDVLWeqtYrXbp0KJszJmQj523i7C4/nUgCBZKO8MKvH/HtF50ocvQQ97V+hadufNaSgIkLodQI8oiIeE09qb/y82VlI6q6V0QmAQ2B4iKS16sVVAQ2ZzFmY06J/3UBjdYtpOeYflTZu5UvarekZ5P7+Dt/oXTlEgT+d7tdIWxiTyiJYCzwldexq8DDuHGHMiQipYEkLwkUBJoCvYCJuPsgDwPuAUadZOzGZEnq4HCp3CBxn3DHgrGsKVGONm3fYEblwO39dmGYiWWhJILncWcQPYLrHxtHaDevLwcM8moQeYCvVPVHEVkCDBOR7sA84OOTityYLPDvC2i6Ygbdx/Wn9MG9fFD/Vvpcdke6QeLAmoFMfAhlrKEU3Fk9WTqzx7udZZ0A81fj+guMyRGp1wQAlDy4l66/fMiNyyaztHRVHrz1JRaVOzddmTzAWzZQnIkTGV1Q9pWq3i4iiwjQoauq6QdaNyYXOTFAHIAqNy+ZxCsTBnLa0UP877J2fBBkkDg5xLVnAAAW4UlEQVS7LsDEm4xqBP/2/t+QE4EYk51qvjKG/UfdyOnl9u+g+7j3uGbVLOaWP5/nW3RkRekq6cqs7Xl9TodpTK6Q0QVlW7z/63IuHGNOnn9nsGgKd8wfQ+dJn5KgKXS75kEGXXxD0EHijIlXGTUNHSDIOf4Aqmr3LDa5xjldfuK4z95adfcmeo55h4YbFjOlSi26tHiCDcXPCFjWOoRNvMuoRlAEQEReBbYCn+NdVQ8UyZHojAnBmZ1/OvGLJSElmfazRvL0lCEcS0ikU8uOfH1Rs3TDQ4AlAGNShXL6aHNVbeAz/b6IzADeDFNMxoQkTWcwcMH2NfQa3Y9aW1cw7tyGvNjsEbYXKZmuXIEEYVmP63IyVGNytVASQbKItMNdAKZAW8DuX2wiyrcWkO94Eo/9MZxHp3/N3gJFePTmzvx8fuOAtYCyRfIx44VmORusMblcKIngDqCv96fAVP4ZPdSYHOXfIVxn0zJ6je7HebvW882FV/HaNQ+yt2D67is7JdSY4EK5oGwtcHP4QzEmuBdHLuKL6etPTBc8doRnJ3/OfbO/Z0uRUtzbuiuTzq4XsKwND2FMxkK5VeV5uKuKy6pqDRGpCdykqt3DHp2JeyPnbeLJ4fPTzLt07Xx6jnmHyvu2MbjO9bx55T0BB4mzBGBMaEJpGhoIdAI+BDd0hIh8CVgiMGHl3wxU9Mjf/GfiJ/xr4ThWlyjP7Xf0ZGalGunKFc2fwMJuLXIyVGOiWiiJoJCqzpS0HW/Hgy1sTHbwvy6g2YrpdB/3HiUP7uX9Bq3p07gtRxPzpytnncHGZF0oiWCniJyNd3GZiLQGtoQ1KhO3/PsCSh3cQ9dfBnDDssksKXMm7f/vZRafcU7AsnZdgDEnJ5RE8BgwALhARDYBa3AXlRmTrap2/umfCVVu+XMiL08YSKGkw/S+/C4+bPB/HE9Iv8vaGUHGnJoME4GI5AHqqWpTESkM5FHVAzkTmokX/h3C5fdvp8fY/ly1eg5zyl/Acy3/zapSlQKWtQ5hY05dholAVVNE5HHcTWUOZrSsMSfDd5RQ0RTazRtN598+I4+m0PWaDgy++Pqgg8RZM5Ax2SOUpqHxIvIsMBw4kQxUdXfwIsZk7IIXfuZI8j+9wWfu3kTP0f1osPFPJlepTZcWj7MxwCBxAqyx4aKNyVahJIL7vf+P+cxT4KzsD8fEOv9bRiakJPPgzO94asoQjuTNR6eW/+bri5raIHHG5KBQriw+MycCMbHPvxZQbftq3vy5LxdtW8WY8xrxUrNH2HFa4PsC2E1jjAmfUK4sLgA8ClyGqwlMBj5Q1SNhjs3EEN9B4vIfP8bj04bz8IwR7C1YhIdbdWHM+Y0DlrPrAowJv1CahgYDB4B3vOm2uHsT3BauoEzs8B8q+uKNS3lzdF/O2b2RETWu4bWrH2BfwcC3t+hjN483JkeEkgjOV9VaPtMTRWRBuAIyscG/L6DQscN0+n0w98z5kc1FS3H3bd34/ay6ActaLcCYnBVKIpgnIg1VdTqAiDTADUWdIRGphKtNnAGkAANUta+InI47A6kqsBa4XVX3nFz4JrcJNEjcZWvm8cbYd6m0bxufXXwDva+4m4MBBomzBGBMZISSCBoAd4tI6nX/lYGlIrIIUFWtGaTcceAZVZ0rIkWAOSIyHrgXmKCqPUWkM9AZeP6UXoXJFQINEvfirx9x+6JfWHV6RVq368XsihcGLGudwcZETiiJ4KSGcVTVLXhjEqnqARFZClTA3dugibfYIGASlgiiXprhIYDmf03jtXHvc/qhffRveBv9GrflaN58ActaEjAmskI5fXTdqW5ERKoCdYAZuPsapCaILSJSJkiZDkAHgMqVK59qCCaMfJNA6b/30PWXD7h++VT+LHMW97V+hT+DDBJnTUHG5A6h1AhOiYicBnwDPKmq+yXAhUKBqOoA3GB31KtXTzNZ3ERAmusCVLn1z195ecJACiYd5c0r7mZA/VsDDhJnCcCY3CWsiUBEEnFJYIiqfuvN3iYi5bzaQDlgezhjMNnPf6joCvu28/rYd7lyzVxmV6jG8y07sqpk4EHi7OpgY3KfsCUCcT/9PwaWqupbPk99D9wD9PT+jwpXDCZ7+ScA0RTumvsTz/82CICXmz7E5xdfj0qegOWtL8CY3CmcNYLGwF3AIhFJPZ/wP7gE8JWItAfWYxemRQX/zuCzdm2k1+h+XLJpCb9XrcN/WjzOxmJlA5a1C8OMyd3ClghUdQpusMhArgnXdk328r9lZN7k43SY+S3/njqUw4n5eea6p/imxtU2SJwxUSzsncUmevnXAi7ctopeo/tRY9sqfj7vUl5p9gg7TisRsKzdMMaY6GGJwATkmwTyHz9Gx6lDeWjGN+wpVDTDQeLAkoAx0cYSgUnDvxZQd+MS3hzdj7N3b+Sri5rS46r2QQeJs85gY6KTJQIDpB8krvDRQ3T6fTB3z/2JzUVLc9ftrzL5zIsDli2aP4GF3U7qAnRjTC5gicCkqwVcsXoOr499l/L7dzKorhsk7lC+ggHLWi3AmOhniSCO+d4sBqDY4QO89OtHtF48gZWnV+S2dr2YU7F6wLLnlinM+Keb5EicxpjwskQQhwINFd1i+VReG/8+JQ7t551GbXj30jYBB4krkCAs63FdToVqjMkBlgjijH8zUOm/d/Pq+A9o+dc0Fpc9m3tue5UlZc8KWNaagYyJTZYI4kiaJKBK68UTeGnCQAocP0bPK+9lYP1bSM6TELCsJQFjYpclgjjgXwuouG8br495lyvWzmNmxep0btGR1SUrBiybV2DlG5YEjIlllghinG8SEE3h7rk/8dxvg1ARXmz2CEPqtLRB4oyJc5YIYpT/GEFn79xArzH9qLdpKZPOrMsLzR9jU7GA9wSyK4ONiTOWCGKQby0gb/JxHprxDR2nDeVQYkGeuv5pvrvwqoCDxFkzkDHxyRJBDEk3SNzWlfQe3Zfq29fw4/mX0bXZQ+wsHHiQOGsGMiZ+WSKIAWluGQnkTzrKk1OH8uDMb9ldqBgP3fIfxp53adDylgSMiW+WCKJYoAvDLtmwmJ5j3uHs3ZsYflEzelzdnv0FTgtY3u4XYIwBSwRRyz8JFD56iOd/G8Td835iQ7GytGvTnalVawcsawnAGOPLEkEU8u8LaLJqNj3G9qfcgZ18Uvcm/nvFXTZInDEmZJYIooh/Aih+eD8vTRjI//05kRUlK9H6zjeZW6Fa0PKWBIwxgVgiiBL+w0Nct3wq3cZ/QPEjB+h76b/o36gNx/ImBixrCcAYkxFLBLlcoEHiuo97j+YrprPwjHO4u82rLC1jg8QZY06eJYJcyj8BoMpti8bz0q8fky85ideb3MfHl7SyQeKMMacsbIlARD4BbgC2q2oNb97pwHCgKrAWuF1V94QrhmiVbpC4vVt5Y8y7XL5uPjMq1aBziydYc3qFgGX7tKlNqzqBnzPGmEDCWSP4DHgXGOwzrzMwQVV7ikhnb/r5MMYQVfxPCc2Tksw9c3+k0++DSZY8vHDto3xZu4UNEmeMyVZhSwSq+ruIVPWbfTPQxHs8CJiEJQIgfS3gnJ3r6TW6H3U3L2PiWXX5T/PH2VK0dMCylgCMMacip/sIyqrqFgBV3SIigYe/BESkA9ABoHLlyjkUXs5rN/APpq7afWI6MTmJh2Z8wxPThnEwXyH+fcMzjKreJOAgcWBJwBhz6nJtZ7GqDgAGANSrV08zWTwq+dcCLtqygjdH96XajrX8cMHldG36ELsKFw9Y1oaKNsZkl5xOBNtEpJxXGygHbM/h7ecK/gkgf9JRnpoyhAdnjWRn4eI8eOuLjD+3YcCyAqyxWoAxJhvldCL4HrgH6On9H5XD2484/yTQYP0ieo7px5l7tjC05rW8cdX9QQeJs2YgY0w4hPP00aG4juFSIrIReAWXAL4SkfbAeuC2cG0/t/FPAKcdPUTnSZ9y5/zRrC9WljvadGeaDRJnjImAcJ411DbIU9eEa5u5VfpB4mbx+tj+nHFgFx/Vu5n/XX4Xh/MVCFjWagHGmHDLtZ3FscA/AZQ4tI+XJwzkliWT+KtkZf7vzs7Mq3BB0PKWBIwxOcESQZj4DxJ3w7LJdP3lQ4od+Zu+l7alf6PbbZA4Y0yuYIkgm/nXAsoc2EWPce/RbOUMFpxxLne26c6yMmcGLGunhBpjIsESQTY5s/NPpLnYQZU2C8fxwsRPyJecRPer7ufTejfbIHHGmFzHEkE28K8FVNq7lZ5j+tF43UKmV6rB8y07sq5E+YBlLQEYYyLNEsEp8E8AeVKSuW/ODzz7++ccz5OHLs0fZ1ita22QOGNMrmaJ4CT5J4Fzd6zjzdH9qLNlORPOvoQXrn2MrUVLBS1vScAYk1tYIjgJvkkgMTmJR6aP4PFpwzmQvxAdb+zE99WusEHijDFRwxJBFvjXAmpu+Yteo/tRbcdaRlW7km5NO7C7ULGAZS0BGGNyK0sEIfBPAAWSjvDUlC95YNZIthcuQfv/e4kJ5zQIWt6SgDEmN7NEkAn/JNBw/UJ6jn6Hqnu38GWtFrxx1X0cyF84YFlLAMaYaGCJIAj/BFDk6EG6TPyUOxaMYW3xcrT91+v8UaVmwLI2SJwxJppYIgjAPwlcvXImPcb2p8zBPQy45BbeurwdRxJtkDhjTGywRODDPwGcfmgfr/wygJuX/sayUlV4+Jb/sKD8+UHLWxIwxkQjSwQe/0Hiblr6O6/88iFFjh7i7cZ38F6j20hKsEHijDGxJ+4TgX8t4Iz9O+k+rj9NV81ifrnzeK5lR/4qXTVoeUsCxphoF9eJwDcJiKbwrwXj6DLxExJTknntqvZ8Wu8mUmyQOGNMjIvLROBfC6iyZzM9x7xDo/WLmFa5Jp1bPMH6EuUClrUzgowxsSauEkGgQeLunz2KZyYPISlPAp2bP86wWs1teAhjTFyJm0TgnwTO27GWN0f3pfaWFYw/pz4vXvso24oEHiTOEoAxJpbFfCLwTwCJyUk89sdXPPrH1+wvUJjHb3qOHy+43GoBxpi4FbOJ4MWRi/hi+vo082ptXs6bo/ty/s71fFe9Ca9e8yB7ggwSZ7eNNMbEi4gkAhFpAfQFEoCPVLVndq7fPwkUSDrCM5O/4P7Z37PttNO5r/UrTDz7kqDlrRZgjIknOZ4IRCQB6A80AzYCs0Tke1Vdkl3bGDpjw4nHjdYtpOeYflTZu5UvarekZ5P7+Dt/oYDlLAEYY+JRJGoE9YGVqroaQESGATcD2ZYIktXdRv6lCQNpP3sUa0qUo03bN5hROXhTjyUBY0y8ikQiqABs8JneCKQbzF9EOgAdACpXrpylDSSIkKzKuuJn8EH9W+lz2R02SJwxxgQRiUQQ6PQcTTdDdQAwAKBevXrpns9I2waV+GL6egbXvTHoMn3a1KZVnQpZWa0xxsSkSCSCjUAln+mKwObs3EDq2T7+Zw2lslqAMcb8Q1Sz9GP71Dcokhf4C7gG2ATMAu5Q1T+DlalXr57Onj07hyI0xpjYICJzVLVeZsvleI1AVY+LyOPAWNzpo59klASMMcaEV0SuI1DVn4GfI7FtY4wxaeWJdADGGGMiyxKBMcbEOUsExhgT5ywRGGNMnMvx00dPhojsANadZPFSwM5sDCcnRXPsYPFHmsUfWbkh/iqqWjqzhaIiEZwKEZkdynm0uVE0xw4Wf6RZ/JEVTfFb05AxxsQ5SwTGGBPn4iERDIh0AKcgmmMHiz/SLP7Iipr4Y76PwBhjTMbioUZgjDEmA5YIjDEmzsVsIhCRFiKyXERWikjnSMeTGRH5RES2i8hin3mni8h4EVnh/S8RyRgzIiKVRGSiiCwVkT9F5N/e/Kh4DSJSQERmisgCL/5u3vwzRWSGF/9wEckX6ViDEZEEEZknIj9609EU+1oRWSQi80VktjcvKvYdABEpLiIjRGSZ9x1oFE3xx2QiEJEEoD/QEqgOtBWR6pGNKlOfAS385nUGJqjqucAEbzq3Og48o6rVgIbAY957Hi2v4ShwtarWAmoDLUSkIdALeNuLfw/QPoIxZubfwFKf6WiKHeAqVa3tc+59tOw7AH2BMap6AVAL9zlET/yqGnN/QCNgrM90F6BLpOMKIe6qwGKf6eVAOe9xOWB5pGPMwmsZBTSLxtcAFALm4u6lvRPI681Ps1/lpj/cnf4mAFcDP+JuCRsVsXvxrQVK+c2Lin0HKAqswTv5JtriV9XYrBEAFYANPtMbvXnRpqyqbgHw/peJcDwhEZGqQB1gBlH0GrymlfnAdmA8sArYq6rHvUVy837UB3gOSPGmSxI9sYO7b/k4EZkjIh28edGy75wF7AA+9ZrmPhKRwkRP/DGbCCTAPDtPNgeIyGnAN8CTqro/0vFkhaomq2pt3K/r+kC1QIvlbFSZE5EbgO2qOsd3doBFc13sPhqr6sW45tzHROSKSAeUBXmBi4H3VbUOcJDc3AwUQKwmgo1AJZ/pisDmCMVyKraJSDkA7//2CMeTIRFJxCWBIar6rTc7ql4DgKruBSbh+jqKe/fZhty7HzUGbhKRtcAwXPNQH6IjdgBUdbP3fzvwHS4RR8u+sxHYqKozvOkRuMQQLfHHbCKYBZzrnTWRD/gX8H2EYzoZ3wP3eI/vwbW750oiIsDHwFJVfcvnqah4DSJSWkSKe48LAk1xHX4TgdbeYrkyflXtoqoVVbUqbl//VVXbEQWxA4hIYREpkvoYuBZYTJTsO6q6FdggIud7s64BlhAl8QOx2Vnsdc5cB/yFa+d9IdLxhBDvUGALkIT7hdEe1847AVjh/T890nFmEP9luKaHhcB87++6aHkNQE1gnhf/YuBlb/5ZwExgJfA1kD/SsWbyOpoAP0ZT7F6cC7y/P1O/r9Gy73ix1gZme/vPSKBENMVvQ0wYY0yci9WmIWOMMSGyRGCMMXHOEoExxsQ5SwTGGBPnLBEYY0ycs0RgYoo3CuSjkY4jlYjcKyLvRjoOYzJiicDEmuJAwETgjUprjPFjicDEmp7A2d649r1FpIl3n4QvgUUiUtXvng/PikhX7/HZIjLGG/hssohc4LtiEcnjjZtf3GfeShEpKyI3emP/zxORX0SkrH9gIvKZiLT2mf7b53EnEZklIgt97oVQWER+8u6RsFhE2mTj+2TMCXkzX8SYqNIZqKFu8DhEpAlu3JoaqrrGGxk1mAHAw6q6QkQaAO/hxu0BQFVTRGQUcAtupMkGwFpV3SYiU4CGqqoi8gBuJNBnQglYRK4FzvXiFOB7b9C10sBmVb3eW65YqG+CMVlhicDEg5mquiajBbxRUy8FvnbDJgGQP8Ciw4GXgU9x4/oM9+ZXBIZ7g4vlw41PH6prvb953vRpuMQwGfiviPTCDRsxOQvrNCZklghMPDjo8/g4aZtEC3j/8+DG76+dybr+AM4RkdJAK6C7N/8d4C1V/d6rhXQNUPbEtr1B+lJvHSnAG6r6oX8BEamLG7PpDREZp6qvZhKfMVlmfQQm1hwAimTw/DagjIiUFJH8wA0A6u6dsEZEbgN3oBaRWv6F1Q3O9R3wFm6k1V3eU8WATd7je/zLedYCdb3HNwOJ3uOxwP1erQQRqSAiZUSkPHBIVb8A/osb2tiYbGc1AhNTVHWXiEz1OoRHAz/5PZ8kIq/i7p62Bljm83Q74H0ReRF3kB6GGxHT33DcUOf3+szrimtW2gRMB84MUG4gMEpEZuJGozzoxTRORKoBf3jNUn8DdwLnAL1FJAU3Ku0jIb4NxmSJjT5qjDFxzpqGjDEmzlkiMMaYOGeJwBhj4pwlAmOMiXOWCIwxJs5ZIjDGmDhnicAYY+Lc/wMsFu6UtJ9gYwAAAABJRU5ErkJggg==\n",
      "text/plain": [
       "<Figure size 432x288 with 1 Axes>"
      ]
     },
     "metadata": {
      "needs_background": "light"
     },
     "output_type": "display_data"
    },
    {
     "name": "stdout",
     "output_type": "stream",
     "text": [
      "2-norm error: 14.214309507124208\n",
      "R^2 score of predict values: 0.9988393238910085\n"
     ]
    }
   ],
   "source": [
    "regr=RandomForestRegressor()\n",
    "regr.fit(X_train,y_train)\n",
    "res=regr.predict(X_test)\n",
    "\n",
    "plt.scatter(y_test,res)\n",
    "plt.plot([min(y_test),max(y_test)],[min(y_test),max(y_test)],c='r')\n",
    "plt.title(\"second try on the test data (default parameters)\")\n",
    "plt.xlabel(\"true values\")\n",
    "plt.ylabel(\"predict values\")\n",
    "plt.show()\n",
    "print(\"2-norm error:\",np.linalg.norm(res-y_test))\n",
    "print(\"R^2 score of predict values:\",regr.score(X_test,y_test))"
   ]
  },
  {
   "cell_type": "markdown",
   "metadata": {},
   "source": [
    "So I think this model doesn't have a over-fitting problem.\n",
    "\n",
    "It is a very sutiable model to this dataset.\n",
    "\n",
    "Since I just use the default parameters, I think maybe I can get a even better result by using the cross validation to train the best parameters."
   ]
  },
  {
   "cell_type": "code",
   "execution_count": 15,
   "metadata": {},
   "outputs": [
    {
     "name": "stdout",
     "output_type": "stream",
     "text": [
      "Best parameters:\n",
      "{'min_samples_leaf': 2, 'n_estimators': 10}\n"
     ]
    }
   ],
   "source": [
    "from sklearn.model_selection import GridSearchCV\n",
    "\n",
    "X_train, y_train = clean_data.T[:6000],labels[:6000]\n",
    "\n",
    "rfr = RandomForestRegressor()\n",
    "tuned_parameters = [{'min_samples_leaf':[1,2,3], 'n_estimators':[10,20,200]}]\n",
    "\n",
    "clf = GridSearchCV(estimator=rfr,param_grid=tuned_parameters, cv=5, n_jobs=1)\n",
    "\n",
    "clf.fit(X_train, y_train)\n",
    "print('Best parameters:')\n",
    "print(clf.best_params_)"
   ]
  },
  {
   "cell_type": "code",
   "execution_count": 16,
   "metadata": {},
   "outputs": [
    {
     "data": {
      "image/png": "iVBORw0KGgoAAAANSUhEUgAAAZ0AAAEWCAYAAAC9qEq5AAAABHNCSVQICAgIfAhkiAAAAAlwSFlzAAALEgAACxIB0t1+/AAAADl0RVh0U29mdHdhcmUAbWF0cGxvdGxpYiB2ZXJzaW9uIDIuMi4zLCBodHRwOi8vbWF0cGxvdGxpYi5vcmcvIxREBQAAIABJREFUeJzt3Xd4FGXXwOHfSegIBKRIx4KIIkWQIhZUELCiL4qIHcHeXkVAURBRQF8RsKBgw09EsAEWmgiChWoEpAkKUqVI7yE53x/PBJfNbrIJ2Zac+7pyZWd2npkzu7N79plyRlQVY4wxJhISoh2AMcaY/MOSjjHGmIixpGOMMSZiLOkYY4yJGEs6xhhjIsaSjjHGmIg57qQjIjVEREWkQJDnnxSRt7M5zzUi0vJ4Y4sFInK7iPwQ7TiOV1bvc5iW+aOINIjU8jIjIp1EZEq048iLRGSiiNwW7TiOl4j0EZEPwzTvXPseEZFrRWSdiOzNrc+XiNQVkZ9CmTbbSSe7CUFVX1DVu7K7nEyW/76I9Mut+eWmcH8x5+ZG7cV5Wm7MK8C8W4jI+uOcx1XAHlVNzqWwsrPsDO+jqo5S1cvCtLwZIpJrn5EcxnCFiPwgIjtF5G8RGSEiJXyeLywi74rIbu/5/+bWslW1raqOzK35mSz9D3hAVU/IzudLRB4QkfkickhE3vd9TlUXATu9z22morp7LRxfzpH8JW7C6h7g/6IdRKwTJzc+x6WAfkAloDZQBXjJ5/k+QE2gOnAx8ISItMmF5ZrIqw4syUG7jbht5N0gz48C7s5yLqoa8h/uSyANOADsBZ4AagAK3AasBbYBT/m06QN86D1On7azN+1Mb/wtwF/AP8BTwBqgZYDldwVSgMPe8r/0xq8BugOLgENAN+Azv7avAoODrFdtYAawE/dmXO3z3PvA68DXwB5gDnBqkPms9dZvr/fXDLgd+AH362IHsBpo69OmFPAOsAnYgHtTEwPMu4233inevBdm1R44Dfge2OW9L2O88TO9OPd58+oQYHmJXszbgD+B+702Bbzn7wCWea/Jn8Dd3vji3vaR5vM6VAIaAz97r/Em4DWgUJDXsZA3jyp+29FY4ANvmUuARiFss5WAz4Ct3mv/kM9zjYH5wG5gMzAoq/fRp60C9wErvXieA0711nG3F2shb9rSwFdeDDu8x1W8554HUoGD3rJe88afB8zz3rt5wHk+y57htfvRe51O8+L704tlNdApO5/tAK/bdcBin+ENwGU+w88BHwdp2wf4BPjQi2cxcDrQE9gCrPOb1wzgLu/x7WTyeckk3oDr770n3+G+W7bhvhiTfNqtwX1fLMJ9Ht4BKgATvXl9C5T2+/7qivsC3gQ8Fui7zhtuCvyE2+YXAi2yijeL9fPd/s4ApgLbgRXADT7PXQEk47bDdUAfb3xhbxtL/+z/kcNtox/wfoDxlb3tsXCm7XOwwDX4JASfN2IEUBSoh/vir+3/RvhM+wHuy6kocKb3QlzovSiDgCMESDrePN4H+gWI6VegqjfPit6LmuQ9XwC3sTcMML+CwCrgSdyX3SXehlDLZ3nbcV9QBXAbbbAPW/r6FfDbWFKALrgv8nu9DVa858cBb3mvR3lgLt4XeJAP84d+44K2B0bjkngCUAQ436edAqdl8j7fAyz3XtMywHSOTTpX4D7QAlwE7AfO8Z5rAaz3m19D3IewgPc6LQMeCbLss4B9Adb9IHC59zr2B2Znsa0mAAuAZ7z39hTcB7219/zPwC3e4xOAplm8j/5JZwJQ0ov3EDDNW0YpYClwmzfticB/gGJACdwX8jifec3A+9L1hsvgvnBv8V6vjt7wiT7Tr/WWW8Bb3m7+3WYrAmd5j8/HfekF+zs/yGs3GG87xyVNBSr4PN8en6QU5L1q7cX3Ae6L9Snc560LsDrQ+pPF5yXI8opnsv6nAa1w3y3lcD+4Bvu0XQPMxiWayrjviV+ABl6b74DeftvFaG+ZZ+N+SLQM8F1XGZfoLsdth6284XKZxZvJOt6Ot/157dfhfvgVAM7BJdT0dW7hxZYA1MX9oGoX7LOP+xEUbPv4KkAsAZOO99xuoG6m65LZk0FmuobAScf3V+lc4MYAb0T6tKf4TPsMPl/i3gt6mOwnnTv9xk0EuniPrwSWBpnfBcDfQILPuNH8++vgfeBtn+cuB5YHmVf6+vl/Wa3yGS7mTXMSbkM/BBT1eb4jMD2TD7PvL6lM2+M+7MN935tgG16A578D7vEZvsx/3fymHwc87LPRrw82b2+aR4AvgjzXHPg7wLp/6zN8JnAgi2U0Adb6jesJvOc9ngk8C5QN8X30TzrNfYYXAN19hl8meM+6PrDDZ3gGxyadW4C5fm1+Bm73mb6v32dmJy6xFQ20zOz84b4gdwCne8NVvfUt4jfNmky206k+w1fhflim98BLePNL8lkf36QT8POSSbwhrz/QDkj2GV6DTy8D1yse5jP8IN4PBJ/t4gyf518E3vFZ7/Tvuu7A//ktezJuj1C23y+OTTodgFl+z7+FlxwDtB0MvOK37Qb97IcQS2ZJZwNwYWbtc/OYzt8+j/fjfjkGs87ncSXfYVXdh/tFkF3r/IZHAjd7j28m+PGBSsA6VU3zGfcX7pdKuuysWyBH26vqfu/hCbh9qwWBTd4B3J24jad8iPPNqv0TuJ7IXBFZIiJ3ZiPmY94X3GtylIi0FZHZIrLdW+7lQNlgMxOR00XkK+8g9G7ghUym34H7YvLn/z4UyeIYXnWgUvpr48X5JC5Zg9vNezqwXETmiciVmcwrkM0+jw8EGD4BQESKichbIvKXt+4zgSQRSQwy30r4vd5k3Cb9PzMdcL3TTSLytYickc11wYu1KfAR0F5Vf/dG7/X+l/SZtCRuj0Aw/q/FNlVN9RmG4J+jYJ+XgDJbfxEpLyIfi8gG77X/kIzbXUjvow//z0WlAGFVB6732/bOByrmwvtVHWjiN+9OuB+yiEgTEZkuIltFZJe3nKCfzVxWApdQg8pJ0tGcxRJ0Hptwv6QA9wHF7Y7I7vL9x48D6opIHVxPZ1SQdhuBqn4HY6vhMnZ2Zfe1WYfrqZRV1STvr6SqnhXi/DNtr6p/q2oXVa2EO8D3RjbOWDvmfcG9JoA7kwn3i/B/uF0uScA3uAQXKE6AYbjddTVVtSTuy18CTAfuOImISOUgz4dqHW43TpLPXwlVvRxAVVeqakdckh4IfCoixYPEfzweA2oBTbx1v9AbH+z12oj7YvHlv00e00ZVJ6tqK9yumuW43d2IyAXeqbHB/i5In4d3+uwE3F6DaT7z3oHbHur5LLIeOTsYHRbB1h+3G1Zxu3xK4n6ABtvuQuX/udgYYJp1uJ6O77ZXXFUHZBFvKNYB3/vN+wRVvdd7/iPc+1hVVUsBb5LJOnunrAfbPiaGGpSIVMLtxl6R2XQ5STqbcfutc8unwJUicr6IFAL6ZhFXSMtX1YPevD/C7apYG2TSObjjP0+ISEERaYHbHfBx6Ktw1FbcAfSQXh9V3QRMAV4WkZIikiAip4rIRUGabAZqpCfIrNqLyPUiUsVruwP34Uv1mVdmcY4FHhKRKiJSGujh81wh3P7urcAREWmL2/3mG+eJIlLKZ1wJ3P7evd6vunsJQlVTcAdwg70OoZoL7BaR7iJSVEQSRaSOiJwLICI3i0g5r5eb/usslWy+jyEogfvFvFNEygC9/Z73fy++AU4XkZtEpICIdMDtTvwq0MxFpIKIXO0lzEO4nkkqgKrO8r6Qgv3N8uZRB5gEPKiqXwZYzAdALxEp7b1/XXC7ntNjUO+zE3GZrT/utd+Le+0r404aOF5Pe73Xs3DHVcYEmOZD4CoRae1td0XEXUpQJYt4Q/EVbvu4xfvOKigi54pIbe/5EsB2VT0oIo2BmzKbmbpT1oNtH23Tp/O2xSK4Y23p6+S7p6EF8J2qHspseTlJOv1xG99OEXk8B+2PoapLcGdGfYT7NbUDyOwaj3eAM73lj8ti9iNxB9SCnnqrqoeBq4G2uINxbwC3qurykFfi33ntxzuryIuvaQjNbsV9iS/FrfunuF8/gXzi/f9HRH4Jof25wBwR2Yv75fOwqq72nusDjPTivCHAskbg9kEvxB1Y/dxnPfcAD+ES0w7cRj3B5/nluONif3rzrwQ87k23x5t3oA+qr7dwxzZyzNudcxXuGMpq3Pv7Nu7AO7gzApd4r88Q3HHIgzl8HzMzGHeCyzbcQetJfs8PAdqLyA4RGaqq/+B654/hdjU/AVypqtuCzD/Bm3Yj7qSXi3Bn1mXHY7iD3O/4/Mr17cn0Bv7A7U76HnhJVScBeD9s9uLOUouGzNb/WdyB9l24M1A/DzSDbPoed/LRNOB/qprhomFVXQdcg+vRb8X1Trp5sR7X++V9/i4DbvTm8Teup17Ym+Q+oK+I7MEdMx+b7TUMrBfux1MPXI/xgDcuXSdcrypT6WdQ5UkiUg3XdT1JVXdHOx6TPeKuwH5Qo3CBqAmdiNyMO3OqZ7RjCScRqYH78VJQVY9EN5rYIiJnA8NVtVmW0+bVpOPtghoElFTV7BxAN8aYDCzp5I48WfDT21e6G3dap//+c5OHiEi1TA6CVst6DiZehHIyRDwTkTeDrF+Wu6ziSZ7t6RhjjIk9ebKnY4wxJjbFRXHMsmXLao0aNaIdhjHGxJUFCxZsU9Vy0Y7DV1wknRo1ajB//vxoh2GMMXFFRPwrW0Sd7V4zxhgTMZZ0jDHGRIwlHWOMMRFjSccYY0zEWNIxxhgTMZZ0jDHGRIwlHWOMMRFjSccYY2LRn3/CY49BWlrW08YRSzrGGBNLUlPhlVegTh0YMQKWLo12RLnKko4xxsSKJUugeXP473/hkktcwqlTJ9pR5SpLOsYYE22HD0PfvtCgAfzxB3z0EXz5JVSpknXbOBMXtdeMMSbPmjcPOneGxYvhpptg8GAoF1M1OnOV9XSMMSYa9u+Hbt2gaVPYvh0mTIBRo/J0wgHr6RhjTOTNmAFdusCqVXD33TBwIJQqFe2oIsJ6OsYYEym7dsE998DFF4MqfPcdvPlmvkk4YEnHGGMi46uv4Kyz3GnQjz8Oixa55JPPWNIxxphw2rrVnSBw1VVQujT8/DO89BIUKxbtyKIirElHRJJE5FMRWS4iy0SkmYiUEZGpIrLS+186nDEYY0xUqMLo0XDmmfDpp/Dss7BgATRuHO3IoircPZ0hwCRVPQOoBywDegDTVLUmMM0bNsaYvGP9erj6atfDOeUU+OUXeOYZKFQo2pFFXdiSjoiUBC4E3gFQ1cOquhO4BhjpTTYSaBeuGIwxJqLS0mD4cHfsZto0GDQIfvopz1UVOB7h7OmcAmwF3hORZBF5W0SKAxVUdROA9798oMYi0lVE5ovI/K1bt4YxTGOMyQWrVsGll7pToBs2dBd7PvooJCZGO7KYEs6kUwA4Bximqg2AfWRjV5qqDlfVRqraqFwev1jKGBPHUlPh5Zehbl23G23ECNfLOfXUaEcWk8KZdNYD61V1jjf8KS4JbRaRigDe/y1hjMEYY8Lnt9+gWTN3CnTLlq5A5113gUi0I4tZYUs6qvo3sE5EanmjLgWWAhOA27xxtwHjwxWDMcaExeHD0KcPnHMOrFkDH38M48dD5crRjizmhbsMzoPAKBEpBPwJ3IFLdGNFpDOwFrg+zDEYY0zumTsX7rzT3YagUydXoLNs2WhHFTfCmnRU9VegUYCnLg3nco0xJtft3w9PP+2STKVKrsLAFVdEO6q4YwU/jTEmK9Onu2M1f/7paqcNHAglS4ZtceOSN/DS5BVs3HmASklF6da6Fu0a5I1dd1YGxxhjgtm1C7p2dXfxTEhw1aGHDQt7wun5+WI27DyAAht2HqDn54sZl7whbMuMJEs6xhgTyJdfuhI277wDTzzhCnRedFHYF/vS5BUcSEk9ZtyBlFRemrwi7MuOBEs6xhjja+tW6NjRlbE58USYM8ftTitaNCKL37jzQLbGxxtLOsYYA65A56hRULs2fP45PPcczJ8PjQKdCxU+lZICJ7dg4+ONJR1jjFm3zt164OaboWZNSE6GXr2iUqCzW+taFC14bOmcogUT6da6VpAW8cXOXjPG5F/pBTqfeMKVsxk8GB54IKr10tLPUsurZ69Z0jHG5E8rV0KXLvD9965Q5/Dh7jYEMaBdg8p5Jsn4s91rxpj85cgRd+fOunXh11/d2WlTp8ZMwsnrrKdjjMk/Fi2Czp3dCQLXXANvvOGqC5iIsZ6OMSbvO3TI3bmzYUNYuxbGjoUvvrCEEwXW0zHG5G2zZ7vezdKlcMst8Mor7vobExXW0zHG5E379rk7d553HuzZA998Ax98YAknyqynY4zJe6ZNc2emrV4N990H/fuHtV6aCZ0lHWNMzMp2teWdO91dPN95x13k+f33cOGFkQvYZMmSjjEmJqVXW04vfplebRkInHjGj4d774UtW6B7d+jdO2L10kzo7JiOMSYmhVxtefNm6NAB2rWD8uVdgc4BAyzhxChLOsaYmJRltWVV+PBDd/uBcePg+edh3jx3WrSJWZZ0jDExKdNqy2vXultF33IL1KrlKgs8+SQULBjhKE12WdIxxsSkQNWWEzSN7qunwVlnwcyZMHQozJrlbkdg4oKdSGCMiUntGlRm/l/bGTV7LQqcvH0DAyYOpcn6JWxpeiHlR4+EGjWiHabJJks6xpiY9fWiTSSkpdJl7hc8+sMoDhYoxOOXP8LP51/Jj5Zw4lJYk46IrAH2AKnAEVVtJCJlgDFADWANcIOq7ghnHMaY2BboehyAk9as4INvhnD25j+YdHoznm51L1tPKIPsOhjliE1ORaKnc7GqbvMZ7gFMU9UBItLDG+4egTiMMTFoXPIGun26kJRUBdz1OE99PI9Hfh7LhB/HsrNoCe5p15NJtZofbZNXbt2cH0Vj99o1QAvv8UhgBpZ0jMm3nv1yydGEA3DO+mW8OHEIp21fz6d1LuW5S+5iV9ESx7TJK7duzo/CnXQUmCIiCrylqsOBCqq6CUBVN4lI+UANRaQr0BWgWrVqYQ7TGBNOmZWz2bE/BYBihw/QbeYH3LbgKzaWLMut1z/LzFMyXnOTVLRgnr2rZn4Q7qTTXFU3eollqogsD7Whl6CGAzRq1EizmNwYE6NCKWdz/upk+k9+jaq7NvP+OVfy0oW3sq9wMYoWTDymKkHRgon0ufqsyK+EyTVhvU5HVTd6/7cAXwCNgc0iUhHA+78lnDEYY6Ir03I2O3YwePJQPhz7NIcTC9K+00D6tLqHfYWLkVS0IP2vO5vKSUURoHJSUfpfd7b1cuJc2Ho6IlIcSFDVPd7jy4C+wATgNmCA9398uGIwxkRfsHI2deZOgyGduHrrVoY1u4HB593IoQKFACiYIPS5+izaNahsSSaPCefutQrAFyKSvpyPVHWSiMwDxopIZ2AtcH0YYzDGRFmlpKJs8Ek85fbuoM+3b3LFih+hfn0Svv6ailKBstm5hYGJW6Ia+4dLGjVqpPPnz492GMaYHDh6TOfwEa5b8h3PTBtB0ZRDrLr3Mc4a1NfqpYWRiCxQ1UbRjsOXVSQwxoRVuwaVKbpxPaUefZCmK+exsHodtg56jZbXXRTt0EwUWNIxxoRPWhoMG0brHj3crQhefZV6990HCVZrOL+ypGOMCY8VK+Cuu+CHH6B1a3jrLahePdpRmSiznxvGmNyVkgL9+0O9erBkCbz/PkycaAnHANbTMcbkQNAKA8nJ0Lmz+9++Pbz6Kpx0UrTDNTHEejrGmGxJPxttw84DKK7CQO+xC1hx54Nw7rmwcSN89hl88oklHJOB9XSMMUEF6tH4VxhouH4pL04cyqnb18Mdd8DLL0Pp0lGM2sQySzrGmICC1UxLHy5+aD/dZn7Arb98zcaS5bj1hr588O7T0QzZxAFLOsYYIGOvZt+hIwFrpiWK0PyP+bww+TUq7d7GyIauQGfp8mWiFLmJJ5Z0jDEBezWBlDqwh6e/e5v2v01jVZkqXN9pIAuqnEnRgol2jxsTEks6xpiAlaD9tVnxI89NHUbpA7tZ0fkh7qneljX7UqlstdJMNljSMcYErQQNUG7vdvpOfZO2v//E0pNO5be3x3DxjZcxPYLxmbzDko4xJkMlaABUufX3GTw+6S0KpxzijTZ3UblvL6451y7yNDlnSccYQ7fWtY45plNl12YGTn6N5quT4fzz4e23ua+WHbMxx8+SjjHm6PGY/01cRsvpn/LEzJEULJAIr78O99xjBTpNrrGkY4wBoF2R3bT7ujf89BO0aQNvvmn10kyuy/Lni4gUF5EE7/HpInK1iNhdl4zJK1JS4IUXoH59WL4cPvgAvvnGEo4Ji1D6zDOBIiJSGZgG3AG8H86gjDER8ssvrl7aU09Bu3awdCnccgu428wbk+tCSTqiqvuB64BXVfVa4MzwhmWMCasDB6BHD2jcGDZvhi++gDFjoEKFaEdm8rhQjumIiDQDOgGds9HOGBOLZs1yN1f7/Xd3G4KXXrICnSZiQunpPAL0BL5Q1SUicgrYdWHGxJ09e+D+++HCC+HwYZg6Fd5+2xKOiagseyyq+j3wvYgU94b/BB4Kd2DGmFw0cSLcfTesXw+PPAL9+kHx4tGOyuRDoZy91kxElgLLvOF6IvJGqAsQkUQRSRaRr7zhk0VkjoisFJExIlIox9EbYzL3zz9w661w+eVwwgnw44/wyiuWcEzUhLJ7bTDQGvgHQFUXAhdmYxkP4yUsz0DgFVWtCezg3+NExpjcouru3HnmmTB6NDz9tLuFdLNm0Y7M5HMhXWasquv8RmVejtYjIlWAK4C3vWEBLgE+9SYZCbQLKVJjTGg2bYLrroMbboCqVWH+fOjbFwoXjnZkxoSUdNaJyHmAikghEXmcY3sumRkMPAGkecMnAjtV9Yg3vB4IWA9dRLqKyHwRmb9169YQF2dMPqYK774LtWvDpEnw4oswezbUqxftyIw5KpSkcw9wPy45rAfqe8OZEpErgS2qusB3dIBJNVB7VR2uqo1UtVG5cuVCCNOYfGz1arjsMncKdL16sHAhdOsGBezqBhNbQjl7bRvuGp3sag5cLSKXA0WAkrieT5KIFPB6O1WAjTmYtzEGIDUVXnsNnnwSEhNh2DDo2tUKdJqYlWXSEZH3CNAbUdU7M2unqj1x1/cgIi2Ax1W1k4h8ArQHPgZuA8ZnP2xj8qdxyRt49ssl7Nifwmnb1vLy5Fept34ZtG0Lb73ljuEYE8NC6Xt/5fO4CHAtx9c76Q58LCL9gGTgneOYlzF53rjkDfSZsISdB1IAKJB6hAfmfMqDP33MvkLFeOyqx7mgz8O0q1olypEak7VQdq995jssIqOBb7OzEFWdAczwHv8JNM5Oe2Pyq3HJG/jvmF+PnolT5+9VvPTNYGpvXcOXZ1xAn5Z380/xJGZP+Z1251jSMbEvJ0cZawLVcjsQY0xGPT9fRBpQOOUQj/74EV3mfsG24kl0ua4XU2s2PTrdRv9bTRsTo0I5prMHd0xHvP9/43aRGWPCaFzyBg6kpNFk7WIGTBrKyTs28VG91gxocQe7i5xwzLSVkopGKUpjsieU3WslIhGIMfnduOQNvDR5BRt2HiBRhKIH99Fvxnvc/OtE/ko6iY43Ps/P1TNec1MwQejWulYUIjYm+4ImHRE5J7OGqvpL7odjTP7UatAMVm7Zd3T4glVzeWHy61TYu50R57Zj0Pk3c6BQkQztkooWpM/VZ9GuQcBrrI2JOZn1dF7O5DnFlbMxxhyHXuMW8+HstUeHS+/fxTPTRnDt0hn8fmI17ru5J79WytiLublpNfq1OzuSoRqTK4ImHVW9OJKBGJPfHNO7UeXK5bPo8+1blDq4l8HNO/JG0xs4XKDgMW0E6GQJx8SxkM5eE5E6uFtUH+3fq+oH4QrKmLyu17jFRxNO+T3/8PyUN2i1ag4LT6pJpxufZ0W5GhnaVE4qSrfWtWxXmolroZy91htogUs63wBtgR8ASzrG5NDoOetAlQ6LpvDU9HcplJpCv4vv5L1G15CakHjMtEULJtL/urMt2Zg8IZSeTnugHpCsqneISAW8WxUYY3Km0o5NDJg0lOZ/LWJ21Tp0b/sQf5WulGE6692YvCaUpHNAVdNE5IiIlAS2AKeEOS5j8qbUVBg6lCnv9ORIQgI9Wz/Ax/UuQ+XYAp01yxdn6n9bRCdGY8IolKQzX0SSgBHAAmAvMDesURmTR/Qat5jRc9aRqsoZ29YyYtYwqv6+mL8aXsjtje/k75Jlj5k+ARjUob71bEyeFcrFofd5D98UkUlASVVdFN6wjIlPvcYtZtSctahPXfaCqSncP/tTHvhpDHsKF2Psfwdww/+eoOX4344mpEQROjapamelmTwvlBMJxgNjgPGquibsERkTp/yvuQGou+l3Bk4cSu2taxhf+yKebdmVXYWSuEGEfu3OtiRj8p1Qdq8NAjoA/UVkLi4BfaWqB8MamTFxZvScdUcfF0k5yKM/fMRd88axpXhpOv/naaad1sQ9qQFvlmtMvhDK7rXvge9FJBFXhaAL8C7uTqDG5Hvjkjfw5OeLSPWSSdO1ixgw8VVq7NzER/Xa0P/iO9hTuPjR6RMl0F3bjckfQr04tChwFa7Hcw4wMpxBGRMvxiVv4L9jfyVNocShffSc/h43LZzEmqSKdLzxBX6uXjdDm45N7O6eJv8K5ZjOGKAJMAl4HZihqmmZtzIm7xuXvIHHxi4kTeGSVXN5fvLrlN+3g+HnXsugCzpxsOCxBTqthI0xofV03gNuUtXUcAdjTKzrNW4xo2avJf2oTJn9u+j97XCuWfY9y8tW555rn2ShFeg0JqhQjulMikQgxsS6Y85OU+XqZTPp/e1blDi0n0Hnd2JY0/akJB5boNMqChhzrJzcrtqYfMX/2puTdm+j35TXafnHPH6teDpPtH2I3wMU6LTejTEZWdIxJhNNnp/K5j2HARBN48aFU+g5/V0KpqXy3CV38V7Dq0jzK9ApAp2aWMIxJpBQTiSYpqqXZjXOmLzGN+FU37GRAZNepdnaxfxUrS492jzI2tIVj5neqkEbk7XMblddBCgGlBWR0riTb8Bdn5OxHG7g9jM8BmTFAAAZ9UlEQVSBwt5yPlXV3iJyMvAxUAb4BbhFVQ8f11oYk8taDZrB5j2HSUhL5c7543ls1ihSEhLp3uZBxtS9zHVnfBQvlMjz11rCMSYrmfV07gYewSWYBfybdHbjTp3OyiHgElXdKyIFgR9EZCLwX+AVVf1YRN4EOgPDcroCxuSW9Is896e4KwJO37qGFycOof6mlUw9rTG9LruPzSXKZmhnx26MCV1mt6seAgwRkQdV9dXszlhVFVeRGqCg96e4qgY3eeNHAn2wpGOiaFzyBp79cgk79qcAXoHOn8dy38+fsLtIcR64+gm+OuOCDL2bwVYN2phsC+VEgjQRSVLVnQDerraOqvpGVg290jkLgNNwvaM/gJ2qesSbZD0Q8FMrIl2BrgDVqlULIUxjss/3uA1AvY0reHHiEGptW8sXZ7ag76Vd2FGsVIZ2zU8tYwnHmBxIyHoSuqQnHABV3YGrv5YlVU1V1fpAFaAxUDvQZEHaDlfVRqraqFy5cqEszphsST9uA65A51Pfvc3nH3ajxKH93NG+N49e9XjQhDOqS7NIh2tMnhBKTydBRMTbXZbeeymUnYWo6k4RmQE0BZJEpIDX26kCbMxmzMYcl1aDZrByy76jw83+WsSASUOpvvNvPqzflgEt7mBv4WIZ2iUKvHyD7VIz5niEknQmA2O9g/4K3IOrw5YpESkHpHgJpyjQEhgITAfa485guw0Yn8PYjcmWcckbeGTMr0eHXYHOd7lp4WRWl65Ih479mVMt8AkBdrKAMbkjlKTTHXcm2724M9imAG+H0K4iMNLrGSUAY1X1KxFZCnwsIv2AZOCdHEVuTDb432Ct5co59JvyOuX27eTNxtcx+PybMhbotIs8jcl1odReS8OdXZatM8y8W1o3CDD+T9zxHWPCblzyBrp/tohDR9xp0Cfu20mfb9/iquWzWFauBl2ue5rFFWtmaFezfHGm/rdFhKM1Ju/L7OLQsap6g4gsJsDBflXNeKMQY2LIMWemqXLN0hn0njaCEw7t5+XzO/FmgAKdYAnHmHDKrKfzsPf/ykgEYkxuqtt7ErsPubtxVNy9lX5T3uDSP+bxS6VadG/zECvLVc/Qxq67MSb8Mrs4dJP3/6/IhWNMznUa8TM//rH96LBoGjf9OokeM94jUdN49tIujDznygwFOsESjjGRktnutT0EuYYGQFVLhiUiY3LgtJ5fc8Rna62xfQMDJr1K03W/8UP1evRs8yDrkk7K0E6A1QOuiFygxuRzmfV0SgCISF/gb+D/8O64C5SISHTGhODkHl8f/XWUmJZK53nj+O8PozicWJBubR/ik7NbZShhA1CycCKLnm0T2WCNyedCOWW6tao28RkeJiJzgBfDFJMxIfE9bgNwxpbVDJw4lHp/r2RKzab0anUvW0qcGLCt7U4zJjpCSTqpItIJdzGnAh2B1MybGBM+/hd5FjqSwv0/j+G+2Z+ws0gJ7rumB9/Uah6wd2NnphkTXaEknZuAId6fAj/yb5VoYyLKv0Bngw3LGThxKKf/s5bPzrqY5y7tws6iGQ83WrIxJjaEcnHoGuCa8IdiTHD+vZuihw/y+Kz/4475E9hUoiy3t+/DjFMbBWxrJWyMiR2h3K76dFw1ggqqWkdE6gJXq2q/sEdnDBl7N+et+ZUBk16l2q7NfNDgCl686LaABTot2RgTe0LZvTYC6Aa8Ba68jYh8BFjSMWHlf91NyYN7eXL6u9y4aAp/lq7EDTcNYG7VOhna2VlpxsSuUJJOMVWdK8celD0SbGJjcoP/dTetVs6m35Q3OHHfToY1ac/g5h05VLBwhnZ2rxtjYlsoSWebiJyKd6GoiLQHNoU1KpNv+fduyu7bQZ9vh3Pl8lksLX8ynf/zDL+ddFrAtnYatDGxL5Skcz8wHDhDRDYAq3EXiBqTq2r0+PrfAVWuXTKdZ6aNoFjKAV664BbeavIfjiRm3GTt2I0x8SPTpCMiCUAjVW0pIsWBBFXdE5nQTH7hf2Zapd1beH7y61z85wIWVDqDJ9o+zB9lqwZsa70bY+JLpklHVdNE5AHcDdj2ZTatMTnhW1VANI1OyRPp8f37JGgafS7tygfnXBGwQKddd2NMfApl99pUEXkcGAMcTTyquj14E2Myd8ZT33Aw9d8zBU7evoEBE4fSZP0SZlWvT882D7DeCnQak+eEknTu9P7f7zNOgVNyPxyT1/lfc5OYlkqXuV/w6A+jOFigEN3aPswnZ7cMWMLGzkwzJv6FUpHg5EgEYvI+/9Oga2/5kxe/GcLZm/9g0unNeLrVvWw9oUzAtnbsxpi8IZSKBEWA+4DzcT2cWcCbqnowzLGZPML/RIHCRw7zwE9juGfOp+wsWoJ72vVkUq3mAdta78aYvCWU3WsfAHuAV73hjrh761wfrqBM3uF/7Oac9ct4ceIQTtu+nk/rXMpzl9zFrqKBb8+0xo7dGJPnhJJ0aqlqPZ/h6SKyMFwBmbzD97qbYocP0G3mB9y24Cs2lizLrdc/y8xTGgZsV6FEIeY81SpSYRpjIiiUpJMsIk1VdTaAiDTB3d4gUyJSFddLOglIA4ar6hARKYM7E64GsAa4QVV35Cx8E4v8ezfnr06m/+TXqLprM++fcyUvXXgr+wIU6LRkY0zeF0rSaQLcKiJrveFqwDIRWQyoqtYN0u4I8Jiq/iIiJYAFIjIVuB2YpqoDRKQH0APoflxrYWJCr3GL+XD22qPDJQ/updd3b3PD4m/5o0wV2ncayPwqZwVsa7vSjMkfQkk6OSrXq6qb8Gq0qeoeEVkGVMbdm6eFN9lIYAaWdOKa/4kCAK1//4nnpgyjzP5dvN70eoY278ihAoUCtreEY0z+Ecop038d70JEpAbQAJiDuy9PejLaJCLlg7TpCnQFqFat2vGGYMLEv3dTbu8O+nz7Jles+JEl5U/hjva9WRKkQKdVFTAm/wmlp3NcROQE4DPgEVXdLQEu+gtEVYfjCo3SqFEjzWJyEwXHXHejynVLvuOZaSMomnKIFy+8leGNr7MCncaYY4Q16YhIQVzCGaWqn3ujN4tIRa+XUxHYEs4YTO5rNWgGK7f8W4qv8q4tvDD5NS5a/QvzK9eme9uH+ONEK9BpjMkobElHXJfmHWCZqg7yeWoCcBswwPs/PlwxmNzlf+xGNI1bfvma7t+PBOCZlnfzf+dcgUpCwPZ27MYYE86eTnPgFmCxiKR/Uz2JSzZjRaQzsBa7yDQu+JewOeWf9QycOJRzNyxlZo0GPNnmAdaXqhCwrSUbY0y6sCUdVf0BVxQ4kEvDtVyTu3xvPQBQIPUIXed+zsM/juZAwcI8dvmjfFbnEivQaYwJSdhPJDDx65g7eQJnbf6DgROHUmfzH3xz+nn0bnUvW08oHbCt9W6MMYFY0jEB+SacwkcO89CPo7l7zmfsKFYy0wKdYAnHGBOcJR1zDP/eTcP1S3lx4lBO3b6esWe35PmLO1uBTmNMjlnSMUf5Jpzih/bTbeYH3PrL12wsWY5bbujLrJPPCdjOLvI0xoTKko7J0Lu58M8FvDD5NSrt3sbIhq5A5/5CRQO2td6NMSY7LOnkY/6nQZc6sIenv3ub9r9NY1WZKlzfaSALqpwZsG2RRGH585dHKFJjTF5hSSef8u/dtFnxI89NHUbp/bt5tVkHXjuvQ8ACnQKstt6NMSaHLOnkM/7Jptze7fSd+iZtf/+J3yqcym3X92VphVMCtrVdacaY42VJJx85JuGo0v63aTw9bQRFjhxmwEW3M6LxtaQmJAZsawnHGJMbLOnkA/538qyyazMvTHqNC9ckM7fKmfRo8xB/nlglYNsCAqv6W8IxxuQOSzp5nG/vRjSNW3/5mie+H4mK0KvVvYxq0NYKdBpjIsaSTh7lf2baqdvWMXDSUBptWMaMkxvyVOv72VAq4P3zLNkYY8LGkk4e43+vmwKpR7h7zmc89NNo9hcsyqNX/Jcvzro4YIFOOzPNGBNulnTykAwFOv9exUsTh3DmltV8Vet8+rS6m23FrUCnMSZ6LOnkAf4nChROOcQjP46my9zP2V6sFHdf+ySTTz8vaHtLOMaYSLGkE+f8ezfnrvuNAZNe5dTtGxhzdiuev6Qzu4ucELCt1UwzxkSaJZ045l+gs/v3I7k1+WvWlapApw79+LFG/YDt7NiNMSZaLOnEIf/eTYs/5vP85NepuGcb7za8mv9deIsV6DTGxCRLOnHE/9hN0oHdPD1tBP9ZMp2VJ1al/c0v8kvl2kHbW8IxxkSbJZ044V/C5vIVP/Ls1DdJOriHIefdyOvNOnC4QMGAbS3ZGGNihSWdGBeoQGe/KW/QeuVsFp10Grd26Muy8lag0xgTHyzpxKhxyRt4ZMyv/45Q5frFU3n6u3colJrCCy3u4J1z21mBTmNMXAlb0hGRd4ErgS2qWscbVwYYA9QA1gA3qOqOcMUQr/x7N1V2/k3/Sa9xwV+/MqdqHXq0eZDVZSoHbGvJxhgTywJXeswd7wNt/Mb1AKapak1gmjdsPOOSNxyTcBLSUrlj/nimvHs/9Tet4KnL7uPGji9YwjHGxK2w9XRUdaaI1PAbfQ3Qwns8EpgBdA9XDPHEv3dz2ra1DJw4lIYblzP9lIY82foBNpUsF7CtJRtjTLyI9DGdCqq6CUBVN4lI4DLHgIh0BboCVKtWLULhRYdvwimYmsLdcz7jwZ8+Zl+hYjx85WOMP7NFwAKdYAnHGBNfYvZEAlUdDgwHaNSokWYxeVzy792cvWklL04cQu2ta/jyjAvo0/Ju/imeFLCtJRtjTDyKdNLZLCIVvV5ORWBLhJcfE/yTTeGUQzz6wyi6zBvHtuJJdLmuF1NrNg3a3hKOMSZeRTrpTABuAwZ4/8dHePlR559wmqxdzIBJQzl5xyZG172M/hffGbRApyUbY0y8C+cp06NxJw2UFZH1QG9cshkrIp2BtcD14Vp+rPFPNicc2k+PGe9x868TWVuqAjd16MdPQQp0WrIxxuQV4Tx7rWOQpy4N1zJjVcYCnfN4YfLrnLTnH95udA0vX3ALBwoVCdjWEo4xJi+J2RMJ8gL/ZFN6/y6emTaCa5fO4PcTq/Gfm3uQXPmMoO0t4Rhj8hpLOmHiX6DzyuWz6PPtW5Q6uJch53Xk9WY3WIFOY0y+Y0knl/n3bsrv+Yfnp7xBq1VzWHhSTW7u0I/l5U8O2PbmptXo1+7sSIRpjDFRYUknlwQq0Nlh0RSemv4uhVJT6HfxnbzX6Bor0GmMydcs6eQC/95N1Z1/M2DSUJr/tYjZVevQve1D/FW6UsC2lmyMMfmJJZ3j4J9sEtJSuWPBlzw+8/84kpBAz9YP8HG9y1AJXFfVEo4xJr+xpJND/gmn5ta/eHHiUBpsWsG0U8/lqcvu5++SZYO2t4RjjMmPLOnkgH+Bzntnf8oDP41hT+FiPHRVNybUvtAKdBpjTACWdLLBv3dTd9PvDJw4lNpb1zC+9kU827Ir24uVCtjWko0xxljSCYl/simScpBHf/iIu+aNY0vx0nT+z9NMO61J0PaWcIwxxrGkkwX/hNN07SIGTHyVGjs38VG9NvS/+A72FC4esK0lG2OMOZYlnSD8k02JQ/voOf09blo4iTVJFel44wv8XL1u0PaWcIwxJiNLOgH4J5xLVs3l+cmvU37fDoafey2DLujEwYJWoNMYY7LLko4P/2RTZv8uen87nGuWfc/ystW559onWVipVtD2lnCMMSZzlnQ8/gU6r142k97fvkWJQ/t5pflNvNHselISrUCnMcYcj3yfdPx7Nyft3ka/Ka/T8o95/FrxdJ5o+xC/l6sRtL0lHGOMCV2+Tjq+CUc0jRsXTqHn9HcpmJbKcxd35r1GV5NmBTqNMSbX5Muk49+7qb5jIwMmvUqztYv5qVpderR5kLWlKwZsa8nGGGNyLl8lnUAFOu+cP57HZo0iJSGRHq0f4ON6ra2EjTHGhEm+STr+Cef0rWt4ceIQ6m9aydTTGtPrsvvYXCJwgU5LNsYYkzvyfNLxTzYFU1O4/+ex3PfzJ+wuUpwHrn6Cr864wHo3xhgTAXk66fgnnHobV/DixCHU2raWL85sQd9Lu7AjSIFOu3W0McbkvqgkHRFpAwwBEoG3VXVAbi/DN+EUSTnIY7M+5M75E9h8QhnuaN+b6aeeG7St9W6MMSY8Ip50RCQReB1oBawH5onIBFVdmlvL6DVu8dHHzf5axIBJQ6m+828+rN+WAS3uYG/hYgHbWbIxxpjwikZPpzGwSlX/BBCRj4FrgFxLOqPnrAPg6Wkj6Dx/PKtLV6RDx/7MqRZ8d5klHGOMCb9oJJ3KwDqf4fVAhpvRiEhXoCtAtWrVsrWAVFUA/ko6iTcbX8fg82+yAp3GGBMDopF0Ap0mphlGqA4HhgM0atQow/OZSRQhVZUPGl4VdBpLNsYYE3kJUVjmeqCqz3AVYGNuLqBjk6qZPm8JxxhjoiMaSWceUFNEThaRQsCNwITcXEC/dmdzc9OMu+RKFk60hGOMMVEU8d1rqnpERB4AJuNOmX5XVZfk9nL6tTvbrrMxxpgYE5XrdFT1G+CbaCzbGGNM9ERj95oxxph8ypKOMcaYiLGkY4wxJmIs6RhjjIkYUc3WdZdRISJbgb9y2LwssC0Xw4mkeI4dLP5os/ijKxbir66q5aIcwzHiIukcDxGZr6qNoh1HTsRz7GDxR5vFH13xHn+42O41Y4wxEWNJxxhjTMTkh6QzPNoBHId4jh0s/miz+KMr3uMPizx/TMcYY0zsyA89HWOMMTHCko4xxpiIybNJR0TaiMgKEVklIj2iHU9WRORdEdkiIr/5jCsjIlNFZKX3v3Q0Y8yMiFQVkekiskxElojIw974uFgHESkiInNFZKEX/7Pe+JNFZI4X/xjvdhwxSUQSRSRZRL7yhuMp9jUislhEfhWR+d64uNh2AEQkSUQ+FZHl3megWTzFH0l5MumISCLwOtAWOBPoKCJnRjeqLL0PtPEb1wOYpqo1gWnecKw6AjymqrWBpsD93mseL+twCLhEVesB9YE2ItIUGAi84sW/A+gcxRiz8jCwzGc4nmIHuFhV6/tc2xIv2w7AEGCSqp4B1MO9D/EUf+Soap77A5oBk32GewI9ox1XCHHXAH7zGV4BVPQeVwRWRDvGbKzLeKBVPK4DUAz4BWiCu6K8gDf+mO0qlv5wd+CdBlwCfIW7LXxcxO7FtwYo6zcuLrYdoCSwGu/ErHiLP9J/ebKnA1QG1vkMr/fGxZsKqroJwPtfPsrxhEREagANgDnE0Tp4u6d+BbYAU4E/gJ2qesSbJJa3o8HAE0CaN3wi8RM7gAJTRGSBiHT1xsXLtnMKsBV4z9u9+baIFCd+4o+ovJp0JMA4Ozc8AkTkBOAz4BFV3R3teLJDVVNVtT6u19AYqB1osshGlTURuRLYoqoLfEcHmDTmYvfRXFXPwe0Sv19ELox2QNlQADgHGKaqDYB92K60oPJq0lkPVPUZrgJsjFIsx2OziFQE8P5viXI8mRKRgriEM0pVP/dGx9U6AKjqTmAG7thUkoik32E3Vrej5sDVIrIG+Bi3i20w8RE7AKq60fu/BfgCl/TjZdtZD6xX1Tne8Ke4JBQv8UdUXk0684Ca3tk7hYAbgQlRjiknJgC3eY9vwx0niUkiIsA7wDJVHeTzVFysg4iUE5Ek73FRoCXuYPB0oL03WUzGr6o9VbWKqtbAbevfqWon4iB2ABEpLiIl0h8DlwG/ESfbjqr+DawTkVreqEuBpcRJ/JGWZysSiMjluF97icC7qvp8lEPKlIiMBlrgyqFvBnoD44CxQDVgLXC9qm6PVoyZEZHzgVnAYv49rvAk7rhOzK+DiNQFRuK2lwRgrKr2FZFTcL2HMkAycLOqHopepJkTkRbA46p6ZbzE7sX5hTdYAPhIVZ8XkROJg20HQETqA28DhYA/gTvwtiPiIP5IyrNJxxhjTOzJq7vXjDHGxCBLOsYYYyLGko4xxpiIsaRjjDEmYizpGGOMiRhLOiZP8ar93hftONKJyO0i8lq04zAmVljSMXlNEhAw6XjVx40xUWRJx+Q1A4BTvfuyvCQiLbz7/HwELBaRGn73LHpcRPp4j08VkUle0clZInKG74xFJMG770uSz7hVIlJBRK7y7l2TLCLfikgF/8BE5H0Rae8zvNfncTcRmScii3zu5VNcRL727vHzm4h0yMXXyZioKJD1JMbElR5AHa9wZ/oV+o29cau9CtjBDAfuUdWVItIEeANXxwwAVU0TkfHAtbiKwk2ANaq6WUR+AJqqqorIXbiKz4+FErCIXAbU9OIUYIJX8LIcsFFVr/CmKxXqi2BMrLKkY/KDuaq6OrMJvOrY5wGfuDJyABQOMOkY4BngPVydszHe+CrAGK+wYyHc/VVCdZn3l+wNn4BLQrOA/4nIQOArVZ2VjXkaE5Ms6Zj8YJ/P4yMcu1u5iPc/AXf/mfpZzOtn4DQRKQe0A/p5418FBqnqBK931SdA26PL9gqkpt8+WoD+qvqWfwMRaQhcDvQXkSmq2jeL+IyJaXZMx+Q1e4ASmTy/GSgvIieKSGHgSgDv3j+rReR6cElBROr5N1ZXrPALYBCuovY/3lOlgA3e49v823nWAA29x9cABb3Hk4E7vd4WIlJZRMqLSCVgv6p+CPwPVy7fmLhmPR2Tp6jqPyLyo3eywETga7/nU0SkL6769Wpguc/TnYBhItILlxA+BhYGWMwY3O0zbvcZ1we3a24DMBs4OUC7EcB4EZmLu7X0Pi+mKSJSG/jZ27W3F7gZOA14SUTSgBTg3hBfBmNillWZNsYYEzG2e80YY0zEWNIxxhgTMZZ0jDHGRIwlHWOMMRFjSccYY0zEWNIxxhgTMZZ0jDHGRMz/AxT+B7CbEPMoAAAAAElFTkSuQmCC\n",
      "text/plain": [
       "<Figure size 432x288 with 1 Axes>"
      ]
     },
     "metadata": {
      "needs_background": "light"
     },
     "output_type": "display_data"
    },
    {
     "name": "stdout",
     "output_type": "stream",
     "text": [
      "2-norm error: 7.34916772622886\n",
      "R^2 score of predict values: 0.9996897328273662\n"
     ]
    }
   ],
   "source": [
    "regr=RandomForestRegressor(n_estimators=20,min_samples_leaf=1)\n",
    "regr.fit(X_test,y_test)\n",
    "res=regr.predict(X_test)\n",
    "\n",
    "plt.scatter(y_test,res)\n",
    "plt.plot([min(y_test),max(y_test)],[min(y_test),max(y_test)],c='r')\n",
    "plt.title(\"third try on the test data (n_estimators=20,min_samples_leaf=1)\")\n",
    "plt.xlabel(\"true values\")\n",
    "plt.ylabel(\"predict values\")\n",
    "plt.show()\n",
    "\n",
    "print(\"2-norm error:\",np.linalg.norm(res-y_test))\n",
    "print(\"R^2 score of predict values:\",regr.score(X_test,y_test))"
   ]
  },
  {
   "cell_type": "markdown",
   "metadata": {},
   "source": [
    "I really got a better solution using the best parameters of \"min_samples_leaf\" and \"n_estimators\".\n",
    "\n",
    "But the progress was not very significant, because the former soultion is great enough."
   ]
  },
  {
   "cell_type": "markdown",
   "metadata": {},
   "source": [
    "### model review"
   ]
  },
  {
   "cell_type": "code",
   "execution_count": 17,
   "metadata": {},
   "outputs": [
    {
     "name": "stdout",
     "output_type": "stream",
     "text": [
      "shape of decision path: (3357, 15240)\n"
     ]
    }
   ],
   "source": [
    "print(\"shape of decision path:\",regr.decision_path(X_test)[0].toarray().shape)"
   ]
  },
  {
   "cell_type": "code",
   "execution_count": 18,
   "metadata": {},
   "outputs": [],
   "source": [
    "from sklearn.tree import export_graphviz\n",
    "estimator = regr.estimators_[0]\n",
    "export_graphviz(estimator,feature_names=['CO_measured','NMHC_measured','NOx_measured','NO2_measured','O3_measured','temp','RH','AH'],out_file='tree.dot')"
   ]
  },
  {
   "cell_type": "code",
   "execution_count": 19,
   "metadata": {},
   "outputs": [
    {
     "name": "stdout",
     "output_type": "stream",
     "text": [
      "feature importances:\n",
      "[4.00605965e-04 9.99040707e-01 8.42519545e-05 1.10125513e-04\n",
      " 1.10173806e-04 1.47280047e-05 1.46982777e-04 9.24247248e-05]\n"
     ]
    }
   ],
   "source": [
    "print(\"feature importances:\")\n",
    "print(regr.feature_importances_)"
   ]
  },
  {
   "cell_type": "code",
   "execution_count": 20,
   "metadata": {},
   "outputs": [
    {
     "name": "stdout",
     "output_type": "stream",
     "text": [
      "error: 226.72020689446524\n"
     ]
    },
    {
     "data": {
      "image/png": "iVBORw0KGgoAAAANSUhEUgAAAYEAAAEICAYAAAC55kg0AAAABHNCSVQICAgIfAhkiAAAAAlwSFlzAAALEgAACxIB0t1+/AAAADl0RVh0U29mdHdhcmUAbWF0cGxvdGxpYiB2ZXJzaW9uIDIuMi4zLCBodHRwOi8vbWF0cGxvdGxpYi5vcmcvIxREBQAAIABJREFUeJzt3XucHHWZ7/HPM51O0hMwEyAqGRICwgbNIolkJS66C/ESVgRzBFQWPOyRlXXX3SOKkYAsCR6UuDkqnrOuHq/rGuUmMAJegsvNFU00cRJjgAgIuXQiiZIBJAOZTH7nj6qe1PRUdVffq7q/79crr0zfqp/qrv49Vb+rOecQEZHO1NXqAEREpHWUBEREOpiSgIhIB1MSEBHpYEoCIiIdTElARKSDVZQEzOxJM3tTo4KR5DCzGWb2RzPLtOj9Z5qZM7NxEY9faWZfaXZcUcrFm0Zm9gYz29zqOJLMzHJmdqeZPWNmt7Q6nmok6krAzE4zs+2tjkPAObfVOXeIc2641bGEcc590jn3t1D/AtjMlpnZyjLPSf0JUbl9cM79l3NuVjNjipLgsuFc4GXA4c6582rZUJzjrhESlQTSotbCpt5ni+109ilSLOHH99HAb5xz+1sdSNWfk3Mu9j/gSeBN/t9dwBLgceAPwM3AYYHn3gL8DngG+DEwO/DYW4GHgOeAPPARYBIwCBwA/uj/mxYSw5jXBh5bDOwEdgDvBRxwnP/YmUA/8CywDVgWeN1pwPYS+7oM+A6w0n/935bb/6JtnQZsBy73P5Nv+ve/DVgPDAA/BV4deM1r/Hif8z/Lm4Bra9je5f7n9RywGXijf/9rgbX+fj0FfMa/f6b/+Y3zb08D7gCeBh4D3hfY9jJ////D3/4mYF7EZ3EN8H/9v7PA88C/+LdzwAvAlMD7XwRsBX4PfKzoPVf6f2/1n1s4bl7nfz9XAVuAXX5sk8t938AZwD5gyN/WhpB9+CbecTroP+ejMeKt5nj5qB/7TmAR3rH/G/87uDLw/AnA9XjH/Q7/7wn+Y0cAd/nHxNPAf/mxjNmHqDiKPqPFwK/87+2reGfBP/C/9/8EphQdP5f4Me0ELosZc2H/C8f3LYSUDXjH7s/8fdsJ/CswPvAeDng/8CiwB/g8YIHH3wc87Mf+EPCawLF+K7AbeAL4nyWO5eCxcrF//3v97e4BVgFHB17zObzy51lgHfAG//7Q445AORRy3Bc+44vxjrkf+/fPx/v9DwAbgNNKlus1JIFLgdXAUf4X+v+AGwLPfS9waODLXh94bGdg56cEPvzTKPpxhsQQ9doz8AqxP8VLKN9mdBI4DTgR7wfwav+5iypIAkN4P8QuvMKq5P6H/Jj2A5/yn5vDK+R3AacAGbzC40n/8fF4hdcH8QrKd/gHyLVVbm8W3oE3LXDwvML/+2fAe/y/DwHmRySBB4B/AyYCc/B+IG8MfD4v4BVSGeA6YHXEZ7EA2Oj//ed4heKawGMbit7/y/7+nQS8CLyyxI9hXNHx9xhwrL9ft3EwWcb5vlfG/S3EjLea4+Vq//t/n/95fxvvNzXb/7yP9Z//cX/bLwWm4hUA/8t/7Drgi/52ssAb8AvC4n2ImQRW4xX8vXjH2y+Buf4+3QssLfo8bsD7PZ7o78ObYsRc2P/g8R32nZ2MV+CN89/vYeDSoiRwF9ADzPDf/wz/sfPwTor+DDDgOLyz+i68wvlqvN/hscBvgYURn9GoYwWvjHgMeKUf11XATwOPXwgc7j92GV6Smxh13BV/R4Qf9//hf8Y5/3v5A95vsQt4s397aiOSwMP4hYB/+0i8gnJcyOt6/GALZ2Jbgb8DXlLqoIuIIeq1XwOWB27/CYEkELKd64HPVlAo/Ljo8Ur2/zS8Qnxi4L4v4B/0gfs2A38J/IV/gAbPWn7C6CRQyfaOw/vBvgnIFj3nx3hnNEcU3V84wMYB04Fh4NDA49cB/x74fP4z8NirgMGIz71wtn843pnxlXhnfYf4cfyfovc/KvDanwPvLvFjCCaBe4B/CNyeVfh+Yn7f1SaBqHgrPV4GgYx/+1B/26cEnrOOgycxjwNvDTy2EHjS//vjwHcJ+R0U70NEHMVJ4ILA7VuBLwRu/xPQV/R5nBB4/F+Ar8aI+TTGHt9jvrOQeC8Fbg/cdsDrA7dvBpb4f68CPhiyjVOArUX3XQF8PeI9Rx0reFdFFwdudwF7CVwNFL1+D3BS1HEXcpyNPCfwGR8bePxy/JOdwH2rgIuiPrda2gSOBm43swEzG8A7yIeBl5lZxsyWm9njZvasvyPgXZoCnIOXqbaY2QNm9roK3jfqtdPwznYLtgRfZGanmNl9ZrbbzJ7Bu0w8gvi2Fd2O3P+I1+92zr1Q9PrLCq/3tzHd349pQN7532DE+8fennPuMbwfyDJgl5ndaGbT/NddjJcwHzGzX5jZ20JinwY87Zx7LnDfFryzjoLfBf7eC0wMq6N0zg3iVT8Vkt0DeGeBp/r3PVD0kuLtHhISX5hpjD4GtuAlgKjvp16i4q30ePmDO9goP+j//1Tg8cHAtsP2tfD9rsA7M73bzH5rZksq3J9ixTFExVRQ/JssxFUqZhh7fI9hZn9iZneZ2e/8cuaTjP1NR30f0/ESUbGjgWlFv6MriX/cHA18LvDap/GuNHr9mC8zs4f93kQDwOSQmCsV/IyPBs4riv/1eCcdoWpJAtuAv3LO9QT+TXTO5YG/Bt6Od+Y5GS9jgfdh4Jz7hXPu7XiXgn14GRq8rFZSidfuxPtiC2YUvfTbeHXa051zk/Eukc1/7Hmgu/BEv1vk1OK3rmD/Q0MPef0nil7f7Zy7wd+XXjOzwPOnF72+ku3hnPu2c+71eAeJw7vUxjn3qHPufLzP81PAd8xsUtG2dwCHmdmhgftm4F2tVOMBvKqfucAv/NsL8ep4f1zF9sKOmx14+1owA6+K4SnKf99lj8OYzwmq9HipRNi+7gBwzj3nnLvMOXcscBbwYTN7o/+8SvehGsW/yR3+35Ex+4pjC4v1C8AjwPHOuZfgFdYW8rww24BXRNz/RNH3dKhz7q0VbPfvil6fc8791MzegHem/k68tpMevDbTQsxh+zjqWAVeHvKc4pPFbxa9/yTn3PKogGtJAl8EPmFmRwOY2VQze7v/2KF49aF/8Hfgk4UXmdl4M7vAzCY754bwGkgKZzxPAYeb2eSwNyzz2puBvzGzV5lZN7C06OWH4p3NvmBmr8VLVAW/wTtzPdPMsnj1eBNq2P84vgy8379CMTOb5L//oXj19MPAP5rZOH+7r612e2Y2y8wWmNkEvKqYQX/7mNmFZjbVOXcAryEJDn6mADjntuGdrV9nZhPN7NV4VxDfqmB/gx4A/jvwkHNuH3A/XmP7E8653VVsbzdeo+GxgftuAD5kZseY2SF4x+BNzuvFUe77fgqYaWalfh9PFb1fObUeL6XcAFzlb/MIvPrslf77vM3MjvNPKAq/l+DvrZJ9qMY/m1m3mc0G/gdeB4eSMUcIKxsOxdunP5rZCcDfVxDXV4CPmNnJ/u/lOP+7+TnwrJldbt4YgIyZ/amZ/VnM7X4RuMLfX8xsspkVuo4eincishsYZ2ZXAy8p2sfi42498G4zy5rZPLwuqaWsBM4ys4V+7BPN6157VNQLakkCn8M7s77bzJ7Da+Q5xX/sP/Au7/J4re6ri177HuBJ/xLu/XiNJTjnHsE7OH7rX8pMY6yo1/4Ar57/XrzL33uLXvcPwMf9WK/m4BUEzrln/Me/4sf8PF49dbX7X5Zzbi1eg9+/4tULPgb8jf/YPrzG4IvxCuYL8Rq4Xqxme3gF3HK8Hiu/wzvrv9J/7Axgk5n90d+nd0dchp+Pd0W3A7gdrwHwR3H3t8hP8doGCmf9D+Elp2quAnDO7QU+ATzoHzfz8dqIvulv8wl/+//kP7/c910Y9PMHM/tlxNteh1eIDZjZR2KEWdPxUsa1eFVsvwI24jXWXus/djxer50/4p1c/Jtz7v4q96EaD+Adi/cA/9s5d3eMmMeIKBs+gncy9xzeSdBNUa8P2d4teMfMt/3X9+H11hrGu2Kag3fc/B7vOAk9MQ3Z7u14V9Q3+mXUr4G/8h9ehddm8Bu88vEFRlflhB13/4x3xbIHr83s22XefxteLcyVeMlmG16PrsiyvtBLoC2ZmcO7VHys1bHUyszWAF90zn291bGIlGNmM/EK0axLQB96iabBYgllZn9pZi/3q4MuwuvW+sNWxyUi7SXJI/E63Sy8KqtD8HoxnOuc29nakESk3bR1dZCIiJQWuzrIb2nuN7O7/NvHmNkaM3vUzG4ys/GNC1NERBoh9pWAmX0YmIc3UvdtZnYzcJtz7kYz+yLecP8vlNrGEUcc4WbOnFlrzCIiHWXdunW/d84Vj12qi1htAn4f0zPxulR92O9zvICDfe2/gTcatWQSmDlzJmvXrq06WBGRTmRmW8o/qzpxq4Oux5vR8IB/+3BgIND1azujpxAQEZEUKJsEzJtLZpdzbl3w7pCnhtYrmdklZrbWzNbu3l3NYFAREWmUOFcCpwJnm9mTwI141UDXAz12cIKwoxg978cI59yXnHPznHPzpk5tSJWWiIhUqWwScM5d4Zw7yjk3E3g3cK9z7gLgPg7OY3ER3nS1IiKSIrWMGL4cr5H4Mbw2gq/WJyQREWmWikYM+xNP3e///VvKz2wpIjH19edZsWozOwYGmdaTY/HCWSyaq/4W0liaNkKkQSop1Pv681xx20YGh7xZnvMDg1xx20YAJQJpKE0gJ9IAhUI9PzCI42Ch3tcfvobMilWbRxJAweDQMCtWbW5CtNLJlAREGqDSQn3HwGBF94vUi6qDRBqg0kJ9Wk+OfMhj03pydY0ridQW0lpKAiINEKdQDxZ+Pd1Zsl3G0IGDYy5z2QyLF85qSryNFlXQqy2k9ZQERBpg8cJZowo3GF2oFxd+e/YOkc0YPbkszwwOpfaMOKywByIL+lLVZmnb97RSEhBpgEIBFlXNEVb4DQ07Jk0Yx/qlb2l6vPUQdVY/MdsVWdCrLaT1lAREalCqPnvR3N7Is9l2LPyizuqL7ysofGad2haSFOodJFKlSruBBkUVcmku/CpNYIWkmctmRt3fTm0haaAkIFKlWvr2hxV+hpdITl1+b6xEkjRRCawnl40s6BfN7eW6d5xIb08OA3p7clz3jhPVHtBEqg4SqVItVTrBtoH8wCDGwbnY09pDJqoxfNnZswFYdscmBgaHAJiYPXj+WaraTBpPVwIiVaq1SmfR3F4eXLKA3p7cmMU40jhauNxZ/Yv7D4w8d8/eodhVZ9JYuhIQqVLYmW+wSiduF89WNhLXe6BW1Fm9uoIml5KASJXqVaVTqodMI0fTNmKgVlS87dgbql2oOkikBuWqdC69aX3Zht6oHjKnnzC16t5HcdR70rpSvaXasTdUu1ASECmjrz/Pqcvv5Zgl34ss0Eud0ZYrvKPq0u97ZHdDZxat99l5qaSirqDJpeogkRLiVplEVekUDA4N86Gb13PpTesBr9vksrNnlxxY9iH/ucXqVYVSzUCtUtVTpZJKuRHU0jpKAiIlxG3QDGskLuYC9UUDg0MsvmUDEF3/3ujRtFEx5wcGmbnke4B3VVIorK/q28i3Vm+NbPcoF6+6giaTqoNESohbZVKo0unJZWNve+iAK1m1U88qlLAqrWA1VJRCQV+cAAqC1VOq8kknJQGREipp0Fw0t5dJEyq7uC5VtVOv0bRX9W3kQzetD22wLTRsZ8wiXz84NMwNa7aNSQDF+6DRv+mk6iCREspNCV2smvlzSqm1CqWvP1/yDL6w7WEXVcRT9vHgPqjKJ32UBKTjlZsJdO2Wp7lhzTaGnSNjxjknRxd05RqIg7Jd1vCqkhWrNkeewRcGtcVJXBmz0ERgoOqelFMSkI5SXOCffsJUbl2Xj+z909ef59Z1+ZECcNg5bl2XZ97Rh41KBIXtFg8ai1LcO6hRyhXwcRJWLpvhnJN7R31O4CWAC+bP0Jl/ypkrcxlYT/PmzXNr165t2vuJBBV39wRKFti9PTn27tvPnr1DoY89uGRB5HZLCb62XLy1dqk8dfm9sa9MwgR7B2kt4NYxs3XOuXmN2LauBKRjhHX3LHUKVKrwDJ5hh20XYNL4DHv3DY96j7i9Zeo1pUOcrqtBBjyx/MzQx1Tf357UO0g6Rj3nqQk2hkZtd+++YT77rjlV9Zap15QOxT12ytE0Dp1HVwLSMaIabePU4QcVn82XGiRV7dlznPEJUdUzYfcXqp9eccX3I3v6VNKnX1VD7UNXAtIxogYzXTB/RskBU+A15Iadzff153n+xf1jnl/rIKly4xOiJmu74Ms/ixwTAHD+KdNDtztpfCb2VUoty2pK8uhKQDpGoYArXuFq3tGHce2iE5l99Q95fl943fmkCeNYv/Qto+6LahCe0p1l6Vm19fwpNz4hqrrowcefHrOtwaFhrrlz08iZe7CtImPG+adM59pFJ8aOTWsDtBclAek4xStcfeimgxO7RQmrnolqEO4ePy60MAxWoUzOZTGDgb1DodUp5SZcq7R9Y8/eoZFeTs/vGyaXjX/mX0xrA7QXJQHpKMvu2FRRD6GCsOqZSgrD4quGwpUIeNUpH7ppPWu3PD3qjLxUe0JPdza062pctZy5N3piO2kuJQFJrHo3Pvb150cVvnFF1e9HFYaTQyaRi7pqKHDAt1ZvHTUILTgArTBit9Bvvx7De6o9c690Kg1JNg0Wk0QKq28PVmFUkyCqGThleGfdYdU2ff15Ft+ygaED4b+hYH37MUu+F+uKozCQrNQAtFw2U1G//1y2i71DB8Y81mXe9NbVJFj1DmquRg4WUxKQRCpVYPfksjy/bz9DwweP3Th13HEL4oJsl4FR8n3mfvzustUyF86fwX2P7I6VgAqDtaod6duTyzJpwrhRhTPA4u9sGLUfxWppI5DGa2QSUBdRSaRSVRUDg0NjCrQ4A6ni1FkXBlT19uQ4ZOK4su8zEKNe/oY121i8cFZFg7WqqarJZTMsO3s2Dy5ZwBPLz+TBJQtG2hUmjS9d81vPZSslXcomATObaGY/N7MNZrbJzK7x7z/GzNaY2aNmdpOZjW98uNIpqmlkjCo4CwuqFCZ3C8pmbNQYgM++aw5P+gVo1Bl+fmBwZHGWnu7yi8gMO8eiub1lr0KC9eqV7n+50cjPxGgLUe+ezhSnYfhFYIFz7o9mlgV+YmY/AD4MfNY5d6OZfRG4GPhCA2OVDlLpnDcQXnAW1607Do4Q7i1Tlx01fXJhO/mBQbJdRqbLGI5oFwjG0VtimuniWCrd/3J18nGmuFbvns5UUZuAmXUDPwH+Hvge8HLn3H4zex2wzDm3sNTr1SYgQX39ea65c9PIGXfx9MrB3jHlFOq0YXTf+udf3B/ZI6i4x03xa2uZfTOuUnXxYb2DopSbmbTcTKdqE0i2ljcMm1kGWAccB3weWAGsds4d5z8+HfiBc+5PQ157CXAJwIwZM07esmVL/aKXxCrXe6SvPx/aWJntMlacd9KY54YVYIWRr4Xtr93ydOgqWnGENQI3WrkrkWJ9/fnIQW2lZv8Mvj7uYDVJlpYngUAgPcDtwNXA14uSwPedcyXHnutKoDOU694JpXv/ZMw44NyowilsoXMD/vwVh/HkHwabctbeCJVO2zDnmrtDr2zirlEg6ZSY3kHOuQHgfmA+0GNmhTaFo4Ad9Q1N0irONMilCu1h50bq3BffsoG5H7+blSFn+A548PGnU5sAwNvXlau3clXfxljPX3b27NBJ8DRQS6oVp3fQVP8KADPLAW8CHgbuA871n3YR8N1GBSnpUm46hb7+fKzukgBDB1xN0yOkxcrVW0d6HJWajbN4fYBK1igQCROnd9CRwDf8doEu4Gbn3F1m9hBwo5ldC/QDX21gnJIipaZTqHW5w3YWnJYZolcQ0wpfUk8aMSx1F9Ym0IqG17SrtOFY2ldi2gRE4girsggbfVtsSnd2TH13J9NiLdIMmkVUGqK4yuKYJd8r+fxcNsOZrz6S29Ztb3RoqaLFWqTRdCUgTVFqNGpvT45zTu7l1nX50Nku2125H6Gmc5BGUhKQpghb3zfbZUzpzrJjYJAb1myraIqItOoK6RaV8ecviqLpHKSRlASkKYLtBABmB7t/Oig5JUI7CZtiaGjYMWnCOK5/1xyNAZCmUxKQhinM3lno/w4Hrwg6pMyPbcfAoMYASEuoYVgaoribaH5gsOxi7p2sUOWjMQDSbEoCUlbYbJ9vO+lI7ntkd+RkZOXW1JWDsl2mKh9pGSUBKSlsts+BwSFWrt466nZBYb6fqHV3JUTcOTREGkBtAlLSNXduqniUrxJAtLDyfmjYaWlHaRklAYnU15/viMnbGinTNXr5yqj0qLEA0iqqDpJIOjsdLdtlFV3lTOnOsvSs2aMaeqMm0Gv3sQDlFhlqV2nYbyUBiaTZPg/KWLwEUG5xl7C1g9t9LEBYT7FyM6W2g7Tst6qDJFQlc/63u2xX6fV9C+IU5p04FiDOIkPtKC37rSuBDlVukfcVqzZXtVZvOxo64DAjdIBb2FKY5XTaWIByiwy1q7Tst5JAB4rq9vnhm9ez7I5NPDM4pARQJCwBFK+bLOGiFhlq93aQtOy3qoM60IpVm0O7fR5wXjJQAoiWMeuYapx6CZs8sN3bQSA9+60rgQ6UtMvRNDngHE8sP7PVYaRKsIoxyb1k6i0t+60k0IGiLlOlvKRdyqdFp7WDFKRhv1Ud1IEWL5xFNqO+P5VK4qW8SK2UBDrQorm9rDj3JLqz+vqjZLqMC+fP6KiunNKZVB3UoRbN7eWaOzd15HKOcQwfcNz3yO6SA79E2oFOBTuY5gUqTQ3o0gmUBKTjTRqfCb1fjcDSCZQEOlBff57ZV/+w1WG0nAEXzp/BJ/7bianozy3SCGoTSLnCLIX5gUEy5s1x0xvojxycxbCnO8sLQ8MMdng7QDZjrDj3pDGNvEnvzy3SCOaauOL3vHnz3Nq1a5v2fu2ueJbCoFw2wzkn93LrunxHL/NoEDoCutxsnyJJYmbrnHPzGrFtVQelVF9/nstu3hBZwA8ODbNy9daOTgBaxEWkPCWBFCpcAcSZ3rhTTenOsnjhLHojGnfV6CviURJIobB5ymW0PXuHWHzLBk4/YeqYRl/DW+Dj1OX30tefb02AIgmhJJBCqsqIZ+iA464NO0cWcYHRbQSFlZ6UCKSTKQmkkKoy4hsYHGLR3F4eXLIgtI0giSs9iTSTkkDK9PXn2btvf6vDSKW0rPQk0kwaJ5BQwf79hX7rQGSXUAk3pTs78ndaVnoSaaayVwJmNt3M7jOzh81sk5l90L//MDP7kZk96v8/pfHhdoZC75/8wCCOg3XXH7tdCaBSS8+aPfJ3WlZ6EmmmONVB+4HLnHOvBOYDHzCzVwFLgHucc8cD9/i3pQ7Cev8MDg3z/D4lgEoFR/0umts70kis6aFFPGWrg5xzO4Gd/t/PmdnDQC/wduA0/2nfAO4HLm9IlB1GddT1ETZGIA0rPYk0U0UNw2Y2E5gLrAFe5ieIQqJ4acRrLjGztWa2dvfu3bVF2yFURx3PlO4s5v+f7Rq9UpqqeUTiid0wbGaHALcClzrnnjWLtzyhc+5LwJfAmzuomiDbWdgEcIVCbeiAPq4oPbks/Ve/ZeR2WEO6zvhFyouVBMwsi5cAvuWcu82/+ykzO9I5t9PMjgR2NSrIdlU8AVxhGog9e4foMjADzQwRbtnZs0fdVjWPSHXi9A4y4KvAw865zwQeugO4yP/7IuC79Q+vvZWa/uGAUwKI0p3tUoEvUidxrgROBd4DbDSz9f59VwLLgZvN7GJgK3BeY0JsL8FqC5Xx1en09RBE6ilO76Cf4E25EuaN9Q2nvZWa/1/iU8O5SP1o2ogm0uyflSs+QNXrR6S+NG1EE6n/f3wZMz79zpMALfso0khKAk2Uy3axV/XZsRxwbqSwV6Ev0jiqDmqiwf1KAHGp3l+kOZQEmkhdPuNRvb9I86g6qEm0elVpGTMOOKd6f5EmUxJoEq1eFS2XzWg2T5EWURJoEvUMCjelO8vSs2YrAYi0iJJAk0zMdnX8SFczmDwxyzODQ6r2iUkT40mjKQk0wVV9Gzs+AQDgYP3St5R/ngBjR5gXVpgDdZuV+lESqKPis7bTT5jKfY/sDl3XthOp22dlolaYW7Fqs5KA1I2SQJ1c1beRb63eOjIpXH5gkJWrt7Y0piRRt8/KRbUjqX1J6knjBOqgrz8/KgHIaFO6s+r9U4WoKyddUUk96UqgDj52+0YlgAhTukevANYOmtVYu3jhrDGzzuqKSupNSaBGV/Vt5Pl9mhkUGLMkZi6bYelZs0u8In2a2Vhb2J56B0kjKQnU6IY121odQsv15LIjyz22e4HV7MZaLZspjaYkUKPhDp0QqFDwFxdQ7V5gqbFW2o2SQI0yZh2VCHp7cjy4ZEGrw2iZaT250C6/aqyVtFLvoBqdf8r0VofQNGqU9Bprc9nMqPv0uUia6UqgSoUeIu0+EEyze3qCPYJ6urNMGNel6S+kLSgJxNTXn+eaOzexZ+9Qq0NpqgPO8cTyM1sdRksV9wjas3eIXDbDZ981R4W/pJ6qg2Lo68+z+DsbOi4BgOq6oXSPIJG0UxKIYcWqzQwNd07jb4Hquj3qESTtTEkghnav94+iqR48mr5B2pmSQBmduixkb09OCcCnHkHSztQwXMayOza1OoSmUwE3mqZvkHamJBCh0CVwYLB9G4N7e3LsGBhkci6LGQzsVZfHKJq+QdqVkkCI4i6B7ajTR/6KiEdtAiHCugS2G1X3iAjoSgAYOz98u/cGOvUVh6lqQ0QAJYHQ+eHb2YXzZ3DtohNbHYaIJETHVwd1QtVPQcZMCUBERun4JNBJoz47acprEYmn45NAu4367Mll6cllQx/rbbN9FZHalU0CZvY1M9tlZr8O3HeYmf3IzB71/5/S2DDrq68/z6nL7+WYJd9j17PtcyUwpTvL+qVvYdnZszXCVURiiXMl8O/AGUX3LQHucc4dD9zj306FQkNwfmAQBwwdaHVE9WEwsqj7orm9XPeOE+ntyWF4VwCaB0hEwpSs3XMfAAAKwElEQVTtHeSc+7GZzSy6++3Aaf7f3wDuBy6vY1wN064NwY7R6/tqhKuIxFFtm8DLnHM7Afz/Xxr1RDO7xMzWmtna3bt3V/l29dOuDcGq7xeRajS8Ydg59yXn3Dzn3LypU6c2+u1KuqpvI+3YP0b1/SJSrWqTwFNmdiSA//+u+oXUGFf1bWTl6q2tDqNmvT05Lpw/Q/X9IlIX1Y4YvgO4CFju///dukXUIGlPAJku49PnnaTCXkTqKk4X0RuAnwGzzGy7mV2MV/i/2cweBd7s306stC8MM2FclxKAiDREnN5B50c89MY6x9IwaV8Q/IhDJigBiEhDdMSI4bRPCteuPZpEpPU6IglYqwOoUbtNbSEiydH2SaCvP5/qbqHq/ikijdTW6wkUpohIq16t9ysiDdbWSeCaOzeldooILf4iIs3Qtknggi//jD17h1odRsUyZpx/ynQlABFpirZMAlf1beTBx59udRgVyZjx+HVvbXUYItJh2q5huK8/n8rRwVr1S0Raoa2SQF9/ng/ftL7VYVQlY2nvyCoiadRWSWDFqs2kdY2Y80+Z3uoQRKQDtVUSSOvI4FNfcZgagkWkJdqmYTiNk8T15LIsO3u2xgGISMu0TRJI2yRxPTlvUXgRkVZqm+qgpE6yNml8Zsx9uWyGZWfPbkE0IiKjtcWVQNLmB8plM6NW++rrz7Ni1WZ2DAwyTVNBiEiCpD4J9PXnWXzLhlaHMWJKd5alZ42u5y/8XUgEhaorJQIRabXUJoHC2XXSegS9MDS2k2phIrvCPEb5gcGRie2UCESklVLZJlAoVJOWAAAGh4bHNFKvWLV5zER2Yc8TEWm2VCaBsEI1SYobqaMarZPamC0inSOVSSDphWfxSmBRK4NpxTARabVUJoHJuWyrQ4gUthLY4oWzyGUzZZ8nItJsqWwYTupca1EjgIt7B6mbqIgkRSqTQNIWi8mY8el3nlSyUF80t1eFvogkTuqqg/r68yTpQsCgbAIQEUmq1CWBFas2J2p08AXzZygBiEhqpS4JJKlnkIGmgBaRVEtdEkhSt8okXZGIiFQjdUlg5uHNSwKFtoeuiEaI3gQlJBGRaqQuCaz+7Z6mvdfEbIbr3zWHz7xzjvr5i0hbSl0SGHbNq4QpzO+zaG4v55zcO7IYfMaMc05Wl08RSb9UJYFWLCG5Y2CQvv48t67LjySgYee4dV0+lUtaiogEpSoJtGLWzWk9Oc0CKiJtK1VJoBVTRy9eOEuzgIpI20pVEsi0YNKgRXN7NQuoiLStmpKAmZ1hZpvN7DEzW1KvoKI0s1EYDnYB1SygItKuqp5AzswywOeBNwPbgV+Y2R3OuYfqFVxQsxthg4W8ZgEVkXZVyyyirwUec879FsDMbgTeDjQkCTSrEdYgtJDXLKAi0o5qSQK9wLbA7e3AKcVPMrNLgEsAZsyYUfWbNaNRuLcnx4NLFjT8fUREkqKWNoGwVtoxlfbOuS855+Y55+ZNnTq1hrdrLNXxi0gnquVKYDswPXD7KGBHbeE0X1T1j4hIJ6glCfwCON7MjgHywLuBv65LVE30xPIzWx2CiEjLVJ0EnHP7zewfgVVABviac25T3SITEZGGq2mNYefc94Hv1ymWppvSnW11CCIiLZWKEcMXfPlndd9ml8HSs2bXfbsiImmSiiTw4ONP132bk3NZNQSLSMdLRRJohIG9Q60OQUSk5To2CWjyNxGRDk0CGhgmIuKpqXdQGk3pzrL0rNlqDxARIQVJoF6zh6rwFxEZK/FJ4IrbflX1a7MZY8W5J6ngFxGJkPg2gcGhA1W/dmjYaR1gEZESEp8EaqV1gEVEoiU+CdS6qrC6goqIREt8EqhlVeFsxtQVVESkhEQ3DNfSM0i9gUREykt0Eqi0UVfLQ4qIVCbR1UGVNuqefkJyl68UEUmiRCeBSht173tkd4MiERFpT4lOApU26qo7qIhIZRKdBCql7qAiIpVJdBKopGFYM4OKiFQu0b2D4lbv9PbkWLxwlrqDiohUKNFJYFpPjnyJRJDtMlacpwniRESqlejqoHLVO+967XQlABGRGiQ6CSya21syQHUJFRGpTaKTAEBufCbyMXUJFRGpTeKTwPP7hiMfU5dQEZHaJD4JlKIuoSIitUl8Eii1noAahUVEapP4JFDLegIiIlJa4pNAb0S9f9T9IiISX+KTwOKFs8hlR/cQ0hQRIiL1kegRw3Cw3n/Fqs3sGBhkmqaIEBGpm8QnAfASgQp9EZH6S3x1kIiINI6SgIhIB1MSEBHpYEoCIiIdTElARKSDmXPNG5NrZruBLVW+/Ajg93UMp5nSHDso/lZT/K2VhPiPds5NbcSGm5oEamFma51z81odRzXSHDso/lZT/K2V9vjLUXWQiEgHUxIQEelgaUoCX2p1ADVIc+yg+FtN8bdW2uMvKTVtAiIiUn9puhIQEZE6UxIQEelgiU8CZnaGmW02s8fMbEmr4ynHzL5mZrvM7NeB+w4zsx+Z2aP+/1NaGWMpZjbdzO4zs4fNbJOZfdC/PxX7YGYTzeznZrbBj/8a//5jzGyNH/9NZja+1bFGMbOMmfWb2V3+7TTF/qSZbTSz9Wa21r8vFccOgJn1mNl3zOwR/zfwujTFX41EJwEzywCfB/4KeBVwvpm9qrVRlfXvwBlF9y0B7nHOHQ/c499Oqv3AZc65VwLzgQ/4n3la9uFFYIFz7iRgDnCGmc0HPgV81o9/D3BxC2Ms54PAw4HbaYod4HTn3JxA3/q0HDsAnwN+6Jw7ATgJ73tIU/yVc84l9h/wOmBV4PYVwBWtjitG3DOBXwdubwaO9P8+Etjc6hgr2JfvAm9O4z4A3cAvgVPwRnyO8+8fdVwl6R9wFF5BswC4C7C0xO7H9yRwRNF9qTh2gJcAT+B3mElb/NX+S/SVANALbAvc3u7flzYvc87tBPD/f2mL44nFzGYCc4E1pGgf/OqU9cAu4EfA48CAc26//5QkH0fXAx8FDvi3Dyc9sQM44G4zW2dml/j3peXYORbYDXzdr477iplNIj3xVyXpScBC7lOf1iYws0OAW4FLnXPPtjqeSjjnhp1zc/DOql8LvDLsac2Nqjwzexuwyzm3Lnh3yFMTF3vAqc651+BV4X7AzP6i1QFVYBzwGuALzrm5wPO0W9VPiKQnge3A9MDto4AdLYqlFk+Z2ZEA/v+7WhxPSWaWxUsA33LO3ebfnap9AHDODQD347Vt9JhZYTnVpB5HpwJnm9mTwI14VULXk47YAXDO7fD/3wXcjpeE03LsbAe2O+fW+Le/g5cU0hJ/VZKeBH4BHO/3jhgPvBu4o8UxVeMO4CL/74vw6tkTycwM+CrwsHPuM4GHUrEPZjbVzHr8v3PAm/Aa9+4DzvWflsj4nXNXOOeOcs7NxDvW73XOXUAKYgcws0lmdmjhb+AtwK9JybHjnPsdsM3MZvl3vRF4iJTEX7VWN0rEaKx5K/AbvHrdj7U6nhjx3gDsBIbwziwuxqvXvQd41P//sFbHWSL+1+NVN/wKWO//e2ta9gF4NdDvx/9r4Gr//mOBnwOPAbcAE1oda5n9OA24K02x+3Fu8P9tKvxe03Ls+LHOAdb6x08fMCVN8VfzT9NGiIh0sKRXB4mISAMpCYiIdDAlARGRDqYkICLSwZQEREQ6mJKAiEgHUxIQEelg/x+owOgMBPCv+gAAAABJRU5ErkJggg==\n",
      "text/plain": [
       "<Figure size 432x288 with 1 Axes>"
      ]
     },
     "metadata": {
      "needs_background": "light"
     },
     "output_type": "display_data"
    }
   ],
   "source": [
    "data1=(CO_measured,NOx_measured,NO2_measured,O3_measured,temp,RH,AH)\n",
    "data1=np.array(data1).astype(np.float64)\n",
    "data1,labels=clean_replace(data1,labels)\n",
    "data1=np.array(data1)\n",
    "reg=linear_model.LinearRegression()\n",
    "reg.fit(data1.T,labels)\n",
    "y=reg.predict(data1.T)\n",
    "plt.scatter(labels,y)\n",
    "plt.title(\"least sqaure regression whitout the most importance feature\")\n",
    "print (\"error:\",np.linalg.norm(labels-y))"
   ]
  },
  {
   "cell_type": "markdown",
   "metadata": {},
   "source": [
    "#### Cross Validation Implementation"
   ]
  },
  {
   "cell_type": "code",
   "execution_count": 42,
   "metadata": {},
   "outputs": [],
   "source": [
    "# Build cross validation function, return regression error for each test and derived labels\n",
    "def cross_validation(data,labels,k:int):\n",
    "    m,n=np.shape(data)\n",
    "    data_with_labels=np.mat(np.row_stack((data,labels))).astype(np.float64)\n",
    "    a=n//k\n",
    "    fold=[0 for i in range(k)]\n",
    "    for i in range(k):\n",
    "        if i!=k-1:\n",
    "            fold[i]=data_with_labels[:,i*a:(i+1)*a].astype(np.float64)\n",
    "        else:\n",
    "            fold[i]=data_with_labels[:,i*a:].astype(np.float64)\n",
    "    reg_error=[0 for i in range(k)]\n",
    "    labels_derived=np.mat([0 for i in range(n)]).astype(np.float64).T\n",
    "    \n",
    "    for i in range(k):\n",
    "        test_data=fold[i].astype(np.float64)\n",
    "        mi,ni=np.shape(fold[i])\n",
    "        training_data=np.mat([[0 for j in range(n-ni)] for i in range(m+1)]).astype(np.float64)\n",
    "        sample_number=0\n",
    "        for j in range(k):\n",
    "            if j==i:\n",
    "                continue\n",
    "            mj,nj=np.shape(fold[j])\n",
    "            training_data[:,sample_number:sample_number+nj]=fold[j]\n",
    "            sample_number=sample_number+nj\n",
    "        # Algorithm implementation\n",
    "        w=ls_solution(training_data[:m,:],training_data[m,:])\n",
    "        test_data_hat=np.row_stack((test_data[:m,:],np.mat([1 for x in range(ni)])))\n",
    "        y=test_data_hat.T*w\n",
    "        print(type(y))\n",
    "        if i!=k-1:\n",
    "            labels_derived[i*a:(i+1)*a]=y\n",
    "        else:\n",
    "            labels_derived[i*a:]=y\n",
    "        reg_error[i]=la.norm(y-labels,2)\n",
    "    overall_error=la.norm(reg_error)\n",
    "    return reg_error,labels_derived,overall_error"
   ]
  },
  {
   "cell_type": "code",
   "execution_count": 45,
   "metadata": {},
   "outputs": [
    {
     "name": "stdout",
     "output_type": "stream",
     "text": [
      "<class 'numpy.matrixlib.defmatrix.matrix'>\n"
     ]
    },
    {
     "ename": "TypeError",
     "evalue": "ufunc 'subtract' did not contain a loop with signature matching types dtype('<U32') dtype('<U32') dtype('<U32')",
     "output_type": "error",
     "traceback": [
      "\u001b[1;31m---------------------------------------------------------------------------\u001b[0m",
      "\u001b[1;31mTypeError\u001b[0m                                 Traceback (most recent call last)",
      "\u001b[1;32m<ipython-input-45-b43065bb83d6>\u001b[0m in \u001b[0;36m<module>\u001b[1;34m()\u001b[0m\n\u001b[1;32m----> 1\u001b[1;33m \u001b[0mcross_validation\u001b[0m\u001b[1;33m(\u001b[0m\u001b[0mdata\u001b[0m\u001b[1;33m,\u001b[0m \u001b[0mlabels\u001b[0m\u001b[1;33m,\u001b[0m \u001b[1;36m5\u001b[0m\u001b[1;33m)\u001b[0m\u001b[1;33m\u001b[0m\u001b[0m\n\u001b[0m",
      "\u001b[1;32m<ipython-input-42-718e8319f50c>\u001b[0m in \u001b[0;36mcross_validation\u001b[1;34m(data, labels, k)\u001b[0m\n\u001b[0;32m     33\u001b[0m         \u001b[1;32melse\u001b[0m\u001b[1;33m:\u001b[0m\u001b[1;33m\u001b[0m\u001b[0m\n\u001b[0;32m     34\u001b[0m             \u001b[0mlabels_derived\u001b[0m\u001b[1;33m[\u001b[0m\u001b[0mi\u001b[0m\u001b[1;33m*\u001b[0m\u001b[0ma\u001b[0m\u001b[1;33m:\u001b[0m\u001b[1;33m]\u001b[0m\u001b[1;33m=\u001b[0m\u001b[0my\u001b[0m\u001b[1;33m\u001b[0m\u001b[0m\n\u001b[1;32m---> 35\u001b[1;33m         \u001b[0mreg_error\u001b[0m\u001b[1;33m[\u001b[0m\u001b[0mi\u001b[0m\u001b[1;33m]\u001b[0m\u001b[1;33m=\u001b[0m\u001b[0mla\u001b[0m\u001b[1;33m.\u001b[0m\u001b[0mnorm\u001b[0m\u001b[1;33m(\u001b[0m\u001b[0my\u001b[0m\u001b[1;33m-\u001b[0m\u001b[0mlabels\u001b[0m\u001b[1;33m,\u001b[0m\u001b[1;36m2\u001b[0m\u001b[1;33m)\u001b[0m\u001b[1;33m\u001b[0m\u001b[0m\n\u001b[0m\u001b[0;32m     36\u001b[0m     \u001b[0moverall_error\u001b[0m\u001b[1;33m=\u001b[0m\u001b[0mla\u001b[0m\u001b[1;33m.\u001b[0m\u001b[0mnorm\u001b[0m\u001b[1;33m(\u001b[0m\u001b[0mreg_error\u001b[0m\u001b[1;33m)\u001b[0m\u001b[1;33m\u001b[0m\u001b[0m\n\u001b[0;32m     37\u001b[0m     \u001b[1;32mreturn\u001b[0m \u001b[0mreg_error\u001b[0m\u001b[1;33m,\u001b[0m\u001b[0mlabels_derived\u001b[0m\u001b[1;33m,\u001b[0m\u001b[0moverall_error\u001b[0m\u001b[1;33m\u001b[0m\u001b[0m\n",
      "\u001b[1;31mTypeError\u001b[0m: ufunc 'subtract' did not contain a loop with signature matching types dtype('<U32') dtype('<U32') dtype('<U32')"
     ]
    }
   ],
   "source": [
    "cross_validation(data, labels, 5)"
   ]
  },
  {
   "cell_type": "markdown",
   "metadata": {},
   "source": [
    "#### Overall process implementation\n",
    "The pipeline implemented is as below:  \n",
    "- Data importing:  \n",
    "Import data from csv file and save each dimension into a individual list.\n",
    "- Data cleaning:\n",
    "Fill all the missing values in data with the mean of the dimension.\n",
    "- Algorithm implement:\n",
    "Implement LS solution to learn the dataset.\n",
    "- Algorithm evaluation:\n",
    "Build K-folds cross validation to compute the regression error of the algorithm\n",
    "- Parameter determination:\n",
    "Run K-folds cross validation with K in a linear array to find the best K for this certain dataset."
   ]
  },
  {
   "cell_type": "code",
   "execution_count": 7,
   "metadata": {},
   "outputs": [],
   "source": [
    "# Define overall process function to show the results\n",
    "def ls_regression(data,labels):\n",
    "    m,n=np.shape(np.mat(data))\n",
    "    if m>1:\n",
    "        data=np.row_stack(data)\n",
    "    data=np.mat(data).astype(np.float64)\n",
    "    data,labels=clean_replace(data,labels)\n",
    "    # Implement LS regression nand cross validation to find the best K\n",
    "    k=[2,3,4,5,6,7,8,9,10]\n",
    "    overall_error=[0 for i in range(9)]\n",
    "    for i in range(9):\n",
    "        overall_error[i]=cross_validation(data,labels,k[i])[2]\n",
    "    # Plot the K-Error plot to show the best K\n",
    "    plt.figure(1)\n",
    "    plt.plot(k,overall_error)\n",
    "    plt.title('K-Error Plot')\n",
    "    print(\"The best K is \",k[overall_error.index(min(overall_error))])\n",
    "    # Plot the regression result derived by the best K in a predicted-versus-measured scatter plot\n",
    "    reg_error,labels_derived,overall_error=cross_validation(data,labels,k[overall_error.index(min(overall_error))])\n",
    "    labels_derived=np.array(labels_derived).reshape(-1,1)\n",
    "    labels=np.array(labels).reshape(1,-1).T\n",
    "    plt.figure(2)\n",
    "    plt.scatter(labels,labels_derived,color='b')\n",
    "    ymax=max([max(labels),max(labels_derived)])\n",
    "    plt.plot([0,max(labels)],[0,max(labels)], color='r', linewidth=1, alpha=0.6)\n",
    "    plt.xlabel('Predicted Labels')\n",
    "    plt.ylabel('Measured Labels')\n",
    "    plt.title('Overall L2-Loss Regression Error={}'.format(overall_error))"
   ]
  },
  {
   "cell_type": "code",
   "execution_count": 44,
   "metadata": {},
   "outputs": [
    {
     "name": "stdout",
     "output_type": "stream",
     "text": [
      "<class 'numpy.matrixlib.defmatrix.matrix'>\n",
      "<class 'numpy.matrixlib.defmatrix.matrix'>\n",
      "<class 'numpy.matrixlib.defmatrix.matrix'>\n"
     ]
    },
    {
     "ename": "KeyboardInterrupt",
     "evalue": "",
     "output_type": "error",
     "traceback": [
      "\u001b[1;31m---------------------------------------------------------------------------\u001b[0m",
      "\u001b[1;31mKeyboardInterrupt\u001b[0m                         Traceback (most recent call last)",
      "\u001b[1;32m<ipython-input-44-bb093ad643bf>\u001b[0m in \u001b[0;36m<module>\u001b[1;34m()\u001b[0m\n\u001b[0;32m      1\u001b[0m \u001b[0mdata\u001b[0m\u001b[1;33m=\u001b[0m\u001b[1;33m(\u001b[0m\u001b[0mCO_measured\u001b[0m\u001b[1;33m,\u001b[0m\u001b[0mNMHC_measured\u001b[0m\u001b[1;33m,\u001b[0m\u001b[0mNOx_measured\u001b[0m\u001b[1;33m,\u001b[0m\u001b[0mNO2_measured\u001b[0m\u001b[1;33m,\u001b[0m\u001b[0mO3_measured\u001b[0m\u001b[1;33m,\u001b[0m\u001b[0mtemp\u001b[0m\u001b[1;33m,\u001b[0m\u001b[0mRH\u001b[0m\u001b[1;33m,\u001b[0m\u001b[0mAH\u001b[0m\u001b[1;33m)\u001b[0m\u001b[1;33m\u001b[0m\u001b[0m\n\u001b[0;32m      2\u001b[0m \u001b[0mlabels\u001b[0m\u001b[1;33m=\u001b[0m\u001b[0mC6H6_true\u001b[0m\u001b[1;33m\u001b[0m\u001b[0m\n\u001b[1;32m----> 3\u001b[1;33m \u001b[0mls_regression\u001b[0m\u001b[1;33m(\u001b[0m\u001b[0mdata\u001b[0m\u001b[1;33m,\u001b[0m\u001b[0mlabels\u001b[0m\u001b[1;33m)\u001b[0m\u001b[1;33m\u001b[0m\u001b[0m\n\u001b[0m",
      "\u001b[1;32m<ipython-input-7-22b4e0665b3c>\u001b[0m in \u001b[0;36mls_regression\u001b[1;34m(data, labels)\u001b[0m\n\u001b[0;32m     10\u001b[0m     \u001b[0moverall_error\u001b[0m\u001b[1;33m=\u001b[0m\u001b[1;33m[\u001b[0m\u001b[1;36m0\u001b[0m \u001b[1;32mfor\u001b[0m \u001b[0mi\u001b[0m \u001b[1;32min\u001b[0m \u001b[0mrange\u001b[0m\u001b[1;33m(\u001b[0m\u001b[1;36m9\u001b[0m\u001b[1;33m)\u001b[0m\u001b[1;33m]\u001b[0m\u001b[1;33m\u001b[0m\u001b[0m\n\u001b[0;32m     11\u001b[0m     \u001b[1;32mfor\u001b[0m \u001b[0mi\u001b[0m \u001b[1;32min\u001b[0m \u001b[0mrange\u001b[0m\u001b[1;33m(\u001b[0m\u001b[1;36m9\u001b[0m\u001b[1;33m)\u001b[0m\u001b[1;33m:\u001b[0m\u001b[1;33m\u001b[0m\u001b[0m\n\u001b[1;32m---> 12\u001b[1;33m         \u001b[0moverall_error\u001b[0m\u001b[1;33m[\u001b[0m\u001b[0mi\u001b[0m\u001b[1;33m]\u001b[0m\u001b[1;33m=\u001b[0m\u001b[0mcross_validation\u001b[0m\u001b[1;33m(\u001b[0m\u001b[0mdata\u001b[0m\u001b[1;33m,\u001b[0m\u001b[0mlabels\u001b[0m\u001b[1;33m,\u001b[0m\u001b[0mk\u001b[0m\u001b[1;33m[\u001b[0m\u001b[0mi\u001b[0m\u001b[1;33m]\u001b[0m\u001b[1;33m)\u001b[0m\u001b[1;33m[\u001b[0m\u001b[1;36m2\u001b[0m\u001b[1;33m]\u001b[0m\u001b[1;33m\u001b[0m\u001b[0m\n\u001b[0m\u001b[0;32m     13\u001b[0m     \u001b[1;31m# Plot the K-Error plot to show the best K\u001b[0m\u001b[1;33m\u001b[0m\u001b[1;33m\u001b[0m\u001b[0m\n\u001b[0;32m     14\u001b[0m     \u001b[0mplt\u001b[0m\u001b[1;33m.\u001b[0m\u001b[0mfigure\u001b[0m\u001b[1;33m(\u001b[0m\u001b[1;36m1\u001b[0m\u001b[1;33m)\u001b[0m\u001b[1;33m\u001b[0m\u001b[0m\n",
      "\u001b[1;32m<ipython-input-42-718e8319f50c>\u001b[0m in \u001b[0;36mcross_validation\u001b[1;34m(data, labels, k)\u001b[0m\n\u001b[0;32m     33\u001b[0m         \u001b[1;32melse\u001b[0m\u001b[1;33m:\u001b[0m\u001b[1;33m\u001b[0m\u001b[0m\n\u001b[0;32m     34\u001b[0m             \u001b[0mlabels_derived\u001b[0m\u001b[1;33m[\u001b[0m\u001b[0mi\u001b[0m\u001b[1;33m*\u001b[0m\u001b[0ma\u001b[0m\u001b[1;33m:\u001b[0m\u001b[1;33m]\u001b[0m\u001b[1;33m=\u001b[0m\u001b[0my\u001b[0m\u001b[1;33m\u001b[0m\u001b[0m\n\u001b[1;32m---> 35\u001b[1;33m         \u001b[0mreg_error\u001b[0m\u001b[1;33m[\u001b[0m\u001b[0mi\u001b[0m\u001b[1;33m]\u001b[0m\u001b[1;33m=\u001b[0m\u001b[0mla\u001b[0m\u001b[1;33m.\u001b[0m\u001b[0mnorm\u001b[0m\u001b[1;33m(\u001b[0m\u001b[0my\u001b[0m\u001b[1;33m-\u001b[0m\u001b[0mlabels\u001b[0m\u001b[1;33m,\u001b[0m\u001b[1;36m2\u001b[0m\u001b[1;33m)\u001b[0m\u001b[1;33m\u001b[0m\u001b[0m\n\u001b[0m\u001b[0;32m     36\u001b[0m     \u001b[0moverall_error\u001b[0m\u001b[1;33m=\u001b[0m\u001b[0mla\u001b[0m\u001b[1;33m.\u001b[0m\u001b[0mnorm\u001b[0m\u001b[1;33m(\u001b[0m\u001b[0mreg_error\u001b[0m\u001b[1;33m)\u001b[0m\u001b[1;33m\u001b[0m\u001b[0m\n\u001b[0;32m     37\u001b[0m     \u001b[1;32mreturn\u001b[0m \u001b[0mreg_error\u001b[0m\u001b[1;33m,\u001b[0m\u001b[0mlabels_derived\u001b[0m\u001b[1;33m,\u001b[0m\u001b[0moverall_error\u001b[0m\u001b[1;33m\u001b[0m\u001b[0m\n",
      "\u001b[1;32mO:\\Anaconda\\lib\\site-packages\\numpy\\linalg\\linalg.py\u001b[0m in \u001b[0;36mnorm\u001b[1;34m(x, ord, axis, keepdims)\u001b[0m\n\u001b[0;32m   2406\u001b[0m             \u001b[1;32mraise\u001b[0m \u001b[0mValueError\u001b[0m\u001b[1;33m(\u001b[0m\u001b[1;34m'Duplicate axes given.'\u001b[0m\u001b[1;33m)\u001b[0m\u001b[1;33m\u001b[0m\u001b[0m\n\u001b[0;32m   2407\u001b[0m         \u001b[1;32mif\u001b[0m \u001b[0mord\u001b[0m \u001b[1;33m==\u001b[0m \u001b[1;36m2\u001b[0m\u001b[1;33m:\u001b[0m\u001b[1;33m\u001b[0m\u001b[0m\n\u001b[1;32m-> 2408\u001b[1;33m             \u001b[0mret\u001b[0m \u001b[1;33m=\u001b[0m  \u001b[0m_multi_svd_norm\u001b[0m\u001b[1;33m(\u001b[0m\u001b[0mx\u001b[0m\u001b[1;33m,\u001b[0m \u001b[0mrow_axis\u001b[0m\u001b[1;33m,\u001b[0m \u001b[0mcol_axis\u001b[0m\u001b[1;33m,\u001b[0m \u001b[0mamax\u001b[0m\u001b[1;33m)\u001b[0m\u001b[1;33m\u001b[0m\u001b[0m\n\u001b[0m\u001b[0;32m   2409\u001b[0m         \u001b[1;32melif\u001b[0m \u001b[0mord\u001b[0m \u001b[1;33m==\u001b[0m \u001b[1;33m-\u001b[0m\u001b[1;36m2\u001b[0m\u001b[1;33m:\u001b[0m\u001b[1;33m\u001b[0m\u001b[0m\n\u001b[0;32m   2410\u001b[0m             \u001b[0mret\u001b[0m \u001b[1;33m=\u001b[0m \u001b[0m_multi_svd_norm\u001b[0m\u001b[1;33m(\u001b[0m\u001b[0mx\u001b[0m\u001b[1;33m,\u001b[0m \u001b[0mrow_axis\u001b[0m\u001b[1;33m,\u001b[0m \u001b[0mcol_axis\u001b[0m\u001b[1;33m,\u001b[0m \u001b[0mamin\u001b[0m\u001b[1;33m)\u001b[0m\u001b[1;33m\u001b[0m\u001b[0m\n",
      "\u001b[1;32mO:\\Anaconda\\lib\\site-packages\\numpy\\linalg\\linalg.py\u001b[0m in \u001b[0;36m_multi_svd_norm\u001b[1;34m(x, row_axis, col_axis, op)\u001b[0m\n\u001b[0;32m   2197\u001b[0m     \"\"\"\n\u001b[0;32m   2198\u001b[0m     \u001b[0my\u001b[0m \u001b[1;33m=\u001b[0m \u001b[0mmoveaxis\u001b[0m\u001b[1;33m(\u001b[0m\u001b[0mx\u001b[0m\u001b[1;33m,\u001b[0m \u001b[1;33m(\u001b[0m\u001b[0mrow_axis\u001b[0m\u001b[1;33m,\u001b[0m \u001b[0mcol_axis\u001b[0m\u001b[1;33m)\u001b[0m\u001b[1;33m,\u001b[0m \u001b[1;33m(\u001b[0m\u001b[1;33m-\u001b[0m\u001b[1;36m2\u001b[0m\u001b[1;33m,\u001b[0m \u001b[1;33m-\u001b[0m\u001b[1;36m1\u001b[0m\u001b[1;33m)\u001b[0m\u001b[1;33m)\u001b[0m\u001b[1;33m\u001b[0m\u001b[0m\n\u001b[1;32m-> 2199\u001b[1;33m     \u001b[0mresult\u001b[0m \u001b[1;33m=\u001b[0m \u001b[0mop\u001b[0m\u001b[1;33m(\u001b[0m\u001b[0msvd\u001b[0m\u001b[1;33m(\u001b[0m\u001b[0my\u001b[0m\u001b[1;33m,\u001b[0m \u001b[0mcompute_uv\u001b[0m\u001b[1;33m=\u001b[0m\u001b[1;36m0\u001b[0m\u001b[1;33m)\u001b[0m\u001b[1;33m,\u001b[0m \u001b[0maxis\u001b[0m\u001b[1;33m=\u001b[0m\u001b[1;33m-\u001b[0m\u001b[1;36m1\u001b[0m\u001b[1;33m)\u001b[0m\u001b[1;33m\u001b[0m\u001b[0m\n\u001b[0m\u001b[0;32m   2200\u001b[0m     \u001b[1;32mreturn\u001b[0m \u001b[0mresult\u001b[0m\u001b[1;33m\u001b[0m\u001b[0m\n\u001b[0;32m   2201\u001b[0m \u001b[1;33m\u001b[0m\u001b[0m\n",
      "\u001b[1;32mO:\\Anaconda\\lib\\site-packages\\numpy\\linalg\\linalg.py\u001b[0m in \u001b[0;36msvd\u001b[1;34m(a, full_matrices, compute_uv)\u001b[0m\n\u001b[0;32m   1572\u001b[0m \u001b[1;33m\u001b[0m\u001b[0m\n\u001b[0;32m   1573\u001b[0m         \u001b[0msignature\u001b[0m \u001b[1;33m=\u001b[0m \u001b[1;34m'D->d'\u001b[0m \u001b[1;32mif\u001b[0m \u001b[0misComplexType\u001b[0m\u001b[1;33m(\u001b[0m\u001b[0mt\u001b[0m\u001b[1;33m)\u001b[0m \u001b[1;32melse\u001b[0m \u001b[1;34m'd->d'\u001b[0m\u001b[1;33m\u001b[0m\u001b[0m\n\u001b[1;32m-> 1574\u001b[1;33m         \u001b[0ms\u001b[0m \u001b[1;33m=\u001b[0m \u001b[0mgufunc\u001b[0m\u001b[1;33m(\u001b[0m\u001b[0ma\u001b[0m\u001b[1;33m,\u001b[0m \u001b[0msignature\u001b[0m\u001b[1;33m=\u001b[0m\u001b[0msignature\u001b[0m\u001b[1;33m,\u001b[0m \u001b[0mextobj\u001b[0m\u001b[1;33m=\u001b[0m\u001b[0mextobj\u001b[0m\u001b[1;33m)\u001b[0m\u001b[1;33m\u001b[0m\u001b[0m\n\u001b[0m\u001b[0;32m   1575\u001b[0m         \u001b[0ms\u001b[0m \u001b[1;33m=\u001b[0m \u001b[0ms\u001b[0m\u001b[1;33m.\u001b[0m\u001b[0mastype\u001b[0m\u001b[1;33m(\u001b[0m\u001b[0m_realType\u001b[0m\u001b[1;33m(\u001b[0m\u001b[0mresult_t\u001b[0m\u001b[1;33m)\u001b[0m\u001b[1;33m,\u001b[0m \u001b[0mcopy\u001b[0m\u001b[1;33m=\u001b[0m\u001b[1;32mFalse\u001b[0m\u001b[1;33m)\u001b[0m\u001b[1;33m\u001b[0m\u001b[0m\n\u001b[0;32m   1576\u001b[0m         \u001b[1;32mreturn\u001b[0m \u001b[0ms\u001b[0m\u001b[1;33m\u001b[0m\u001b[0m\n",
      "\u001b[1;31mKeyboardInterrupt\u001b[0m: "
     ]
    }
   ],
   "source": [
    "data=(CO_measured,NMHC_measured,NOx_measured,NO2_measured,O3_measured,temp,RH,AH)\n",
    "labels=C6H6_true\n",
    "ls_regression(data,labels)"
   ]
  },
  {
   "cell_type": "code",
   "execution_count": 9,
   "metadata": {},
   "outputs": [],
   "source": [
    "data=(CO_measured,NMHC_measured,NOx_measured,NO2_measured,O3_measured,temp,RH,AH)\n",
    "targets = C6H6_true\n",
    "#print(targets)"
   ]
  },
  {
   "cell_type": "code",
   "execution_count": 10,
   "metadata": {},
   "outputs": [
    {
     "name": "stdout",
     "output_type": "stream",
     "text": [
      "8\n"
     ]
    }
   ],
   "source": [
    "print(len(data))"
   ]
  },
  {
   "cell_type": "code",
   "execution_count": null,
   "metadata": {},
   "outputs": [
    {
     "name": "stdout",
     "output_type": "stream",
     "text": [
      "progressing\n"
     ]
    }
   ],
   "source": [
    "# Build cross validation function, return regression error for each test and derived labels\n",
    "def cross_validation(data,labels,k:int,alpha):\n",
    "    \n",
    "    m,n=np.shape(data)\n",
    "    data_with_labels=np.mat(np.row_stack((data,labels))).astype(np.float64)\n",
    "    #print(data_with_labels.shape)\n",
    "    a=n//k\n",
    "    fold=[0 for i in range(k)]\n",
    "    for i in range(k):\n",
    "        if i!=k-1:\n",
    "            fold[i]=data_with_labels[:,i*a:(i+1)*a].astype(np.float64)\n",
    "        else:\n",
    "            fold[i]=data_with_labels[:,i*a:].astype(np.float64)\n",
    "    reg_error=[0 for i in range(k)]\n",
    "    labels_derived=np.mat([0 for i in range(n)]).astype(np.float64).T\n",
    "    w_arr = []\n",
    "    for i in range(k):\n",
    "        test_data=fold[i].astype(np.float64)\n",
    "        mi,ni=np.shape(fold[i])\n",
    "        training_data=np.mat([[0 for j in range(n-ni)] for i in range(m+1)]).astype(np.float64)\n",
    "        sample_number=0\n",
    "        for j in range(k):\n",
    "            if j==i:\n",
    "                continue\n",
    "            mj,nj=np.shape(fold[j])\n",
    "            training_data[:,sample_number:sample_number+nj]=fold[j]\n",
    "            sample_number=sample_number+nj\n",
    "        # Algorithm implementation\n",
    "        reg = linear_model.LassoLars(alpha = alpha)\n",
    "        reg.fit(np.vstack((training_data[:m, :], np.ones((1, training_data.shape[1])))).T, training_data[m].T)\n",
    "        w = reg.coef_[np.newaxis].T\n",
    "        \n",
    "        test_data_hat=np.row_stack((test_data[:m,:],np.mat([1 for x in range(ni)])))\n",
    "        #print(w.shape)\n",
    "        y=test_data_hat.T.dot(w)\n",
    "        if i!=k-1:\n",
    "            labels_derived[i*a:(i+1)*a]=y\n",
    "            reg_error[i]=la.norm(y-np.asarray(labels)[i*a:(i+1)*a].astype(np.float64),2)\n",
    "        else:\n",
    "            labels_derived[i*a:]=y\n",
    "            reg_error[i]=la.norm(y-np.asarray(labels)[i*a:].astype(np.float64),2)\n",
    "        w_arr.append(w.T.tolist()[0])\n",
    "    print('progressing')\n",
    "    w_arr = np.asarray(w_arr)\n",
    "    w_arr_avg = np.sum(w_arr, axis = 0)\n",
    "    overall_error=la.norm(reg_error)\n",
    "    return reg_error,labels_derived,overall_error, w_arr_avg\n",
    "\"\"\"reg = linear_model.LassoLars(alpha=.1)\n",
    "data_array = np.asarray(data).T\n",
    "print(targets)\n",
    "reg.fit(data_array, targets)\n",
    "print(reg.coef_)\"\"\"\n",
    "\n",
    "\n",
    "\n",
    "\n",
    "lasso_err, targets_est, overall_error, weights = cross_validation(data, targets, 5, 0.1)\n",
    "\n",
    "lasso_err_arr = []\n",
    "error_arr = []\n",
    "weights_arr = []\n",
    "for a in np.linspace(0, 0.5, num=10):\n",
    "    lasso_err, targets_est, overall_error, weights = cross_validation(data, targets, 5, a)\n",
    "    lasso_err_arr.append(lasso_err)\n",
    "    error_arr.append(overall_error)\n",
    "    weights_list.append(weights)\n",
    "\n",
    "    \n"
   ]
  },
  {
   "cell_type": "code",
   "execution_count": 80,
   "metadata": {},
   "outputs": [
    {
     "name": "stderr",
     "output_type": "stream",
     "text": [
      "O:\\Anaconda\\lib\\site-packages\\ipykernel_launcher.py:13: RuntimeWarning: invalid value encountered in true_divide\n",
      "  del sys.path[0]\n"
     ]
    },
    {
     "data": {
      "image/png": "iVBORw0KGgoAAAANSUhEUgAAAXwAAAEKCAYAAAARnO4WAAAABHNCSVQICAgIfAhkiAAAAAlwSFlzAAALEgAACxIB0t1+/AAAADl0RVh0U29mdHdhcmUAbWF0cGxvdGxpYiB2ZXJzaW9uIDIuMi4zLCBodHRwOi8vbWF0cGxvdGxpYi5vcmcvIxREBQAAIABJREFUeJzsnXlYVdX6xz/rHA6TCKSoYQ6oqSBjCKJpjjnlkMOvwZsm2rVbqdUth0pLNPNJb7fuLW85JmWlXTVHMrPSyDIVFJVJlMQcUHFgns9Zvz8OZ19QhsNhhv15nv3A2Wfv/b4b3rP2Omu96/sKKSUqKioqKo0fTV07oKKioqJSO6gNvoqKikoTQW3wVVRUVJoIaoOvoqKi0kRQG3wVFRWVJoLa4KuoqKg0EdQGX0VFRaWJoDb4KioqKk0EtcFXUVFRaSJY1bUDxXFxcZFubm517YZKIyUyMvKGlLJVbdtV41qlJqlMXNerBt/NzY2IiIi6dkOlkSKEuFAXdtW4VqlJKhPX6pCOioqKShNBbfBVVFRUmghqg6+ioqLSRKhXY/i1QUFBAZcuXSI3N7euXVGpIWxtbWnXrh06na6uXVFRqVc0uQb/0qVLNG/eHDc3N4QQde2OSjUjpeTmzZtcunSJTp061bU7Kir1iiY3pJObm0vLli3Vxr6RIoSgZcuW6jc4FZVSaHINPqA29o0c9f+rolI69b7Bz8jIYO/eveTn59e1KyoqjYafE1L4IyWzrt1QqWXqfYN/69Ytjhw5ws8//1zXrqioNAoMBskLX0Ty7x/P1rUrKrVMvW/wO3bsyAMPPMDhw4e5du1aXbtTbVy9epUnn3ySLl260KNHDx555BESEhKIiYlh8ODBdOvWja5du/L222/TWAvNJyUl4eXlVdduNDku3s4mK19P0s3sunZFpZap9w0+wMMPP4yNjQ1hYWEYDIa6dqfKSCkZP348AwcOJDExkdjYWJYtW8a1a9cYO3Ysr732GgkJCZw8eZLffvuNjz/+uK5drhR6vb6uXVAph7jkDAD+vJlVx56o1DYNIi2zWbNmDBs2jJ07dxIVFYW/v3+1XHfx7hhir6RXy7VM9GjryKIxnuUec+DAAXQ6Hc8995yyz8/Pj/Xr19O3b1+GDRsGgL29PStXrmTgwIHMnDmz1GuFhIRw/vx5kpOTSUhI4P333+f3339n79693HfffezevRudTkdkZCSvvPIKmZmZuLi4EBoaiqurK2vXrmXNmjXk5+dz//33s3HjRuzt7dmyZQuLFy9Gq9Xi5OREeHg4oaGhREREsHLlSgBGjx7NnDlzGDhwIA4ODrzyyivs27ePf/7zn9jZ2ZVqLzIykunTp2Nvb0+/fv2q6a+uUhniko0xfzu7gLScApzs1PUKTYUG0cMH8PX1pUOHDuzfv5+srIbdM4mOjqZnz5537Y+Jiblrf5cuXcjMzCQ9vewHU2JiImFhYezcuZPJkyczaNAgTp8+jZ2dHWFhYRQUFDB79my2bt2qNLgLFiwAYMKECRw7doyTJ0/i4eHB+vXrAViyZAn79u3j5MmT7Nq1q8J7ysrKwsvLiyNHjhAUFFSmvWnTpvHhhx9y+PBhs/9e9Q0hRHchRFSxLV0I8XJd+2Uu8Vf/F0t/qsM6TYoG0cMH0Gg0jB49mlWrVrF//37GjRtX5WtW1BOvbaSUZaYUlpdqOHLkSHQ6Hd7e3uj1ekaMGAGAt7c3SUlJnDlzhujoaIYOHQoYh1xcXV0B48Nn4cKFpKamkpmZyfDhwwHo27cvwcHBPP7440yYMKFC37VaLRMnTgQo015aWhqpqakMGDAAgClTprB3715z/jT1CinlGcAPQAihBS4D2+vUqUoQfzWDLq2akZiSRdLNLLzbOdW1Syq1RINp8AFat27Ngw8+yKFDh/Dz86Ohaox7enqydevWUveHh4eX2PfHH3/g4OBA8+bNy7yejY0NYHwo6nQ65eGg0WgoLCxESomnp2epverg4GB27NiBr68voaGhHDx4EIBVq1Zx5MgRwsLC8PPzIyoqCisrqxJzKMUXN9na2qLVagHKtJeamtoYc+SHAIlSyjqRXq4smXmFXLiZzfMDu/DJwUT+vKX28JsSDWZIx0T//v1xdnZmz549FBYW1rU7FjF48GDy8vJYu3atsu/YsWN07dqVQ4cO8cMPPwCQk5PDiy++yLx586pkr3v37qSkpCgNcEFBATExMYBxnYOrqysFBQV8+eWXyjmJiYkEBQWxZMkSXFxcuHjxIm5ubkRFRWEwGLh48SJHjx6tlD1nZ2ecnJw4dOgQQAl7DZgngU117YS5nLlqnLD173APrZvbkHSjYQ+PqlSOBtfgW1tb88gjj3Djxo0GOw4shGD79u3s37+fLl264OnpSUhICG3btmXnzp0sXbqU7t274+3tTWBgILNmzaqSPWtra7Zu3cr8+fPx9fXFz8+P3377DYC3336boKAghg4diru7u3LO3Llz8fb2xsvLi/79++Pr60vfvn3p1KkT3t7ezJkzp8zJ8/LsbdiwgZkzZ9KnTx/s7OyqdF91jRDCGhgLbCnlvWeFEBFCiIiUlJTad64MTOP37vc2p2NLey6oPfwmhahPOd4BAQHS3MpAX3/9NWfPnuWFF16gRYsWZtuIi4vDw8PDUhdVGgil/Z+FEJFSyoDqsiGEeBSYKaUcVt5xlYnrmmbhjtPsPHGFUyHDmLv1FL+cTeHIGw/XtVsqVaAycd3gevgmRowYgUaj4dtvv220C5NU6j2TaEDDOQDxyRm4uzZHCEHHFvZcS88jJ19dN9FUaLANvpOTE4MHD+bcuXPExsbWtTs1zoYNG/Dz8yuxlZWbr1LzCCHsgaHAN3Xti7lIKYm/moH7vY4AdHRpBqBO3DYhGlSWzp0EBgYSFRXFd999R5cuXbC1ta1rl2qMadOmMW3atLp2Q6UIKWU20LKu/agMl27nkJlXiIdrUYPfwh6ACzez6H5v2VlgKo2HBtvDB2Pu9+jRo8nIyODAgQN17Y6KSr3GtMLW3dXYuLu1VHv4TY0G3eADtGvXjsDAQI4ePcqVK1fq2h0VlXpL/NUMhIDubYwNvpO9Dic7HUmqpk6TocE3+GDMa2/WrBl79uxpFOJqKio1QVxyOh1b2NPM5n8juR1b2nNBlVdoMlSqwRdC3COE8KkpZyzFzs6O4cOHc+XKFepL+ptKw6K+xnZ1UnzC1kTHls3UBr8JUWGDL4Q4KIRwFEK0AE4CG4QQ79e8a5XDy8uLzp078+OPP5KRkVHX7pSLEIJXX31Vef3ee+8REhICGNUvhRCcO3dOef+DDz5ACKE8zNzc3Lhx44by/sGDBxk9erTyeu/evQQEBODh4YG7uztz5syp4TuqG+6878rSUGK7OsjOLyTpZpYyfm+iYwt7LqfmUKBXvxk3Bczp4TtJKdOBCcAGKWVPoN6t1BBCMGrUKAoLC9m3b19du1MuNjY2fPPNNyUa7eJ4e3uzefNm5fXWrVvp0aOHWdeOjo5m1qxZfPHFF8TFxREdHU3nzp2rxe/aQEpZm8NyDSK2q4MzVzOQEiVDx0THlvboDZLLt3PqyDOV2sSctEwrIYQr8DiwoIb9qRItW7bkoYce4uDBg/j5+XH//feXf8Le1+Dq6ep14l5vGPluuYdYWVnx7LPP8sEHH/DOO+/c9f64cePYuXMnCxcu5I8//sDJyQmdzjzN8hUrVrBgwQJFJsHKyooXXnihzOODg4Oxs7MjPj6eCxcusGHDBj777DMOHz5MUFAQoaGhAHz//fcsWrSIvLw8unTpwoYNG3BwcGDJkiXs3r2bnJwcHnzwQVavXo0Qgg8//JBVq1ZhZWVFjx492Lx5MyEhITg4OCjfOLy8vNizZw9gVPwcNGgQhw8fZseOHZw5c6ZUe9999x0vv/wyLi4u1VEXocHEdlWJL9LQ8ShlSAfgwq1s3Iry8lUaL+b08BcD+4BzUspjQojOQL0thtmvXz9atmyp6MDXV2bOnMmXX35JWlraXe85OjrSvn17oqOj2bRpE0888cRdxwwaNEhZgPXXv/5V2V+W1n553L59m59++okPPviAMWPG8Pe//52YmBhOnz5NVFQUN27cYOnSpfzwww8cP36cgIAA3n/fOPIxa9Ysjh07RnR0NDk5OUoD/u6773LixAlOnTrFqlWrKvThzJkzPP3005w4cYJmzZqVai83N5cZM2awe/dufvnlF65evVqp+yyFBhXbVSE+OZ1m1lra3VNSv8it5f9y8VUaP+b08JOllMpklpTyj8qMcxbphUcAl6WUlg+4momVlRWjRo3i888/55dffmHw4MFlH1xBT7wmcXR05Omnn+bDDz8sVUTsySefZPPmzezbt48ff/yRDRs2lHj/wIEDuLi4AMax7Pfee89iX8aMGYMQAm9vb9q0aYO3tzdglGtOSkri0qVLxMbG0rdvXwDy8/Pp06eP4seKFSvIzs7m1q1beHp6MmbMGHx8fHjqqacYN26cWbULOnbsSO/evQH4/fffS7UXHx9Pp06d6Nq1KwCTJ09mzZo1Ft83VYzthkRccgburo5oNCXlqVs1t8FOp1UnbpsI5vTwPzJzX1m8BMRV4vgq07lzZ3x8fDh06BD1SanwTl5++WXWr19fagWvMWPGsHHjRjp06ICjo2MpZ5eOp6cnkZGRlfKjuJ6+6XfTa5Oe/tChQ4mKiiIqKorY2FjWr19Pbm4uL7zwAlu3buX06dPMmDFD0cgPCwtj5syZREZG0rNnTwoLC8vV02/W7H/DCWXZg/ILwVhAVWO7QSClJO5qOu6lrKYVQhSlZqo9/KZAmQ2+EKKPEOJVoJUQ4pViWwigNefiQoh2wChgXbV4WwmGDRuGtbU1YWFh9VZcrUWLFjz++ONKY1YcOzs7li9frpQGNJe5c+eybNkyEhISADAYDMrwi6X07t2bX3/9Vckcys7OJiEhQWmwXVxcyMzMVIq6mPTyBw0axIoVK5RqWm5ubhw/fhyA48ePc/78+UrZc3d35/z58yQmJgKwaZNlumXVEdsNiStpuWTkFuLuWnrHoUMLNRe/qVBeD98acMA47NO82JYO/J+Z1/8XMA+o9ZwvBwcHHn74YZKSkjh58mRtmzebV199tcxsnSeffLLSE5M+Pj7861//YtKkSXh4eODl5UVycnKVfGzVqhWhoaFMmjQJHx8fevfuTXx8PM7OzsyYMQNvb2/GjRtHYGAgYCxpOHnyZLy9vXnggQf4+9//jrOzMxMnTuTWrVv4+fnxySef0K1bt0rZs7W1Zc2aNYwaNYp+/frRsWNHS2+pOmK7wRBfJKnQw7V0vZyOLe3581Y2BkP97BipVCNSynI3oGNFx5Rx3mjg46LfBwJ7yjjuWYxj/BEdOnSQ1Yler5fr1q2Ty5Ytk7du3ZJSShkbG1utNlTqJ6X9n4EIWQ2xXdmtZ8+eNXOTZvLRjwmy4/w9Mj0nv9T3Nx5Okh3n75FXUrNr2TOV6uDOuC5vM2cM30YIsUYI8b0Q4ifTZsZ5fYGxQogkYDMwWAjxRSkPnDVSygApZUCrVq3MuKz5aDQapQD3tm3b0OtV3W+VElga2w2KuKsZtG9hR3Pb0lN7OyqZOuqwTmPHnCydLcAqjOPwZreYUsrXgdcBhBADgTlSyskW+Fgl7rnnHsaMGcPWrVv5+eefcXV1rW0X6gXvvPMOW7aUrMT32GOPVXqOoJFhUWw3NOKT0+/Kvy+OSTXzws0senduUIrPKpXEnAa/UEr5SY17UoN4eXlx7tw5wsPDmThxYl27UycsWLCgqTfupdHgY7sicgv0nL+RxSiftmUe4+pki5VGqD38JkB5WTotijRGdgshXhBCuJr2Fe03GynlQVkLOfjlMXLkSFq2bEl2drY6tNPEqc7Yru8kXMvAIMGjnAInVloN7dVMnSZBeT38SEACpsTnucXek0DDEWjBmGs+ceJELly4QGpqKi1atKjunG6VhkOjiu3yiE8uklQoIyXTRIcW9ly4pebiN3bKbPCllJ1q05HaoG3btly/fp28vDyys7NLLPZRaTpUR2wLIZwxjv17YXxITJdSHq7qdaub2OR07HRaOhSVMywLt5b2HL9wGyml2hFqxJgjjzyhlG2IEKJ1bThY3VhbW2NjY0NaWlqdae2UJ48MsGbNGtzd3XF3d6dXr14cOnSoDrysW4KDg5WFXDVFFWP738B3Ukp3wJdaXk1uLvFX0+l+b/O7JBXupEPLZmTkFXI7u/7qT6lUHXPSMp/B2JN5qmhbC7wC/CqEmFKDvtUIQgicnZ3RaDTcvn27TipklSePvGfPHlavXs2hQ4eIj49n1apV/OUvf6kOobA6p7CwsK5duBOLYlsI4Qj0B9YDSCnzpZSpNe9u5ZBSEn81o8LhHFBF1JoK5jT4BsBDSjlRSjkR6AHkAUHA/Jp0rqbQarU4OztTWFhIenp6rdsvLo98J8uXL+cf//iHIozm7+/P1KlT+c9//kNaWhrdu3fnzJkzAEyaNIm1a9eWacfBwYH58+fTs2dPHn74YY4ePcrAgQPp3Lkzu3btAoyrYufOnUtgYCA+Pj6sXr0agMzMTIYMGYK/vz/e3t7s3LkTgKysLEaNGoWvry9eXl58/fXXQMmiLBEREQwcOBAwFnR59tlnGTZsGE8//XSZ9qSUzJo1ix49ejBq1CiuX79e1T+zOVga252BFIwFU04IIdYJIUqMDwohnhVCRAghIupKz+lqei6p2QV4lLHCtjhqLn7TwJy0TDcp5bVir68D3aSUt4QQDfb7n62tLesS13Hm9hmsrKzQaKqnvK97C3fm96r4OThz5kx8fHyYN29eif0xMTF3yRsHBATw2Wef4eTkxMqVKwkODuall17i9u3bzJgxo0wbWVlZDBw4kOXLlzN+/HgWLlzI/v37iY2NZerUqYwdO5b169fj5OTEsWPHyMvLo2/fvgwbNoz27duzfft2HB0duXHjBr1792bs2LF89913tG3blrCwMIBS5Z3vJDIykkOHDmFnZ8eaNWtKtXfixAnOnDnD6dOnuXbtGj169GD69OkVXruKWBrbVoA/MFtKeUQI8W/gNeBN0wFSyjXAGoCAgIBa0SwoKCjg0qVLisZRboGetWNdaeWQRVxc+SNOUkrWjXWlOTeJi6v9TpBKxdja2tKuXTuza2OUhjkN/i9CiD0YF6kATATCi3o09e5rbGWwtrFGCEFhYSE6na5WJ6sqkkcuTvGJtKFDh7JlyxZmzpxZoUaQtbU1I0aMAIxVtGxsbNDpdHh7e5OUlAQYC5ucOnVKGS9PS0vj7NmztGvXjjfeeIPw8HA0Gg2XL1/m2rVreHt7M2fOHObPn8/o0aN56KGHKrzXsWPHKvdYlr3w8HAmTZqEVqulbdu25ctaVx+WxvYl4JKU8kjR660YG/w65dKlSzRv3hw3NzeEEFzPyEWblotnW0e0ZnRoRHI6DjZWtK9gglel9pFScvPmTS5dukSnTpbnHJjT4M/E+EHoizGN7XNgW5GGwyCLLdcDXuv1GoWFhaSkpKDT6WjZsmWtNvovv/wy/v7+TJs2TdnXo0cPIiMjSzR4x48fV0ocGgwG4uLisLOz49atW7Rr167M6xd/iBWXPjbJHoMxkD766COGDx9e4tzQ0FBSUlKIjIxEp9Ph5uZGbm4u3bp1IzIykm+//ZbXX3+dYcOG8dZbb5WQPi4uewx3Sx+XZu/bb7+ti+wQi2JbSnlVCHFRCNFdSnkGGALE1obD5ZGbm6s09gC5+QastRqzGnsAaysNeYVqbdv6iBCCli1bVlnuvcJIKNLn2Sql/LuU8uWi3xuNrJ6VlRVOTk7k5+eTmZlZq7ZLk0eeN28e8+fP5+bNmwBERUURGhqqlCn84IMP8PDwYNOmTUyfPr3KmUbDhw/nk08+Ua6TkJBAVlYWaWlptG7dGp1Ox4EDB7hw4QIAV65cwd7ensmTJzNnzhxF7tjNzU3R4d+2bVul7fXv35/Nmzej1+tJTk7mwIEDVbovc6hibM8GvhRCnAL8gGU156n5FH9o5hbosdWZr/ZsY6UhX23w6y3V0SEqs4cvhDgkpewnhMjAmGesvIXxs2J+VY56jp2dHbm5uWRkZGBjY4O1tXWt2X711VdZuXKl8nrs2LFcvnyZBx98ECEEzZs354svvsDV1ZWEhATWrVvH0aNHad68Of3792fp0qUsXrzYYvt//etfSUpKwt/fHyklrVq1YseOHTz11FOMGTOGgIAA/Pz8lBq5p0+fZu7cuWg0GnQ6HZ98YlQmWLRoEc888wzLli0jKCio0vbGjx/PTz/9hLe3N926dWPAgAEW31NFVEdsSymjgICa8rGqGAySvEIDjnbmj/daW2koNBjQGyTaCtI4VRomoj511gMCAmRERESN2oiLi8PDw+Ou/QaDQfm61KpVq2qbxFWpG0r7PwshIqWUtd5I10ZcQ8l7zskv5Oz1TDq0sMfZ3rwOTFp2PhduZdO1tQN21uaM9qrUNlWNa7NaNSFEPyHEtKLfXYQQjW4Vrkaj4Z577kGv15Oamlpvq2SpVC+NNbZzCoxDM5UZ0rG2MjYHVRnWuXr1Kk8++SRdunShR48ePPLIIyQkJBATE8PgwYPp1q0bXbt25e233260n7GkpCS8vLzq2o1SMWel7SKMOcmvF+2yBu7StW8MWFtb07x5c3Jzc8nJyalrd8wmKCgIPz+/Etvp06fr2q16T2OO7dwCPRohsLEy/5uqqcHP01vW4EspGT9+PAMHDiQxMZHY2FiWLVvGtWvXGDt2LK+99hoJCQmcPHmS3377jY8//tgiO3VFYxBdNOd723jgAeA4gJTyihCi4pUcDRQHBwfy8vJIS0tDp9NVKee1tjhy5EjFB6mURqON7fe+P8O565nYVaKHD5Cdr0erKf1B0aOtI4vGeJZ57oEDB9DpdDz33HPKPj8/P9avX6+stwCwt7dn5cqVDBw4kJkzZ5Z6rZCQEM6fP09ycjIJCQm8//77/P777+zdu5f77ruP3bt