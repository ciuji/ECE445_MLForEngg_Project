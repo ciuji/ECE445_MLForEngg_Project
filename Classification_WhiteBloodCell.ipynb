{
 "cells": [
  {
   "cell_type": "markdown",
   "metadata": {},
   "source": [
    "# White Blood Cells -- Classification"
   ]
  },
  {
   "cell_type": "markdown",
   "metadata": {},
   "source": [
    "## Dataset Description"
   ]
  },
  {
   "cell_type": "markdown",
   "metadata": {},
   "source": [
    "The White Blood Cells dataset consists of 410 images, with 4 classes:  Eosinophil, Lymphocyte, Monocyte, and Neutrophil. Each of the images contains one White Blood Cells, surrounded by multiple red blood cells. The accompanying xml files contain bounding boxes for the segmentation of white blood cell images."
   ]
  },
  {
   "cell_type": "code",
   "execution_count": 3,
   "metadata": {},
   "outputs": [],
   "source": [
    "import csv\n",
    "import numpy as np\n",
    "import cv2\n",
    "import glob, copy, os\n",
    "import xml.etree.ElementTree\n",
    "import matplotlib.pyplot as plt\n",
    "from sklearn.decomposition import PCA"
   ]
  },
  {
   "cell_type": "markdown",
   "metadata": {},
   "source": [
    "### The Nature of the White Blood Cells Data"
   ]
  },
  {
   "cell_type": "markdown",
   "metadata": {},
   "source": [
    "In the Blood Cell dataset, the raw data is images of multiple blood cells of size 640*480. For our classification purpose, we want to crop the exact white blood cell from each images. The Class of the White Cell does not depend on the context or the surrounding cells, so we crop the exact cell to reduce the data dimension.\n",
    "\n",
    "For each of the images, the white blood cell is marked out by a corresponding .xml file. \n",
    "\n",
    "The label is given in a csv file, with a few entries left blank or having multiple classes. We eliminate these bad inputs and left with 356 valid data samples."
   ]
  },
  {
   "cell_type": "code",
   "execution_count": 4,
   "metadata": {},
   "outputs": [
    {
     "data": {
      "text/plain": [
       "356"
      ]
     },
     "execution_count": 4,
     "metadata": {},
     "output_type": "execute_result"
    }
   ],
   "source": [
    "\n",
    "class Reading(object):\n",
    "    \"\"\"__init__() functions as the class constructor\"\"\"\n",
    "    def __init__(self, xmin=None, ymin=None, xmax=None, ymax=None, typ=None, name=None):\n",
    "        \n",
    "        self.xmin = xmin\n",
    "        self.xmax = xmax\n",
    "        self.ymin = ymin\n",
    "        self.ymax = ymax\n",
    "        self.typ = typ\n",
    "        self.name = name\n",
    "\n",
    "docs = glob.glob('BCCD\\\\Annotations\\\\' + '*.xml')      \n",
    "\n",
    "list_reading_arr = []\n",
    "with open('labels.csv') as csv_file:\n",
    "    csv_reader = csv.reader(csv_file, delimiter=',')\n",
    "    label_arr = []\n",
    "    counter = 0\n",
    "    for row in csv_reader:\n",
    "        if counter != 0 and row[2] != \"\":\n",
    "            label_arr.append([row[1], row[2]])\n",
    "        counter += 1\n",
    "\n",
    "index = 0\n",
    "for i in range(len(docs)):\n",
    "    if(int(label_arr[index][0]) == int(docs[i][-9:-4])):\n",
    "        label_this = label_arr[index][1][0]\n",
    "    else:\n",
    "        if(int(label_arr[index-1][0]) == int(docs[i][-9:-4])):\n",
    "            index += -1\n",
    "            i+=-1\n",
    "            label_this = label_arr[index][1][0]\n",
    "        if(int(label_arr[index+1][0]) == int(docs[i][-9:-4])):\n",
    "            label_this = label_arr[index+1][1][0]\n",
    "            #i+=1\n",
    "            index += 1\n",
    "    \n",
    "    if(label_this == 'B' or label_this == ''):\n",
    "        index += 1\n",
    "        continue\n",
    "        \n",
    "    tree = xml.etree.ElementTree.parse(docs[i])\n",
    "    root = tree.getroot()\n",
    "    len_data = int(len(tree.findall('.//object//'))/9)\n",
    "    read = Reading()\n",
    "    count = 0\n",
    "    read.typ = label_this\n",
    "    read.name = docs[i]\n",
    "    for objs in tree.findall('.//object//'):\n",
    "\n",
    "        index_of_reading = int(count/9)\n",
    "        if count%9 == 0:\n",
    "            if objs.text != \"WBC\":\n",
    "                continue\n",
    "        if count%9 == 5:\n",
    "            read.xmin = int(objs.text)\n",
    "        if count%9 == 6:\n",
    "            read.ymin = int(objs.text)\n",
    "        if count%9 == 7:\n",
    "            read.xmax = int(objs.text)\n",
    "        if count%9 == 8:\n",
    "            read.ymax = int(objs.text)             \n",
    "        \n",
    "        count+=1\n",
    "    list_reading_arr.append(read)\n",
    "    for j in list_reading_arr:\n",
    "        if j.xmax == j.xmin or j.ymax == j.ymin:\n",
    "            list_reading_arr.remove(j)\n",
    "    index += 1  \n",
    "\n",
    "len(list_reading_arr)"
   ]
  },
  {
   "cell_type": "markdown",
   "metadata": {},
   "source": [
    "## data pre-processing -- image related"
   ]
  },
  {
   "cell_type": "markdown",
   "metadata": {},
   "source": [
    "\n",
    "We want to generate a source matrix from the input images. After cropping the image, we resize all the cropped images and flatten each them into a vector. \n",
    "\n",
    "A discussion can be drawn when dealing with the channel of the image. The raw images are colored RGB images. Since some structures of the White cells are represented primarily by color, we can argue that preserving the RGB information can be beneficial for feature extraction. Our design is to offer choices of channels. We define the preprocessing stage into a function, and make color channel as an argument. We can use full RGB channel, or use 1 of 3 channels (only red pixels, or green, or blue), or use the converted Gray channel. Using full RGB channel will augment the dimensionality of the source matrix by factor of 3."
   ]
  },
  {
   "cell_type": "code",
   "execution_count": 5,
   "metadata": {
    "scrolled": true
   },
   "outputs": [
    {
     "name": "stdout",
     "output_type": "stream",
     "text": [
      "0.95 explained variance ratio can be achieved using at least 110 principle components\n"
     ]
    },
    {
     "data": {
      "image/png": "[encoded data removed]",
      "text/plain": [
       "<Figure size 432x288 with 1 Axes>"
      ]
     },
     "metadata": {
      "needs_background": "light"
     },
     "output_type": "display_data"
    }
   ],
   "source": [
    "def crop_and_resize(img, read, size):\n",
    "    w, h = size\n",
    "    \n",
    "    img_arr =[]\n",
    "    xmin, ymin, xmax, ymax = (read.xmin,read.ymin,read.xmax,read.ymax)\n",
    "    #print([xmin, ymin, xmax, ymax])\n",
    "    img_crop = img[ymin:ymax,xmin:xmax]\n",
    "    img_resized = cv2.resize(img_crop,(w, h), interpolation = cv2.INTER_CUBIC)\n",
    "    img_arr.append(img_resized)\n",
    "\n",
    "    return img_arr\n",
    "\n",
    "def label_generator(read):\n",
    "    if(read=='N'):\n",
    "        return 0\n",
    "    if(read=='M'):\n",
    "        return 1\n",
    "    if(read=='L'):\n",
    "        return 2\n",
    "    if(read=='E'):\n",
    "        return 3\n",
    "    \n",
    "def recenter_regularize(X):\n",
    "    X_mean = np.mean(X, axis = 1)[np.newaxis]\n",
    "    X_centered = X - X_mean.T\n",
    "    X_norm = np.linalg.norm(X_centered, axis = 1)[np.newaxis]\n",
    "    X_normalized = X_centered/X_norm.T\n",
    "    return X_normalized\n",
    "\n",
    "\n",
    "\n",
    "path = 'BCCD\\\\JPEGImages\\\\'\n",
    "#images = sorted(glob.glob(path + '*.jpg'))\n",
    "WBC_arr_b = []; WBC_arr_g = []; WBC_arr_r = []; WBC_arr_gray = []\n",
    "label_arr = []\n",
    "#read images and make each into an array\n",
    "for i in range(len(list_reading_arr)):\n",
    "    img = path + os.path.split(list_reading_arr[i].name)[1][:-4] + '.jpg'\n",
    "    WBC_this = cv2.imread(img)\n",
    "    WBC_this_arr = crop_and_resize(WBC_this, list_reading_arr[i], (60,60))\n",
    "    \n",
    "    WBC_b = WBC_this_arr[0][:, :, 0]\n",
    "    WBC_g = WBC_this_arr[0][:, :, 1]\n",
    "    WBC_r = WBC_this_arr[0][:, :, 2]\n",
    "    WBC_gray = cv2.cvtColor(WBC_this_arr[0], cv2.COLOR_BGR2GRAY)\n",
    "    \n",
    "\n",
    "    label = label_generator(list_reading_arr[i].typ)\n",
    "    #print(label)\n",
    "\n",
    "    WBC_b, WBC_g, WBC_r, WBC_gray = np.reshape(WBC_b, -1), np.reshape(WBC_g, -1), np.reshape(WBC_r, -1), np.reshape(WBC_gray, -1)\n",
    "    \n",
    "    \n",
    "    WBC_arr_b.append(WBC_b)\n",
    "    WBC_arr_g.append(WBC_g)\n",
    "    WBC_arr_r.append(WBC_r)\n",
    "    WBC_arr_gray.append(WBC_gray)\n",
    "    label_arr.append(label)\n",
    "        \n",
    "        \n",
    "    i+=1\n",
    "    if(i==len(list_reading_arr)):\n",
    "        break\n",
    "WBC_arr_b, WBC_arr_g, WBC_arr_r, WBC_arr_gray = (np.asarray(WBC_arr_b).T, np.asarray(WBC_arr_g).T, \n",
    "                                                 np.asarray(WBC_arr_r).T, np.asarray(WBC_arr_gray).T)\n",
    "\n",
    "(WBC_normalized_b, WBC_normalized_g, WBC_normalized_r, \n",
    " WBC_normalized_gray) = (recenter_regularize(WBC_arr_b), recenter_regularize(WBC_arr_g),\n",
    "                         recenter_regularize(WBC_arr_r), recenter_regularize(WBC_arr_gray)) \n",
    "\n",
    "\n",
    "U, S, V = np.linalg.svd(WBC_normalized_gray)\n",
    "\n",
    "S_total = np.linalg.norm(S)**2\n",
    "S_incr = 0\n",
    "k = 0\n",
    "for s in S:\n",
    "    S_incr += s**2\n",
    "    if(S_incr >= 0.95*S_total):\n",
    "        break\n",
    "    k += 1\n",
    "\n",
    "print('0.95 explained variance ratio can be achieved using at least ' + str(k) + ' principle components')\n",
    "\n",
    "fig = plt.figure()\n",
    "ax = fig.add_subplot(111)\n",
    "ax.scatter(range(len(S)), S**2/S_total)\n",
    "plt.show()\n"
   ]
  },
  {
   "cell_type": "markdown",
   "metadata": {},
   "source": [
    "## Gaussian Naive Bayes Classifier by Changlin Jiang"
   ]
  },
  {
   "cell_type": "markdown",
   "metadata": {},
   "source": [
    "### Discussion\n",
    "The image-based dataset is likely to be iid,so naive bayes classifier may work.Implement gaussian naive bayes classifier to the dataset and use cross validation to check the accuracy:"
   ]
  },
  {
   "cell_type": "markdown",
   "metadata": {},
   "source": [
    "### PCA with error<0.1 (k=59)"
   ]
  },
  {
   "cell_type": "code",
   "execution_count": 26,
   "metadata": {},
   "outputs": [],
   "source": [
    "from sklearn.model_selection import cross_val_score\n",
    "from sklearn.naive_bayes import GaussianNB\n",
    "from sklearn.metrics import confusion_matrix\n",
    "import itertools\n",
    "import matplotlib.pyplot as plt"
   ]
  },
  {
   "cell_type": "code",
   "execution_count": 27,
   "metadata": {},
   "outputs": [],
   "source": [
    "U_k=U[:,:59]\n",
    "WBC_gray_telda=np.mat(U_k.T)*np.mat(WBC_normalized_gray)"
   ]
  },
  {
   "cell_type": "code",
   "execution_count": 28,
   "metadata": {},
   "outputs": [
    {
     "name": "stdout",
     "output_type": "stream",
     "text": [
      "Gaussian naive bayes classifier:\n",
      "Cross validation scores= [0.53424658 0.5        0.63380282 0.57746479 0.5942029 ] ,Mean accuragy= 0.5679434159053987\n"
     ]
    }
   ],
   "source": [
    "clf = GaussianNB()\n",
    "data_gaussian=WBC_gray_telda.T\n",
    "scores_gaussian = cross_val_score(clf, data_gaussian, label_arr, cv=5)\n",
    "print(\"Gaussian naive bayes classifier:\")\n",
    "print(\"Cross validation scores=\",scores_gaussian,\",Mean accuragy=\",np.mean(scores_gaussian))"
   ]
  },
  {
   "cell_type": "code",
   "execution_count": 29,
   "metadata": {},
   "outputs": [
    {
     "name": "stdout",
     "output_type": "stream",
     "text": [
      "0-1 Loss= 13  Accuracy= 0.7678571428571428\n"
     ]
    }
   ],
   "source": [
    "training_data=WBC_gray_telda[:,:300]\n",
    "training_label=label_arr[:300]\n",
    "test_data=WBC_gray_telda[:,300:]\n",
    "test_label=label_arr[300:]\n",
    "clf.fit(training_data.T,training_label)\n",
    "labels_derived=clf.predict(test_data.T)\n",
    "error=0\n",
    "for i in range(len(test_label)):\n",
    "    if test_label[i]!=labels_derived[i]:\n",
    "        error+=1\n",
    "accuracy=1-error/len(test_label)\n",
    "print(\"0-1 Loss=\",error,\" Accuracy=\",accuracy)"
   ]
  },
  {
   "cell_type": "code",
   "execution_count": 30,
   "metadata": {},
   "outputs": [
    {
     "name": "stdout",
     "output_type": "stream",
     "text": [
      "[[40  3  0  4]\n",
      " [ 0  0  0  0]\n",
      " [ 1  0  0  1]\n",
      " [ 4  0  0  3]]\n"
     ]
    }
   ],
   "source": [
    "conf_mat=confusion_matrix(test_label, labels_derived)\n",
    "print(conf_mat)"
   ]
  },
  {
   "cell_type": "code",
   "execution_count": 31,
   "metadata": {},
   "outputs": [
    {
     "name": "stdout",
     "output_type": "stream",
     "text": [
      "Confusion matrix, without normalization\n",
      "[[40  3  0  4]\n",
      " [ 0  0  0  0]\n",
      " [ 1  0  0  1]\n",
      " [ 4  0  0  3]]\n"
     ]
    },
    {
     "data": {
      "image/png": "[encoded data removed]",
      "text/plain": [
       "<Figure size 432x288 with 2 Axes>"
      ]
     },
     "metadata": {
      "needs_background": "light"
     },
     "output_type": "display_data"
    }
   ],
   "source": [
    "def plot_confusion_matrix(cm, classes,\n",
    "                          normalize=False,\n",
    "                          title='Confusion matrix',\n",
    "                          cmap=plt.cm.Blues):\n",
    "    \"\"\"\n",
    "    This function prints and plots the confusion matrix.\n",
    "    Normalization can be applied by setting `normalize=True`.\n",
    "    \"\"\"\n",
    "    if normalize:\n",
    "        cm = cm.astype('float') / cm.sum(axis=1)[:, np.newaxis]\n",
    "        print(\"Normalized confusion matrix\")\n",
    "    else:\n",
    "        print('Confusion matrix, without normalization')\n",
    "\n",
    "    print(cm)\n",
    "\n",
    "    plt.imshow(cm, interpolation='nearest', cmap=cmap)\n",
    "    plt.title(title)\n",
    "    plt.colorbar()\n",
    "    tick_marks = np.arange(len(classes))\n",
    "    plt.xticks(tick_marks, classes, rotation=45)\n",
    "    plt.yticks(tick_marks, classes)\n",
    "\n",
    "    fmt = '.2f' if normalize else 'd'\n",
    "    thresh = cm.max() / 2.\n",
    "    for i, j in itertools.product(range(cm.shape[0]), range(cm.shape[1])):\n",
    "        plt.text(j, i, format(cm[i, j], fmt),\n",
    "                 horizontalalignment=\"center\",\n",
    "                 color=\"white\" if cm[i, j] > thresh else \"black\")\n",
    "        \n",
    "plt.figure()\n",
    "plot_confusion_matrix(conf_mat, classes=[0,1,2,3],\n",
    "                      title='Confusion matrix, without normalization')"
   ]
  },
  {
   "cell_type": "markdown",
   "metadata": {},
   "source": [
    "The result shows that using gaussian naive bayes classifier maybe not a good idea.Possible reason is that the data maybe not gaussian distributed or non-linear model."
   ]
  },
  {
   "cell_type": "markdown",
   "metadata": {},
   "source": []
  },
  {
   "cell_type": "code",
   "execution_count": 59,
   "metadata": {},
   "outputs": [
    {
     "name": "stdout",
     "output_type": "stream",
     "text": [
      "(10, 3600)\n"
     ]
    }
   ],
   "source": [
    "pca = PCA(n_components = 10)\n",
    "pca.fit(WBC_normalized_gray.T)\n",
    "#print(pca.explained_variance_ratio_)\n",
    "print(pca.components_.shape)\n"
   ]
  },
  {
   "cell_type": "code",
   "execution_count": null,
   "metadata": {},
   "outputs": [],
   "source": []
  },
  {
   "cell_type": "code",
   "execution_count": null,
   "metadata": {},
   "outputs": [],
   "source": []
  },
  {
   "cell_type": "code",
   "execution_count": 26,
   "metadata": {},
   "outputs": [],
   "source": [
    "#Principle components\n",
    "U_k = []\n",
    "for i in range(k):\n",
    "    U_k.append(U[:, i])\n",
    "    \n",
    "U_k = np.asarray(U_k)   \n",
    "WBC_tilta_gray = []\n",
    "for WBC in WBC_normalized_gray.T:\n",
    "    WBC_tilta_gray.append(list(map(lambda x:np.inner(x, WBC), U_k.tolist())))\n",
    "    \n",
    "\n"
   ]
  },
  {
   "cell_type": "code",
   "execution_count": 28,
   "metadata": {},
   "outputs": [
    {
     "data": {
      "image/png": "[encoded data removed]",
      "text/plain": [
       "<Figure size 432x288 with 1 Axes>"
      ]
     },
     "metadata": {
      "needs_background": "light"
     },
     "output_type": "display_data"
    }
   ],
   "source": [
    "U_skPCA = pca.components_\n",
    "\n",
    "U_skPCA = np.asarray(U_skPCA)\n",
    "WBC_tilta_gray_sk = []\n",
    "\n",
    "for WBC in WBC_normalized_gray.T:\n",
    "    WBC_tilta_gray_sk.append(list(map(lambda x:np.inner(x, WBC), U_skPCA)))\n",
    "    \n",
    "fig = plt.figure()\n",
    "ax = fig.add_subplot(111)\n",
    "WBC_tilta_gray_sk = np.asarray(WBC_tilta_gray_sk)\n",
    "counter = 0\n",
    "for i in range(len(WBC_tilta_gray_sk)):\n",
    "    if(label_arr[i] == 0):\n",
    "        c = 'g'\n",
    "    if(label_arr[i] == 1):\n",
    "        c = 'r'\n",
    "    if(label_arr[i] == 2):\n",
    "        counter += 1\n",
    "        c = 'b'\n",
    "    if(label_arr[i] == 3):\n",
    "        c = 'y'\n",
    "        \n",
    "    ax.scatter(WBC_tilta_gray_sk[i][0], WBC_tilta_gray_sk[i][1], color = c)\n",
    "\n",
    "plt.show()"
   ]
  },
  {
   "cell_type": "code",
   "execution_count": 8,
   "metadata": {},
   "outputs": [
    {
     "data": {
      "text/plain": [
       "(3600, 10)"
      ]
     },
     "execution_count": 8,
     "metadata": {},
     "output_type": "execute_result"
    }
   ],
   "source": [
    "np.asarray(WBC_tilta_gray_sk).shape"
   ]
  },
  {
   "cell_type": "code",
   "execution_count": 20,
   "metadata": {},
   "outputs": [
    {
     "data": {
      "text/plain": [
       "(110, 3600)"
      ]
     },
     "execution_count": 20,
     "metadata": {},
     "output_type": "execute_result"
    }
   ],
   "source": [
    "U_k.shape"
   ]
  },
  {
   "cell_type": "code",
   "execution_count": 71,
   "metadata": {},
   "outputs": [
    {
     "data": {
      "image/png": "[encoded data removed]",
      "text/plain": [
       "<Figure size 432x288 with 1 Axes>"
      ]
     },
     "metadata": {
      "needs_background": "light"
     },
     "output_type": "display_data"
    }
   ],
   "source": []
  },
  {
   "cell_type": "code",
   "execution_count": null,
   "metadata": {},
   "outputs": [],
   "source": []
  },
  {
   "cell_type": "code",
   "execution_count": 29,
   "metadata": {},
   "outputs": [
    {
     "data": {
      "image/png": "[encoded data removed]",
      "text/plain": [
       "<Figure size 432x288 with 1 Axes>"
      ]
     },
     "metadata": {
      "needs_background": "light"
     },
     "output_type": "display_data"
    }
   ],
   "source": [
    "#RBC_tilta_list = copy.deepcopy(RBC_tilta)\n",
    "WBC_tilta_gray = np.asarray(WBC_tilta_gray).T\n",
    "WBC_tilta_gray_12 = WBC_tilta_gray[:2]\n",
    "\n",
    "\n",
    "\n",
    "fig = plt.figure()\n",
    "ax = fig.add_subplot(111)\n",
    "WBC_tilta_gray_12 = WBC_tilta_gray_12.T\n",
    "counter = 0\n",
    "for i in range(len(WBC_tilta_gray_12)):\n",
    "    if(label_arr[i] == 0):\n",
    "        c = 'g'\n",
    "    if(label_arr[i] == 1):\n",
    "        c = 'r'\n",
    "    if(label_arr[i] == 2):\n",
    "        counter += 1\n",
    "        c = 'b'\n",
    "    if(label_arr[i] == 3):\n",
    "        c = 'y'\n",
    "        \n",
    "    ax.scatter(WBC_tilta_gray_12[i][0], WBC_tilta_gray_12[i][1], color = c)\n",
    "\n",
    "plt.show()\n"
   ]
  },
  {
   "cell_type": "code",
   "execution_count": 6,
   "metadata": {},
   "outputs": [
    {
     "ename": "SyntaxError",
     "evalue": "invalid syntax (<ipython-input-6-19a9e95ae719>, line 20)",
     "output_type": "error",
     "traceback": [
      "\u001b[1;36m  File \u001b[1;32m\"<ipython-input-6-19a9e95ae719>\"\u001b[1;36m, line \u001b[1;32m20\u001b[0m\n\u001b[1;33m    cross_validation(samples, labels, k:int):\u001b[0m\n\u001b[1;37m                                       ^\u001b[0m\n\u001b[1;31mSyntaxError\u001b[0m\u001b[1;31m:\u001b[0m invalid syntax\n"
     ]
    }
   ],
   "source": [
    "# KNN classifier\n",
    "def KNN_classif(Feature, img_Rep, trainLabels, k):\n",
    "    training_labels = np.asarray(trainLabels)\n",
    "    #compute the distance of the input N-dim Feature to every other point\n",
    "    #\n",
    "    distance=[]\n",
    "    for img in img_Rep.T:\n",
    "        distance.append(np.linalg.norm(img - Feature))\n",
    "    \n",
    "    distance = np.array(distance)\n",
    "    distance_k = distance.argsort()[:k]\n",
    "    neighbors = training_labels[distance_k].tolist()\n",
    "    #print(neighbors)\n",
    "    #x = np.sum(training_labels[distance_k])\n",
    "    #return x\n",
    "    \n",
    "    return max(neighbors, key=neighbors.count)\n",
    "\n",
    "# k-fold Cross Validation \n",
    "cross_validation(samples, labels, k:int):\n",
    "    m,n = np.shape(samples)\n",
    "    samples_with_labels = np.row_stack((samples, labels))\n",
    "    a = n//k\n",
    "    fold = [0 for i in range(k)]\n",
    "    for i in range(k):\n",
    "        if i!= k-1:\n",
    "            fold[i] = samples_with_labels[:, i*a:(i+1)*a]\n",
    "        else:\n",
    "            fold[i] = samples_with_labels[:, i*a:]\n",
    "    \n",
    "    reg_error = [0 for i in range(k)]\n",
    "    labels_predict = []\n",
    "    training_samples = []\n",
    "    for i in range(k):\n",
    "        test_samples = fold[i]\n",
    "        training_samples.extend(fold[i])\n",
    "        \n",
    "    \n",
    "WBC_tilta_gray_train = WBC_tilta_gray[:300, :].T\n",
    "WBC_tilta_gray_test = WBC_tilta_gray[300:, :].T\n",
    "cls = []\n",
    "\n",
    "#for k in range()\n",
    "for i in range(len(WBC_tilta_gray_test[0])):\n",
    "    \n",
    "    cls.append(KNN_classif(WBC_tilta_gray_test[:, i], WBC_tilta_gray_train , label_arr, 19))\n",
    "\n",
    "cls = np.asarray(cls)\n",
    "print(cls-np.asarray(label_arr[300:]))\n",
    "#print(np.sum(cls - np.asarray(label_arr[3000:])))\n",
    "RBC_tilta = np.asarray(RBC_tilta_list).T\n",
    "\n",
    "\n",
    "\n"
   ]
  },
  {
   "cell_type": "code",
   "execution_count": null,
   "metadata": {},
   "outputs": [],
   "source": []
  }
 ],
 "metadata": {
  "kernelspec": {
   "display_name": "Python 3",
   "language": "python",
   "name": "python3"
  },
  "language_info": {
   "codemirror_mode": {
    "name": "ipython",
    "version": 3
   },
   "file_extension": ".py",
   "mimetype": "text/x-python",
   "name": "python",
   "nbconvert_exporter": "python",
   "pygments_lexer": "ipython3",
   "version": "3.7.0"
  }
 },
 "nbformat": 4,
 "nbformat_minor": 2
}
