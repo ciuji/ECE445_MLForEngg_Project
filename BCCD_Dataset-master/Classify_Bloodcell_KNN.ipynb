{
 "cells": [
  {
   "cell_type": "code",
   "execution_count": 62,
   "metadata": {},
   "outputs": [],
   "source": [
    "import csv\n",
    "import numpy as np\n",
    "import cv2\n",
    "import glob, copy, os\n",
    "import xml.etree.ElementTree\n",
    "import matplotlib.pyplot as plt\n",
    "from sklearn.decomposition import PCA"
   ]
  },
  {
   "cell_type": "code",
   "execution_count": 2,
   "metadata": {},
   "outputs": [
    {
     "name": "stdout",
     "output_type": "stream",
     "text": [
      "BCCD\\Annotations\\BloodImage_00008.xml\n",
      "+1\n",
      "00097\n",
      "E\n",
      "BCCD\\Annotations\\BloodImage_00132.xml\n",
      "BCCD\\Annotations\\BloodImage_00171.xml\n",
      "+1\n",
      "00281\n",
      "N\n",
      "+1\n",
      "00330\n",
      "N\n"
     ]
    }
   ],
   "source": [
    "\n",
    "class Reading(object):\n",
    "    \"\"\"__init__() functions as the class constructor\"\"\"\n",
    "    def __init__(self, xmin=None, ymin=None, xmax=None, ymax=None, typ=None, name=None):\n",
    "        \"\"\"self.difficult = difficult\n",
    "        self.truncated = truncated\"\"\"\n",
    "        self.xmin = xmin\n",
    "        self.xmax = xmax\n",
    "        self.ymin = ymin\n",
    "        self.ymax = ymax\n",
    "        self.typ = typ\n",
    "        self.name = name\n",
    "\n",
    "docs = glob.glob('BCCD\\\\Annotations\\\\' + '*.xml')      \n",
    "\n",
    "list_reading_arr = []\n",
    "with open('labels.csv') as csv_file:\n",
    "    csv_reader = csv.reader(csv_file, delimiter=',')\n",
    "    label_arr = []\n",
    "    counter = 0\n",
    "    for row in csv_reader:\n",
    "        if counter != 0 and row[2] != \"\":\n",
    "            label_arr.append([row[1], row[2]])\n",
    "        #if :\n",
    "        #   label_arr.append()\n",
    "        counter += 1\n",
    "\n",
    "index = 0\n",
    "for i in range(len(docs)):\n",
    "    #tree = xml.etree.ElementTree.parse('//dataset-master//Annotations//BloodImage_00000.xml')\n",
    "    \n",
    "    #print(doc + \" \" + label_arr[index][1])\n",
    "    if(int(label_arr[index][0]) == int(docs[i][-9:-4])):\n",
    "       \n",
    "        label_this = label_arr[index][1][0]\n",
    "        \n",
    "    \n",
    "    else:\n",
    "        if(int(label_arr[index-1][0]) == int(docs[i][-9:-4])):\n",
    "            print('-1')\n",
    "            print(docs[i][-9:-4])\n",
    "            print(label_this)\n",
    "            index += -1\n",
    "            i+=-1\n",
    "            label_this = label_arr[index][1][0]\n",
    "        if(int(label_arr[index+1][0]) == int(docs[i][-9:-4])):\n",
    "            print('+1')\n",
    "            print(docs[i][-9:-4])\n",
    "            print(label_this)\n",
    "            label_this = label_arr[index+1][1][0]\n",
    "            #i+=1\n",
    "            index += 1\n",
    "    \n",
    "    if(label_this == 'B'):\n",
    "        index += 1\n",
    "        #i+=1\n",
    "        print(docs[i])\n",
    "        #docs.remove(doc)\n",
    "        continue\n",
    "    if(label_this == ''):\n",
    "        index += 1\n",
    "        #i+=1\n",
    "        print(docs[i])\n",
    "        #docs.remove(doc)\n",
    "        continue\n",
    "    \"\"\"\"\"\"   \n",
    "    tree = xml.etree.ElementTree.parse(docs[i])\n",
    "    root = tree.getroot()\n",
    "    len_data = int(len(tree.findall('.//object//'))/9)\n",
    "    #list_reading = [Reading() for i in range(len_data)]\n",
    "    read = Reading()\n",
    "    #print(doc)\n",
    "   \n",
    "            #continue\n",
    "    #print(doc + label_this)\n",
    "    count = 0\n",
    "    #print(\"Print out the attrib of the root:\\n\")\n",
    "    #list_reading[index_of_reading].typ = label_this\n",
    "    #list_reading[index_of_reading].name = docs[i]\n",
    "    read.typ = label_this\n",
    "    read.name = docs[i]\n",
    "    for objs in tree.findall('.//object//'):\n",
    "\n",
    "        index_of_reading = int(count/9)\n",
    "        #if(list_reading[index_of_reading])\n",
    "        \"\"\"if count%9 == 2:\n",
    "            list_reading[index_of_reading].truncated = int(objs.text)\n",
    "        if count%9 == 3:\n",
    "            list_reading[index_of_reading].difficult = int(objs.text)\"\"\"\n",
    "        #print(objs.text)\n",
    "        \n",
    "        if count%9 == 0:\n",
    "            if objs.text != \"WBC\":\n",
    "                #print(\"NO WBC\")\n",
    "                continue\n",
    "        if count%9 == 5:\n",
    "            #list_reading[index_of_reading].xmin = int(objs.text)\n",
    "            read.xmin = int(objs.text)\n",
    "        if count%9 == 6:\n",
    "            #list_reading[index_of_reading].ymin = int(objs.text)\n",
    "            read.ymin = int(objs.text)\n",
    "        if count%9 == 7:\n",
    "            #list_reading[index_of_reading].xmax = int(objs.text)\n",
    "            read.xmax = int(objs.text)\n",
    "        if count%9 == 8:\n",
    "            #list_reading[index_of_reading].ymax = int(objs.text)\n",
    "            read.ymax = int(objs.text)\n",
    "             \n",
    "        \n",
    "        count+=1\n",
    "    \n",
    "    #print(docs[i] + label_this)\n",
    "    list_reading_arr.append(read)\n",
    "    for j in list_reading_arr:\n",
    "        if j.xmax == j.xmin or j.ymax == j.ymin:\n",
    "            #print(doc)\n",
    "            list_reading_arr.remove(j)\n",
    "        #print(\"cordinates:\",i.xmin,i.ymin,i.xmax,i.ymax)\n",
    "    index += 1\n",
    "    \n",
    "    \n",
    "#print(list_reading_arr[0][0].xmin)\n",
    "\n",
    "\n",
    "def crop_and_resize(img, read, size):\n",
    "    w, h = size\n",
    "    \n",
    "    img_arr =[]\n",
    "    xmin, ymin, xmax, ymax = (read.xmin,read.ymin,read.xmax,read.ymax)\n",
    "    #print([xmin, ymin, xmax, ymax])\n",
    "    img_crop = img[ymin:ymax,xmin:xmax]\n",
    "    img_resized = cv2.resize(img_crop,(w, h), interpolation = cv2.INTER_CUBIC)\n",
    "    img_arr.append(img_resized)\n",
    "\n",
    "    return img_arr\n",
    "\n",
    "def label_generator(read):\n",
    "    if(read=='N'):\n",
    "        return 0\n",
    "    if(read=='M'):\n",
    "        return 1\n",
    "    if(read=='L'):\n",
    "        return 2\n",
    "    if(read=='E'):\n",
    "        return 3\n",
    "    \n",
    "    "
   ]
  },
  {
   "cell_type": "code",
   "execution_count": 130,
   "metadata": {
    "scrolled": true
   },
   "outputs": [
    {
     "name": "stdout",
     "output_type": "stream",
     "text": [
      "364\n",
      "367\n",
      "1\n",
      "361\n"
     ]
    }
   ],
   "source": [
    "#print(label_arr[0][1][0])\n",
    "print(len(docs))\n",
    "print(len(label_arr))\n",
    "print(len(list_reading))\n",
    "print(len(list_reading_arr))\n",
    "counter = 0\n",
    "for read in list_reading_arr:\n",
    "    \n",
    "    #print(str(counter) + str(read.typ))\n",
    "    counter += 1\n",
    "#print(label_arr)\n"
   ]
  },
  {
   "cell_type": "code",
   "execution_count": 30,
   "metadata": {
    "scrolled": true
   },
   "outputs": [],
   "source": [
    "def recenter_regularize(X):\n",
    "    X_mean = np.mean(X, axis = 1)[np.newaxis]\n",
    "    X_centered = X - X_mean.T\n",
    "    X_norm = np.linalg.norm(X_centered, axis = 1)[np.newaxis]\n",
    "    X_normalized = X_centered/X_norm.T\n",
    "    return X_normalized\n",
    "\n",
    "\n",
    "\n",
    "path = 'BCCD\\\\JPEGImages\\\\'\n",
    "#images = sorted(glob.glob(path + '*.jpg'))\n",
    "WBC_arr_b = []; WBC_arr_g = []; WBC_arr_r = []; WBC_arr_gray = []\n",
    "label_arr = []\n",
    "#read images and make each into an array\n",
    "for i in range(len(list_reading_arr)):\n",
    "    img = path + os.path.split(list_reading_arr[i].name)[1][:-4] + '.jpg'\n",
    "    WBC_this = cv2.imread(img)\n",
    "    WBC_this_arr = crop_and_resize(WBC_this, list_reading_arr[i], (60,60))\n",
    "    WBC_b = WBC_this_arr[0][:, :, 0]\n",
    "    WBC_g = WBC_this_arr[0][:, :, 1]\n",
    "    WBC_r = WBC_this_arr[0][:, :, 2]\n",
    "    WBC_gray = cv2.cvtColor(WBC_this_arr[0], cv2.COLOR_BGR2GRAY)\n",
    "    \n",
    "\n",
    "    label = label_generator(list_reading_arr[i].typ)\n",
    "    #print(label)\n",
    "\n",
    "    WBC_b, WBC_g, WBC_r, WBC_gray = np.reshape(WBC_b, -1), np.reshape(WBC_g, -1), np.reshape(WBC_r, -1), np.reshape(WBC_gray, -1)\n",
    "    \n",
    "    \n",
    "    WBC_arr_b.append(WBC_b)\n",
    "    WBC_arr_g.append(WBC_g)\n",
    "    WBC_arr_r.append(WBC_r)\n",
    "    WBC_arr_gray.append(WBC_gray)\n",
    "    label_arr.append(label)\n",
    "        \n",
    "        \n",
    "    i+=1\n",
    "    if(i==len(list_reading_arr)):\n",
    "        break\n",
    "WBC_arr_b, WBC_arr_g, WBC_arr_r, WBC_arr_gray = (np.asarray(WBC_arr_b).T, np.asarray(WBC_arr_g).T, \n",
    "                                                 np.asarray(WBC_arr_r).T, np.asarray(WBC_arr_gray).T)\n",
    "\n",
    "WBC_normalized_b, WBC_normalized_g, WBC_normalized_r, WBC_normalized_gray = (recenter_regularize(WBC_arr_b),\n",
    "                                                                             recenter_regularize(WBC_arr_g),\n",
    "                                                                             recenter_regularize(WBC_arr_r),\n",
    "                                                                             recenter_regularize(WBC_arr_gray)) \n",
    "\"\"\"RBC_mean = np.mean(RBC_arr, axis = 1)[np.newaxis]\n",
    "RBC_centered = RBC_arr - RBC_mean.T\n",
    "RBC_norm = np.linalg.norm(RBC_centered, axis = 1)[np.newaxis]\n",
    "RBC_normalized = RBC_centered/RBC_norm.T\"\"\"                                                                          \n",
    "\n",
    "\n",
    "U, S, V = np.linalg.svd(WBC_normalized_gray)\n",
    "\n",
    "S_total = np.linalg.norm(S)**2\n",
    "S_incr = 0\n",
    "k = 0\n",
    "for s in S:\n",
    "    S_incr += s**2\n",
    "    if(S_incr >= 0.95*S_total):\n",
    "        break\n",
    "    k += 1\n",
    "    \n",
    "\n"
   ]
  },
  {
   "cell_type": "code",
   "execution_count": 66,
   "metadata": {},
   "outputs": [
    {
     "name": "stdout",
     "output_type": "stream",
     "text": [
      "1.0000000000000002\n"
     ]
    }
   ],
   "source": [
    "print(np.linalg.norm(WBC_normalized_gray[0]))"
   ]
  },
  {
   "cell_type": "code",
   "execution_count": 160,
   "metadata": {},
   "outputs": [
    {
     "name": "stdout",
     "output_type": "stream",
     "text": [
      "(30000,)\n"
     ]
    }
   ],
   "source": [
    "#cv2.imshow('img',cv2.imread(images[0]))\n",
    "print(RBC_arr_orig[0].shape)\n",
    "cv2.imshow('img', RBC_arr_orig[0])\n",
    "cv2.waitKey(0)\n",
    "cv2.destroyAllWindows()"
   ]
  },
  {
   "cell_type": "code",
   "execution_count": 17,
   "metadata": {},
   "outputs": [
    {
     "name": "stdout",
     "output_type": "stream",
     "text": [
      "BloodImage_00000.jpg\n"
     ]
    }
   ],
   "source": [
    "print(os.path.split(list_reading_arr[0].name)[1][:-4] + '.jpg')"
   ]
  },
  {
   "cell_type": "code",
   "execution_count": 43,
   "metadata": {},
   "outputs": [
    {
     "name": "stdout",
     "output_type": "stream",
     "text": [
      "356\n"
     ]
    }
   ],
   "source": [
    "print(len(S))"
   ]
  },
  {
   "cell_type": "code",
   "execution_count": 67,
   "metadata": {},
   "outputs": [
    {
     "name": "stdout",
     "output_type": "stream",
     "text": [
      "[0.13756174 0.09941089 0.09099607 0.04632138 0.04330073 0.04001902\n",
      " 0.02676732 0.02470014 0.02302148 0.02082262]\n"
     ]
    }
   ],
   "source": [
    "pca = PCA(n_components = 10)\n",
    "pca.fit(WBC_normalized_gray)\n",
    "print(pca.explained_variance_ratio_)"
   ]
  },
  {
   "cell_type": "code",
   "execution_count": 35,
   "metadata": {},
   "outputs": [],
   "source": [
    "#Principle components\n",
    "U_k = []\n",
    "for i in range(k):\n",
    "    U_k.append(U[:, i])\n",
    "    \n",
    "U_k = np.asarray(U_k)   \n",
    "WBC_tilta_gray = []\n",
    "for WBC in WBC_normalized_gray.T:\n",
    "    WBC_tilta_gray.append(list(map(lambda x:np.inner(x, WBC), U_k.tolist())))\n",
    "    \n",
    "\n"
   ]
  },
  {
   "cell_type": "code",
   "execution_count": 71,
   "metadata": {},
   "outputs": [
    {
     "data": {
      "image/png": "[encoded data removed]",
      "text/plain": [
       "<Figure size 432x288 with 1 Axes>"
      ]
     },
     "metadata": {
      "needs_background": "light"
     },
     "output_type": "display_data"
    }
   ],
   "source": [
    "fig = plt.figure()\n",
    "ax = fig.add_subplot(111)\n",
    "ax.scatter(range(len(S)), S**2/S_total)\n",
    "plt.show()"
   ]
  },
  {
   "cell_type": "code",
   "execution_count": null,
   "metadata": {},
   "outputs": [],
   "source": []
  },
  {
   "cell_type": "code",
   "execution_count": 40,
   "metadata": {},
   "outputs": [
    {
     "data": {
      "image/png": "[encoded data removed]",
      "text/plain": [
       "<Figure size 432x288 with 1 Axes>"
      ]
     },
     "metadata": {
      "needs_background": "light"
     },
     "output_type": "display_data"
    }
   ],
   "source": [
    "#RBC_tilta_list = copy.deepcopy(RBC_tilta)\n",
    "WBC_tilta_gray = np.asarray(WBC_tilta_gray).T\n",
    "WBC_tilta_gray_12 = WBC_tilta_gray[:2]\n",
    "\n",
    "\n",
    "\n",
    "fig = plt.figure()\n",
    "ax = fig.add_subplot(111)\n",
    "WBC_tilta_gray_12 = WBC_tilta_gray_12.T\n",
    "counter = 0\n",
    "for i in range(len(WBC_tilta_gray_12)):\n",
    "    if(label_arr[i] == 0):\n",
    "        c = 'g'\n",
    "    if(label_arr[i] == 1):\n",
    "        c = 'r'\n",
    "    if(label_arr[i] == 2):\n",
    "        counter += 1\n",
    "        c = 'b'\n",
    "    if(label_arr[i] == 3):\n",
    "        c = 'y'\n",
    "        \n",
    "    ax.scatter(WBC_tilta_gray_12[i][0], WBC_tilta_gray_12[i][1], color = c)\n",
    "\n",
    "plt.show()\n"
   ]
  },
  {
   "cell_type": "code",
   "execution_count": 41,
   "metadata": {},
   "outputs": [
    {
     "name": "stdout",
     "output_type": "stream",
     "text": [
      "[[ 1.50850541e+00  2.33053193e+00]\n",
      " [ 2.16504270e+00 -3.15437567e-01]\n",
      " [ 4.25512269e-01 -2.47011969e-01]\n",
      " [-1.77513065e+00  2.48221345e-01]\n",
      " [-3.95883202e-01 -1.72093826e-01]\n",
      " [ 4.32595828e-01 -1.73634213e-01]\n",
      " [-1.01444635e-01  1.78067535e-03]\n",
      " [ 8.57544797e-01  1.99283653e-01]\n",
      " [-2.40161673e-01  3.92029985e-01]\n",
      " [ 2.40464162e-01  3.64606598e-01]\n",
      " [ 1.21333321e-01 -8.89086417e-01]\n",
      " [-9.28995948e-02  2.79917821e-01]\n",
      " [ 3.85018216e-02 -4.62587403e-01]\n",
      " [-2.48244403e-03  4.23931758e-01]\n",
      " [ 3.61993219e-01 -2.63427315e-01]\n",
      " [-3.98123478e-01 -4.99959147e-03]\n",
      " [ 3.47660336e-01  2.34271588e-02]\n",
      " [-3.23097717e-01  1.22871729e-01]\n",
      " [ 3.46575411e-02  8.70368988e-02]\n",
      " [-8.48055097e-04 -1.44047297e-01]\n",
      " [ 1.79510662e-01 -1.45749119e-01]\n",
      " [-3.82011417e-01  1.09534935e-01]\n",
      " [ 2.11037433e-01  2.75918025e-01]\n",
      " [-5.83359113e-02 -2.00248466e-01]\n",
      " [ 2.66213826e-01 -6.34866272e-02]\n",
      " [-3.82719134e-01 -7.16359103e-02]\n",
      " [ 5.53928019e-02 -2.22988873e-02]\n",
      " [ 1.44068998e-01 -4.94908594e-02]\n",
      " [-1.12360936e-01  3.19394516e-01]\n",
      " [ 2.62971010e-01  2.03273652e-02]\n",
      " [ 1.62809033e-02  7.50928294e-02]\n",
      " [ 3.37379679e-01  5.71725674e-02]\n",
      " [-1.05640294e-01 -2.31582038e-01]\n",
      " [-5.58115248e-02 -4.55203034e-02]\n",
      " [-1.33530586e-01 -2.19858045e-01]\n",
      " [ 2.13039969e-01  3.65431332e-02]\n",
      " [ 6.76502964e-02 -1.26963027e-02]\n",
      " [-5.54425072e-03 -1.97314849e-01]\n",
      " [ 2.69317238e-02  1.90085609e-02]\n",
      " [-1.85124097e-01 -2.34929457e-02]\n",
      " [ 2.39606878e-01 -1.01810010e-02]\n",
      " [-1.75790474e-02  4.16670875e-01]\n",
      " [ 8.03106859e-02 -6.57072231e-02]\n",
      " [-7.78863847e-02 -9.11186751e-02]\n",
      " [ 4.53741114e-02  2.33221568e-02]\n",
      " [-1.59389890e-01 -5.49110105e-02]\n",
      " [ 8.53114077e-02 -5.44666765e-02]\n",
      " [-1.00778620e-01  4.60985432e-02]\n",
      " [ 1.43109475e-02 -1.07208526e-01]\n",
      " [-1.50933339e-01 -1.06028567e-01]\n",
      " [ 2.32467507e-01 -4.85936578e-02]\n",
      " [-5.20572478e-02 -2.17031792e-01]\n",
      " [ 6.87587988e-02  1.44020981e-01]\n",
      " [-3.23937119e-02 -8.40876064e-02]\n",
      " [-8.85539794e-02  1.23302481e-01]\n",
      " [ 1.04172604e-01 -5.20906579e-02]\n",
      " [-2.88061478e-01 -1.69998869e-01]\n",
      " [ 1.16068991e-01 -1.04947312e-02]\n",
      " [ 4.73697667e-02 -1.42000118e-01]\n",
      " [ 1.85468736e-02 -1.81250631e-01]\n",
      " [ 8.46470405e-03  2.81287498e-01]\n",
      " [-1.06888337e-01 -2.72173580e-01]\n",
      " [ 1.24243552e-01  3.43618540e-02]\n",
      " [-5.85354370e-02  6.08405170e-04]\n",
      " [-4.57410023e-02  1.82093084e-02]\n",
      " [-1.07626310e-01 -7.86403460e-02]\n",
      " [ 8.28685484e-03 -1.54065059e-02]\n",
      " [ 6.54317391e-02  8.70284890e-02]\n",
      " [ 1.59612150e-02  2.18521469e-01]\n",
      " [-1.27111421e-01  1.49198672e-02]\n",
      " [-1.79330730e-01 -2.38433805e-01]\n",
      " [ 8.00421579e-03 -1.19558748e-01]\n",
      " [ 7.00677210e-02  1.11376120e-01]\n",
      " [ 9.35021912e-02 -3.35195981e-02]\n",
      " [-1.83670336e-03  1.48151199e-01]\n",
      " [-1.22839078e-01 -6.22344375e-03]\n",
      " [-9.12412678e-02  1.04435204e-01]\n",
      " [ 6.73206812e-02 -1.40653857e-01]\n",
      " [ 2.88982837e-02 -1.29120995e-01]\n",
      " [ 9.33899099e-02  7.69796183e-02]\n",
      " [ 9.68479824e-02  6.01938373e-02]\n",
      " [ 6.60936485e-02 -8.25938481e-02]\n",
      " [-2.69785472e-01 -7.03499397e-02]\n",
      " [-6.17071308e-02 -1.26338101e-01]\n",
      " [-4.77987420e-02  5.13857222e-02]\n",
      " [ 3.28585736e-02 -7.13412017e-02]\n",
      " [-5.40221703e-02 -7.26457486e-02]\n",
      " [ 6.65232810e-02  2.05339301e-03]\n",
      " [-3.05681565e-02 -1.78945729e-01]\n",
      " [ 4.62148736e-02  2.64414895e-02]\n",
      " [-3.77797424e-02 -1.40505210e-01]\n",
      " [ 9.88312632e-02  1.05029708e-01]\n",
      " [-1.28859422e-01 -1.37845568e-01]\n",
      " [ 5.78267478e-02 -9.47104826e-02]\n",
      " [-3.77713934e-03  7.91568114e-03]\n",
      " [ 2.36082593e-02 -2.20949705e-02]\n",
      " [-7.20568159e-02  4.71846779e-02]\n",
      " [ 2.45308935e-01 -1.04295373e-01]\n",
      " [-9.07444233e-02 -8.35677054e-03]\n",
      " [ 5.73875358e-02  1.23415633e-02]\n",
      " [-1.96522312e-01  6.56624585e-02]\n",
      " [ 9.11806442e-02  6.34674869e-02]\n",
      " [-1.34821727e-01  2.56094714e-02]\n",
      " [ 8.89460044e-03 -1.75608055e-01]\n",
      " [-9.19515796e-02  1.65086242e-02]\n",
      " [ 1.92231059e-01 -1.02327382e-01]\n",
      " [-1.61661464e-03  7.94276330e-02]\n",
      " [-1.65577789e-02 -5.57003992e-02]\n",
      " [ 2.58322280e-02  2.78294801e-02]\n",
      " [-1.01120408e-01  3.00798617e-01]]\n"
     ]
    }
   ],
   "source": [
    "print(WBC_tilta_gray_12)"
   ]
  },
  {
   "cell_type": "code",
   "execution_count": 60,
   "metadata": {},
   "outputs": [
    {
     "name": "stdout",
     "output_type": "stream",
     "text": [
      "[ 1  0  0  0  0 -3 -3  0  0 -2  0 -3  0  0  0  0  0  0  0  0  0  0  0  0\n",
      "  0  0 -3  0  0  0  0  0 -3  0  0  0 -3  0  0  0  0  0  0  3  0  0  0  0\n",
      "  0  0  0  0  3  0  0 -3]\n"
     ]
    }
   ],
   "source": [
    "\n",
    "# KNN classifier\n",
    "def KNN_classif(Feature, img_Rep, trainLabels, k):\n",
    "    training_labels = np.asarray(trainLabels)\n",
    "    #compute the distance of the input N-dim Feature to every other point\n",
    "    #\n",
    "    distance=[]\n",
    "    for img in img_Rep.T:\n",
    "        distance.append(np.linalg.norm(img - Feature))\n",
    "    \n",
    "    distance = np.array(distance)\n",
    "    distance_k = distance.argsort()[:k]\n",
    "    neighbors = training_labels[distance_k].tolist()\n",
    "    #print(neighbors)\n",
    "    #x = np.sum(training_labels[distance_k])\n",
    "    #return x\n",
    "    \n",
    "    return max(neighbors, key=neighbors.count)\n",
    "\n",
    "# k-fold Cross Validation \n",
    "\n",
    "\n",
    "\n",
    "WBC_tilta_gray_train = WBC_tilta_gray[:300, :].T\n",
    "WBC_tilta_gray_test = WBC_tilta_gray[300:, :].T\n",
    "cls = []\n",
    "\n",
    "#for k in range()\n",
    "for i in range(len(WBC_tilta_gray_test[0])):\n",
    "    \n",
    "    cls.append(KNN_classif(WBC_tilta_gray_test[:, i], WBC_tilta_gray_train , label_arr, 19))\n",
    "\n",
    "cls = np.asarray(cls)\n",
    "print(cls-np.asarray(label_arr[300:]))\n",
    "#print(np.sum(cls - np.asarray(label_arr[3000:])))\n",
    "RBC_tilta = np.asarray(RBC_tilta_list).T\n",
    "\n",
    "\n",
    "\n"
   ]
  },
  {
   "cell_type": "code",
   "execution_count": 54,
   "metadata": {},
   "outputs": [
    {
     "data": {
      "text/plain": [
       "(356, 110)"
      ]
     },
     "execution_count": 54,
     "metadata": {},
     "output_type": "execute_result"
    }
   ],
   "source": [
    "WBC_tilta_gray.shape"
   ]
  },
  {
   "cell_type": "code",
   "execution_count": 124,
   "metadata": {},
   "outputs": [
    {
     "name": "stdout",
     "output_type": "stream",
     "text": [
      "239\n"
     ]
    }
   ],
   "source": [
    "print(np.sum(abs(cls - np.asarray(label_arr[3000:]))))"
   ]
  },
  {
   "cell_type": "code",
   "execution_count": 125,
   "metadata": {},
   "outputs": [
    {
     "name": "stdout",
     "output_type": "stream",
     "text": [
      "[1 2 1 2 2 1 1 1 1 1 2 1 1 1 1 1 1 1 1 1 1 2 1 1 1 1 1 2 1 2 2 2 1 1 2 1 1\n",
      " 2 1 1 1 1 2 1 1 1 1 1 1 1 2 1 1 1 1 2 2 1 2 1 1 1 1 2 1 1 1 1 1 2 2 1 1 1\n",
      " 1 2 2 1 1 1 1 1 1 1 1 1 1 1 1 1 1 1 1 1 1 1 2 1 1 1 2 1 1 1 1 1 1 2 1 1 1\n",
      " 2 2 1 1 1 2 1 1 1 2 1 1 2 1 1 1 1 1 1 1 1 1 1 1 1 1 2 1 1 1 2 1 1 1 1 1 1\n",
      " 1 1 1 1 1 1 2 2 1 1 1 1 1 2 1 1 1 1 2 1 1 2 1 1 1 1 1 1 1 1 1 1 1 1 1 1 1\n",
      " 1 1 1 1 1 1 1 1 1 1 1 1 1 1 1 2 1 1 1 1 1 1 2 1 1 2 1 1 1 1 1 1 1 1 1 1 1\n",
      " 1 1 1 1 1 1 1 1 1 2 2 1 1 2 1 1 2 1 1 1 1 1 1 1 1 1 1 1 1 1 1 2 2 2 1 1 1\n",
      " 1 1 1 1 1 1 1 1 1 2 1 1 1 1 1 1 1 2 2 2 1 1 1 1 1 1 1 2 1 2 1 1 1 1 1 1 1\n",
      " 1 1 1 1 1 1 2 1 1 2 1 1 1 1 1 1 2 2 1 1 1 1 1 1 2 1 1 1 1 1 1 1 1 1 1 1 1\n",
      " 1 1 1 1 1 1 1 1 1 1 1 1 1 1 1 1 2 2 1 1 1 1 1 1 1 1 1 1 1 2 1 1 1 1 1 1 2\n",
      " 1 1 2 1 1 1 1 1 1 1 2 1 1 1 1 1 1 1 1 1 1 1 1 1 1 1 2 2 1 1 1 1 2 2 2 1 1\n",
      " 2 1 1 1 1 1 1 1 1 2 1 2 1 1 2 2 1 2 1 1 1 2 1 1 1 2 1 1 1 2 1 1 1 1 1 1 2\n",
      " 2 1 1 1 1 1 2 1 1 1 1 2 1 2 1 1 1 1 1 1 1 1 1 1 1 1 1 1 1 1 1 1 1 1 1 1 1\n",
      " 1 2 1 2 1 1 1 1 1 1 1 2 1 1 1 1 1 1 1 1 1 1 1 2 1 1 1 1 1 1 1 1 1 1 1 1 2\n",
      " 1 1 2 1 1 1 1 1 1 1 1 1 1 1 1 1 1 1 1 1 1 1 1 1 1 1 1 2 1 1 1 1 1 1 1 2 1\n",
      " 1 1 1 2 1 1 1 1 1 1 1 1 2 1 1 1 1 1 2 1 1 1 1 1 2 1 2 1 1 1 1 1 1 1 1 1 1\n",
      " 1 1 2 1 1 1 1 1 1 2 1 2 1 1 1 1 1 1 2 1 2 1 1 1 1 1 1 1 2 1 1 1 1 1 1 1 1\n",
      " 1 1 2 1 1 1 1 1 1 1 1 1 1 1 2 1 1 1 1 1 2 1 1 1 2 1 1 1 1 1 1 1 1 1 1 2 1\n",
      " 1 2 2 1 1 1 1 1 1 1 1 1 1 1 1 1 1 1 1 1 1 1 1 1 1 1 1 1 1 1 1 1 1 1 1 1 1\n",
      " 1 1 1 1 1 2 1 1 1 1 1 1 2 1 1 1 1 1 1 1 1 1 1 1 1 1 1 2 1 1 1 1 1 1 1 1 2\n",
      " 2 1 1 1 1 1 1 2 1 1 2 1 1 1 1 1 1 1 1 1 1 1 1 2 1 1 2 1 1 1 1 1 1 1 2 1 1\n",
      " 1 1 1 1 1 1 1 2 1 1 1 1 1 1 1 1 1 1 1 2 1 1 1 1 1 1 1 1 1 1 1 1 1 1 1 1 1\n",
      " 1 1 1 2 1 1 1 1 2 1 1 1 1 1 1 1 1 1 1 1 1 2 1 2 1 1 1 1 1 1 1 1 2 1 1 1 1\n",
      " 1]\n",
      "1\n",
      "[0, 0, 0, 0, 0]\n"
     ]
    }
   ],
   "source": [
    "print(cls)\n",
    "print(label_arr[3000])\n",
    "print([0 for i in range(5)])"
   ]
  },
  {
   "cell_type": "code",
   "execution_count": 97,
   "metadata": {},
   "outputs": [
    {
     "name": "stdout",
     "output_type": "stream",
     "text": [
      "(3852, 112)\n",
      "(4800, 3852)\n"
     ]
    },
    {
     "ename": "ValueError",
     "evalue": "shapes (2,3) and (2,) not aligned: 3 (dim 1) != 2 (dim 0)",
     "output_type": "error",
     "traceback": [
      "\u001b[1;31m---------------------------------------------------------------------------\u001b[0m",
      "\u001b[1;31mValueError\u001b[0m                                Traceback (most recent call last)",
      "\u001b[1;32m<ipython-input-97-d46e1634c763>\u001b[0m in \u001b[0;36m<module>\u001b[1;34m()\u001b[0m\n\u001b[0;32m      3\u001b[0m \u001b[0mA\u001b[0m \u001b[1;33m=\u001b[0m \u001b[0mnp\u001b[0m\u001b[1;33m.\u001b[0m\u001b[0marray\u001b[0m\u001b[1;33m(\u001b[0m\u001b[1;33m[\u001b[0m\u001b[1;33m[\u001b[0m\u001b[1;36m1\u001b[0m\u001b[1;33m,\u001b[0m\u001b[1;36m2\u001b[0m\u001b[1;33m,\u001b[0m \u001b[1;36m3\u001b[0m\u001b[1;33m]\u001b[0m\u001b[1;33m,\u001b[0m\u001b[1;33m[\u001b[0m\u001b[1;36m3\u001b[0m\u001b[1;33m,\u001b[0m\u001b[1;36m2\u001b[0m\u001b[1;33m,\u001b[0m \u001b[1;36m5\u001b[0m\u001b[1;33m]\u001b[0m\u001b[1;33m]\u001b[0m\u001b[1;33m)\u001b[0m\u001b[1;33m\u001b[0m\u001b[0m\n\u001b[0;32m      4\u001b[0m \u001b[0mB\u001b[0m \u001b[1;33m=\u001b[0m \u001b[0mnp\u001b[0m\u001b[1;33m.\u001b[0m\u001b[0marray\u001b[0m\u001b[1;33m(\u001b[0m\u001b[1;33m[\u001b[0m\u001b[1;36m5\u001b[0m\u001b[1;33m,\u001b[0m\u001b[1;36m1\u001b[0m\u001b[1;33m]\u001b[0m\u001b[1;33m)\u001b[0m\u001b[1;33m\u001b[0m\u001b[0m\n\u001b[1;32m----> 5\u001b[1;33m \u001b[0mnp\u001b[0m\u001b[1;33m.\u001b[0m\u001b[0minner\u001b[0m\u001b[1;33m(\u001b[0m\u001b[0mA\u001b[0m\u001b[1;33m,\u001b[0m \u001b[0mB\u001b[0m\u001b[1;33m)\u001b[0m\u001b[1;33m\u001b[0m\u001b[0m\n\u001b[0m",
      "\u001b[1;31mValueError\u001b[0m: shapes (2,3) and (2,) not aligned: 3 (dim 1) != 2 (dim 0)"
     ]
    }
   ],
   "source": [
    "print(RBC_tilta.shape)\n",
    "print(RBC_normalized.shape)"
   ]
  },
  {
   "cell_type": "code",
   "execution_count": 69,
   "metadata": {},
   "outputs": [
    {
     "name": "stdout",
     "output_type": "stream",
     "text": [
      "(3852, 4800)\n"
     ]
    },
    {
     "data": {
      "text/plain": [
       "2"
      ]
     },
     "execution_count": 69,
     "metadata": {},
     "output_type": "execute_result"
    }
   ],
   "source": [
    "print(RBC_normalized.shape)\n",
    "np.argmax(label_arr)\n",
    "label_arr[2]"
   ]
  },
  {
   "cell_type": "code",
   "execution_count": 31,
   "metadata": {},
   "outputs": [
    {
     "ename": "ValueError",
     "evalue": "operands could not be broadcast together with shapes (366,921600) (1,366) ",
     "output_type": "error",
     "traceback": [
      "\u001b[1;31m---------------------------------------------------------------------------\u001b[0m",
      "\u001b[1;31mValueError\u001b[0m                                Traceback (most recent call last)",
      "\u001b[1;32m<ipython-input-31-d19bfdadbfe8>\u001b[0m in \u001b[0;36m<module>\u001b[1;34m()\u001b[0m\n\u001b[0;32m      1\u001b[0m \u001b[0mRBC_norm\u001b[0m \u001b[1;33m=\u001b[0m \u001b[0mnp\u001b[0m\u001b[1;33m.\u001b[0m\u001b[0mlinalg\u001b[0m\u001b[1;33m.\u001b[0m\u001b[0mnorm\u001b[0m\u001b[1;33m(\u001b[0m\u001b[0mRBC_centered\u001b[0m\u001b[1;33m,\u001b[0m \u001b[0maxis\u001b[0m \u001b[1;33m=\u001b[0m \u001b[1;36m1\u001b[0m\u001b[1;33m)\u001b[0m\u001b[1;33m[\u001b[0m\u001b[0mnp\u001b[0m\u001b[1;33m.\u001b[0m\u001b[0mnewaxis\u001b[0m\u001b[1;33m]\u001b[0m\u001b[1;33m\u001b[0m\u001b[0m\n\u001b[1;32m----> 2\u001b[1;33m \u001b[0mRBC_normalized\u001b[0m \u001b[1;33m=\u001b[0m \u001b[0mRBC_centered\u001b[0m\u001b[1;33m/\u001b[0m\u001b[0mRBC_norm\u001b[0m\u001b[1;33m\u001b[0m\u001b[0m\n\u001b[0m",
      "\u001b[1;31mValueError\u001b[0m: operands could not be broadcast together with shapes (366,921600) (1,366) "
     ]
    }
   ],
   "source": [
    "RBC_norm = np.linalg.norm(RBC_centered, axis = 1)[np.newaxis]\n",
    "RBC_normalized = RBC_centered/RBC_norm.T"
   ]
  },
  {
   "cell_type": "code",
   "execution_count": 26,
   "metadata": {},
   "outputs": [
    {
     "name": "stdout",
     "output_type": "stream",
     "text": [
      "[7. 8. 8. 7. 8. 7. 8. 8. 7. 7. 8. 8. 7. 8. 7. 8. 8. 7.]\n"
     ]
    }
   ],
   "source": [
    "len(RBC_arr)\n",
    "A = [[[1,2,3],[2,3,2],[3,4,3]],[[11,12,13],[12,13,12],[13,14,13]]]\n",
    "A_vec = np.reshape(A, -1)  \n",
    "B_vec = np.flip(A_vec)\n",
    "A_centered = np.mean(np.asarray([A_vec, B_vec]), axis = 0)\n",
    "print(A_centered)"
   ]
  },
  {
   "cell_type": "code",
   "execution_count": 12,
   "metadata": {},
   "outputs": [
    {
     "name": "stdout",
     "output_type": "stream",
     "text": [
      "[[[143 154 176]\n",
      "  [143 154 176]\n",
      "  [145 153 176]\n",
      "  ...\n",
      "  [203 197 190]\n",
      "  [201 195 188]\n",
      "  [199 193 186]]\n",
      "\n",
      " [[143 154 176]\n",
      "  [143 154 176]\n",
      "  [145 153 176]\n",
      "  ...\n",
      "  [203 197 190]\n",
      "  [201 195 188]\n",
      "  [199 193 186]]\n",
      "\n",
      " [[141 155 174]\n",
      "  [141 155 174]\n",
      "  [143 154 174]\n",
      "  ...\n",
      "  [201 198 190]\n",
      "  [199 196 188]\n",
      "  [197 194 186]]\n",
      "\n",
      " ...\n",
      "\n",
      " [[206 205 207]\n",
      "  [201 203 204]\n",
      "  [197 198 202]\n",
      "  ...\n",
      "  [185 124 162]\n",
      "  [191 125 166]\n",
      "  [197 131 172]]\n",
      "\n",
      " [[209 206 208]\n",
      "  [204 203 205]\n",
      "  [198 197 201]\n",
      "  ...\n",
      "  [184 121 161]\n",
      "  [191 123 164]\n",
      "  [196 128 169]]\n",
      "\n",
      " [[210 207 209]\n",
      "  [206 203 205]\n",
      "  [197 196 200]\n",
      "  ...\n",
      "  [183 120 160]\n",
      "  [190 122 163]\n",
      "  [197 127 168]]]\n"
     ]
    }
   ],
   "source": [
    "print(RBC_arr[0])"
   ]
  },
  {
   "cell_type": "code",
   "execution_count": 23,
   "metadata": {},
   "outputs": [],
   "source": [
    "img = RBC_arr[0]\n",
    "\n",
    "def crop_and_resize(img, bound, size):\n",
    "    \n",
    "    xmin, ymin, xmax, ymax = bound\n",
    "    w, h = size\n",
    "    \n",
    "    img_crop = img[ymin:ymax,xmin:xmax]\n",
    "    #cv2.resize(img,None,fx=2, fy=2, interpolation = cv2.INTER_CUBIC)\n",
    "    img_resized = cv2.resize(img_crop,(w, h), interpolation = cv2.INTER_CUBIC)\n",
    "    return img_resized\n",
    "    \n",
    "img_resized = crop_and_resize(img, (100, 50, 250, 200), (100, 100))\n",
    "cv2.imshow('img', img_resized)\n",
    "cv2.waitKey(0)\n",
    "cv2.destroyAllWindows()"
   ]
  }
 ],
 "metadata": {
  "kernelspec": {
   "display_name": "Python 3",
   "language": "python",
   "name": "python3"
  },
  "language_info": {
   "codemirror_mode": {
    "name": "ipython",
    "version": 3
   },
   "file_extension": ".py",
   "mimetype": "text/x-python",
   "name": "python",
   "nbconvert_exporter": "python",
   "pygments_lexer": "ipython3",
   "version": "3.6.6"
  }
 },
 "nbformat": 4,
 "nbformat_minor": 2
}
