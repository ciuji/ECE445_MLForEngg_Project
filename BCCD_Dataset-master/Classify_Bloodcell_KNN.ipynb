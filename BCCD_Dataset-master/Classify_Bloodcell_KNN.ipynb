{
 "cells": [
  {
   "cell_type": "code",
   "execution_count": 1,
   "metadata": {},
   "outputs": [],
   "source": [
    "import csv\n",
    "import numpy as np\n",
    "import cv2\n",
    "import glob, copy, os\n",
    "import xml.etree.ElementTree\n",
    "import matplotlib.pyplot as plt\n",
    "from sklearn.decomposition import PCA"
   ]
  },
  {
   "cell_type": "code",
   "execution_count": 2,
   "metadata": {},
   "outputs": [
    {
     "name": "stdout",
     "output_type": "stream",
     "text": [
      "BCCD\\Annotations\\BloodImage_00008.xml\n",
      "+1\n",
      "00097\n",
      "E\n",
      "BCCD\\Annotations\\BloodImage_00132.xml\n",
      "BCCD\\Annotations\\BloodImage_00171.xml\n",
      "+1\n",
      "00281\n",
      "N\n",
      "+1\n",
      "00330\n",
      "N\n"
     ]
    }
   ],
   "source": [
    "\n",
    "class Reading(object):\n",
    "    \"\"\"__init__() functions as the class constructor\"\"\"\n",
    "    def __init__(self, xmin=None, ymin=None, xmax=None, ymax=None, typ=None, name=None):\n",
    "        \"\"\"self.difficult = difficult\n",
    "        self.truncated = truncated\"\"\"\n",
    "        self.xmin = xmin\n",
    "        self.xmax = xmax\n",
    "        self.ymin = ymin\n",
    "        self.ymax = ymax\n",
    "        self.typ = typ\n",
    "        self.name = name\n",
    "\n",
    "docs = glob.glob('BCCD\\\\Annotations\\\\' + '*.xml')      \n",
    "\n",
    "list_reading_arr = []\n",
    "with open('labels.csv') as csv_file:\n",
    "    csv_reader = csv.reader(csv_file, delimiter=',')\n",
    "    label_arr = []\n",
    "    counter = 0\n",
    "    for row in csv_reader:\n",
    "        if counter != 0 and row[2] != \"\":\n",
    "            label_arr.append([row[1], row[2]])\n",
    "        #if :\n",
    "        #   label_arr.append()\n",
    "        counter += 1\n",
    "\n",
    "index = 0\n",
    "for i in range(len(docs)):\n",
    "    #tree = xml.etree.ElementTree.parse('//dataset-master//Annotations//BloodImage_00000.xml')\n",
    "    \n",
    "    #print(doc + \" \" + label_arr[index][1])\n",
    "    if(int(label_arr[index][0]) == int(docs[i][-9:-4])):\n",
    "       \n",
    "        label_this = label_arr[index][1][0]\n",
    "        \n",
    "    \n",
    "    else:\n",
    "        if(int(label_arr[index-1][0]) == int(docs[i][-9:-4])):\n",
    "            print('-1')\n",
    "            print(docs[i][-9:-4])\n",
    "            print(label_this)\n",
    "            index += -1\n",
    "            i+=-1\n",
    "            label_this = label_arr[index][1][0]\n",
    "        if(int(label_arr[index+1][0]) == int(docs[i][-9:-4])):\n",
    "            print('+1')\n",
    "            print(docs[i][-9:-4])\n",
    "            print(label_this)\n",
    "            label_this = label_arr[index+1][1][0]\n",
    "            #i+=1\n",
    "            index += 1\n",
    "    \n",
    "    if(label_this == 'B'):\n",
    "        index += 1\n",
    "        #i+=1\n",
    "        print(docs[i])\n",
    "        #docs.remove(doc)\n",
    "        continue\n",
    "    if(label_this == ''):\n",
    "        index += 1\n",
    "        #i+=1\n",
    "        print(docs[i])\n",
    "        #docs.remove(doc)\n",
    "        continue\n",
    "    \"\"\"\"\"\"   \n",
    "    tree = xml.etree.ElementTree.parse(docs[i])\n",
    "    root = tree.getroot()\n",
    "    len_data = int(len(tree.findall('.//object//'))/9)\n",
    "    #list_reading = [Reading() for i in range(len_data)]\n",
    "    read = Reading()\n",
    "    #print(doc)\n",
    "   \n",
    "            #continue\n",
    "    #print(doc + label_this)\n",
    "    count = 0\n",
    "    #print(\"Print out the attrib of the root:\\n\")\n",
    "    #list_reading[index_of_reading].typ = label_this\n",
    "    #list_reading[index_of_reading].name = docs[i]\n",
    "    read.typ = label_this\n",
    "    read.name = docs[i]\n",
    "    for objs in tree.findall('.//object//'):\n",
    "\n",
    "        index_of_reading = int(count/9)\n",
    "        #if(list_reading[index_of_reading])\n",
    "        \"\"\"if count%9 == 2:\n",
    "            list_reading[index_of_reading].truncated = int(objs.text)\n",
    "        if count%9 == 3:\n",
    "            list_reading[index_of_reading].difficult = int(objs.text)\"\"\"\n",
    "        #print(objs.text)\n",
    "        \n",
    "        if count%9 == 0:\n",
    "            if objs.text != \"WBC\":\n",
    "                #print(\"NO WBC\")\n",
    "                continue\n",
    "        if count%9 == 5:\n",
    "            #list_reading[index_of_reading].xmin = int(objs.text)\n",
    "            read.xmin = int(objs.text)\n",
    "        if count%9 == 6:\n",
    "            #list_reading[index_of_reading].ymin = int(objs.text)\n",
    "            read.ymin = int(objs.text)\n",
    "        if count%9 == 7:\n",
    "            #list_reading[index_of_reading].xmax = int(objs.text)\n",
    "            read.xmax = int(objs.text)\n",
    "        if count%9 == 8:\n",
    "            #list_reading[index_of_reading].ymax = int(objs.text)\n",
    "            read.ymax = int(objs.text)\n",
    "             \n",
    "        \n",
    "        count+=1\n",
    "    \n",
    "    #print(docs[i] + label_this)\n",
    "    list_reading_arr.append(read)\n",
    "    for j in list_reading_arr:\n",
    "        if j.xmax == j.xmin or j.ymax == j.ymin:\n",
    "            #print(doc)\n",
    "            list_reading_arr.remove(j)\n",
    "        #print(\"cordinates:\",i.xmin,i.ymin,i.xmax,i.ymax)\n",
    "    index += 1\n",
    "    \n",
    "    \n",
    "#print(list_reading_arr[0][0].xmin)\n",
    "\n",
    "\n",
    "def crop_and_resize(img, read, size):\n",
    "    w, h = size\n",
    "    \n",
    "    img_arr =[]\n",
    "    xmin, ymin, xmax, ymax = (read.xmin,read.ymin,read.xmax,read.ymax)\n",
    "    #print([xmin, ymin, xmax, ymax])\n",
    "    img_crop = img[ymin:ymax,xmin:xmax]\n",
    "    img_resized = cv2.resize(img_crop,(w, h), interpolation = cv2.INTER_CUBIC)\n",
    "    img_arr.append(img_resized)\n",
    "\n",
    "    return img_arr\n",
    "\n",
    "def label_generator(read):\n",
    "    if(read=='N'):\n",
    "        return 0\n",
    "    if(read=='M'):\n",
    "        return 1\n",
    "    if(read=='L'):\n",
    "        return 2\n",
    "    if(read=='E'):\n",
    "        return 3\n",
    "    \n",
    "    "
   ]
  },
  {
   "cell_type": "code",
   "execution_count": 3,
   "metadata": {
    "scrolled": true
   },
   "outputs": [],
   "source": [
    "def recenter_regularize(X):\n",
    "    X_mean = np.mean(X, axis = 1)[np.newaxis]\n",
    "    X_centered = X - X_mean.T\n",
    "    X_norm = np.linalg.norm(X_centered, axis = 1)[np.newaxis]\n",
    "    X_normalized = X_centered/X_norm.T\n",
    "    return X_normalized\n",
    "\n",
    "\n",
    "\n",
    "path = 'BCCD\\\\JPEGImages\\\\'\n",
    "#images = sorted(glob.glob(path + '*.jpg'))\n",
    "WBC_arr_b = []; WBC_arr_g = []; WBC_arr_r = []; WBC_arr_gray = []\n",
    "label_arr = []\n",
    "#read images and make each into an array\n",
    "for i in range(len(list_reading_arr)):\n",
    "    img = path + os.path.split(list_reading_arr[i].name)[1][:-4] + '.jpg'\n",
    "    WBC_this = cv2.imread(img)\n",
    "    WBC_this_arr = crop_and_resize(WBC_this, list_reading_arr[i], (60,60))\n",
    "    WBC_b = WBC_this_arr[0][:, :, 0]\n",
    "    WBC_g = WBC_this_arr[0][:, :, 1]\n",
    "    WBC_r = WBC_this_arr[0][:, :, 2]\n",
    "    WBC_gray = cv2.cvtColor(WBC_this_arr[0], cv2.COLOR_BGR2GRAY)\n",
    "    \n",
    "\n",
    "    label = label_generator(list_reading_arr[i].typ)\n",
    "    #print(label)\n",
    "\n",
    "    WBC_b, WBC_g, WBC_r, WBC_gray = np.reshape(WBC_b, -1), np.reshape(WBC_g, -1), np.reshape(WBC_r, -1), np.reshape(WBC_gray, -1)\n",
    "    \n",
    "    \n",
    "    WBC_arr_b.append(WBC_b)\n",
    "    WBC_arr_g.append(WBC_g)\n",
    "    WBC_arr_r.append(WBC_r)\n",
    "    WBC_arr_gray.append(WBC_gray)\n",
    "    label_arr.append(label)\n",
    "        \n",
    "        \n",
    "    i+=1\n",
    "    if(i==len(list_reading_arr)):\n",
    "        break\n",
    "WBC_arr_b, WBC_arr_g, WBC_arr_r, WBC_arr_gray = (np.asarray(WBC_arr_b).T, np.asarray(WBC_arr_g).T, \n",
    "                                                 np.asarray(WBC_arr_r).T, np.asarray(WBC_arr_gray).T)\n",
    "\n",
    "WBC_normalized_b, WBC_normalized_g, WBC_normalized_r, WBC_normalized_gray = (recenter_regularize(WBC_arr_b),\n",
    "                                                                             recenter_regularize(WBC_arr_g),\n",
    "                                                                             recenter_regularize(WBC_arr_r),\n",
    "                                                                             recenter_regularize(WBC_arr_gray)) \n",
    "\"\"\"RBC_mean = np.mean(RBC_arr, axis = 1)[np.newaxis]\n",
    "RBC_centered = RBC_arr - RBC_mean.T\n",
    "RBC_norm = np.linalg.norm(RBC_centered, axis = 1)[np.newaxis]\n",
    "RBC_normalized = RBC_centered/RBC_norm.T\"\"\"                                                                          \n",
    "\n",
    "\n",
    "U, S, V = np.linalg.svd(WBC_normalized_gray)\n",
    "\n",
    "S_total = np.linalg.norm(S)**2\n",
    "S_incr = 0\n",
    "k = 0\n",
    "for s in S:\n",
    "    S_incr += s**2\n",
    "    if(S_incr >= 0.95*S_total):\n",
    "        break\n",
    "    k += 1\n",
    "    \n",
    "\n"
   ]
  },
  {
   "cell_type": "code",
   "execution_count": 66,
   "metadata": {},
   "outputs": [
    {
     "name": "stdout",
     "output_type": "stream",
     "text": [
      "1.0000000000000002\n"
     ]
    }
   ],
   "source": [
    "print(np.linalg.norm(WBC_normalized_gray[0]))"
   ]
  },
  {
   "cell_type": "code",
   "execution_count": 17,
   "metadata": {},
   "outputs": [
    {
     "name": "stdout",
     "output_type": "stream",
     "text": [
      "BloodImage_00000.jpg\n"
     ]
    }
   ],
   "source": [
    "print(os.path.split(list_reading_arr[0].name)[1][:-4] + '.jpg')"
   ]
  },
  {
   "cell_type": "code",
   "execution_count": 43,
   "metadata": {},
   "outputs": [
    {
     "name": "stdout",
     "output_type": "stream",
     "text": [
      "356\n"
     ]
    }
   ],
   "source": [
    "print(len(S))"
   ]
  },
  {
   "cell_type": "code",
   "execution_count": 15,
   "metadata": {},
   "outputs": [
    {
     "name": "stdout",
     "output_type": "stream",
     "text": [
      "[0.18821967 0.10617004 0.0812282  0.07209202 0.03738731 0.03578743\n",
      " 0.03294511 0.0221237  0.02031181 0.01893678]\n",
      "[[-0.00717113 -0.00683805 -0.00665761 ... -0.00592913 -0.0064643\n",
      "  -0.00707737]\n",
      " [-0.01497719 -0.01621853 -0.01719615 ... -0.01387319 -0.01351391\n",
      "  -0.01312893]\n",
      " [ 0.01531777  0.01505013  0.01475677 ... -0.01401118 -0.01338273\n",
      "  -0.01285253]\n",
      " ...\n",
      " [ 0.0050459   0.00530059  0.00691561 ... -0.01280542 -0.01262563\n",
      "  -0.01353599]\n",
      " [-0.03801314 -0.03923733 -0.03995536 ...  0.04069251  0.03847245\n",
      "   0.03753221]\n",
      " [-0.00283421 -0.00082721  0.00066446 ...  0.01564833  0.01918935\n",
      "   0.02022654]]\n"
     ]
    }
   ],
   "source": [
    "pca = PCA(n_components = 10)\n",
    "pca.fit(WBC_normalized_gray.T)\n",
    "print(pca.explained_variance_ratio_)\n",
    "print(pca.components_)\n"
   ]
  },
  {
   "cell_type": "code",
   "execution_count": 19,
   "metadata": {},
   "outputs": [],
   "source": [
    "#Principle components\n",
    "U_k = []\n",
    "for i in range(k):\n",
    "    U_k.append(U[:, i])\n",
    "    \n",
    "U_k = np.asarray(U_k)   \n",
    "WBC_tilta_gray = []\n",
    "for WBC in WBC_normalized_gray.T:\n",
    "    WBC_tilta_gray.append(list(map(lambda x:np.inner(x, WBC), U_k.tolist())))\n",
    "    \n",
    "\n"
   ]
  },
  {
   "cell_type": "code",
   "execution_count": 18,
   "metadata": {},
   "outputs": [
    {
     "data": {
      "image/png": "[encoded data removed]",
      "text/plain": [
       "<Figure size 432x288 with 1 Axes>"
      ]
     },
     "metadata": {
      "needs_background": "light"
     },
     "output_type": "display_data"
    }
   ],
   "source": [
    "U_skPCA = pca.components_\n",
    "\n",
    "U_skPCA = np.asarray(U_skPCA)\n",
    "WBC_tilta_gray_sk = []\n",
    "\n",
    "for WBC in WBC_normalized_gray.T:\n",
    "    WBC_tilta_gray_sk.append(list(map(lambda x:np.inner(x, WBC), U_skPCA)))\n",
    "    \n",
    "fig = plt.figure()\n",
    "ax = fig.add_subplot(111)\n",
    "WBC_tilta_gray_sk = np.asarray(WBC_tilta_gray_sk)\n",
    "counter = 0\n",
    "for i in range(len(WBC_tilta_gray_sk)):\n",
    "    if(label_arr[i] == 0):\n",
    "        c = 'g'\n",
    "    if(label_arr[i] == 1):\n",
    "        c = 'r'\n",
    "    if(label_arr[i] == 2):\n",
    "        counter += 1\n",
    "        c = 'b'\n",
    "    if(label_arr[i] == 3):\n",
    "        c = 'y'\n",
    "        \n",
    "    ax.scatter(WBC_tilta_gray_sk[i][0], WBC_tilta_gray_sk[i][1], color = c)\n",
    "\n",
    "plt.show()"
   ]
  },
  {
   "cell_type": "code",
   "execution_count": 8,
   "metadata": {},
   "outputs": [
    {
     "data": {
      "text/plain": [
       "(3600, 10)"
      ]
     },
     "execution_count": 8,
     "metadata": {},
     "output_type": "execute_result"
    }
   ],
   "source": [
    "np.asarray(WBC_tilta_gray_sk).shape"
   ]
  },
  {
   "cell_type": "code",
   "execution_count": 20,
   "metadata": {},
   "outputs": [
    {
     "data": {
      "text/plain": [
       "(110, 3600)"
      ]
     },
     "execution_count": 20,
     "metadata": {},
     "output_type": "execute_result"
    }
   ],
   "source": [
    "U_k.shape"
   ]
  },
  {
   "cell_type": "code",
   "execution_count": 71,
   "metadata": {},
   "outputs": [
    {
     "data": {
      "image/png": "[encoded data removed]",
      "text/plain": [
       "<Figure size 432x288 with 1 Axes>"
      ]
     },
     "metadata": {
      "needs_background": "light"
     },
     "output_type": "display_data"
    }
   ],
   "source": [
    "fig = plt.figure()\n",
    "ax = fig.add_subplot(111)\n",
    "ax.scatter(range(len(S)), S**2/S_total)\n",
    "plt.show()"
   ]
  },
  {
   "cell_type": "code",
   "execution_count": null,
   "metadata": {},
   "outputs": [],
   "source": []
  },
  {
   "cell_type": "code",
   "execution_count": 21,
   "metadata": {},
   "outputs": [
    {
     "data": {
      "image/png": "[encoded data removed]",
      "text/plain": [
       "<Figure size 432x288 with 1 Axes>"
      ]
     },
     "metadata": {
      "needs_background": "light"
     },
     "output_type": "display_data"
    }
   ],
   "source": [
    "#RBC_tilta_list = copy.deepcopy(RBC_tilta)\n",
    "WBC_tilta_gray = np.asarray(WBC_tilta_gray).T\n",
    "WBC_tilta_gray_12 = WBC_tilta_gray[:2]\n",
    "\n",
    "\n",
    "\n",
    "fig = plt.figure()\n",
    "ax = fig.add_subplot(111)\n",
    "WBC_tilta_gray_12 = WBC_tilta_gray_12.T\n",
    "counter = 0\n",
    "for i in range(len(WBC_tilta_gray_12)):\n",
    "    if(label_arr[i] == 0):\n",
    "        c = 'g'\n",
    "    if(label_arr[i] == 1):\n",
    "        c = 'r'\n",
    "    if(label_arr[i] == 2):\n",
    "        counter += 1\n",
    "        c = 'b'\n",
    "    if(label_arr[i] == 3):\n",
    "        c = 'y'\n",
    "        \n",
    "    ax.scatter(WBC_tilta_gray_12[i][0], WBC_tilta_gray_12[i][1], color = c)\n",
    "\n",
    "plt.show()\n"
   ]
  },
  {
   "cell_type": "code",
   "execution_count": 60,
   "metadata": {},
   "outputs": [
    {
     "name": "stdout",
     "output_type": "stream",
     "text": [
      "[ 1  0  0  0  0 -3 -3  0  0 -2  0 -3  0  0  0  0  0  0  0  0  0  0  0  0\n",
      "  0  0 -3  0  0  0  0  0 -3  0  0  0 -3  0  0  0  0  0  0  3  0  0  0  0\n",
      "  0  0  0  0  3  0  0 -3]\n"
     ]
    }
   ],
   "source": [
    "\n",
    "# KNN classifier\n",
    "def KNN_classif(Feature, img_Rep, trainLabels, k):\n",
    "    training_labels = np.asarray(trainLabels)\n",
    "    #compute the distance of the input N-dim Feature to every other point\n",
    "    #\n",
    "    distance=[]\n",
    "    for img in img_Rep.T:\n",
    "        distance.append(np.linalg.norm(img - Feature))\n",
    "    \n",
    "    distance = np.array(distance)\n",
    "    distance_k = distance.argsort()[:k]\n",
    "    neighbors = training_labels[distance_k].tolist()\n",
    "    #print(neighbors)\n",
    "    #x = np.sum(training_labels[distance_k])\n",
    "    #return x\n",
    "    \n",
    "    return max(neighbors, key=neighbors.count)\n",
    "\n",
    "# k-fold Cross Validation \n",
    "cross_validation(samples, labels, k:int):\n",
    "    m,n = np.shape(samples)\n",
    "    k_fold = np.row_stack((samples, labels))\n",
    "    \n",
    "\n",
    "\n",
    "WBC_tilta_gray_train = WBC_tilta_gray[:300, :].T\n",
    "WBC_tilta_gray_test = WBC_tilta_gray[300:, :].T\n",
    "cls = []\n",
    "\n",
    "#for k in range()\n",
    "for i in range(len(WBC_tilta_gray_test[0])):\n",
    "    \n",
    "    cls.append(KNN_classif(WBC_tilta_gray_test[:, i], WBC_tilta_gray_train , label_arr, 19))\n",
    "\n",
    "cls = np.asarray(cls)\n",
    "print(cls-np.asarray(label_arr[300:]))\n",
    "#print(np.sum(cls - np.asarray(label_arr[3000:])))\n",
    "RBC_tilta = np.asarray(RBC_tilta_list).T\n",
    "\n",
    "\n",
    "\n"
   ]
  },
  {
   "cell_type": "code",
   "execution_count": 54,
   "metadata": {},
   "outputs": [
    {
     "data": {
      "text/plain": [
       "(356, 110)"
      ]
     },
     "execution_count": 54,
     "metadata": {},
     "output_type": "execute_result"
    }
   ],
   "source": [
    "WBC_tilta_gray.shape"
   ]
  },
  {
   "cell_type": "code",
   "execution_count": 124,
   "metadata": {},
   "outputs": [
    {
     "name": "stdout",
     "output_type": "stream",
     "text": [
      "239\n"
     ]
    }
   ],
   "source": [
    "print(np.sum(abs(cls - np.asarray(label_arr[3000:]))))"
   ]
  },
  {
   "cell_type": "code",
   "execution_count": 125,
   "metadata": {},
   "outputs": [
    {
     "name": "stdout",
     "output_type": "stream",
     "text": [
      "[1 2 1 2 2 1 1 1 1 1 2 1 1 1 1 1 1 1 1 1 1 2 1 1 1 1 1 2 1 2 2 2 1 1 2 1 1\n",
      " 2 1 1 1 1 2 1 1 1 1 1 1 1 2 1 1 1 1 2 2 1 2 1 1 1 1 2 1 1 1 1 1 2 2 1 1 1\n",
      " 1 2 2 1 1 1 1 1 1 1 1 1 1 1 1 1 1 1 1 1 1 1 2 1 1 1 2 1 1 1 1 1 1 2 1 1 1\n",
      " 2 2 1 1 1 2 1 1 1 2 1 1 2 1 1 1 1 1 1 1 1 1 1 1 1 1 2 1 1 1 2 1 1 1 1 1 1\n",
      " 1 1 1 1 1 1 2 2 1 1 1 1 1 2 1 1 1 1 2 1 1 2 1 1 1 1 1 1 1 1 1 1 1 1 1 1 1\n",
      " 1 1 1 1 1 1 1 1 1 1 1 1 1 1 1 2 1 1 1 1 1 1 2 1 1 2 1 1 1 1 1 1 1 1 1 1 1\n",
      " 1 1 1 1 1 1 1 1 1 2 2 1 1 2 1 1 2 1 1 1 1 1 1 1 1 1 1 1 1 1 1 2 2 2 1 1 1\n",
      " 1 1 1 1 1 1 1 1 1 2 1 1 1 1 1 1 1 2 2 2 1 1 1 1 1 1 1 2 1 2 1 1 1 1 1 1 1\n",
      " 1 1 1 1 1 1 2 1 1 2 1 1 1 1 1 1 2 2 1 1 1 1 1 1 2 1 1 1 1 1 1 1 1 1 1 1 1\n",
      " 1 1 1 1 1 1 1 1 1 1 1 1 1 1 1 1 2 2 1 1 1 1 1 1 1 1 1 1 1 2 1 1 1 1 1 1 2\n",
      " 1 1 2 1 1 1 1 1 1 1 2 1 1 1 1 1 1 1 1 1 1 1 1 1 1 1 2 2 1 1 1 1 2 2 2 1 1\n",
      " 2 1 1 1 1 1 1 1 1 2 1 2 1 1 2 2 1 2 1 1 1 2 1 1 1 2 1 1 1 2 1 1 1 1 1 1 2\n",
      " 2 1 1 1 1 1 2 1 1 1 1 2 1 2 1 1 1 1 1 1 1 1 1 1 1 1 1 1 1 1 1 1 1 1 1 1 1\n",
      " 1 2 1 2 1 1 1 1 1 1 1 2 1 1 1 1 1 1 1 1 1 1 1 2 1 1 1 1 1 1 1 1 1 1 1 1 2\n",
      " 1 1 2 1 1 1 1 1 1 1 1 1 1 1 1 1 1 1 1 1 1 1 1 1 1 1 1 2 1 1 1 1 1 1 1 2 1\n",
      " 1 1 1 2 1 1 1 1 1 1 1 1 2 1 1 1 1 1 2 1 1 1 1 1 2 1 2 1 1 1 1 1 1 1 1 1 1\n",
      " 1 1 2 1 1 1 1 1 1 2 1 2 1 1 1 1 1 1 2 1 2 1 1 1 1 1 1 1 2 1 1 1 1 1 1 1 1\n",
      " 1 1 2 1 1 1 1 1 1 1 1 1 1 1 2 1 1 1 1 1 2 1 1 1 2 1 1 1 1 1 1 1 1 1 1 2 1\n",
      " 1 2 2 1 1 1 1 1 1 1 1 1 1 1 1 1 1 1 1 1 1 1 1 1 1 1 1 1 1 1 1 1 1 1 1 1 1\n",
      " 1 1 1 1 1 2 1 1 1 1 1 1 2 1 1 1 1 1 1 1 1 1 1 1 1 1 1 2 1 1 1 1 1 1 1 1 2\n",
      " 2 1 1 1 1 1 1 2 1 1 2 1 1 1 1 1 1 1 1 1 1 1 1 2 1 1 2 1 1 1 1 1 1 1 2 1 1\n",
      " 1 1 1 1 1 1 1 2 1 1 1 1 1 1 1 1 1 1 1 2 1 1 1 1 1 1 1 1 1 1 1 1 1 1 1 1 1\n",
      " 1 1 1 2 1 1 1 1 2 1 1 1 1 1 1 1 1 1 1 1 1 2 1 2 1 1 1 1 1 1 1 1 2 1 1 1 1\n",
      " 1]\n",
      "1\n",
      "[0, 0, 0, 0, 0]\n"
     ]
    }
   ],
   "source": [
    "print(cls)\n",
    "print(label_arr[3000])\n",
    "print([0 for i in range(5)])"
   ]
  },
  {
   "cell_type": "code",
   "execution_count": 97,
   "metadata": {},
   "outputs": [
    {
     "name": "stdout",
     "output_type": "stream",
     "text": [
      "(3852, 112)\n",
      "(4800, 3852)\n"
     ]
    },
    {
     "ename": "ValueError",
     "evalue": "shapes (2,3) and (2,) not aligned: 3 (dim 1) != 2 (dim 0)",
     "output_type": "error",
     "traceback": [
      "\u001b[1;31m---------------------------------------------------------------------------\u001b[0m",
      "\u001b[1;31mValueError\u001b[0m                                Traceback (most recent call last)",
      "\u001b[1;32m<ipython-input-97-d46e1634c763>\u001b[0m in \u001b[0;36m<module>\u001b[1;34m()\u001b[0m\n\u001b[0;32m      3\u001b[0m \u001b[0mA\u001b[0m \u001b[1;33m=\u001b[0m \u001b[0mnp\u001b[0m\u001b[1;33m.\u001b[0m\u001b[0marray\u001b[0m\u001b[1;33m(\u001b[0m\u001b[1;33m[\u001b[0m\u001b[1;33m[\u001b[0m\u001b[1;36m1\u001b[0m\u001b[1;33m,\u001b[0m\u001b[1;36m2\u001b[0m\u001b[1;33m,\u001b[0m \u001b[1;36m3\u001b[0m\u001b[1;33m]\u001b[0m\u001b[1;33m,\u001b[0m\u001b[1;33m[\u001b[0m\u001b[1;36m3\u001b[0m\u001b[1;33m,\u001b[0m\u001b[1;36m2\u001b[0m\u001b[1;33m,\u001b[0m \u001b[1;36m5\u001b[0m\u001b[1;33m]\u001b[0m\u001b[1;33m]\u001b[0m\u001b[1;33m)\u001b[0m\u001b[1;33m\u001b[0m\u001b[0m\n\u001b[0;32m      4\u001b[0m \u001b[0mB\u001b[0m \u001b[1;33m=\u001b[0m \u001b[0mnp\u001b[0m\u001b[1;33m.\u001b[0m\u001b[0marray\u001b[0m\u001b[1;33m(\u001b[0m\u001b[1;33m[\u001b[0m\u001b[1;36m5\u001b[0m\u001b[1;33m,\u001b[0m\u001b[1;36m1\u001b[0m\u001b[1;33m]\u001b[0m\u001b[1;33m)\u001b[0m\u001b[1;33m\u001b[0m\u001b[0m\n\u001b[1;32m----> 5\u001b[1;33m \u001b[0mnp\u001b[0m\u001b[1;33m.\u001b[0m\u001b[0minner\u001b[0m\u001b[1;33m(\u001b[0m\u001b[0mA\u001b[0m\u001b[1;33m,\u001b[0m \u001b[0mB\u001b[0m\u001b[1;33m)\u001b[0m\u001b[1;33m\u001b[0m\u001b[0m\n\u001b[0m",
      "\u001b[1;31mValueError\u001b[0m: shapes (2,3) and (2,) not aligned: 3 (dim 1) != 2 (dim 0)"
     ]
    }
   ],
   "source": [
    "print(RBC_tilta.shape)\n",
    "print(RBC_normalized.shape)"
   ]
  },
  {
   "cell_type": "code",
   "execution_count": 69,
   "metadata": {},
   "outputs": [
    {
     "name": "stdout",
     "output_type": "stream",
     "text": [
      "(3852, 4800)\n"
     ]
    },
    {
     "data": {
      "text/plain": [
       "2"
      ]
     },
     "execution_count": 69,
     "metadata": {},
     "output_type": "execute_result"
    }
   ],
   "source": [
    "print(RBC_normalized.shape)\n",
    "np.argmax(label_arr)\n",
    "label_arr[2]"
   ]
  },
  {
   "cell_type": "code",
   "execution_count": 31,
   "metadata": {},
   "outputs": [
    {
     "ename": "ValueError",
     "evalue": "operands could not be broadcast together with shapes (366,921600) (1,366) ",
     "output_type": "error",
     "traceback": [
      "\u001b[1;31m---------------------------------------------------------------------------\u001b[0m",
      "\u001b[1;31mValueError\u001b[0m                                Traceback (most recent call last)",
      "\u001b[1;32m<ipython-input-31-d19bfdadbfe8>\u001b[0m in \u001b[0;36m<module>\u001b[1;34m()\u001b[0m\n\u001b[0;32m      1\u001b[0m \u001b[0mRBC_norm\u001b[0m \u001b[1;33m=\u001b[0m \u001b[0mnp\u001b[0m\u001b[1;33m.\u001b[0m\u001b[0mlinalg\u001b[0m\u001b[1;33m.\u001b[0m\u001b[0mnorm\u001b[0m\u001b[1;33m(\u001b[0m\u001b[0mRBC_centered\u001b[0m\u001b[1;33m,\u001b[0m \u001b[0maxis\u001b[0m \u001b[1;33m=\u001b[0m \u001b[1;36m1\u001b[0m\u001b[1;33m)\u001b[0m\u001b[1;33m[\u001b[0m\u001b[0mnp\u001b[0m\u001b[1;33m.\u001b[0m\u001b[0mnewaxis\u001b[0m\u001b[1;33m]\u001b[0m\u001b[1;33m\u001b[0m\u001b[0m\n\u001b[1;32m----> 2\u001b[1;33m \u001b[0mRBC_normalized\u001b[0m \u001b[1;33m=\u001b[0m \u001b[0mRBC_centered\u001b[0m\u001b[1;33m/\u001b[0m\u001b[0mRBC_norm\u001b[0m\u001b[1;33m\u001b[0m\u001b[0m\n\u001b[0m",
      "\u001b[1;31mValueError\u001b[0m: operands could not be broadcast together with shapes (366,921600) (1,366) "
     ]
    }
   ],
   "source": [
    "RBC_norm = np.linalg.norm(RBC_centered, axis = 1)[np.newaxis]\n",
    "RBC_normalized = RBC_centered/RBC_norm.T"
   ]
  },
  {
   "cell_type": "code",
   "execution_count": 26,
   "metadata": {},
   "outputs": [
    {
     "name": "stdout",
     "output_type": "stream",
     "text": [
      "[7. 8. 8. 7. 8. 7. 8. 8. 7. 7. 8. 8. 7. 8. 7. 8. 8. 7.]\n"
     ]
    }
   ],
   "source": [
    "len(RBC_arr)\n",
    "A = [[[1,2,3],[2,3,2],[3,4,3]],[[11,12,13],[12,13,12],[13,14,13]]]\n",
    "A_vec = np.reshape(A, -1)  \n",
    "B_vec = np.flip(A_vec)\n",
    "A_centered = np.mean(np.asarray([A_vec, B_vec]), axis = 0)\n",
    "print(A_centered)"
   ]
  },
  {
   "cell_type": "code",
   "execution_count": 12,
   "metadata": {},
   "outputs": [
    {
     "name": "stdout",
     "output_type": "stream",
     "text": [
      "[[[143 154 176]\n",
      "  [143 154 176]\n",
      "  [145 153 176]\n",
      "  ...\n",
      "  [203 197 190]\n",
      "  [201 195 188]\n",
      "  [199 193 186]]\n",
      "\n",
      " [[143 154 176]\n",
      "  [143 154 176]\n",
      "  [145 153 176]\n",
      "  ...\n",
      "  [203 197 190]\n",
      "  [201 195 188]\n",
      "  [199 193 186]]\n",
      "\n",
      " [[141 155 174]\n",
      "  [141 155 174]\n",
      "  [143 154 174]\n",
      "  ...\n",
      "  [201 198 190]\n",
      "  [199 196 188]\n",
      "  [197 194 186]]\n",
      "\n",
      " ...\n",
      "\n",
      " [[206 205 207]\n",
      "  [201 203 204]\n",
      "  [197 198 202]\n",
      "  ...\n",
      "  [185 124 162]\n",
      "  [191 125 166]\n",
      "  [197 131 172]]\n",
      "\n",
      " [[209 206 208]\n",
      "  [204 203 205]\n",
      "  [198 197 201]\n",
      "  ...\n",
      "  [184 121 161]\n",
      "  [191 123 164]\n",
      "  [196 128 169]]\n",
      "\n",
      " [[210 207 209]\n",
      "  [206 203 205]\n",
      "  [197 196 200]\n",
      "  ...\n",
      "  [183 120 160]\n",
      "  [190 122 163]\n",
      "  [197 127 168]]]\n"
     ]
    }
   ],
   "source": [
    "print(RBC_arr[0])"
   ]
  },
  {
   "cell_type": "code",
   "execution_count": 23,
   "metadata": {},
   "outputs": [],
   "source": [
    "img = RBC_arr[0]\n",
    "\n",
    "def crop_and_resize(img, bound, size):\n",
    "    \n",
    "    xmin, ymin, xmax, ymax = bound\n",
    "    w, h = size\n",
    "    \n",
    "    img_crop = img[ymin:ymax,xmin:xmax]\n",
    "    #cv2.resize(img,None,fx=2, fy=2, interpolation = cv2.INTER_CUBIC)\n",
    "    img_resized = cv2.resize(img_crop,(w, h), interpolation = cv2.INTER_CUBIC)\n",
    "    return img_resized\n",
    "    \n",
    "img_resized = crop_and_resize(img, (100, 50, 250, 200), (100, 100))\n",
    "cv2.imshow('img', img_resized)\n",
    "cv2.waitKey(0)\n",
    "cv2.destroyAllWindows()"
   ]
  }
 ],
 "metadata": {
  "kernelspec": {
   "display_name": "Python 3",
   "language": "python",
   "name": "python3"
  },
  "language_info": {
   "codemirror_mode": {
    "name": "ipython",
    "version": 3
   },
   "file_extension": ".py",
   "mimetype": "text/x-python",
   "name": "python",
   "nbconvert_exporter": "python",
   "pygments_lexer": "ipython3",
   "version": "3.6.6"
  }
 },
 "nbformat": 4,
 "nbformat_minor": 2
}
