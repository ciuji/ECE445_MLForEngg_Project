{
 "cells": [
  {
   "cell_type": "markdown",
   "metadata": {},
   "source": [
    "# White Blood Cells -- Classification"
   ]
  },
  {
   "cell_type": "markdown",
   "metadata": {},
   "source": [
    "## Dataset Description"
   ]
  },
  {
   "cell_type": "markdown",
   "metadata": {},
   "source": [
    "The White Blood Cells dataset consists of 410 images, with 4 classes:  Eosinophil, Lymphocyte, Monocyte, and Neutrophil. Each of the images contains one White Blood Cells, surrounded by multiple red blood cells. The accompanying xml files contain bounding boxes for the segmentation of white blood cell images."
   ]
  },
  {
   "cell_type": "markdown",
   "metadata": {},
   "source": [
    "In the Blood Cell dataset, the raw data is images of multiple blood cells of size 640*480. For our classification purpose, we want to crop the exact white blood cell from each images. The Class of the White Cell does not depend on the context or the surrounding cells, so we crop the exact cell to reduce the data dimension.\n",
    "\n",
    "For each of the images, the white blood cell is marked out by a corresponding .xml file. \n",
    "\n",
    "The label is given in a csv file, with a few entries left blank or having multiple classes. We eliminate these bad inputs and left with 356 valid data samples."
   ]
  },
  {
   "cell_type": "code",
   "execution_count": 1,
   "metadata": {},
   "outputs": [],
   "source": [
    "import csv\n",
    "import numpy as np\n",
    "import cv2\n",
    "import glob, copy, os\n",
    "import xml.etree.ElementTree\n",
    "import matplotlib.pyplot as plt\n",
    "from sklearn.metrics import confusion_matrix\n",
    "from sklearn.decomposition import PCA"
   ]
  },
  {
   "cell_type": "code",
   "execution_count": 2,
   "metadata": {},
   "outputs": [],
   "source": [
    "\n",
    "class Reading(object):\n",
    "    \"\"\"__init__() functions as the class constructor\"\"\"\n",
    "    def __init__(self, xmin=None, ymin=None, xmax=None, ymax=None, typ=None, name=None):\n",
    "        \"\"\"self.difficult = difficult\n",
    "        self.truncated = truncated\"\"\"\n",
    "        self.xmin = xmin\n",
    "        self.xmax = xmax\n",
    "        self.ymin = ymin\n",
    "        self.ymax = ymax\n",
    "        self.typ = typ\n",
    "        self.name = name\n",
    "\n",
    "docs = sorted(glob.glob('BCCD_Dataset-master/BCCD/Annotations/' + '*.xml'))      \n",
    "\n",
    "list_reading_arr = []\n",
    "with open('BCCD_Dataset-master/labels.csv') as csv_file:\n",
    "    csv_reader = csv.reader(csv_file, delimiter=',')\n",
    "    label_arr = []\n",
    "    counter = 0\n",
    "    for row in csv_reader:\n",
    "        if counter != 0 and row[2] != \"\":\n",
    "            label_arr.append([row[1], row[2]])\n",
    "        #if :\n",
    "        #   label_arr.append()\n",
    "        counter += 1\n",
    "\n",
    "index = 0\n",
    "for i in range(len(docs)):\n",
    "    label_this='B'\n",
    "    #tree = xml.etree.ElementTree.parse('//dataset-master//Annotations//BloodImage_00000.xml')\n",
    "    #print(doc + \" \" + label_arr[index][1])\n",
    "    if(int(label_arr[index][0]) == int(docs[i][-9:-4])):\n",
    "        label_this = label_arr[index][1][0]\n",
    "    \n",
    "    else:\n",
    "        if(int(label_arr[index-1][0]) == int(docs[i][-9:-4])):\n",
    "            #print('-1')\n",
    "            #print(docs[i][-9:-4])\n",
    "            #print(label_this)\n",
    "            index += -1\n",
    "            i+=-1\n",
    "            label_this = label_arr[index][1][0]\n",
    "        if(int(label_arr[index+1][0]) == int(docs[i][-9:-4])):\n",
    "            #print('+1')\n",
    "            #print(docs[i][-9:-4])\n",
    "            #print(label_this)\n",
    "            label_this = label_arr[index+1][1][0]\n",
    "            #i+=1\n",
    "            index += 1\n",
    "    \n",
    "    if(label_this == 'B'):\n",
    "        index += 1\n",
    "        #i+=1\n",
    "        #print(docs[i])\n",
    "        #docs.remove(doc)\n",
    "        continue\n",
    "    if(label_this == ''):\n",
    "        index += 1\n",
    "        #i+=1\n",
    "        #print(docs[i])\n",
    "        #docs.remove(doc)\n",
    "        continue\n",
    "    \"\"\"\"\"\"   \n",
    "    tree = xml.etree.ElementTree.parse(docs[i])\n",
    "    root = tree.getroot()\n",
    "    len_data = int(len(tree.findall('.//object//'))/9)\n",
    "    #list_reading = [Reading() for i in range(len_data)]\n",
    "    read = Reading()\n",
    "    #print(doc)\n",
    "   \n",
    "            #continue\n",
    "    #print(doc + label_this)\n",
    "    count = 0\n",
    "    #print(\"Print out the attrib of the root:\\n\")\n",
    "    #list_reading[index_of_reading].typ = label_this\n",
    "    #list_reading[index_of_reading].name = docs[i]\n",
    "    read.typ = label_this\n",
    "    read.name = docs[i]\n",
    "    for objs in tree.findall('.//object//'):\n",
    "        index_of_reading = int(count/9)\n",
    "        #if(list_reading[index_of_reading])\n",
    "        \"\"\"if count%9 == 2:\n",
    "            list_reading[index_of_reading].truncated = int(objs.text)\n",
    "        if count%9 == 3:\n",
    "            list_reading[index_of_reading].difficult = int(objs.text)\"\"\"\n",
    "        #print(objs.text)\n",
    "        \n",
    "        if count%9 == 0:\n",
    "            if objs.text != \"WBC\":\n",
    "                #print(\"NO WBC\")\n",
    "                continue\n",
    "        if count%9 == 5:\n",
    "            #list_reading[index_of_reading].xmin = int(objs.text)\n",
    "            read.xmin = int(objs.text)\n",
    "        if count%9 == 6:\n",
    "            #list_reading[index_of_reading].ymin = int(objs.text)\n",
    "            read.ymin = int(objs.text)\n",
    "        if count%9 == 7:\n",
    "            #list_reading[index_of_reading].xmax = int(objs.text)\n",
    "            read.xmax = int(objs.text)\n",
    "        if count%9 == 8:\n",
    "            #list_reading[index_of_reading].ymax = int(objs.text)\n",
    "            read.ymax = int(objs.text)\n",
    "             \n",
    "        \n",
    "        count+=1\n",
    "    \n",
    "    #print(docs[i] + label_this)\n",
    "    list_reading_arr.append(read)\n",
    "    for j in list_reading_arr:\n",
    "        if j.xmax == j.xmin or j.ymax == j.ymin:\n",
    "            #print(doc)\n",
    "            list_reading_arr.remove(j)\n",
    "        #print(\"cordinates:\",i.xmin,i.ymin,i.xmax,i.ymax)\n",
    "    index += 1\n",
    "    \n",
    "    \n",
    "#print(list_reading_arr[0][0].xmin)\n",
    "\n",
    "    "
   ]
  },
  {
   "cell_type": "code",
   "execution_count": 100,
   "metadata": {},
   "outputs": [
    {
     "name": "stdout",
     "output_type": "stream",
     "text": [
      "BCCD_Dataset-master/BCCD/Annotations\\BloodImage_00000.xmlN\n",
      "BCCD_Dataset-master/BCCD/Annotations\\BloodImage_00001.xmlN\n",
      "BCCD_Dataset-master/BCCD/Annotations\\BloodImage_00002.xmlN\n",
      "BCCD_Dataset-master/BCCD/Annotations\\BloodImage_00003.xmlN\n",
      "BCCD_Dataset-master/BCCD/Annotations\\BloodImage_00004.xmlN\n",
      "BCCD_Dataset-master/BCCD/Annotations\\BloodImage_00005.xmlN\n",
      "BCCD_Dataset-master/BCCD/Annotations\\BloodImage_00006.xmlN\n",
      "BCCD_Dataset-master/BCCD/Annotations\\BloodImage_00007.xmlN\n",
      "BCCD_Dataset-master/BCCD/Annotations\\BloodImage_00009.xmlE\n",
      "BCCD_Dataset-master/BCCD/Annotations\\BloodImage_00010.xmlN\n",
      "BCCD_Dataset-master/BCCD/Annotations\\BloodImage_00011.xmlN\n",
      "BCCD_Dataset-master/BCCD/Annotations\\BloodImage_00012.xmlN\n",
      "BCCD_Dataset-master/BCCD/Annotations\\BloodImage_00013.xmlN\n",
      "BCCD_Dataset-master/BCCD/Annotations\\BloodImage_00014.xmlN\n",
      "BCCD_Dataset-master/BCCD/Annotations\\BloodImage_00015.xmlM\n",
      "BCCD_Dataset-master/BCCD/Annotations\\BloodImage_00016.xmlN\n",
      "BCCD_Dataset-master/BCCD/Annotations\\BloodImage_00017.xmlE\n",
      "BCCD_Dataset-master/BCCD/Annotations\\BloodImage_00018.xmlN\n",
      "BCCD_Dataset-master/BCCD/Annotations\\BloodImage_00019.xmlN\n",
      "BCCD_Dataset-master/BCCD/Annotations\\BloodImage_00020.xmlL\n",
      "BCCD_Dataset-master/BCCD/Annotations\\BloodImage_00021.xmlL\n",
      "BCCD_Dataset-master/BCCD/Annotations\\BloodImage_00022.xmlN\n",
      "BCCD_Dataset-master/BCCD/Annotations\\BloodImage_00023.xmlE\n",
      "BCCD_Dataset-master/BCCD/Annotations\\BloodImage_00024.xmlN\n",
      "BCCD_Dataset-master/BCCD/Annotations\\BloodImage_00026.xmlE\n",
      "BCCD_Dataset-master/BCCD/Annotations\\BloodImage_00028.xmlE\n",
      "BCCD_Dataset-master/BCCD/Annotations\\BloodImage_00029.xmlN\n",
      "BCCD_Dataset-master/BCCD/Annotations\\BloodImage_00030.xmlN\n",
      "BCCD_Dataset-master/BCCD/Annotations\\BloodImage_00031.xmlN\n",
      "BCCD_Dataset-master/BCCD/Annotations\\BloodImage_00032.xmlN\n",
      "BCCD_Dataset-master/BCCD/Annotations\\BloodImage_00033.xmlN\n",
      "BCCD_Dataset-master/BCCD/Annotations\\BloodImage_00034.xmlN\n",
      "BCCD_Dataset-master/BCCD/Annotations\\BloodImage_00035.xmlN\n",
      "BCCD_Dataset-master/BCCD/Annotations\\BloodImage_00036.xmlE\n",
      "BCCD_Dataset-master/BCCD/Annotations\\BloodImage_00037.xmlL\n",
      "BCCD_Dataset-master/BCCD/Annotations\\BloodImage_00038.xmlL\n",
      "BCCD_Dataset-master/BCCD/Annotations\\BloodImage_00039.xmlN\n",
      "BCCD_Dataset-master/BCCD/Annotations\\BloodImage_00040.xmlM\n",
      "BCCD_Dataset-master/BCCD/Annotations\\BloodImage_00041.xmlE\n",
      "BCCD_Dataset-master/BCCD/Annotations\\BloodImage_00042.xmlE\n",
      "BCCD_Dataset-master/BCCD/Annotations\\BloodImage_00043.xmlN\n",
      "BCCD_Dataset-master/BCCD/Annotations\\BloodImage_00044.xmlE\n",
      "BCCD_Dataset-master/BCCD/Annotations\\BloodImage_00045.xmlE\n",
      "BCCD_Dataset-master/BCCD/Annotations\\BloodImage_00046.xmlN\n",
      "BCCD_Dataset-master/BCCD/Annotations\\BloodImage_00047.xmlL\n",
      "BCCD_Dataset-master/BCCD/Annotations\\BloodImage_00048.xmlE\n",
      "BCCD_Dataset-master/BCCD/Annotations\\BloodImage_00049.xmlE\n",
      "BCCD_Dataset-master/BCCD/Annotations\\BloodImage_00050.xmlN\n",
      "BCCD_Dataset-master/BCCD/Annotations\\BloodImage_00052.xmlN\n",
      "BCCD_Dataset-master/BCCD/Annotations\\BloodImage_00053.xmlN\n",
      "BCCD_Dataset-master/BCCD/Annotations\\BloodImage_00054.xmlL\n",
      "BCCD_Dataset-master/BCCD/Annotations\\BloodImage_00055.xmlL\n",
      "BCCD_Dataset-master/BCCD/Annotations\\BloodImage_00056.xmlE\n",
      "BCCD_Dataset-master/BCCD/Annotations\\BloodImage_00057.xmlE\n",
      "BCCD_Dataset-master/BCCD/Annotations\\BloodImage_00058.xmlE\n",
      "BCCD_Dataset-master/BCCD/Annotations\\BloodImage_00059.xmlE\n",
      "BCCD_Dataset-master/BCCD/Annotations\\BloodImage_00062.xmlE\n",
      "BCCD_Dataset-master/BCCD/Annotations\\BloodImage_00063.xmlN\n",
      "BCCD_Dataset-master/BCCD/Annotations\\BloodImage_00064.xmlE\n",
      "BCCD_Dataset-master/BCCD/Annotations\\BloodImage_00065.xmlN\n",
      "BCCD_Dataset-master/BCCD/Annotations\\BloodImage_00066.xmlN\n",
      "BCCD_Dataset-master/BCCD/Annotations\\BloodImage_00067.xmlN\n",
      "BCCD_Dataset-master/BCCD/Annotations\\BloodImage_00068.xmlE\n",
      "BCCD_Dataset-master/BCCD/Annotations\\BloodImage_00069.xmlE\n",
      "BCCD_Dataset-master/BCCD/Annotations\\BloodImage_00070.xmlE\n",
      "BCCD_Dataset-master/BCCD/Annotations\\BloodImage_00071.xmlN\n",
      "BCCD_Dataset-master/BCCD/Annotations\\BloodImage_00072.xmlN\n",
      "BCCD_Dataset-master/BCCD/Annotations\\BloodImage_00073.xmlN\n",
      "BCCD_Dataset-master/BCCD/Annotations\\BloodImage_00074.xmlN\n",
      "BCCD_Dataset-master/BCCD/Annotations\\BloodImage_00075.xmlE\n",
      "BCCD_Dataset-master/BCCD/Annotations\\BloodImage_00076.xmlL\n",
      "BCCD_Dataset-master/BCCD/Annotations\\BloodImage_00077.xmlN\n",
      "BCCD_Dataset-master/BCCD/Annotations\\BloodImage_00078.xmlN\n",
      "BCCD_Dataset-master/BCCD/Annotations\\BloodImage_00079.xmlN\n",
      "BCCD_Dataset-master/BCCD/Annotations\\BloodImage_00081.xmlN\n",
      "BCCD_Dataset-master/BCCD/Annotations\\BloodImage_00082.xmlN\n",
      "BCCD_Dataset-master/BCCD/Annotations\\BloodImage_00083.xmlM\n",
      "BCCD_Dataset-master/BCCD/Annotations\\BloodImage_00086.xmlN\n",
      "BCCD_Dataset-master/BCCD/Annotations\\BloodImage_00087.xmlN\n",
      "BCCD_Dataset-master/BCCD/Annotations\\BloodImage_00088.xmlE\n",
      "BCCD_Dataset-master/BCCD/Annotations\\BloodImage_00089.xmlL\n",
      "BCCD_Dataset-master/BCCD/Annotations\\BloodImage_00090.xmlE\n",
      "BCCD_Dataset-master/BCCD/Annotations\\BloodImage_00091.xmlN\n",
      "BCCD_Dataset-master/BCCD/Annotations\\BloodImage_00092.xmlN\n",
      "BCCD_Dataset-master/BCCD/Annotations\\BloodImage_00093.xmlE\n",
      "BCCD_Dataset-master/BCCD/Annotations\\BloodImage_00094.xmlE\n",
      "BCCD_Dataset-master/BCCD/Annotations\\BloodImage_00095.xmlE\n",
      "BCCD_Dataset-master/BCCD/Annotations\\BloodImage_00097.xmlE\n",
      "BCCD_Dataset-master/BCCD/Annotations\\BloodImage_00098.xmlN\n",
      "BCCD_Dataset-master/BCCD/Annotations\\BloodImage_00099.xmlL\n",
      "BCCD_Dataset-master/BCCD/Annotations\\BloodImage_00100.xmlE\n",
      "BCCD_Dataset-master/BCCD/Annotations\\BloodImage_00101.xmlE\n",
      "BCCD_Dataset-master/BCCD/Annotations\\BloodImage_00103.xmlE\n",
      "BCCD_Dataset-master/BCCD/Annotations\\BloodImage_00104.xmlM\n",
      "BCCD_Dataset-master/BCCD/Annotations\\BloodImage_00106.xmlN\n",
      "BCCD_Dataset-master/BCCD/Annotations\\BloodImage_00107.xmlE\n",
      "BCCD_Dataset-master/BCCD/Annotations\\BloodImage_00108.xmlE\n",
      "BCCD_Dataset-master/BCCD/Annotations\\BloodImage_00109.xmlE\n",
      "BCCD_Dataset-master/BCCD/Annotations\\BloodImage_00110.xmlM\n",
      "BCCD_Dataset-master/BCCD/Annotations\\BloodImage_00111.xmlL\n",
      "BCCD_Dataset-master/BCCD/Annotations\\BloodImage_00112.xmlN\n",
      "BCCD_Dataset-master/BCCD/Annotations\\BloodImage_00113.xmlN\n",
      "BCCD_Dataset-master/BCCD/Annotations\\BloodImage_00114.xmlE\n",
      "BCCD_Dataset-master/BCCD/Annotations\\BloodImage_00115.xmlN\n",
      "BCCD_Dataset-master/BCCD/Annotations\\BloodImage_00120.xmlL\n",
      "BCCD_Dataset-master/BCCD/Annotations\\BloodImage_00123.xmlE\n",
      "BCCD_Dataset-master/BCCD/Annotations\\BloodImage_00124.xmlN\n",
      "BCCD_Dataset-master/BCCD/Annotations\\BloodImage_00125.xmlN\n",
      "BCCD_Dataset-master/BCCD/Annotations\\BloodImage_00126.xmlN\n",
      "BCCD_Dataset-master/BCCD/Annotations\\BloodImage_00127.xmlM\n",
      "BCCD_Dataset-master/BCCD/Annotations\\BloodImage_00130.xmlN\n",
      "BCCD_Dataset-master/BCCD/Annotations\\BloodImage_00134.xmlL\n",
      "BCCD_Dataset-master/BCCD/Annotations\\BloodImage_00136.xmlN\n",
      "BCCD_Dataset-master/BCCD/Annotations\\BloodImage_00137.xmlE\n",
      "BCCD_Dataset-master/BCCD/Annotations\\BloodImage_00139.xmlE\n",
      "BCCD_Dataset-master/BCCD/Annotations\\BloodImage_00140.xmlL\n",
      "BCCD_Dataset-master/BCCD/Annotations\\BloodImage_00141.xmlE\n",
      "BCCD_Dataset-master/BCCD/Annotations\\BloodImage_00142.xmlN\n",
      "BCCD_Dataset-master/BCCD/Annotations\\BloodImage_00143.xmlE\n",
      "BCCD_Dataset-master/BCCD/Annotations\\BloodImage_00144.xmlE\n",
      "BCCD_Dataset-master/BCCD/Annotations\\BloodImage_00145.xmlN\n",
      "BCCD_Dataset-master/BCCD/Annotations\\BloodImage_00147.xmlE\n",
      "BCCD_Dataset-master/BCCD/Annotations\\BloodImage_00148.xmlL\n",
      "BCCD_Dataset-master/BCCD/Annotations\\BloodImage_00149.xmlE\n",
      "BCCD_Dataset-master/BCCD/Annotations\\BloodImage_00150.xmlN\n",
      "BCCD_Dataset-master/BCCD/Annotations\\BloodImage_00152.xmlE\n",
      "BCCD_Dataset-master/BCCD/Annotations\\BloodImage_00154.xmlE\n",
      "BCCD_Dataset-master/BCCD/Annotations\\BloodImage_00156.xmlN\n",
      "BCCD_Dataset-master/BCCD/Annotations\\BloodImage_00157.xmlL\n",
      "BCCD_Dataset-master/BCCD/Annotations\\BloodImage_00158.xmlE\n",
      "BCCD_Dataset-master/BCCD/Annotations\\BloodImage_00159.xmlN\n",
      "BCCD_Dataset-master/BCCD/Annotations\\BloodImage_00160.xmlE\n",
      "BCCD_Dataset-master/BCCD/Annotations\\BloodImage_00161.xmlN\n",
      "BCCD_Dataset-master/BCCD/Annotations\\BloodImage_00162.xmlE\n",
      "BCCD_Dataset-master/BCCD/Annotations\\BloodImage_00163.xmlN\n",
      "BCCD_Dataset-master/BCCD/Annotations\\BloodImage_00164.xmlN\n",
      "BCCD_Dataset-master/BCCD/Annotations\\BloodImage_00165.xmlE\n",
      "BCCD_Dataset-master/BCCD/Annotations\\BloodImage_00166.xmlN\n",
      "BCCD_Dataset-master/BCCD/Annotations\\BloodImage_00167.xmlN\n",
      "BCCD_Dataset-master/BCCD/Annotations\\BloodImage_00168.xmlN\n",
      "BCCD_Dataset-master/BCCD/Annotations\\BloodImage_00169.xmlN\n",
      "BCCD_Dataset-master/BCCD/Annotations\\BloodImage_00170.xmlN\n",
      "BCCD_Dataset-master/BCCD/Annotations\\BloodImage_00172.xmlN\n",
      "BCCD_Dataset-master/BCCD/Annotations\\BloodImage_00174.xmlN\n",
      "BCCD_Dataset-master/BCCD/Annotations\\BloodImage_00175.xmlN\n",
      "BCCD_Dataset-master/BCCD/Annotations\\BloodImage_00176.xmlM\n",
      "BCCD_Dataset-master/BCCD/Annotations\\BloodImage_00177.xmlE\n",
      "BCCD_Dataset-master/BCCD/Annotations\\BloodImage_00179.xmlN\n",
      "BCCD_Dataset-master/BCCD/Annotations\\BloodImage_00180.xmlE\n",
      "BCCD_Dataset-master/BCCD/Annotations\\BloodImage_00182.xmlN\n",
      "BCCD_Dataset-master/BCCD/Annotations\\BloodImage_00183.xmlE\n",
      "BCCD_Dataset-master/BCCD/Annotations\\BloodImage_00184.xmlE\n",
      "BCCD_Dataset-master/BCCD/Annotations\\BloodImage_00187.xmlE\n",
      "BCCD_Dataset-master/BCCD/Annotations\\BloodImage_00189.xmlN\n",
      "BCCD_Dataset-master/BCCD/Annotations\\BloodImage_00190.xmlN\n",
      "BCCD_Dataset-master/BCCD/Annotations\\BloodImage_00191.xmlL\n",
      "BCCD_Dataset-master/BCCD/Annotations\\BloodImage_00192.xmlN\n",
      "BCCD_Dataset-master/BCCD/Annotations\\BloodImage_00193.xmlN\n",
      "BCCD_Dataset-master/BCCD/Annotations\\BloodImage_00195.xmlL\n",
      "BCCD_Dataset-master/BCCD/Annotations\\BloodImage_00196.xmlM\n",
      "BCCD_Dataset-master/BCCD/Annotations\\BloodImage_00197.xmlN\n",
      "BCCD_Dataset-master/BCCD/Annotations\\BloodImage_00198.xmlN\n",
      "BCCD_Dataset-master/BCCD/Annotations\\BloodImage_00199.xmlN\n",
      "BCCD_Dataset-master/BCCD/Annotations\\BloodImage_00200.xmlE\n",
      "BCCD_Dataset-master/BCCD/Annotations\\BloodImage_00201.xmlN\n",
      "BCCD_Dataset-master/BCCD/Annotations\\BloodImage_00202.xmlE\n",
      "BCCD_Dataset-master/BCCD/Annotations\\BloodImage_00203.xmlN\n",
      "BCCD_Dataset-master/BCCD/Annotations\\BloodImage_00204.xmlE\n",
      "BCCD_Dataset-master/BCCD/Annotations\\BloodImage_00205.xmlN\n",
      "BCCD_Dataset-master/BCCD/Annotations\\BloodImage_00206.xmlL\n",
      "BCCD_Dataset-master/BCCD/Annotations\\BloodImage_00207.xmlN\n",
      "BCCD_Dataset-master/BCCD/Annotations\\BloodImage_00208.xmlE\n",
      "BCCD_Dataset-master/BCCD/Annotations\\BloodImage_00209.xmlN\n",
      "BCCD_Dataset-master/BCCD/Annotations\\BloodImage_00210.xmlN\n",
      "BCCD_Dataset-master/BCCD/Annotations\\BloodImage_00211.xmlL\n",
      "BCCD_Dataset-master/BCCD/Annotations\\BloodImage_00212.xmlN\n",
      "BCCD_Dataset-master/BCCD/Annotations\\BloodImage_00214.xmlN\n",
      "BCCD_Dataset-master/BCCD/Annotations\\BloodImage_00215.xmlN\n",
      "BCCD_Dataset-master/BCCD/Annotations\\BloodImage_00216.xmlN\n",
      "BCCD_Dataset-master/BCCD/Annotations\\BloodImage_00217.xmlL\n",
      "BCCD_Dataset-master/BCCD/Annotations\\BloodImage_00218.xmlN\n",
      "BCCD_Dataset-master/BCCD/Annotations\\BloodImage_00219.xmlE\n",
      "BCCD_Dataset-master/BCCD/Annotations\\BloodImage_00220.xmlE\n",
      "BCCD_Dataset-master/BCCD/Annotations\\BloodImage_00221.xmlN\n",
      "BCCD_Dataset-master/BCCD/Annotations\\BloodImage_00222.xmlN\n",
      "BCCD_Dataset-master/BCCD/Annotations\\BloodImage_00223.xmlN\n",
      "BCCD_Dataset-master/BCCD/Annotations\\BloodImage_00224.xmlL\n",
      "BCCD_Dataset-master/BCCD/Annotations\\BloodImage_00225.xmlM\n",
      "BCCD_Dataset-master/BCCD/Annotations\\BloodImage_00226.xmlE\n",
      "BCCD_Dataset-master/BCCD/Annotations\\BloodImage_00227.xmlN\n",
      "BCCD_Dataset-master/BCCD/Annotations\\BloodImage_00229.xmlL\n",
      "BCCD_Dataset-master/BCCD/Annotations\\BloodImage_00230.xmlN\n",
      "BCCD_Dataset-master/BCCD/Annotations\\BloodImage_00231.xmlN\n",
      "BCCD_Dataset-master/BCCD/Annotations\\BloodImage_00232.xmlM\n",
      "BCCD_Dataset-master/BCCD/Annotations\\BloodImage_00233.xmlL\n",
      "BCCD_Dataset-master/BCCD/Annotations\\BloodImage_00234.xmlN\n",
      "BCCD_Dataset-master/BCCD/Annotations\\BloodImage_00235.xmlN\n",
      "BCCD_Dataset-master/BCCD/Annotations\\BloodImage_00236.xmlE\n",
      "BCCD_Dataset-master/BCCD/Annotations\\BloodImage_00237.xmlN\n",
      "BCCD_Dataset-master/BCCD/Annotations\\BloodImage_00239.xmlN\n",
      "BCCD_Dataset-master/BCCD/Annotations\\BloodImage_00240.xmlE\n",
      "BCCD_Dataset-master/BCCD/Annotations\\BloodImage_00241.xmlL\n",
      "BCCD_Dataset-master/BCCD/Annotations\\BloodImage_00242.xmlN\n",
      "BCCD_Dataset-master/BCCD/Annotations\\BloodImage_00243.xmlN\n",
      "BCCD_Dataset-master/BCCD/Annotations\\BloodImage_00244.xmlN\n",
      "BCCD_Dataset-master/BCCD/Annotations\\BloodImage_00245.xmlN\n",
      "BCCD_Dataset-master/BCCD/Annotations\\BloodImage_00246.xmlN\n",
      "BCCD_Dataset-master/BCCD/Annotations\\BloodImage_00247.xmlN\n",
      "BCCD_Dataset-master/BCCD/Annotations\\BloodImage_00248.xmlN\n",
      "BCCD_Dataset-master/BCCD/Annotations\\BloodImage_00249.xmlN\n",
      "BCCD_Dataset-master/BCCD/Annotations\\BloodImage_00250.xmlN\n",
      "BCCD_Dataset-master/BCCD/Annotations\\BloodImage_00251.xmlE\n",
      "BCCD_Dataset-master/BCCD/Annotations\\BloodImage_00252.xmlN\n",
      "BCCD_Dataset-master/BCCD/Annotations\\BloodImage_00253.xmlE\n",
      "BCCD_Dataset-master/BCCD/Annotations\\BloodImage_00254.xmlL\n",
      "BCCD_Dataset-master/BCCD/Annotations\\BloodImage_00255.xmlM\n",
      "BCCD_Dataset-master/BCCD/Annotations\\BloodImage_00256.xmlN\n",
      "BCCD_Dataset-master/BCCD/Annotations\\BloodImage_00257.xmlN\n",
      "BCCD_Dataset-master/BCCD/Annotations\\BloodImage_00258.xmlL\n",
      "BCCD_Dataset-master/BCCD/Annotations\\BloodImage_00259.xmlE\n",
      "BCCD_Dataset-master/BCCD/Annotations\\BloodImage_00260.xmlN\n",
      "BCCD_Dataset-master/BCCD/Annotations\\BloodImage_00261.xmlE\n",
      "BCCD_Dataset-master/BCCD/Annotations\\BloodImage_00262.xmlM\n",
      "BCCD_Dataset-master/BCCD/Annotations\\BloodImage_00263.xmlN\n",
      "BCCD_Dataset-master/BCCD/Annotations\\BloodImage_00264.xmlL\n",
      "BCCD_Dataset-master/BCCD/Annotations\\BloodImage_00265.xmlE\n",
      "BCCD_Dataset-master/BCCD/Annotations\\BloodImage_00266.xmlN\n",
      "BCCD_Dataset-master/BCCD/Annotations\\BloodImage_00267.xmlN\n",
      "BCCD_Dataset-master/BCCD/Annotations\\BloodImage_00268.xmlN\n",
      "BCCD_Dataset-master/BCCD/Annotations\\BloodImage_00269.xmlE\n",
      "BCCD_Dataset-master/BCCD/Annotations\\BloodImage_00270.xmlL\n",
      "BCCD_Dataset-master/BCCD/Annotations\\BloodImage_00271.xmlE\n",
      "BCCD_Dataset-master/BCCD/Annotations\\BloodImage_00272.xmlN\n",
      "BCCD_Dataset-master/BCCD/Annotations\\BloodImage_00273.xmlN\n",
      "BCCD_Dataset-master/BCCD/Annotations\\BloodImage_00274.xmlE\n",
      "BCCD_Dataset-master/BCCD/Annotations\\BloodImage_00275.xmlL\n",
      "BCCD_Dataset-master/BCCD/Annotations\\BloodImage_00276.xmlN\n",
      "BCCD_Dataset-master/BCCD/Annotations\\BloodImage_00277.xmlE\n",
      "BCCD_Dataset-master/BCCD/Annotations\\BloodImage_00278.xmlM\n",
      "BCCD_Dataset-master/BCCD/Annotations\\BloodImage_00279.xmlN\n",
      "BCCD_Dataset-master/BCCD/Annotations\\BloodImage_00281.xmlM\n",
      "BCCD_Dataset-master/BCCD/Annotations\\BloodImage_00282.xmlN\n",
      "BCCD_Dataset-master/BCCD/Annotations\\BloodImage_00283.xmlL\n",
      "BCCD_Dataset-master/BCCD/Annotations\\BloodImage_00284.xmlE\n",
      "BCCD_Dataset-master/BCCD/Annotations\\BloodImage_00285.xmlN\n",
      "BCCD_Dataset-master/BCCD/Annotations\\BloodImage_00287.xmlN\n",
      "BCCD_Dataset-master/BCCD/Annotations\\BloodImage_00288.xmlN\n",
      "BCCD_Dataset-master/BCCD/Annotations\\BloodImage_00289.xmlE\n",
      "BCCD_Dataset-master/BCCD/Annotations\\BloodImage_00290.xmlE\n",
      "BCCD_Dataset-master/BCCD/Annotations\\BloodImage_00291.xmlM\n",
      "BCCD_Dataset-master/BCCD/Annotations\\BloodImage_00292.xmlE\n",
      "BCCD_Dataset-master/BCCD/Annotations\\BloodImage_00293.xmlN\n",
      "BCCD_Dataset-master/BCCD/Annotations\\BloodImage_00294.xmlN\n",
      "BCCD_Dataset-master/BCCD/Annotations\\BloodImage_00295.xmlN\n",
      "BCCD_Dataset-master/BCCD/Annotations\\BloodImage_00296.xmlN\n",
      "BCCD_Dataset-master/BCCD/Annotations\\BloodImage_00297.xmlN\n",
      "BCCD_Dataset-master/BCCD/Annotations\\BloodImage_00298.xmlN\n",
      "BCCD_Dataset-master/BCCD/Annotations\\BloodImage_00299.xmlE\n",
      "BCCD_Dataset-master/BCCD/Annotations\\BloodImage_00300.xmlN\n",
      "BCCD_Dataset-master/BCCD/Annotations\\BloodImage_00301.xmlN\n",
      "BCCD_Dataset-master/BCCD/Annotations\\BloodImage_00302.xmlN\n",
      "BCCD_Dataset-master/BCCD/Annotations\\BloodImage_00303.xmlN\n",
      "BCCD_Dataset-master/BCCD/Annotations\\BloodImage_00304.xmlN\n",
      "BCCD_Dataset-master/BCCD/Annotations\\BloodImage_00305.xmlL\n",
      "BCCD_Dataset-master/BCCD/Annotations\\BloodImage_00307.xmlN\n",
      "BCCD_Dataset-master/BCCD/Annotations\\BloodImage_00308.xmlN\n",
      "BCCD_Dataset-master/BCCD/Annotations\\BloodImage_00309.xmlM\n",
      "BCCD_Dataset-master/BCCD/Annotations\\BloodImage_00310.xmlN\n",
      "BCCD_Dataset-master/BCCD/Annotations\\BloodImage_00311.xmlN\n",
      "BCCD_Dataset-master/BCCD/Annotations\\BloodImage_00312.xmlM\n",
      "BCCD_Dataset-master/BCCD/Annotations\\BloodImage_00313.xmlN\n",
      "BCCD_Dataset-master/BCCD/Annotations\\BloodImage_00314.xmlN\n",
      "BCCD_Dataset-master/BCCD/Annotations\\BloodImage_00315.xmlN\n",
      "BCCD_Dataset-master/BCCD/Annotations\\BloodImage_00317.xmlN\n",
      "BCCD_Dataset-master/BCCD/Annotations\\BloodImage_00318.xmlM\n",
      "BCCD_Dataset-master/BCCD/Annotations\\BloodImage_00319.xmlE\n",
      "BCCD_Dataset-master/BCCD/Annotations\\BloodImage_00320.xmlN\n",
      "BCCD_Dataset-master/BCCD/Annotations\\BloodImage_00322.xmlN\n",
      "BCCD_Dataset-master/BCCD/Annotations\\BloodImage_00323.xmlM\n",
      "BCCD_Dataset-master/BCCD/Annotations\\BloodImage_00324.xmlN\n",
      "BCCD_Dataset-master/BCCD/Annotations\\BloodImage_00325.xmlN\n",
      "BCCD_Dataset-master/BCCD/Annotations\\BloodImage_00326.xmlN\n",
      "BCCD_Dataset-master/BCCD/Annotations\\BloodImage_00330.xmlN\n",
      "BCCD_Dataset-master/BCCD/Annotations\\BloodImage_00331.xmlN\n",
      "BCCD_Dataset-master/BCCD/Annotations\\BloodImage_00332.xmlN\n",
      "BCCD_Dataset-master/BCCD/Annotations\\BloodImage_00333.xmlN\n",
      "BCCD_Dataset-master/BCCD/Annotations\\BloodImage_00334.xmlN\n",
      "BCCD_Dataset-master/BCCD/Annotations\\BloodImage_00335.xmlM\n",
      "BCCD_Dataset-master/BCCD/Annotations\\BloodImage_00336.xmlN\n",
      "BCCD_Dataset-master/BCCD/Annotations\\BloodImage_00337.xmlN\n",
      "BCCD_Dataset-master/BCCD/Annotations\\BloodImage_00338.xmlN\n",
      "BCCD_Dataset-master/BCCD/Annotations\\BloodImage_00339.xmlN\n",
      "BCCD_Dataset-master/BCCD/Annotations\\BloodImage_00340.xmlN\n",
      "BCCD_Dataset-master/BCCD/Annotations\\BloodImage_00341.xmlN\n",
      "BCCD_Dataset-master/BCCD/Annotations\\BloodImage_00342.xmlM\n",
      "BCCD_Dataset-master/BCCD/Annotations\\BloodImage_00343.xmlN\n",
      "BCCD_Dataset-master/BCCD/Annotations\\BloodImage_00344.xmlE\n",
      "BCCD_Dataset-master/BCCD/Annotations\\BloodImage_00345.xmlE\n",
      "BCCD_Dataset-master/BCCD/Annotations\\BloodImage_00346.xmlN\n",
      "BCCD_Dataset-master/BCCD/Annotations\\BloodImage_00347.xmlL\n",
      "BCCD_Dataset-master/BCCD/Annotations\\BloodImage_00348.xmlN\n",
      "BCCD_Dataset-master/BCCD/Annotations\\BloodImage_00349.xmlN\n",
      "BCCD_Dataset-master/BCCD/Annotations\\BloodImage_00350.xmlN\n",
      "BCCD_Dataset-master/BCCD/Annotations\\BloodImage_00351.xmlN\n",
      "BCCD_Dataset-master/BCCD/Annotations\\BloodImage_00352.xmlE\n",
      "BCCD_Dataset-master/BCCD/Annotations\\BloodImage_00353.xmlE\n",
      "BCCD_Dataset-master/BCCD/Annotations\\BloodImage_00354.xmlN\n",
      "BCCD_Dataset-master/BCCD/Annotations\\BloodImage_00355.xmlN\n",
      "BCCD_Dataset-master/BCCD/Annotations\\BloodImage_00356.xmlL\n",
      "BCCD_Dataset-master/BCCD/Annotations\\BloodImage_00357.xmlN\n",
      "BCCD_Dataset-master/BCCD/Annotations\\BloodImage_00359.xmlE\n",
      "BCCD_Dataset-master/BCCD/Annotations\\BloodImage_00360.xmlN\n",
      "BCCD_Dataset-master/BCCD/Annotations\\BloodImage_00361.xmlN\n",
      "BCCD_Dataset-master/BCCD/Annotations\\BloodImage_00362.xmlN\n",
      "BCCD_Dataset-master/BCCD/Annotations\\BloodImage_00364.xmlN\n",
      "BCCD_Dataset-master/BCCD/Annotations\\BloodImage_00365.xmlN\n",
      "BCCD_Dataset-master/BCCD/Annotations\\BloodImage_00366.xmlN\n",
      "BCCD_Dataset-master/BCCD/Annotations\\BloodImage_00367.xmlN\n",
      "BCCD_Dataset-master/BCCD/Annotations\\BloodImage_00368.xmlN\n",
      "BCCD_Dataset-master/BCCD/Annotations\\BloodImage_00369.xmlN\n",
      "BCCD_Dataset-master/BCCD/Annotations\\BloodImage_00370.xmlN\n",
      "BCCD_Dataset-master/BCCD/Annotations\\BloodImage_00371.xmlN\n",
      "BCCD_Dataset-master/BCCD/Annotations\\BloodImage_00372.xmlN\n",
      "BCCD_Dataset-master/BCCD/Annotations\\BloodImage_00374.xmlN\n",
      "BCCD_Dataset-master/BCCD/Annotations\\BloodImage_00375.xmlN\n",
      "BCCD_Dataset-master/BCCD/Annotations\\BloodImage_00376.xmlE\n",
      "BCCD_Dataset-master/BCCD/Annotations\\BloodImage_00377.xmlN\n",
      "BCCD_Dataset-master/BCCD/Annotations\\BloodImage_00378.xmlN\n",
      "BCCD_Dataset-master/BCCD/Annotations\\BloodImage_00379.xmlN\n",
      "BCCD_Dataset-master/BCCD/Annotations\\BloodImage_00381.xmlN\n",
      "BCCD_Dataset-master/BCCD/Annotations\\BloodImage_00382.xmlN\n",
      "BCCD_Dataset-master/BCCD/Annotations\\BloodImage_00383.xmlE\n",
      "BCCD_Dataset-master/BCCD/Annotations\\BloodImage_00384.xmlN\n",
      "BCCD_Dataset-master/BCCD/Annotations\\BloodImage_00385.xmlN\n",
      "BCCD_Dataset-master/BCCD/Annotations\\BloodImage_00386.xmlN\n",
      "BCCD_Dataset-master/BCCD/Annotations\\BloodImage_00387.xmlE\n",
      "BCCD_Dataset-master/BCCD/Annotations\\BloodImage_00388.xmlN\n",
      "BCCD_Dataset-master/BCCD/Annotations\\BloodImage_00389.xmlN\n",
      "BCCD_Dataset-master/BCCD/Annotations\\BloodImage_00390.xmlN\n",
      "BCCD_Dataset-master/BCCD/Annotations\\BloodImage_00391.xmlN\n",
      "BCCD_Dataset-master/BCCD/Annotations\\BloodImage_00392.xmlN\n",
      "BCCD_Dataset-master/BCCD/Annotations\\BloodImage_00393.xmlN\n",
      "BCCD_Dataset-master/BCCD/Annotations\\BloodImage_00395.xmlN\n",
      "BCCD_Dataset-master/BCCD/Annotations\\BloodImage_00396.xmlN\n",
      "BCCD_Dataset-master/BCCD/Annotations\\BloodImage_00397.xmlN\n",
      "BCCD_Dataset-master/BCCD/Annotations\\BloodImage_00398.xmlN\n",
      "BCCD_Dataset-master/BCCD/Annotations\\BloodImage_00400.xmlN\n",
      "BCCD_Dataset-master/BCCD/Annotations\\BloodImage_00402.xmlN\n",
      "BCCD_Dataset-master/BCCD/Annotations\\BloodImage_00403.xmlN\n",
      "BCCD_Dataset-master/BCCD/Annotations\\BloodImage_00404.xmlN\n",
      "BCCD_Dataset-master/BCCD/Annotations\\BloodImage_00405.xmlN\n",
      "BCCD_Dataset-master/BCCD/Annotations\\BloodImage_00407.xmlN\n",
      "BCCD_Dataset-master/BCCD/Annotations\\BloodImage_00408.xmlN\n",
      "BCCD_Dataset-master/BCCD/Annotations\\BloodImage_00409.xmlN\n",
      "BCCD_Dataset-master/BCCD/Annotations\\BloodImage_00410.xmlE\n"
     ]
    }
   ],
   "source": [
    "for reading in list_reading_arr:\n",
    "    print(reading.name + reading.typ)"
   ]
  },
  {
   "cell_type": "markdown",
   "metadata": {},
   "source": [
    "## data pre-processing -- image related"
   ]
  },
  {
   "cell_type": "markdown",
   "metadata": {},
   "source": [
    "\n",
    "We want to generate a source matrix from the input images. After cropping the image, we resize all the cropped images and flatten each them into a vector. \n",
    "\n",
    "A discussion can be drawn when dealing with the channel of the image. The raw images are colored RGB images. Since some structures of the White cells are represented primarily by color, we can argue that preserving the RGB information can be beneficial for feature extraction. Our design is to offer choices of channels. We define the preprocessing stage into a function, and make color channel as an argument. We can use full RGB channel, or use 1 of 3 channels (only red pixels, or green, or blue), or use the converted Gray channel. Using full RGB channel will augment the dimensionality of the source matrix by factor of 3."
   ]
  },
  {
   "cell_type": "code",
   "execution_count": 74,
   "metadata": {
    "scrolled": true
   },
   "outputs": [
    {
     "name": "stdout",
     "output_type": "stream",
     "text": [
      "0.95 explained variance ratio can be achieved using at least 109 principle components\n"
     ]
    },
    {
     "data": {
      "image/png": "[encoded data removed]",
      "text/plain": [
       "<Figure size 432x288 with 1 Axes>"
      ]
     },
     "metadata": {
      "needs_background": "light"
     },
     "output_type": "display_data"
    },
    {
     "name": "stdout",
     "output_type": "stream",
     "text": [
      "0.95 explained variance ratio can be achieved using at least 191 principle components\n"
     ]
    },
    {
     "data": {
      "image/png": "[encoded data removed]",
      "text/plain": [
       "<Figure size 432x288 with 1 Axes>"
      ]
     },
     "metadata": {
      "needs_background": "light"
     },
     "output_type": "display_data"
    },
    {
     "name": "stdout",
     "output_type": "stream",
     "text": [
      "0.95 explained variance ratio can be achieved using at least 109 principle components\n"
     ]
    },
    {
     "data": {
      "image/png": "[encoded data removed]",
      "text/plain": [
       "<Figure size 432x288 with 1 Axes>"
      ]
     },
     "metadata": {
      "needs_background": "light"
     },
     "output_type": "display_data"
    },
    {
     "name": "stdout",
     "output_type": "stream",
     "text": [
      "0.95 explained variance ratio can be achieved using at least 115 principle components\n"
     ]
    },
    {
     "data": {
      "image/png": "[encoded data removed]",
      "text/plain": [
       "<Figure size 432x288 with 1 Axes>"
      ]
     },
     "metadata": {
      "needs_background": "light"
     },
     "output_type": "display_data"
    }
   ],
   "source": [
    "def crop_and_resize(img, read, size):\n",
    "    w, h = size\n",
    "    \n",
    "    img_arr =[]\n",
    "    xmin, ymin, xmax, ymax = (read.xmin,read.ymin,read.xmax,read.ymax)\n",
    "    #print([xmin, ymin, xmax, ymax])\n",
    "    img_crop = img[ymin:ymax,xmin:xmax]\n",
    "    img_resized = cv2.resize(img_crop,(w, h), interpolation = cv2.INTER_CUBIC)\n",
    "    img_arr.append(img_resized)\n",
    "\n",
    "    return img_arr\n",
    "\n",
    "def label_generator(read):\n",
    "    if(read=='N'):\n",
    "        return 0\n",
    "    if(read=='M'):\n",
    "        return 1\n",
    "    if(read=='L'):\n",
    "        return 2\n",
    "    if(read=='E'):\n",
    "        return 3\n",
    "    \n",
    "def recenter_regularize(X):\n",
    "    X_mean = np.mean(X, axis = 1)[np.newaxis]\n",
    "    X_centered = X - X_mean.T\n",
    "    X_norm = np.linalg.norm(X_centered, axis = 1)[np.newaxis]\n",
    "    X_normalized = X_centered/X_norm.T\n",
    "    return X_normalized\n",
    "\n",
    "\n",
    "\n",
    "path = 'BCCD_Dataset-master\\\\BCCD\\\\JPEGImages\\\\'\n",
    "#images = sorted(glob.glob(path + '*.jpg'))\n",
    "WBC_arr_b = []; WBC_arr_g = []; WBC_arr_r = []; WBC_arr_gray = []\n",
    "label_arr = []\n",
    "#read images and make each into an array\n",
    "for i in range(len(list_reading_arr)):\n",
    "    img = path + os.path.split(list_reading_arr[i].name)[1][:-4] + '.jpg'\n",
    "    WBC_this = cv2.imread(img)\n",
    "    WBC_this_arr = crop_and_resize(WBC_this, list_reading_arr[i], (60,60))\n",
    "    WBC_b = WBC_this_arr[0][:, :, 0]\n",
    "    WBC_g = WBC_this_arr[0][:, :, 1]\n",
    "    WBC_r = WBC_this_arr[0][:, :, 2]\n",
    "    WBC_gray = cv2.cvtColor(WBC_this_arr[0], cv2.COLOR_BGR2GRAY)\n",
    "    \n",
    "\n",
    "    label = label_generator(list_reading_arr[i].typ)\n",
    "    #label = list_reading_arr[i]\n",
    "    #print(label)\n",
    "\n",
    "    WBC_b, WBC_g, WBC_r, WBC_gray = np.reshape(WBC_b, -1), np.reshape(WBC_g, -1), np.reshape(WBC_r, -1), np.reshape(WBC_gray, -1)\n",
    "    \n",
    "    \n",
    "    WBC_arr_b.append(WBC_b)\n",
    "    WBC_arr_g.append(WBC_g)\n",
    "    WBC_arr_r.append(WBC_r)\n",
    "    WBC_arr_gray.append(WBC_gray)\n",
    "    label_arr.append(label)\n",
    "        \n",
    "        \n",
    "    i+=1\n",
    "    if(i==len(list_reading_arr)):\n",
    "        break\n",
    "WBC_arr_b, WBC_arr_g, WBC_arr_r, WBC_arr_gray = (np.asarray(WBC_arr_b).T, np.asarray(WBC_arr_g).T, \n",
    "                                                 np.asarray(WBC_arr_r).T, np.asarray(WBC_arr_gray).T)\n",
    "\n",
    "(WBC_normalized_b, WBC_normalized_g, WBC_normalized_r, \n",
    " WBC_normalized_gray) = (recenter_regularize(WBC_arr_b), recenter_regularize(WBC_arr_g),\n",
    "                         recenter_regularize(WBC_arr_r), recenter_regularize(WBC_arr_gray)) \n",
    "\n",
    "def getNumComponents(DataNormalized):\n",
    "    U, S, V = np.linalg.svd(DataNormalized)\n",
    "\n",
    "    S_total = np.linalg.norm(S)**2\n",
    "    S_incr = 0\n",
    "    k = 0\n",
    "    for s in S:\n",
    "        S_incr += s**2\n",
    "        if(S_incr >= 0.95*S_total):\n",
    "            break\n",
    "        k += 1\n",
    "\n",
    "    print('0.95 explained variance ratio can be achieved using at least ' + str(k) + ' principle components')\n",
    "\n",
    "    fig = plt.figure()\n",
    "    ax = fig.add_subplot(111)\n",
    "    ax.scatter(range(len(S)), S**2/S_total)\n",
    "    plt.show()\n",
    "    return k\n",
    "\n",
    "k_gray = getNumComponents(WBC_normalized_gray)\n",
    "k_b = getNumComponents(WBC_normalized_b)\n",
    "k_g = getNumComponents(WBC_normalized_g)\n",
    "k_r = getNumComponents(WBC_normalized_r)\n",
    "\n",
    "\n"
   ]
  },
  {
   "cell_type": "markdown",
   "metadata": {},
   "source": [
    "## data pre-processing PCA"
   ]
  },
  {
   "cell_type": "code",
   "execution_count": 6,
   "metadata": {},
   "outputs": [
    {
     "name": "stdout",
     "output_type": "stream",
     "text": [
      "[0.18825893 0.10619135 0.0805355  0.07222342 0.03747684 0.03588563\n",
      " 0.03304272 0.02216945 0.02035629 0.01901357]\n",
      "[[-0.00743115 -0.00716367 -0.00695288 ... -0.00588946 -0.00640969\n",
      "  -0.00700549]\n",
      " [-0.01454504 -0.0158078  -0.01680673 ... -0.01408345 -0.01370585\n",
      "  -0.01327226]\n",
      " [ 0.01523672  0.01489478  0.01462796 ... -0.01370639 -0.01314603\n",
      "  -0.01261436]\n",
      " ...\n",
      " [ 0.00555062  0.00555403  0.00745359 ... -0.01310151 -0.01273469\n",
      "  -0.01388407]\n",
      " [-0.0379086  -0.03931835 -0.03999793 ...  0.04043168  0.03833339\n",
      "   0.03712023]\n",
      " [-0.00323887 -0.00131944  0.00017023 ...  0.01630802  0.02000465\n",
      "   0.02077652]]\n"
     ]
    }
   ],
   "source": [
    "#compare with sklearn PCA\n",
    "pca = PCA(n_components = 10)\n",
    "pca.fit(WBC_normalized_gray.T)\n",
    "print(pca.explained_variance_ratio_)\n",
    "print(pca.components_)\n"
   ]
  },
  {
   "cell_type": "code",
   "execution_count": 5,
   "metadata": {},
   "outputs": [],
   "source": [
    "#Principle components\n",
    "U_k = []\n",
    "for i in range(k):\n",
    "    U_k.append(U[:, i])\n",
    "    \n",
    "U_k = np.asarray(U_k)   \n",
    "WBC_tilta_gray = []\n",
    "for WBC in WBC_normalized_gray.T:\n",
    "    WBC_tilta_gray.append(list(map(lambda x:np.inner(x, WBC), U_k.tolist())))\n",
    "    \n",
    "\n"
   ]
  },
  {
   "cell_type": "code",
   "execution_count": 15,
   "metadata": {},
   "outputs": [
    {
     "ename": "NameError",
     "evalue": "name 'pca' is not defined",
     "output_type": "error",
     "traceback": [
      "\u001b[1;31m---------------------------------------------------------------------------\u001b[0m",
      "\u001b[1;31mNameError\u001b[0m                                 Traceback (most recent call last)",
      "\u001b[1;32m<ipython-input-15-01b3521ef78f>\u001b[0m in \u001b[0;36m<module>\u001b[1;34m()\u001b[0m\n\u001b[1;32m----> 1\u001b[1;33m \u001b[0mU_skPCA\u001b[0m \u001b[1;33m=\u001b[0m \u001b[0mpca\u001b[0m\u001b[1;33m.\u001b[0m\u001b[0mcomponents_\u001b[0m\u001b[1;33m\u001b[0m\u001b[0m\n\u001b[0m\u001b[0;32m      2\u001b[0m \u001b[1;33m\u001b[0m\u001b[0m\n\u001b[0;32m      3\u001b[0m \u001b[0mU_skPCA\u001b[0m \u001b[1;33m=\u001b[0m \u001b[0mnp\u001b[0m\u001b[1;33m.\u001b[0m\u001b[0masarray\u001b[0m\u001b[1;33m(\u001b[0m\u001b[0mU_skPCA\u001b[0m\u001b[1;33m)\u001b[0m\u001b[1;33m\u001b[0m\u001b[0m\n\u001b[0;32m      4\u001b[0m \u001b[0mWBC_tilta_gray_sk\u001b[0m \u001b[1;33m=\u001b[0m \u001b[1;33m[\u001b[0m\u001b[1;33m]\u001b[0m\u001b[1;33m\u001b[0m\u001b[0m\n\u001b[0;32m      5\u001b[0m \u001b[1;33m\u001b[0m\u001b[0m\n",
      "\u001b[1;31mNameError\u001b[0m: name 'pca' is not defined"
     ]
    }
   ],
   "source": [
    "U_skPCA = pca.components_\n",
    "\n",
    "U_skPCA = np.asarray(U_skPCA)\n",
    "WBC_tilta_gray_sk = []\n",
    "\n",
    "for WBC in WBC_normalized_gray.T:\n",
    "    WBC_tilta_gray_sk.append(list(map(lambda x:np.inner(x, WBC), U_skPCA)))\n",
    "    \n",
    "fig = plt.figure()\n",
    "ax = fig.add_subplot(111)\n",
    "WBC_tilta_gray_sk = np.asarray(WBC_tilta_gray_sk)\n",
    "counter = 0\n",
    "for i in range(len(WBC_tilta_gray_sk)):\n",
    "    if(label_arr[i] == 0):\n",
    "        c = 'g'\n",
    "    if(label_arr[i] == 1):\n",
    "        c = 'r'\n",
    "    if(label_arr[i] == 2):\n",
    "        counter += 1\n",
    "        c = 'b'\n",
    "    if(label_arr[i] == 3):\n",
    "        c = 'y'\n",
    "        \n",
    "    ax.scatter(WBC_tilta_gray_sk[i][0], WBC_tilta_gray_sk[i][1], color = c)\n",
    "\n",
    "plt.show()"
   ]
  },
  {
   "cell_type": "code",
   "execution_count": 13,
   "metadata": {},
   "outputs": [
    {
     "data": {
      "image/png": "[encoded data removed]",
      "text/plain": [
       "<Figure size 432x288 with 1 Axes>"
      ]
     },
     "metadata": {
      "needs_background": "light"
     },
     "output_type": "display_data"
    }
   ],
   "source": [
    "#RBC_tilta_list = copy.deepcopy(RBC_tilta)\n",
    "WBC_tilta_gray = np.asarray(WBC_tilta_gray).T\n",
    "WBC_tilta_gray_12 = WBC_tilta_gray[:2]\n",
    "WBC_tilta_gray_1 = WBC_tilta_gray[0]\n",
    "\n",
    "\n",
    "fig = plt.figure()\n",
    "ax = fig.add_subplot(111)\n",
    "WBC_tilta_gray_12 = WBC_tilta_gray_12.T\n",
    "counter = 0\n",
    "for i in range(len(WBC_tilta_gray_12)):\n",
    "    if(label_arr[i] == 0):\n",
    "        c = 'g'\n",
    "    if(label_arr[i] == 1):\n",
    "        c = 'r'\n",
    "    if(label_arr[i] == 2):\n",
    "        counter += 1\n",
    "        c = 'b'\n",
    "    if(label_arr[i] == 3):\n",
    "        c = 'y'\n",
    "        \n",
    "    ax.scatter(WBC_tilta_gray_12[i][0], WBC_tilta_gray_12[i][1], color = c)\n",
    "\n",
    "plt.show()\n"
   ]
  },
  {
   "cell_type": "code",
   "execution_count": 79,
   "metadata": {
    "scrolled": true
   },
   "outputs": [
    {
     "data": {
      "image/png": "[encoded data removed]",
      "text/plain": [
       "<Figure size 432x288 with 1 Axes>"
      ]
     },
     "metadata": {
      "needs_background": "light"
     },
     "output_type": "display_data"
    },
    {
     "data": {
      "image/png": "[encoded data removed]",
      "text/plain": [
       "<Figure size 432x288 with 1 Axes>"
      ]
     },
     "metadata": {
      "needs_background": "light"
     },
     "output_type": "display_data"
    },
    {
     "data": {
      "image/png": "[encoded data removed]",
      "text/plain": [
       "<Figure size 432x288 with 1 Axes>"
      ]
     },
     "metadata": {
      "needs_background": "light"
     },
     "output_type": "display_data"
    },
    {
     "data": {
      "text/plain": [
       "'        \\nWBC_tilta_gray_train = WBC_tilta_gray[:, :300]\\nWBC_tilta_gray_test = WBC_tilta_gray[:, 300:]\\n\\n\\n#for k in range()\\nfor i in range(len(WBC_tilta_gray_test[0])):\\n    \\n    cls.append(KNN_classif(WBC_tilta_gray_test[:,i], WBC_tilta_gray_train , label_arr, 19))\\n\\ncls = np.asarray(cls)\\nprint(cls-np.asarray(label_arr[300:]))\\n#print(np.sum(cls - np.asarray(label_arr[3000:])))\\n#RBC_tilta = np.asarray(RBC_tilta_list).T\\n\\n'"
      ]
     },
     "execution_count": 79,
     "metadata": {},
     "output_type": "execute_result"
    }
   ],
   "source": [
    "\n",
    "# KNN classifier\n",
    "#img_Rep is M*N, Feature of length M, trainLabels of length N\n",
    "\n",
    "def KNN_classif(Feature, img_Rep, trainLabels, k):\n",
    "    #training_labels = np.asarray(trainLabels)\n",
    "    #compute the distance of the input N-dim Feature to every other point\n",
    "    #\n",
    "    distance=[]\n",
    "    for img in img_Rep.T:\n",
    "        distance.append(np.linalg.norm(img - Feature))\n",
    "    \n",
    "    distance = np.array(distance)\n",
    "    distance_k = distance.argsort()[:k]\n",
    "    trainLabels = np.asarray(trainLabels)\n",
    "    neighbors = trainLabels[distance_k].tolist()\n",
    "    #print(neighbors)\n",
    "    #x = np.sum(training_labels[distance_k])\n",
    "    #return x\n",
    "    return max(neighbors, key=neighbors.count)\n",
    "\n",
    "# k-fold Cross Validation \n",
    "# k-fold Cross Validation \n",
    "def cross_validation(samples, labels, numFold:int, k:int):\n",
    "    #print(samples.shape)\n",
    "    #print(labels.shape)\n",
    "    m,n = np.shape(samples)\n",
    "    samples_with_labels = np.row_stack((samples, labels))\n",
    "    a = n//numFold\n",
    "    #print(a)\n",
    "    fold = [0 for i in range(numFold)]\n",
    "    for i in range(numFold):\n",
    "        if i!= numFold-1:\n",
    "            fold[i] = samples_with_labels[:, i*a:(i+1)*a]\n",
    "        else:\n",
    "            fold[i] = samples_with_labels[:, i*a:]\n",
    "    \n",
    "    #reg_error = [0 for i in range(numFold)]\n",
    "    knn_error = [0 for i in range(numFold)]\n",
    "    for i in range(numFold):\n",
    "        training_samples_w_labels = []\n",
    "        for j in range(numFold):\n",
    "            if j==i: \n",
    "                test_samples = fold[j][:-1, :]\n",
    "                test_labels = fold[j][-1,:]\n",
    "                #print(test_samples)\n",
    "                #print(fold[i].shape)\n",
    "            else:\n",
    "                training_samples_w_labels.append(fold[j])\n",
    "        training_samples_w_labels = np.hstack(training_samples_w_labels)\n",
    "        training_samples = training_samples_w_labels[:-1, :]\n",
    "        training_labels = training_samples_w_labels[-1, :]\n",
    "        #print(len(training_labels))\n",
    "        cls = []\n",
    "        for j in range(len(test_samples[0])):\n",
    "            #print(test_samples.shape)\n",
    "            #print(training_samples.shape)\n",
    "            cls.append(KNN_classif(test_samples[:, j], training_samples, training_labels, k))            \n",
    "        cls = np.asarray(cls)\n",
    "        knn_error[i] = sum(cls-test_labels != 0)/len(test_labels)\n",
    "        #print('pair')\n",
    "        #print(cls)\n",
    "        #print(test_labels)\n",
    "    return np.mean(knn_error)\n",
    "        \n",
    "#Learn the Best K\n",
    "\n",
    "knn_error_avg_arr = []\n",
    "\n",
    "for k in range(3, 39, 2):\n",
    "    knn_error_avg = cross_validation(WBC_tilta_gray, np.asarray(label_arr), 10, k)\n",
    "    knn_error_avg_arr.append(knn_error_avg)\n",
    "    \n",
    "plt.figure()\n",
    "plt.scatter(range(3,39,2), knn_error_avg_arr)\n",
    "plt.title('average knn classification error vs. number of neighbors, on 10-fold validation')\n",
    "plt.xlabel('# of neighbors')\n",
    "plt.ylabel('average error')\n",
    "plt.show()\n",
    "\n",
    "knn_error_avg_arr = []\n",
    "for k in range(3, 39, 2):\n",
    "    knn_error_avg = cross_validation(WBC_tilta_gray, np.asarray(label_arr), 3, k)\n",
    "    knn_error_avg_arr.append(knn_error_avg)\n",
    "    \n",
    "plt.figure()\n",
    "plt.scatter(range(3,39,2), knn_error_avg_arr)\n",
    "plt.title('average knn classification error vs. number of neighbors, on 3-fold validation')\n",
    "plt.xlabel('# of neighbors')\n",
    "plt.ylabel('average error')\n",
    "plt.show()\n",
    "\n",
    "knn_error_avg_arr = []\n",
    "for k in range(3, 39, 2):\n",
    "    knn_error_avg = cross_validation(WBC_tilta_gray, np.asarray(label_arr), 17, k)\n",
    "    knn_error_avg_arr.append(knn_error_avg)\n",
    "    \n",
    "plt.figure()\n",
    "plt.scatter(range(3,39,2), knn_error_avg_arr)\n",
    "plt.title('average knn classification error vs. number of neighbors, on 17-fold validation')\n",
    "plt.xlabel('# of neighbors')\n",
    "plt.ylabel('average error')\n",
    "plt.show()\n",
    "\"\"\"        \n",
    "WBC_tilta_gray_train = WBC_tilta_gray[:, :300]\n",
    "WBC_tilta_gray_test = WBC_tilta_gray[:, 300:]\n",
    "\n",
    "\n",
    "#for k in range()\n",
    "for i in range(len(WBC_tilta_gray_test[0])):\n",
    "    \n",
    "    cls.append(KNN_classif(WBC_tilta_gray_test[:,i], WBC_tilta_gray_train , label_arr, 19))\n",
    "\n",
    "cls = np.asarray(cls)\n",
    "print(cls-np.asarray(label_arr[300:]))\n",
    "#print(np.sum(cls - np.asarray(label_arr[3000:])))\n",
    "#RBC_tilta = np.asarray(RBC_tilta_list).T\n",
    "\n",
    "\"\"\"        \n",
    "\n",
    "\n",
    "\n",
    "\n"
   ]
  },
  {
   "cell_type": "markdown",
   "metadata": {},
   "source": [
    "We can determine the optimum parameter for KNN algorithm through cross validation. We can see that the average error not only changes with the number of neighbors, but also varies with the number of folds in cross validation setting. By trying very odd integer from 3 to 37 for k, with number of folds being 3, 10 or 17, we can see that average error is lower, across number of folds, when k is chosen between 17 to 27. Number of folds has substantial effect on how error rate changes with k. A general trend is that, the range of k value for lower error rate shifts to right, as number of folds increases. If we decide that the number of folds is 10, then the best k is 19. "
   ]
  },
  {
   "cell_type": "code",
   "execution_count": 125,
   "metadata": {},
   "outputs": [
    {
     "name": "stdout",
     "output_type": "stream",
     "text": [
      "Confusion matrix, without normalization\n"
     ]
    },
    {
     "data": {
      "image/png": "[encoded data removed]",
      "text/plain": [
       "<Figure size 432x288 with 2 Axes>"
      ]
     },
     "metadata": {
      "needs_background": "light"
     },
     "output_type": "display_data"
    },
    {
     "name": "stdout",
     "output_type": "stream",
     "text": [
      "Confusion matrix, without normalization\n"
     ]
    },
    {
     "data": {
      "image/png": "[encoded data removed]",
      "text/plain": [
       "<Figure size 432x288 with 2 Axes>"
      ]
     },
     "metadata": {
      "needs_background": "light"
     },
     "output_type": "display_data"
    },
    {
     "name": "stdout",
     "output_type": "stream",
     "text": [
      "Confusion matrix, without normalization\n"
     ]
    },
    {
     "data": {
      "image/png": "[encoded data removed]",
      "text/plain": [
       "<Figure size 432x288 with 2 Axes>"
      ]
     },
     "metadata": {
      "needs_background": "light"
     },
     "output_type": "display_data"
    }
   ],
   "source": [
    "def test_on_whole_set(samples, labels, numFold, k):\n",
    "    m,n = np.shape(samples)\n",
    "    samples_with_labels = np.row_stack((samples, labels))\n",
    "    a = n//numFold\n",
    "    cls = []\n",
    "    #print(a)\n",
    "    fold = [0 for i in range(numFold)]\n",
    "    for i in range(numFold):\n",
    "        if i!= numFold-1:\n",
    "            fold[i] = samples_with_labels[:, i*a:(i+1)*a]\n",
    "        else:\n",
    "            fold[i] = samples_with_labels[:, i*a:]\n",
    "    \n",
    "    #reg_error = [0 for i in range(numFold)]\n",
    "    knn_error = [0 for i in range(numFold)]\n",
    "    test_labels_total = []\n",
    "    for i in range(numFold):\n",
    "        training_samples_w_labels = []\n",
    "        for j in range(numFold):\n",
    "            if j==i: \n",
    "                test_samples = fold[j][:-1, :]\n",
    "                test_labels = fold[j][-1,:]\n",
    "                #print(test_samples)\n",
    "                #print(fold[i].shape)\n",
    "            else:\n",
    "                training_samples_w_labels.append(fold[j])\n",
    "        training_samples_w_labels = np.hstack(training_samples_w_labels)\n",
    "        training_samples = training_samples_w_labels[:-1, :]\n",
    "        training_labels = training_samples_w_labels[-1, :]\n",
    "        test_labels_total.append(test_labels)\n",
    "        #print(len(training_labels))\n",
    "        #cls = []\n",
    "        for j in range(len(test_samples[0])):\n",
    "            #print(test_samples.shape)\n",
    "            #print(training_samples.shape)\n",
    "            cls.append(KNN_classif(test_samples[:, j], training_samples, training_labels, k))\n",
    "    test_labels_total = np.hstack(test_labels_total)\n",
    "    return cls, test_labels_total\n",
    "    \n",
    "\n",
    "def plot_confusion_matrix(cm, classes,\n",
    "                          normalize=False,\n",
    "                          title='Confusion matrix',\n",
    "                          cmap=plt.cm.Blues):\n",
    "    \"\"\"\n",
    "    This function prints and plots the confusion matrix.\n",
    "    Normalization can be applied by setting `normalize=True`.\n",
    "    \"\"\"\n",
    "    if normalize:\n",
    "        cm = cm.astype('float') / cm.sum(axis=1)[:, np.newaxis]\n",
    "        print(\"Normalized confusion matrix\")\n",
    "    else:\n",
    "        print('Confusion matrix, without normalization')\n",
    "\n",
    "    #print(cm)\n",
    "\n",
    "    plt.imshow(cm, interpolation='nearest', cmap=cmap)\n",
    "    plt.title(title)\n",
    "    plt.colorbar()\n",
    "    tick_marks = np.arange(len(classes))\n",
    "    plt.xticks(tick_marks, classes, rotation=45)\n",
    "    plt.yticks(tick_marks, classes)\n",
    "\n",
    "    fmt = '.2f' if normalize else 'd'\n",
    "    thresh = cm.max() / 2.\n",
    "    for i, j in itertools.product(range(cm.shape[0]), range(cm.shape[1])):\n",
    "        plt.text(j, i, format(cm[i, j], fmt),\n",
    "                 horizontalalignment=\"center\",\n",
    "                 color=\"white\" if cm[i, j] > thresh else \"black\")\n",
    "\n",
    "    plt.ylabel('True label')\n",
    "    plt.xlabel('Predicted label')\n",
    "    plt.tight_layout()\n",
    "WBC_classes = {'Neutrophil': 0, 'Monocyte': 1, 'Lymphocyte': 2, 'Eosinophil': 3}\n",
    "\n",
    "pred_total, test_labels_total = test_on_whole_set(WBC_normalized_gray, label_arr, 10, 5)\n",
    "cm = confusion_matrix(test_labels_total, pred_total)\n",
    "plot_confusion_matrix(cm, \n",
    "                      classes = list(map(lambda x:x[0], sorted(WBC_classes.items(), key = lambda t:t[1]))),\n",
    "                      title = 'Confusion matrix, k = 5')\n",
    "plt.show()\n",
    "plt.figure()\n",
    "pred_total, test_labels_total = test_on_whole_set(WBC_normalized_gray, label_arr, 10, 19)\n",
    "cm = confusion_matrix(test_labels_total, pred_total)\n",
    "plot_confusion_matrix(cm, \n",
    "                      classes = list(map(lambda x:x[0], sorted(WBC_classes.items(), key = lambda t:t[1]))),\n",
    "                      title = 'Confusion matrix, k = 19')\n",
    "\n",
    "plt.show()\n",
    "plt.figure()\n",
    "pred_total, test_labels_total = test_on_whole_set(WBC_normalized_gray, label_arr, 10, 39)\n",
    "cm = confusion_matrix(test_labels_total, pred_total)\n",
    "plot_confusion_matrix(cm, \n",
    "                      classes = list(map(lambda x:x[0], sorted(WBC_classes.items(), key = lambda t:t[1]))),\n",
    "                      title = 'Confusion matrix, k = 39')\n"
   ]
  },
  {
   "cell_type": "markdown",
   "metadata": {},
   "source": [
    "The confusion matrices show that the false positive rate for 'Neutrophil' class is very high. Many samples of 'M','L' and 'E' classes are predicted as 'N'. We need to observe that the described false positive rate grows as the number of neighbors (k) taken into account increases. Since the dataset is imbanlanced, with 'N' class samples being the majority, K-Nearest Neighbor algorithm may favor class 'N' in the majority voting stage. This conjecture is supported by the fact that increasing k from 5 to 19 controls the total error rate, but causes greater false positive rate with respect to 'N' class, and the accuracy for 'N', 'L' and 'E' classes actually decreases. The false positive rate becomes even higher when K=39, with most predictions being 'N'. \n",
    "\n",
    "We can infer that the KNN algorithm is not functioning properly when dealing with imbalanced data. Additional preprocessing technique or modification of the algorithm may alleviate this issue. However, it may be better to use algorithms that are robust to imbalanced data in the first place. One of those algorithms is the Random Forest algorithm."
   ]
  },
  {
   "cell_type": "markdown",
   "metadata": {},
   "source": [
    "## Random Forest approach by Chaoji Zuo"
   ]
  },
  {
   "cell_type": "code",
   "execution_count": 86,
   "metadata": {},
   "outputs": [],
   "source": [
    "from sklearn.ensemble import RandomForestClassifier\n",
    "from sklearn.metrics import precision_score\n",
    "import pandas as pd\n",
    "from sklearn.metrics import confusion_matrix\n",
    "import itertools\n",
    "from sklearn.metrics import accuracy_score"
   ]
  },
  {
   "cell_type": "code",
   "execution_count": 87,
   "metadata": {},
   "outputs": [
    {
     "name": "stdout",
     "output_type": "stream",
     "text": [
      "value counts of labels:\n",
      " N    213\n",
      "E     87\n",
      "L     34\n",
      "M     21\n",
      "dtype: int64\n"
     ]
    }
   ],
   "source": [
    "labels=[]\n",
    "for i in list_reading_arr:\n",
    "      labels.append(i.typ)\n",
    "X_all=WBC_normalized_gray.T\n",
    "y_all=labels\n",
    "print(\"value counts of labels:\\n\",pd.Series(y_all).value_counts())"
   ]
  },
  {
   "cell_type": "markdown",
   "metadata": {},
   "source": [
    "### first try of whole data\n",
    "\n",
    "like the regression problem, I applied the random forest on the whole data and test on it. It got a pretty great \n",
    "result"
   ]
  },
  {
   "cell_type": "code",
   "execution_count": 88,
   "metadata": {},
   "outputs": [],
   "source": [
    "def plot_confusion_matrix(cm, classes,\n",
    "                          normalize=False,\n",
    "                          title='Confusion matrix',\n",
    "                          cmap=plt.cm.Blues):\n",
    "    \"\"\"\n",
    "    This function prints and plots the confusion matrix.\n",
    "    Normalization can be applied by setting `normalize=True`.\n",
    "    \"\"\"\n",
    "    if normalize:\n",
    "        cm = cm.astype('float') / cm.sum(axis=1)[:, np.newaxis]\n",
    "        print(\"Normalized confusion matrix\")\n",
    "    else:\n",
    "        print('Confusion matrix, without normalization')\n",
    "\n",
    "    #print(cm)\n",
    "\n",
    "    plt.imshow(cm, interpolation='nearest', cmap=cmap)\n",
    "    plt.title(title)\n",
    "    plt.colorbar()\n",
    "    tick_marks = np.arange(len(classes))\n",
    "    plt.xticks(tick_marks, classes, rotation=45)\n",
    "    plt.yticks(tick_marks, classes)\n",
    "\n",
    "    fmt = '.2f' if normalize else 'd'\n",
    "    thresh = cm.max() / 2.\n",
    "    for i, j in itertools.product(range(cm.shape[0]), range(cm.shape[1])):\n",
    "        plt.text(j, i, format(cm[i, j], fmt),\n",
    "                 horizontalalignment=\"center\",\n",
    "                 color=\"white\" if cm[i, j] > thresh else \"black\")\n",
    "\n",
    "    plt.ylabel('True label')\n",
    "    plt.xlabel('Predicted label')\n",
    "    plt.tight_layout()"
   ]
  },
  {
   "cell_type": "code",
   "execution_count": 89,
   "metadata": {},
   "outputs": [
    {
     "name": "stderr",
     "output_type": "stream",
     "text": [
      "F:\\Anaconda\\lib\\site-packages\\sklearn\\ensemble\\forest.py:248: FutureWarning: The default value of n_estimators will change from 10 in version 0.20 to 100 in 0.22.\n",
      "  \"10 in version 0.20 to 100 in 0.22.\", FutureWarning)\n"
     ]
    },
    {
     "name": "stdout",
     "output_type": "stream",
     "text": [
      "precision score : 0.9887323943661972\n",
      "accuracy : 0.9887323943661972\n",
      "Normalized confusion matrix\n"
     ]
    },
    {
     "data": {
      "image/png": "[encoded data removed]",
      "text/plain": [
       "<Figure size 432x288 with 2 Axes>"
      ]
     },
     "metadata": {
      "needs_background": "light"
     },
     "output_type": "display_data"
    }
   ],
   "source": [
    "RFClassifier=RandomForestClassifier()\n",
    "RFClassifier.fit(X_all,y_all)\n",
    "pred_y=RFClassifier.predict(X_all)\n",
    "print('precision score :',precision_score(y_pred=pred_y,y_true=y_all,average='micro'))\n",
    "print('accuracy :',accuracy_score(y_pred=pred_y,y_true=y_all))\n",
    "con_mat=confusion_matrix(pred_y,y_all)\n",
    "plot_confusion_matrix(con_mat,classes=['E','L','M','N'],normalize=True)\n"
   ]
  },
  {
   "cell_type": "code",
   "execution_count": 90,
   "metadata": {},
   "outputs": [],
   "source": [
    "raw_data=WBC_normalized_gray.T\n",
    "raw_amount=np.array(labels)\n",
    "import random\n",
    "folds_data=[]\n",
    "folds_labels=[]\n",
    "def randomData(num):\n",
    "    indexs=list(range(num))\n",
    "    each=int(num/5)\n",
    "    random.shuffle(indexs)\n",
    "    data1=raw_data[indexs[:each]]\n",
    "    y1=raw_amount[indexs[:each]]\n",
    "    \n",
    "    data2=raw_data[indexs[each:each*2]]\n",
    "    y2=raw_amount[indexs[each:each*2]]\n",
    "    \n",
    "    data3=raw_data[indexs[each*2:each*3]]\n",
    "    y3=raw_amount[indexs[each*2:each*3]]\n",
    "    \n",
    "    data4=raw_data[indexs[each*3:each*4]]\n",
    "    y4=raw_amount[indexs[each*3:each*4]]\n",
    "    \n",
    "    data5=raw_data[indexs[each*4:each*5]]\n",
    "    y5=raw_amount[indexs[each*4:each*5]]\n",
    "    \n",
    "    \n",
    "    folds_data=[data1,data2,data3,data4,data5]\n",
    "    folds_labels=[y1,y2,y3,y4,y5]\n",
    "    return folds_data,folds_labels\n",
    "\n",
    "\n",
    "        \n",
    "fold_number=np.array([0,1,2,3,4])\n",
    "folds_data,folds_labels=randomData(355)"
   ]
  },
  {
   "cell_type": "markdown",
   "metadata": {},
   "source": [
    "### Cross-Validation on whole data\n",
    "\n",
    "Then I split data into test set and training set and use cross validation to see its generalization ability"
   ]
  },
  {
   "cell_type": "code",
   "execution_count": 91,
   "metadata": {},
   "outputs": [
    {
     "name": "stderr",
     "output_type": "stream",
     "text": [
      "F:\\Anaconda\\lib\\site-packages\\sklearn\\ensemble\\forest.py:248: FutureWarning: The default value of n_estimators will change from 10 in version 0.20 to 100 in 0.22.\n",
      "  \"10 in version 0.20 to 100 in 0.22.\", FutureWarning)\n"
     ]
    },
    {
     "name": "stdout",
     "output_type": "stream",
     "text": [
      "prediction error of fold  0  :  0.647887323943662\n",
      "Normalized confusion matrix\n"
     ]
    },
    {
     "data": {
      "image/png": "[encoded data removed]",
      "text/plain": [
       "<Figure size 432x288 with 2 Axes>"
      ]
     },
     "metadata": {
      "needs_background": "light"
     },
     "output_type": "display_data"
    },
    {
     "name": "stderr",
     "output_type": "stream",
     "text": [
      "F:\\Anaconda\\lib\\site-packages\\sklearn\\ensemble\\forest.py:248: FutureWarning: The default value of n_estimators will change from 10 in version 0.20 to 100 in 0.22.\n",
      "  \"10 in version 0.20 to 100 in 0.22.\", FutureWarning)\n"
     ]
    },
    {
     "name": "stdout",
     "output_type": "stream",
     "text": [
      "prediction error of fold  1  :  0.6056338028169014\n",
      "Normalized confusion matrix\n"
     ]
    },
    {
     "data": {
      "image/png": "[encoded data removed]",
      "text/plain": [
       "<Figure size 432x288 with 2 Axes>"
      ]
     },
     "metadata": {
      "needs_background": "light"
     },
     "output_type": "display_data"
    },
    {
     "name": "stderr",
     "output_type": "stream",
     "text": [
      "F:\\Anaconda\\lib\\site-packages\\sklearn\\ensemble\\forest.py:248: FutureWarning: The default value of n_estimators will change from 10 in version 0.20 to 100 in 0.22.\n",
      "  \"10 in version 0.20 to 100 in 0.22.\", FutureWarning)\n"
     ]
    },
    {
     "name": "stdout",
     "output_type": "stream",
     "text": [
      "prediction error of fold  2  :  0.676056338028169\n",
      "Normalized confusion matrix\n"
     ]
    },
    {
     "data": {
      "image/png": "[encoded data removed]",
      "text/plain": [
       "<Figure size 432x288 with 2 Axes>"
      ]
     },
     "metadata": {
      "needs_background": "light"
     },
     "output_type": "display_data"
    },
    {
     "name": "stderr",
     "output_type": "stream",
     "text": [
      "F:\\Anaconda\\lib\\site-packages\\sklearn\\ensemble\\forest.py:248: FutureWarning: The default value of n_estimators will change from 10 in version 0.20 to 100 in 0.22.\n",
      "  \"10 in version 0.20 to 100 in 0.22.\", FutureWarning)\n",
      "F:\\Anaconda\\lib\\site-packages\\ipykernel_launcher.py:10: RuntimeWarning: invalid value encountered in true_divide\n",
      "  # Remove the CWD from sys.path while we load stuff.\n",
      "F:\\Anaconda\\lib\\site-packages\\numpy\\core\\_methods.py:26: RuntimeWarning: invalid value encountered in reduce\n",
      "  return umr_maximum(a, axis, None, out, keepdims)\n"
     ]
    },
    {
     "name": "stdout",
     "output_type": "stream",
     "text": [
      "prediction error of fold  3  :  0.5774647887323944\n",
      "Normalized confusion matrix\n"
     ]
    },
    {
     "data": {
      "image/png": "[encoded data removed]",
      "text/plain": [
       "<Figure size 432x288 with 2 Axes>"
      ]
     },
     "metadata": {
      "needs_background": "light"
     },
     "output_type": "display_data"
    },
    {
     "name": "stderr",
     "output_type": "stream",
     "text": [
      "F:\\Anaconda\\lib\\site-packages\\sklearn\\ensemble\\forest.py:248: FutureWarning: The default value of n_estimators will change from 10 in version 0.20 to 100 in 0.22.\n",
      "  \"10 in version 0.20 to 100 in 0.22.\", FutureWarning)\n",
      "F:\\Anaconda\\lib\\site-packages\\ipykernel_launcher.py:10: RuntimeWarning: invalid value encountered in true_divide\n",
      "  # Remove the CWD from sys.path while we load stuff.\n",
      "F:\\Anaconda\\lib\\site-packages\\numpy\\core\\_methods.py:26: RuntimeWarning: invalid value encountered in reduce\n",
      "  return umr_maximum(a, axis, None, out, keepdims)\n"
     ]
    },
    {
     "name": "stdout",
     "output_type": "stream",
     "text": [
      "prediction error of fold  4  :  0.5774647887323944\n",
      "Normalized confusion matrix\n"
     ]
    },
    {
     "data": {
      "image/png": "[encoded data removed]",
      "text/plain": [
       "<Figure size 432x288 with 2 Axes>"
      ]
     },
     "metadata": {
      "needs_background": "light"
     },
     "output_type": "display_data"
    }
   ],
   "source": [
    "precisionArr=[]\n",
    "recallArr=[]\n",
    "for i in range(5):\n",
    "    test_data=folds_data[i]\n",
    "    test_labels=folds_labels[i]\n",
    "    train_number=np.delete(fold_number,i,axis=0)\n",
    "    train_data=np.concatenate((folds_data[train_number[0]],folds_data[train_number[1]],folds_data[train_number[2]],folds_data[train_number[3]]))\n",
    "    train_labels=np.concatenate((folds_labels[train_number[0]],folds_labels[train_number[1]],folds_labels[train_number[2]],folds_labels[train_number[3]]))\n",
    "\n",
    "    RFClassifier=RandomForestClassifier()\n",
    "    RFClassifier.fit(train_data,train_labels)\n",
    "    predictY=RFClassifier.predict(test_data)\n",
    "    plt.title(\"Measured versus Predicted\")\n",
    "    #plt.scatter(test_labels,list(predictY),c='b')\n",
    "    #plt.plot(test_labels,test_labels,c='r')\n",
    "    plt.xlabel(\"real value\")\n",
    "    plt.ylabel(\"predict value\")\n",
    "    #print(myLS.getWLS())\n",
    "    con_mat=confusion_matrix(predictY,test_labels)\n",
    "    score=precision_score(y_pred=predictY,y_true=test_labels,average='micro')\n",
    "    rec=accuracy_score(y_pred=predictY,y_true=test_labels)\n",
    "    print(\"prediction error of fold \",i,\" : \",precision_score(y_pred=predictY,y_true=test_labels,average='micro'))\n",
    "    plot_confusion_matrix(con_mat,classes=['E','L','M','N'],normalize=True)\n",
    "    plt.show()\n",
    "    precisionArr.append(score)\n",
    "    recallArr.append(rec)"
   ]
  },
  {
   "cell_type": "code",
   "execution_count": 92,
   "metadata": {},
   "outputs": [
    {
     "name": "stdout",
     "output_type": "stream",
     "text": [
      "average precision: 0.6169014084507043\n"
     ]
    }
   ],
   "source": [
    "print(\"average precision:\",np.mean(precisionArr))\n"
   ]
  },
  {
   "cell_type": "markdown",
   "metadata": {},
   "source": [
    "As you can see, the generalization ability of this model is really bad\n",
    "\n",
    "But it maybe because we just have a small size of dataset"
   ]
  },
  {
   "cell_type": "code",
   "execution_count": 93,
   "metadata": {},
   "outputs": [],
   "source": [
    "X_train=X_all[:300]\n",
    "y_train=y_all[:300]\n",
    "X_test=X_all[300:]\n",
    "y_test=y_all[300:]"
   ]
  },
  {
   "cell_type": "markdown",
   "metadata": {},
   "source": [
    "### parameters optimazation"
   ]
  },
  {
   "cell_type": "code",
   "execution_count": 94,
   "metadata": {},
   "outputs": [
    {
     "name": "stdout",
     "output_type": "stream",
     "text": [
      "Best parameters:\n",
      "{'max_features': 'sqrt', 'max_depth': 30, 'n_estimators': 20}\n"
     ]
    },
    {
     "name": "stderr",
     "output_type": "stream",
     "text": [
      "F:\\Anaconda\\lib\\site-packages\\sklearn\\model_selection\\_search.py:841: DeprecationWarning: The default of the `iid` parameter will change from True to False in version 0.22 and will be removed in 0.24. This will change numeric results when test-set sizes are unequal.\n",
      "  DeprecationWarning)\n"
     ]
    }
   ],
   "source": [
    "from sklearn.model_selection import GridSearchCV\n",
    "\n",
    "rfc = RandomForestClassifier()\n",
    "#tuned_parameters = [{'n_estimators':[1,20,200],'max_depth':[8,10,30]}]\n",
    "tuned_parameters = [{'max_features':['sqrt','auto','log2'],'n_estimators':[1,20,100],'max_depth':[10,30,60]}]\n",
    "\n",
    "clf = GridSearchCV(estimator=rfc,param_grid=tuned_parameters, cv=5, n_jobs=1)\n",
    "\n",
    "clf.fit(X_train, y_train)\n",
    "print('Best parameters:')\n",
    "print(clf.best_params_)"
   ]
  },
  {
   "cell_type": "code",
   "execution_count": 95,
   "metadata": {},
   "outputs": [],
   "source": [
    "'''RFClassifier=RandomForestClassifier(min_samples_leaf=3,n_estimators=200)\n",
    "RFClassifier.fit(X_train,y_train)\n",
    "pred_y=RFClassifier.predict(X_test)\n",
    "print(\"prediction error :\",precision_score(y_pred=pred_y,y_true=y_test,average='micro'))\n",
    "con_mat=confusion_matrix(predictY,test_labels)\n",
    "plot_confusion_matrix(con_mat,classes=['E','L','M','N'],normalize=True)\n",
    "'''\n",
    "h=1"
   ]
  },
  {
   "cell_type": "code",
   "execution_count": 107,
   "metadata": {},
   "outputs": [
    {
     "name": "stdout",
     "output_type": "stream",
     "text": [
      "prediction error of fold  0  :  0.7887323943661971\n",
      "Confusion matrix, without normalization\n"
     ]
    },
    {
     "data": {
      "image/png": "[encoded data removed]",
      "text/plain": [
       "<Figure size 432x288 with 2 Axes>"
      ]
     },
     "metadata": {
      "needs_background": "light"
     },
     "output_type": "display_data"
    },
    {
     "name": "stdout",
     "output_type": "stream",
     "text": [
      "prediction error of fold  1  :  0.647887323943662\n",
      "Confusion matrix, without normalization\n"
     ]
    },
    {
     "data": {
      "image/png": "[encoded data removed]",
      "text/plain": [
       "<Figure size 432x288 with 2 Axes>"
      ]
     },
     "metadata": {
      "needs_background": "light"
     },
     "output_type": "display_data"
    },
    {
     "name": "stdout",
     "output_type": "stream",
     "text": [
      "prediction error of fold  2  :  0.7323943661971831\n",
      "Confusion matrix, without normalization\n"
     ]
    },
    {
     "data": {
      "image/png": "[encoded data removed]",
      "text/plain": [
       "<Figure size 432x288 with 2 Axes>"
      ]
     },
     "metadata": {
      "needs_background": "light"
     },
     "output_type": "display_data"
    },
    {
     "name": "stdout",
     "output_type": "stream",
     "text": [
      "prediction error of fold  3  :  0.5915492957746479\n",
      "Confusion matrix, without normalization\n"
     ]
    },
    {
     "data": {
      "image/png": "[encoded data removed]",
      "text/plain": [
       "<Figure size 432x288 with 2 Axes>"
      ]
     },
     "metadata": {
      "needs_background": "light"
     },
     "output_type": "display_data"
    },
    {
     "name": "stdout",
     "output_type": "stream",
     "text": [
      "prediction error of fold  4  :  0.49295774647887325\n",
      "Confusion matrix, without normalization\n"
     ]
    },
    {
     "data": {
      "image/png": "[encoded data removed]",
      "text/plain": [
       "<Figure size 432x288 with 2 Axes>"
      ]
     },
     "metadata": {
      "needs_background": "light"
     },
     "output_type": "display_data"
    }
   ],
   "source": [
    "for i in range(5):\n",
    "    test_data=folds_data[i]\n",
    "    test_labels=folds_labels[i]\n",
    "    train_number=np.delete(fold_number,i,axis=0)\n",
    "    train_data=np.concatenate((folds_data[train_number[0]],folds_data[train_number[1]],folds_data[train_number[2]],folds_data[train_number[3]]))\n",
    "    train_labels=np.concatenate((folds_labels[train_number[0]],folds_labels[train_number[1]],folds_labels[train_number[2]],folds_labels[train_number[3]]))\n",
    "\n",
    "    RFClassifier=RandomForestClassifier(n_estimators=200,max_depth=30,max_features='auto')\n",
    "    RFClassifier.fit(train_data,train_labels)\n",
    "    predictY=RFClassifier.predict(test_data)\n",
    "    plt.title(\"Measured versus Predicted\")\n",
    "    #plt.scatter(test_labels,list(predictY),c='b')\n",
    "    #plt.plot(test_labels,test_labels,c='r')\n",
    "    plt.xlabel(\"real value\")\n",
    "    plt.ylabel(\"predict value\")\n",
    "    #print(myLS.getWLS())\n",
    "    con_mat=confusion_matrix(predictY,test_labels)\n",
    "    \n",
    "\n",
    "    score=precision_score(y_pred=predictY,y_true=test_labels,average='micro')\n",
    "\n",
    "    print(\"prediction error of fold \",i,\" : \",precision_score(y_pred=predictY,y_true=test_labels,average='micro'))\n",
    "    plot_confusion_matrix(con_mat,classes=['E','L','M','N'],normalize=False)\n",
    "    plt.show()\n",
    "    precisionArr.append(score)"
   ]
  },
  {
   "cell_type": "code",
   "execution_count": 108,
   "metadata": {},
   "outputs": [
    {
     "data": {
      "text/plain": [
       "array(['N', 'N', 'N', 'N', 'N', 'E', 'N', 'L', 'E', 'L', 'E', 'E', 'M',\n",
       "       'N', 'N', 'E', 'N', 'E', 'E', 'E', 'N', 'E', 'E', 'E', 'N', 'E',\n",
       "       'M', 'M', 'L', 'N', 'N', 'N', 'E', 'N', 'N', 'N', 'E', 'N', 'L',\n",
       "       'L', 'N', 'E', 'E', 'L', 'E', 'M', 'N', 'E', 'N', 'M', 'E', 'E',\n",
       "       'E', 'N', 'N', 'N', 'N', 'N', 'N', 'E', 'E', 'N', 'N', 'N', 'N',\n",
       "       'N', 'L', 'N', 'N', 'L', 'N'], dtype='<U1')"
      ]
     },
     "execution_count": 108,
     "metadata": {},
     "output_type": "execute_result"
    }
   ],
   "source": [
    "test_labels"
   ]
  },
  {
   "cell_type": "code",
   "execution_count": null,
   "metadata": {},
   "outputs": [],
   "source": [
    "print(\"average precision:\",np.mean(precisionArr))"
   ]
  },
  {
   "cell_type": "markdown",
   "metadata": {},
   "source": [
    "by training the best parameters, the output became better, but just improve a little"
   ]
  },
  {
   "cell_type": "markdown",
   "metadata": {},
   "source": [
    "## Gaussian Naive Bayes Classifier by Changlin Jiang"
   ]
  },
  {
   "cell_type": "markdown",
   "metadata": {},
   "source": [
    "### Discussion\n",
    "The image-based dataset is likely to be iid,so naive bayes classifier may work.Implement gaussian naive bayes classifier to the dataset and use cross validation to check the accuracy:"
   ]
  },
  {
   "cell_type": "markdown",
   "metadata": {},
   "source": [
    "### PCA with error<0.1 (k=59)"
   ]
  },
  {
   "cell_type": "code",
   "execution_count": 80,
   "metadata": {},
   "outputs": [],
   "source": [
    "from sklearn.model_selection import cross_val_score\n",
    "from sklearn.naive_bayes import GaussianNB\n",
    "from sklearn.metrics import confusion_matrix\n",
    "import itertools\n",
    "import matplotlib.pyplot as plt"
   ]
  },
  {
   "cell_type": "code",
   "execution_count": 81,
   "metadata": {},
   "outputs": [],
   "source": [
    "U_k=U[:,:59]\n",
    "WBC_gray_telda=np.mat(U_k.T)*np.mat(WBC_normalized_gray)"
   ]
  },
  {
   "cell_type": "code",
   "execution_count": 82,
   "metadata": {},
   "outputs": [
    {
     "name": "stdout",
     "output_type": "stream",
     "text": [
      "Gaussian naive bayes classifier:\n",
      "Cross validation scores= [0.52054795 0.5        0.61971831 0.58571429 0.57971014] ,Mean accuragy= 0.5611381371412912\n"
     ]
    }
   ],
   "source": [
    "clf = GaussianNB()\n",
    "data_gaussian=WBC_gray_telda.T\n",
    "scores_gaussian = cross_val_score(clf, data_gaussian, label_arr, cv=5)\n",
    "print(\"Gaussian naive bayes classifier:\")\n",
    "print(\"Cross validation scores=\",scores_gaussian,\",Mean accuragy=\",np.mean(scores_gaussian))"
   ]
  },
  {
   "cell_type": "code",
   "execution_count": 83,
   "metadata": {},
   "outputs": [
    {
     "name": "stdout",
     "output_type": "stream",
     "text": [
      "0-1 Loss= 14  Accuracy= 0.7454545454545455\n"
     ]
    }
   ],
   "source": [
    "training_data=WBC_gray_telda[:,:300]\n",
    "training_label=label_arr[:300]\n",
    "test_data=WBC_gray_telda[:,300:]\n",
    "test_label=label_arr[300:]\n",
    "clf.fit(training_data.T,training_label)\n",
    "labels_derived=clf.predict(test_data.T)\n",
    "error=0\n",
    "for i in range(len(test_label)):\n",
    "    if test_label[i]!=labels_derived[i]:\n",
    "        error+=1\n",
    "accuracy=1-error/len(test_label)\n",
    "print(\"0-1 Loss=\",error,\" Accuracy=\",accuracy)"
   ]
  },
  {
   "cell_type": "code",
   "execution_count": 84,
   "metadata": {},
   "outputs": [
    {
     "name": "stdout",
     "output_type": "stream",
     "text": [
      "[[38  3  0  6]\n",
      " [ 0  0  0  0]\n",
      " [ 1  0  0  0]\n",
      " [ 4  0  0  3]]\n"
     ]
    }
   ],
   "source": [
    "conf_mat=confusion_matrix(test_label, labels_derived)\n",
    "print(conf_mat)"
   ]
  },
  {
   "cell_type": "code",
   "execution_count": 113,
   "metadata": {},
   "outputs": [
    {
     "name": "stdout",
     "output_type": "stream",
     "text": [
      "Confusion matrix, without normalization\n",
      "[[38  3  0  6]\n",
      " [ 0  0  0  0]\n",
      " [ 1  0  0  0]\n",
      " [ 4  0  0  3]]\n"
     ]
    },
    {
     "data": {
      "image/png": "[encoded data removed]",
      "text/plain": [
       "<Figure size 432x288 with 2 Axes>"
      ]
     },
     "metadata": {
      "needs_background": "light"
     },
     "output_type": "display_data"
    }
   ],
   "source": [
    "def plot_confusion_matrix(cm, classes,\n",
    "                          normalize=False,\n",
    "                          title='Confusion matrix',\n",
    "                          cmap=plt.cm.Blues):\n",
    "    \"\"\"\n",
    "    This function prints and plots the confusion matrix.\n",
    "    Normalization can be applied by setting `normalize=True`.\n",
    "    \"\"\"\n",
    "    if normalize:\n",
    "        cm = cm.astype('float') / cm.sum(axis=1)[:, np.newaxis]\n",
    "        print(\"Normalized confusion matrix\")\n",
    "    else:\n",
    "        print('Confusion matrix, without normalization')\n",
    "\n",
    "    print(cm)\n",
    "\n",
    "    plt.imshow(cm, interpolation='nearest', cmap=cmap)\n",
    "    plt.title(title)\n",
    "    plt.colorbar()\n",
    "    tick_marks = np.arange(len(classes))\n",
    "    plt.xticks(tick_marks, classes, rotation=45)\n",
    "    plt.yticks(tick_marks, classes)\n",
    "\n",
    "    fmt = '.2f' if normalize else 'd'\n",
    "    thresh = cm.max() / 2.\n",
    "    for i, j in itertools.product(range(cm.shape[0]), range(cm.shape[1])):\n",
    "        plt.text(j, i, format(cm[i, j], fmt),\n",
    "                 horizontalalignment=\"center\",\n",
    "                 color=\"white\" if cm[i, j] > thresh else \"black\")\n",
    "WBC_classes = {'Neutrophil': 0, 'Monocyte': 1, 'Lymphocyte': 2, 'Eosinophil': 3}\n",
    "       \n",
    "plt.figure()\n",
    "plot_confusion_matrix(conf_mat, classes = list(map(lambda x:x[0], sorted(WBC_classes.items(), key = lambda t:t[1]))),\n",
    "                      title='Confusion matrix, without normalization')"
   ]
  },
  {
   "cell_type": "markdown",
   "metadata": {},
   "source": [
    "The result shows that using gaussian naive bayes classifier maybe not a good idea.Possible reason is that the data maybe not gaussian distributed or non-linear model."
   ]
  },
  {
   "cell_type": "code",
   "execution_count": 20,
   "metadata": {},
   "outputs": [],
   "source": [
    "WBC_cov_mat = np.cov(WBC_normalized_gray[:, :].astype(np.float64))\n",
    "#WBC_cov_mat = WBC_normalized_gray[:, 0][np.newaxis].astype(np.float64).T.dot(WBC_normalized_gray[:, 0][np.newaxis])\n",
    "#WBC_cov_mat = np.cov(WBC_normalized_gray)\n",
    "#print(WBC_cov_mat)\n",
    "img = cv2.convertScaleAbs(WBC_cov_mat*100000)\n",
    "img = cv2.resize(img, (0, 0), fx=0.3, fy=0.3)\n",
    "cv2.imshow('img', img)\n",
    "cv2.waitKey(0)\n",
    "cv2.destroyAllWindows()"
   ]
  },
  {
   "cell_type": "code",
   "execution_count": 35,
   "metadata": {},
   "outputs": [
    {
     "data": {
      "text/plain": [
       "array([[-0.06919515],\n",
       "       [-0.06414242],\n",
       "       [-0.04998645],\n",
       "       ...,\n",
       "       [-0.0613414 ],\n",
       "       [-0.04778742],\n",
       "       [-0.02465501]])"
      ]
     },
     "execution_count": 35,
     "metadata": {},
     "output_type": "execute_result"
    }
   ],
   "source": [
    "WBC_normalized_gray[:, 0][np.newaxis].astype(np.float64).T"
   ]
  },
  {
   "cell_type": "markdown",
   "metadata": {},
   "source": [
    "## Regression Problem\n",
    "#### Dataset Description:  \n",
    "The dataset includes 9358 data samples of responses from 5 metal oxide chemical sensors embedded in an Air Quality Monitoring Device, recorded along with hours. The device was located on the field in a significantly polluted area in Italy. The data was collected to estimate benzene concentration with the response from the previously mentioned sensors, which are originally designed to monitor non-benzene substance concentration(i.e. there maybe a potential relationship between the concentration of benzene and the 5 kinds of non-benzene substance.).Consequently, the labels should be the true values of benzene concentration.  \n",
    "The dataset is provided in S. De Vito, E. Massera, M. Piga, L. Martinotto, G. Di Francia, On field calibration of an electronic nose for benzene estimation in an urban pollution monitoring scenario, Sensors and Actuators B: Chemical, Volume 129, Issue 2, 22 February 2008, Pages 750-757, ISSN 0925-4005.  "
   ]
  },
  {
   "cell_type": "markdown",
   "metadata": {},
   "source": [
    "### LS Solution Approach by Changlin Jiang\n",
    "#### Libraries and dataset importing"
   ]
  },
  {
   "cell_type": "code",
   "execution_count": 1,
   "metadata": {},
   "outputs": [],
   "source": [
    "# import libraries\n",
    "import csv\n",
    "import numpy as np\n",
    "from numpy import linalg as la\n",
    "import matplotlib.pyplot as plt\n",
    "from sklearn import linear_model\n",
    "import math"
   ]
  },
  {
   "cell_type": "code",
   "execution_count": 2,
   "metadata": {},
   "outputs": [],
   "source": [
    "# read dataset from csv file\n",
    "with open('air-quality\\\\AirQualityUCI.csv') as csv_file:\n",
    "    csv_reader=csv.reader(csv_file, delimiter=',')\n",
    "    date,time,CO_true,CO_measured,NMHC_true,C6H6_true,NMHC_measured,NOx_true,NOx_measured,NO2_true,NO2_measured,O3_measured,temp,RH,AH=[0 for i in range(9357)],[0 for i in range(9357)],[0 for i in range(9357)],[0 for i in range(9357)],[0 for i in range(9357)],[0 for i in range(9357)],[0 for i in range(9357)],[0 for i in range(9357)],[0 for i in range(9357)],[0 for i in range(9357)],[0 for i in range(9357)],[0 for i in range(9357)],[0 for i in range(9357)],[0 for i in range(9357)],[0 for i in range(9357)]\n",
    "    line_count=0\n",
    "    for row in csv_reader:\n",
    "        if row[0]==\"\":\n",
    "            break;\n",
    "        if(line_count!=0):\n",
    "            date[line_count-1],time[line_count-1],CO_true[line_count-1],CO_measured[line_count-1],NMHC_true[line_count-1],C6H6_true[line_count-1],NMHC_measured[line_count-1],NOx_true[line_count-1],NOx_measured[line_count-1],NO2_true[line_count-1],NO2_measured[line_count-1],O3_measured[line_count-1],temp[line_count-1],RH[line_count-1],AH[line_count-1]=row[0],row[1],row[2],row[3],row[4],row[5],row[6],row[7],row[8],row[9],row[10],row[11],row[12],row[13],row[14]\n",
    "        line_count+=1"
   ]
  },
  {
   "cell_type": "markdown",
   "metadata": {},
   "source": [
    "#### Data Cleaning\n",
    "The missing values in the dataset was tagged with -200. To clean the dataset, the missing values are filled with the mean of the dimension."
   ]
  },
  {
   "cell_type": "code",
   "execution_count": 84,
   "metadata": {
    "scrolled": true
   },
   "outputs": [],
   "source": [
    "# clean the data and label by replacing invalid value with mean\n",
    "def clean_replace(data,labels):\n",
    "    # clean the data\n",
    "    m,n=np.shape(data)\n",
    "    mean=[0 for i in range(m)]\n",
    "    for i in range(m):\n",
    "        sum=0\n",
    "        count=0\n",
    "        for j in range(n):\n",
    "            if(data[i,j]>=0):\n",
    "                sum+=data[i,j]\n",
    "                count+=1\n",
    "        mean[i]=sum/count\n",
    "    for i in range(m):\n",
    "        for j in range(n):\n",
    "            if data[i,j]<0:\n",
    "                data[i,j]=mean[i]\n",
    "\n",
    "    # clean the label\n",
    "    labels=np.array(labels).astype(np.float64)\n",
    "    sum=0\n",
    "    count=0\n",
    "    for i in range(n):\n",
    "        if labels[i]>=0:\n",
    "            sum+=labels[i]\n",
    "            count+=1\n",
    "    mean=sum/count\n",
    "    for i in range(n):\n",
    "        if labels[i]<0:\n",
    "            labels[i]=mean\n",
    "    return data,labels"
   ]
  },
  {
   "cell_type": "markdown",
   "metadata": {},
   "source": [
    "#### LS solution implementation"
   ]
  },
  {
   "cell_type": "code",
   "execution_count": 32,
   "metadata": {},
   "outputs": [],
   "source": [
    "# implement LS solution\n",
    "def ls_solution(data,labels):\n",
    "    m,n=np.shape(data)\n",
    "    data_hat=np.row_stack((data,[1 for i in range(n)])).T.astype(np.float64)\n",
    "    w=la.inv(data_hat.T*data_hat)*data_hat.T*labels.T\n",
    "    return w"
   ]
  },
  {
   "cell_type": "markdown",
   "metadata": {},
   "source": [
    "#### Cross Validation Implementation"
   ]
  },
  {
   "cell_type": "code",
   "execution_count": 33,
   "metadata": {},
   "outputs": [],
   "source": [
    "# Build cross validation function, return regression error for each test and derived labels\n",
    "def cross_validation(data,labels,k:int):\n",
    "    m,n=np.shape(data)\n",
    "    data_with_labels=np.mat(np.row_stack((data,labels))).astype(np.float64)\n",
    "    a=n//k\n",
    "    fold=[0 for i in range(k)]\n",
    "    for i in range(k):\n",
    "        if i!=k-1:\n",
    "            fold[i]=data_with_labels[:,i*a:(i+1)*a].astype(np.float64)\n",
    "        else:\n",
    "            fold[i]=data_with_labels[:,i*a:].astype(np.float64)\n",
    "    reg_error=[0 for i in range(k)]\n",
    "    labels_derived=np.mat([0 for i in range(n)]).astype(np.float64).T\n",
    "    \n",
    "    for i in range(k):\n",
    "        test_data=fold[i].astype(np.float64)\n",
    "        mi,ni=np.shape(fold[i])\n",
    "        training_data=np.mat([[0 for j in range(n-ni)] for i in range(m+1)]).astype(np.float64)\n",
    "        sample_number=0\n",
    "        for j in range(k):\n",
    "            if j==i:\n",
    "                continue\n",
    "            mj,nj=np.shape(fold[j])\n",
    "            training_data[:,sample_number:sample_number+nj]=fold[j]\n",
    "            sample_number=sample_number+nj\n",
    "        # Algorithm implementation\n",
    "        w=ls_solution(training_data[:m,:],training_data[m,:])\n",
    "        test_data_hat=np.row_stack((test_data[:m,:],np.mat([1 for x in range(ni)])))\n",
    "        y=test_data_hat.T*w\n",
    "        if i!=k-1:\n",
    "            labels_derived[i*a:(i+1)*a]=y\n",
    "        else:\n",
    "            labels_derived[i*a:]=y\n",
    "        reg_error[i]=la.norm(y-labels,2)\n",
    "    overall_error=la.norm(reg_error)\n",
    "    return reg_error,labels_derived,overall_error"
   ]
  },
  {
   "cell_type": "markdown",
   "metadata": {},
   "source": [
    "#### Overall process implementation\n",
    "The pipeline implemented is as below:  \n",
    "- Data importing:  \n",
    "Import data from csv file and save each dimension into a individual list.\n",
    "- Data cleaning:\n",
    "Fill all the missing values in data with the mean of the dimension.\n",
    "- Algorithm implement:\n",
    "Implement LS solution to learn the dataset.\n",
    "- Algorithm evaluation:\n",
    "Build K-folds cross validation to compute the regression error of the algorithm\n",
    "- Parameter determination:\n",
    "Run K-folds cross validation with K in a linear array to find the best K for this certain dataset."
   ]
  },
  {
   "cell_type": "code",
   "execution_count": 82,
   "metadata": {},
   "outputs": [],
   "source": [
    "# Define overall process function to show the results\n",
    "def ls_regression(data,labels):\n",
    "    m,n=np.shape(np.mat(data))\n",
    "    if m>1:\n",
    "        data=np.row_stack(data)\n",
    "    data=np.mat(data).astype(np.float64)\n",
    "    data,labels=clean_replace(data,labels)\n",
    "    data, labels = standardize(data)\n",
    "    labels = standardize(labels[np.newaxis])\n",
    "    # Implement LS regression nand cross validation to find the best K\n",
    "    k=[2,3,4,5,6,7,8,9,10]\n",
    "    overall_error=[0 for i in range(9)]\n",
    "    for i in range(9):\n",
    "        overall_error[i]=cross_validation(data,labels,k[i])[2]\n",
    "    # Plot the K-Error plot to show the best K\n",
    "    plt.figure(1)\n",
    "    plt.plot(k,overall_error)\n",
    "    plt.title('K-Error Plot')\n",
    "    print(\"The best K is \",k[overall_error.index(min(overall_error))])\n",
    "    # Plot the regression result derived by the best K in a predicted-versus-measured scatter plot\n",
    "    reg_error,labels_derived,overall_error=cross_validation(data,labels,k[overall_error.index(min(overall_error))])\n",
    "    labels_derived=np.array(labels_derived).reshape(-1,1)\n",
    "    labels=np.array(labels).reshape(1,-1).T\n",
    "    plt.figure(2)\n",
    "    plt.scatter(labels,labels_derived,color='b')\n",
    "    ymax=max([max(labels),max(labels_derived)])\n",
    "    plt.plot([0,max(labels)],[0,max(labels)], color='r', linewidth=1, alpha=0.6)\n",
    "    plt.xlabel('Predicted Labels')\n",
    "    plt.ylabel('Measured Labels')\n",
    "    plt.title('Overall L2-Loss Regression Error={}'.format(overall_error))"
   ]
  },
  {
   "cell_type": "code",
   "execution_count": 85,
   "metadata": {},
   "outputs": [
    {
     "name": "stdout",
     "output_type": "stream",
     "text": [
      "[[[212.78030083]]\n",
      "\n",
      " [[261.54625901]]\n",
      "\n",
      " [[251.73050135]]\n",
      "\n",
      " [[339.34942434]]\n",
      "\n",
      " [[390.59145047]]\n",
      "\n",
      " [[  8.62768388]]\n",
      "\n",
      " [[ 16.97389421]]\n",
      "\n",
      " [[  0.39581423]]]\n"
     ]
    },
    {
     "ename": "ValueError",
     "evalue": "shape too large to be a matrix.",
     "output_type": "error",
     "traceback": [
      "\u001b[1;31m---------------------------------------------------------------------------\u001b[0m",
      "\u001b[1;31mValueError\u001b[0m                                Traceback (most recent call last)",
      "\u001b[1;32m<ipython-input-85-bb093ad643bf>\u001b[0m in \u001b[0;36m<module>\u001b[1;34m()\u001b[0m\n\u001b[0;32m      1\u001b[0m \u001b[0mdata\u001b[0m\u001b[1;33m=\u001b[0m\u001b[1;33m(\u001b[0m\u001b[0mCO_measured\u001b[0m\u001b[1;33m,\u001b[0m\u001b[0mNMHC_measured\u001b[0m\u001b[1;33m,\u001b[0m\u001b[0mNOx_measured\u001b[0m\u001b[1;33m,\u001b[0m\u001b[0mNO2_measured\u001b[0m\u001b[1;33m,\u001b[0m\u001b[0mO3_measured\u001b[0m\u001b[1;33m,\u001b[0m\u001b[0mtemp\u001b[0m\u001b[1;33m,\u001b[0m\u001b[0mRH\u001b[0m\u001b[1;33m,\u001b[0m\u001b[0mAH\u001b[0m\u001b[1;33m)\u001b[0m\u001b[1;33m\u001b[0m\u001b[0m\n\u001b[0;32m      2\u001b[0m \u001b[0mlabels\u001b[0m\u001b[1;33m=\u001b[0m\u001b[0mC6H6_true\u001b[0m\u001b[1;33m\u001b[0m\u001b[0m\n\u001b[1;32m----> 3\u001b[1;33m \u001b[0mls_regression\u001b[0m\u001b[1;33m(\u001b[0m\u001b[0mdata\u001b[0m\u001b[1;33m,\u001b[0m\u001b[0mlabels\u001b[0m\u001b[1;33m)\u001b[0m\u001b[1;33m\u001b[0m\u001b[0m\n\u001b[0m",
      "\u001b[1;32m<ipython-input-82-2d364c11e68b>\u001b[0m in \u001b[0;36mls_regression\u001b[1;34m(data, labels)\u001b[0m\n\u001b[0;32m      6\u001b[0m     \u001b[0mdata\u001b[0m\u001b[1;33m=\u001b[0m\u001b[0mnp\u001b[0m\u001b[1;33m.\u001b[0m\u001b[0mmat\u001b[0m\u001b[1;33m(\u001b[0m\u001b[0mdata\u001b[0m\u001b[1;33m)\u001b[0m\u001b[1;33m.\u001b[0m\u001b[0mastype\u001b[0m\u001b[1;33m(\u001b[0m\u001b[0mnp\u001b[0m\u001b[1;33m.\u001b[0m\u001b[0mfloat64\u001b[0m\u001b[1;33m)\u001b[0m\u001b[1;33m\u001b[0m\u001b[0m\n\u001b[0;32m      7\u001b[0m     \u001b[0mdata\u001b[0m\u001b[1;33m,\u001b[0m\u001b[0mlabels\u001b[0m\u001b[1;33m=\u001b[0m\u001b[0mclean_replace\u001b[0m\u001b[1;33m(\u001b[0m\u001b[0mdata\u001b[0m\u001b[1;33m,\u001b[0m\u001b[0mlabels\u001b[0m\u001b[1;33m)\u001b[0m\u001b[1;33m\u001b[0m\u001b[0m\n\u001b[1;32m----> 8\u001b[1;33m     \u001b[0mdata\u001b[0m\u001b[1;33m,\u001b[0m \u001b[0mlabels\u001b[0m \u001b[1;33m=\u001b[0m \u001b[0mstandardize\u001b[0m\u001b[1;33m(\u001b[0m\u001b[0mdata\u001b[0m\u001b[1;33m)\u001b[0m\u001b[1;33m\u001b[0m\u001b[0m\n\u001b[0m\u001b[0;32m      9\u001b[0m     \u001b[0mlabels\u001b[0m \u001b[1;33m=\u001b[0m \u001b[0mstandardize\u001b[0m\u001b[1;33m(\u001b[0m\u001b[0mlabels\u001b[0m\u001b[1;33m[\u001b[0m\u001b[0mnp\u001b[0m\u001b[1;33m.\u001b[0m\u001b[0mnewaxis\u001b[0m\u001b[1;33m]\u001b[0m\u001b[1;33m)\u001b[0m\u001b[1;33m\u001b[0m\u001b[0m\n\u001b[0;32m     10\u001b[0m     \u001b[1;31m# Implement LS regression nand cross validation to find the best K\u001b[0m\u001b[1;33m\u001b[0m\u001b[1;33m\u001b[0m\u001b[0m\n",
      "\u001b[1;32m<ipython-input-79-72bf717b49a9>\u001b[0m in \u001b[0;36mstandardize\u001b[1;34m(X)\u001b[0m\n\u001b[0;32m      3\u001b[0m     \u001b[0mX_std\u001b[0m \u001b[1;33m=\u001b[0m \u001b[0mnp\u001b[0m\u001b[1;33m.\u001b[0m\u001b[0mstd\u001b[0m\u001b[1;33m(\u001b[0m\u001b[0mX\u001b[0m\u001b[1;33m,\u001b[0m \u001b[0maxis\u001b[0m \u001b[1;33m=\u001b[0m \u001b[1;36m1\u001b[0m\u001b[1;33m)\u001b[0m\u001b[1;33m[\u001b[0m\u001b[1;33m:\u001b[0m\u001b[1;33m,\u001b[0m \u001b[0mnp\u001b[0m\u001b[1;33m.\u001b[0m\u001b[0mnewaxis\u001b[0m\u001b[1;33m]\u001b[0m\u001b[1;33m\u001b[0m\u001b[0m\n\u001b[0;32m      4\u001b[0m     \u001b[0mprint\u001b[0m\u001b[1;33m(\u001b[0m\u001b[0mX_std\u001b[0m\u001b[1;33m)\u001b[0m\u001b[1;33m\u001b[0m\u001b[0m\n\u001b[1;32m----> 5\u001b[1;33m     \u001b[1;32mreturn\u001b[0m \u001b[0mX\u001b[0m\u001b[1;33m/\u001b[0m\u001b[0mX_std\u001b[0m\u001b[1;33m\u001b[0m\u001b[0m\n\u001b[0m\u001b[0;32m      6\u001b[0m     \u001b[1;32mreturn\u001b[0m \u001b[0mX_standardized\u001b[0m\u001b[1;33m\u001b[0m\u001b[0m\n\u001b[0;32m      7\u001b[0m \u001b[1;33m\u001b[0m\u001b[0m\n",
      "\u001b[1;32mF:\\Anaconda\\lib\\site-packages\\numpy\\matrixlib\\defmatrix.py\u001b[0m in \u001b[0;36m__array_finalize__\u001b[1;34m(self, obj)\u001b[0m\n\u001b[0;32m    269\u001b[0m                 \u001b[1;32mreturn\u001b[0m\u001b[1;33m\u001b[0m\u001b[0m\n\u001b[0;32m    270\u001b[0m             \u001b[1;32melif\u001b[0m \u001b[1;33m(\u001b[0m\u001b[0mndim\u001b[0m \u001b[1;33m>\u001b[0m \u001b[1;36m2\u001b[0m\u001b[1;33m)\u001b[0m\u001b[1;33m:\u001b[0m\u001b[1;33m\u001b[0m\u001b[0m\n\u001b[1;32m--> 271\u001b[1;33m                 \u001b[1;32mraise\u001b[0m \u001b[0mValueError\u001b[0m\u001b[1;33m(\u001b[0m\u001b[1;34m\"shape too large to be a matrix.\"\u001b[0m\u001b[1;33m)\u001b[0m\u001b[1;33m\u001b[0m\u001b[0m\n\u001b[0m\u001b[0;32m    272\u001b[0m         \u001b[1;32melse\u001b[0m\u001b[1;33m:\u001b[0m\u001b[1;33m\u001b[0m\u001b[0m\n\u001b[0;32m    273\u001b[0m             \u001b[0mnewshape\u001b[0m \u001b[1;33m=\u001b[0m \u001b[0mself\u001b[0m\u001b[1;33m.\u001b[0m\u001b[0mshape\u001b[0m\u001b[1;33m\u001b[0m\u001b[0m\n",
      "\u001b[1;31mValueError\u001b[0m: shape too large to be a matrix."
     ]
    }
   ],
   "source": [
    "data=(CO_measured,NMHC_measured,NOx_measured,NO2_measured,O3_measured,temp,RH,AH)\n",
    "labels=C6H6_true\n",
    "ls_regression(data,labels)"
   ]
  },
  {
   "cell_type": "code",
   "execution_count": 35,
   "metadata": {},
   "outputs": [
    {
     "name": "stdout",
     "output_type": "stream",
     "text": [
      "The best K is  6\n"
     ]
    },
    {
     "data": {
      "image/png": "[encoded data removed]",
      "text/plain": [
       "<Figure size 432x288 with 1 Axes>"
      ]
     },
     "metadata": {
      "needs_background": "light"
     },
     "output_type": "display_data"
    },
    {
     "data": {
      "image/png": "[encoded data removed]",
      "text/plain": [
       "<Figure size 432x288 with 1 Axes>"
      ]
     },
     "metadata": {
      "needs_background": "light"
     },
     "output_type": "display_data"
    }
   ],
   "source": [
    "data=(CO_measured,NMHC_measured,NOx_measured,NO2_measured,O3_measured,temp,RH,AH)\n",
    "labels=C6H6_true\n",
    "ls_regression(data,labels)"
   ]
  },
  {
   "cell_type": "code",
   "execution_count": 53,
   "metadata": {},
   "outputs": [
    {
     "name": "stdout",
     "output_type": "stream",
     "text": [
      "compare to sklearn least regression\n",
      "error: 116.71278499012881\n"
     ]
    },
    {
     "data": {
      "image/png": "[encoded data removed]",
      "text/plain": [
       "<Figure size 432x288 with 1 Axes>"
      ]
     },
     "metadata": {
      "needs_background": "light"
     },
     "output_type": "display_data"
    }
   ],
   "source": [
    "print(\"compare to sklearn least regression\")\n",
    "from sklearn import linear_model\n",
    "data_clean, labels_clean = clean_replace(np.array(data).astype(np.float64), np.asarray(list(map(float, labels))))\n",
    "reg=linear_model.LinearRegression()\n",
    "reg.fit(clean_data.T,labels)\n",
    "y=reg.predict(clean_data.T)\n",
    "print (\"error:\",np.linalg.norm(labels-y))\n",
    "plt.scatter(labels,y)\n",
    "plt.show()"
   ]
  },
  {
   "cell_type": "markdown",
   "metadata": {},
   "source": [
    "## random forest approach by Chaoji Zuo"
   ]
  },
  {
   "cell_type": "markdown",
   "metadata": {},
   "source": [
    "When I started solving this problem, I did not use any other optimazation methods, I just try to put all the cleaned data into the Random Forest Regression model and did not know clearly what would I get.\n",
    "\n",
    "And the result really surprise me, the error is really small and random forest looks like a perfect solution for this dataset."
   ]
  },
  {
   "cell_type": "code",
   "execution_count": 54,
   "metadata": {},
   "outputs": [],
   "source": [
    "from sklearn.ensemble import RandomForestRegressor\n",
    "data=np.array(data).astype(np.float64)\n",
    "data,labels=clean_replace(data,labels)\n",
    "clean_data=np.array(data)\n",
    "X_train, y_train = clean_data.T[:6000],labels[:6000]\n",
    "X_test,y_test=clean_data.T[6000:],labels[6000:]"
   ]
  },
  {
   "cell_type": "code",
   "execution_count": 55,
   "metadata": {},
   "outputs": [
    {
     "name": "stderr",
     "output_type": "stream",
     "text": [
      "F:\\Anaconda\\lib\\site-packages\\sklearn\\ensemble\\forest.py:248: FutureWarning: The default value of n_estimators will change from 10 in version 0.20 to 100 in 0.22.\n",
      "  \"10 in version 0.20 to 100 in 0.22.\", FutureWarning)\n"
     ]
    },
    {
     "data": {
      "text/plain": [
       "RandomForestRegressor(bootstrap=True, criterion='mse', max_depth=None,\n",
       "           max_features='auto', max_leaf_nodes=None,\n",
       "           min_impurity_decrease=0.0, min_impurity_split=None,\n",
       "           min_samples_leaf=1, min_samples_split=2,\n",
       "           min_weight_fraction_leaf=0.0, n_estimators=10, n_jobs=None,\n",
       "           oob_score=False, random_state=None, verbose=0, warm_start=False)"
      ]
     },
     "execution_count": 55,
     "metadata": {},
     "output_type": "execute_result"
    }
   ],
   "source": [
    "regr=RandomForestRegressor()\n",
    "regr.fit(clean_data.T,labels)"
   ]
  },
  {
   "cell_type": "code",
   "execution_count": 56,
   "metadata": {},
   "outputs": [
    {
     "data": {
      "image/png": "[encoded data removed]",
      "text/plain": [
       "<Figure size 432x288 with 1 Axes>"
      ]
     },
     "metadata": {
      "needs_background": "light"
     },
     "output_type": "display_data"
    },
    {
     "name": "stdout",
     "output_type": "stream",
     "text": [
      "2-norm error: 5.124529246672325\n",
      "R^2 score of predict values: 0.9999473671682682\n"
     ]
    }
   ],
   "source": [
    "data=np.array(data).astype(np.float64)\n",
    "clean_data=np.array(data)\n",
    "labels=np.array(labels).astype(np.float64)\n",
    "res=regr.predict(clean_data.T)\n",
    "\n",
    "plt.scatter(res,labels)\n",
    "plt.plot([min(labels),max(labels)],[min(labels),max(labels)],c='r')\n",
    "plt.title(\"first try on the whole datasets\")\n",
    "plt.xlabel(\"true values\")\n",
    "plt.ylabel(\"predict values\")\n",
    "plt.show()\n",
    "print(\"2-norm error:\",np.linalg.norm(res-labels))\n",
    "print(\"R^2 score of predict values:\",regr.score(clean_data.T,labels))"
   ]
  },
  {
   "cell_type": "markdown",
   "metadata": {},
   "source": [
    "However, this may be just because I use the training data to do the test. And it may have some kind of over-fitting so I then leave some test data and train the model using the training data.\n",
    "\n",
    "And It still get a great performance."
   ]
  },
  {
   "cell_type": "code",
   "execution_count": 57,
   "metadata": {},
   "outputs": [
    {
     "name": "stderr",
     "output_type": "stream",
     "text": [
      "F:\\Anaconda\\lib\\site-packages\\sklearn\\ensemble\\forest.py:248: FutureWarning: The default value of n_estimators will change from 10 in version 0.20 to 100 in 0.22.\n",
      "  \"10 in version 0.20 to 100 in 0.22.\", FutureWarning)\n"
     ]
    },
    {
     "data": {
      "image/png": "[encoded data removed]",
      "text/plain": [
       "<Figure size 432x288 with 1 Axes>"
      ]
     },
     "metadata": {
      "needs_background": "light"
     },
     "output_type": "display_data"
    },
    {
     "name": "stdout",
     "output_type": "stream",
     "text": [
      "2-norm error: 21.518052433795006\n",
      "R^2 score of predict values: 0.9973400992454645\n"
     ]
    }
   ],
   "source": [
    "regr=RandomForestRegressor()\n",
    "regr.fit(X_train,y_train)\n",
    "res=regr.predict(X_test)\n",
    "\n",
    "plt.scatter(y_test,res)\n",
    "plt.plot([min(y_test),max(y_test)],[min(y_test),max(y_test)],c='r')\n",
    "plt.title(\"second try on the test data (default parameters)\")\n",
    "plt.xlabel(\"true values\")\n",
    "plt.ylabel(\"predict values\")\n",
    "plt.show()\n",
    "print(\"2-norm error:\",np.linalg.norm(res-y_test))\n",
    "print(\"R^2 score of predict values:\",regr.score(X_test,y_test))"
   ]
  },
  {
   "cell_type": "markdown",
   "metadata": {},
   "source": [
    "So I think this model doesn't have a over-fitting problem.\n",
    "\n",
    "It is a very sutiable model to this dataset.\n",
    "\n",
    "Since I just use the default parameters, I think maybe I can get a even better result by using the cross validation to train the best parameters."
   ]
  },
  {
   "cell_type": "code",
   "execution_count": 58,
   "metadata": {},
   "outputs": [
    {
     "name": "stdout",
     "output_type": "stream",
     "text": [
      "Best parameters:\n",
      "{'min_samples_leaf': 2, 'n_estimators': 20}\n"
     ]
    }
   ],
   "source": [
    "from sklearn.model_selection import GridSearchCV\n",
    "\n",
    "X_train, y_train = clean_data.T[:6000],labels[:6000]\n",
    "\n",
    "rfr = RandomForestRegressor()\n",
    "tuned_parameters = [{'min_samples_leaf':[1,2,3], 'n_estimators':[10,20,200]}]\n",
    "\n",
    "clf = GridSearchCV(estimator=rfr,param_grid=tuned_parameters, cv=5, n_jobs=1)\n",
    "\n",
    "clf.fit(X_train, y_train)\n",
    "print('Best parameters:')\n",
    "print(clf.best_params_)"
   ]
  },
  {
   "cell_type": "code",
   "execution_count": 59,
   "metadata": {},
   "outputs": [
    {
     "data": {
      "image/png": "[encoded data removed]",
      "text/plain": [
       "<Figure size 432x288 with 1 Axes>"
      ]
     },
     "metadata": {
      "needs_background": "light"
     },
     "output_type": "display_data"
    },
    {
     "name": "stdout",
     "output_type": "stream",
     "text": [
      "2-norm error: 9.263232029794162\n",
      "R^2 score of predict values: 0.9995070707438727\n"
     ]
    }
   ],
   "source": [
    "regr=RandomForestRegressor(n_estimators=20,min_samples_leaf=1)\n",
    "regr.fit(X_test,y_test)\n",
    "res=regr.predict(X_test)\n",
    "\n",
    "plt.scatter(y_test,res)\n",
    "plt.plot([min(y_test),max(y_test)],[min(y_test),max(y_test)],c='r')\n",
    "plt.title(\"third try on the test data (n_estimators=20,min_samples_leaf=1)\")\n",
    "plt.xlabel(\"true values\")\n",
    "plt.ylabel(\"predict values\")\n",
    "plt.show()\n",
    "\n",
    "print(\"2-norm error:\",np.linalg.norm(res-y_test))\n",
    "print(\"R^2 score of predict values:\",regr.score(X_test,y_test))"
   ]
  },
  {
   "cell_type": "markdown",
   "metadata": {},
   "source": [
    "I really got a better solution using the best parameters of \"min_samples_leaf\" and \"n_estimators\".\n",
    "\n",
    "But the progress was not very significant, because the former soultion is great enough."
   ]
  },
  {
   "cell_type": "markdown",
   "metadata": {},
   "source": [
    "### model review"
   ]
  },
  {
   "cell_type": "code",
   "execution_count": 60,
   "metadata": {},
   "outputs": [
    {
     "name": "stdout",
     "output_type": "stream",
     "text": [
      "shape of decision path: (3357, 15296)\n"
     ]
    }
   ],
   "source": [
    "print(\"shape of decision path:\",regr.decision_path(X_test)[0].toarray().shape)"
   ]
  },
  {
   "cell_type": "code",
   "execution_count": 61,
   "metadata": {},
   "outputs": [],
   "source": [
    "from sklearn.tree import export_graphviz\n",
    "estimator = regr.estimators_[0]\n",
    "export_graphviz(estimator,feature_names=['CO_measured','NMHC_measured','NOx_measured','NO2_measured','O3_measured','temp','RH','AH'],out_file='tree.dot')"
   ]
  },
  {
   "cell_type": "code",
   "execution_count": 62,
   "metadata": {},
   "outputs": [
    {
     "name": "stdout",
     "output_type": "stream",
     "text": [
      "feature importances:\n",
      "[2.22323159e-04 9.98468843e-01 3.59183861e-04 3.16585929e-04\n",
      " 6.11483574e-05 9.64818194e-05 4.21031008e-04 5.44025435e-05]\n"
     ]
    }
   ],
   "source": [
    "print(\"feature importances:\")\n",
    "print(regr.feature_importances_)"
   ]
  },
  {
   "cell_type": "code",
   "execution_count": 63,
   "metadata": {},
   "outputs": [
    {
     "name": "stdout",
     "output_type": "stream",
     "text": [
      "error: 226.72020689446524\n"
     ]
    },
    {
     "data": {
      "image/png": "[encoded data removed]",
      "text/plain": [
       "<Figure size 432x288 with 1 Axes>"
      ]
     },
     "metadata": {
      "needs_background": "light"
     },
     "output_type": "display_data"
    }
   ],
   "source": [
    "data1=(CO_measured,NOx_measured,NO2_measured,O3_measured,temp,RH,AH)\n",
    "data1=np.array(data1).astype(np.float64)\n",
    "data1,labels=clean_replace(data1,labels)\n",
    "data1=np.array(data1)\n",
    "reg=linear_model.LinearRegression()\n",
    "reg.fit(data1.T,labels)\n",
    "y=reg.predict(data1.T)\n",
    "plt.scatter(labels,y)\n",
    "plt.title(\"least sqaure regression whitout the most importance feature\")\n",
    "print (\"error:\",np.linalg.norm(labels-y))"
   ]
  },
  {
   "cell_type": "markdown",
   "metadata": {},
   "source": [
    "## LASSO approach by Shuyu Chen"
   ]
  },
  {
   "cell_type": "markdown",
   "metadata": {},
   "source": [
    "The following implementation is LASSO regression on the AirQuality dataset. Least square estimation The motivation is to compare the "
   ]
  },
  {
   "cell_type": "code",
   "execution_count": 3,
   "metadata": {},
   "outputs": [],
   "source": [
    "data=(CO_measured,NMHC_measured,NOx_measured,NO2_measured,O3_measured,temp,RH,AH)\n",
    "targets = C6H6_true\n",
    "#print(targets)"
   ]
  },
  {
   "cell_type": "code",
   "execution_count": 4,
   "metadata": {},
   "outputs": [],
   "source": [
    "np.set_printoptions(threshold=np.nan)"
   ]
  },
  {
   "cell_type": "raw",
   "metadata": {},
   "source": []
  },
  {
   "cell_type": "code",
   "execution_count": 8,
   "metadata": {},
   "outputs": [
    {
     "name": "stdout",
     "output_type": "stream",
     "text": [
      "[[217.06796485]\n",
      " [266.81658938]\n",
      " [256.80303771]\n",
      " [346.18754003]\n",
      " [398.46212693]\n",
      " [  8.83162455]\n",
      " [ 17.31592942]\n",
      " [  0.40379015]]\n",
      "[[7.44940539]]\n",
      "[[ 0.16890281]\n",
      " [ 0.94985652]\n",
      " [ 0.17191812]\n",
      " [ 0.14931413]\n",
      " [-0.07051922]\n",
      " [-0.14666746]\n",
      " [-0.0567145 ]\n",
      " [ 0.00600024]]\n",
      "[[ 0.05007512]\n",
      " [ 1.1237709 ]\n",
      " [ 0.15842898]\n",
      " [-0.03258433]\n",
      " [-0.03021359]\n",
      " [-0.15581843]\n",
      " [-0.0599273 ]\n",
      " [ 0.12458584]]\n",
      "[[ 0.04442358]\n",
      " [ 1.0807205 ]\n",
      " [ 0.14355883]\n",
      " [-0.02803245]\n",
      " [-0.00726776]\n",
      " [-0.11420638]\n",
      " [-0.0402493 ]\n",
      " [ 0.08794224]]\n",
      "[[ 0.03710191]\n",
      " [ 1.17038593]\n",
      " [ 0.20683121]\n",
      " [-0.09928011]\n",
      " [ 0.01339431]\n",
      " [-0.09505849]\n",
      " [-0.0244667 ]\n",
      " [ 0.11348608]]\n",
      "[[-0.01687149]\n",
      " [ 1.14781148]\n",
      " [ 0.18594154]\n",
      " [-0.00590949]\n",
      " [ 0.03624914]\n",
      " [-0.06894345]\n",
      " [-0.00476711]\n",
      " [ 0.07930434]]\n",
      "progressing\n",
      "[[0.        ]\n",
      " [0.84524065]\n",
      " [0.        ]\n",
      " [0.        ]\n",
      " [0.        ]\n",
      " [0.        ]\n",
      " [0.        ]\n",
      " [0.        ]]\n",
      "[[0.        ]\n",
      " [0.84843777]\n",
      " [0.        ]\n",
      " [0.        ]\n",
      " [0.        ]\n",
      " [0.        ]\n",
      " [0.        ]\n",
      " [0.        ]]\n",
      "[[0.        ]\n",
      " [0.82084693]\n",
      " [0.        ]\n",
      " [0.        ]\n",
      " [0.        ]\n",
      " [0.        ]\n",
      " [0.        ]\n",
      " [0.        ]]\n",
      "[[0.       ]\n",
      " [0.8255438]\n",
      " [0.       ]\n",
      " [0.       ]\n",
      " [0.       ]\n",
      " [0.       ]\n",
      " [0.       ]\n",
      " [0.       ]]\n",
      "[[0.        ]\n",
      " [0.86148726]\n",
      " [0.        ]\n",
      " [0.        ]\n",
      " [0.        ]\n",
      " [0.        ]\n",
      " [0.        ]\n",
      " [0.        ]]\n",
      "progressing\n",
      "[[0.        ]\n",
      " [0.70472549]\n",
      " [0.        ]\n",
      " [0.        ]\n",
      " [0.        ]\n",
      " [0.        ]\n",
      " [0.        ]\n",
      " [0.        ]]\n",
      "[[0.        ]\n",
      " [0.71156321]\n",
      " [0.        ]\n",
      " [0.        ]\n",
      " [0.        ]\n",
      " [0.        ]\n",
      " [0.        ]\n",
      " [0.        ]]\n",
      "[[0.        ]\n",
      " [0.67780549]\n",
      " [0.        ]\n",
      " [0.        ]\n",
      " [0.        ]\n",
      " [0.        ]\n",
      " [0.        ]\n",
      " [0.        ]]\n",
      "[[0.       ]\n",
      " [0.6803113]\n",
      " [0.       ]\n",
      " [0.       ]\n",
      " [0.       ]\n",
      " [0.       ]\n",
      " [0.       ]\n",
      " [0.       ]]\n",
      "[[0.        ]\n",
      " [0.71932719]\n",
      " [0.        ]\n",
      " [0.        ]\n",
      " [0.        ]\n",
      " [0.        ]\n",
      " [0.        ]\n",
      " [0.        ]]\n",
      "progressing\n",
      "[[0.        ]\n",
      " [0.56421033]\n",
      " [0.        ]\n",
      " [0.        ]\n",
      " [0.        ]\n",
      " [0.        ]\n",
      " [0.        ]\n",
      " [0.        ]]\n",
      "[[0.        ]\n",
      " [0.57468864]\n",
      " [0.        ]\n",
      " [0.        ]\n",
      " [0.        ]\n",
      " [0.        ]\n",
      " [0.        ]\n",
      " [0.        ]]\n",
      "[[0.        ]\n",
      " [0.53476404]\n",
      " [0.        ]\n",
      " [0.        ]\n",
      " [0.        ]\n",
      " [0.        ]\n",
      " [0.        ]\n",
      " [0.        ]]\n",
      "[[0.       ]\n",
      " [0.5350788]\n",
      " [0.       ]\n",
      " [0.       ]\n",
      " [0.       ]\n",
      " [0.       ]\n",
      " [0.       ]\n",
      " [0.       ]]\n",
      "[[0.        ]\n",
      " [0.57716711]\n",
      " [0.        ]\n",
      " [0.        ]\n",
      " [0.        ]\n",
      " [0.        ]\n",
      " [0.        ]\n",
      " [0.        ]]\n",
      "progressing\n",
      "[[0.        ]\n",
      " [0.42369517]\n",
      " [0.        ]\n",
      " [0.        ]\n",
      " [0.        ]\n",
      " [0.        ]\n",
      " [0.        ]\n",
      " [0.        ]]\n",
      "[[0.        ]\n",
      " [0.43781407]\n",
      " [0.        ]\n",
      " [0.        ]\n",
      " [0.        ]\n",
      " [0.        ]\n",
      " [0.        ]\n",
      " [0.        ]]\n",
      "[[0.       ]\n",
      " [0.3917226]\n",
      " [0.       ]\n",
      " [0.       ]\n",
      " [0.       ]\n",
      " [0.       ]\n",
      " [0.       ]\n",
      " [0.       ]]\n",
      "[[0.        ]\n",
      " [0.38984631]\n",
      " [0.        ]\n",
      " [0.        ]\n",
      " [0.        ]\n",
      " [0.        ]\n",
      " [0.        ]\n",
      " [0.        ]]\n",
      "[[0.        ]\n",
      " [0.43500703]\n",
      " [0.        ]\n",
      " [0.        ]\n",
      " [0.        ]\n",
      " [0.        ]\n",
      " [0.        ]\n",
      " [0.        ]]\n",
      "progressing\n",
      "[[0.        ]\n",
      " [0.28318001]\n",
      " [0.        ]\n",
      " [0.        ]\n",
      " [0.        ]\n",
      " [0.        ]\n",
      " [0.        ]\n",
      " [0.        ]]\n",
      "[[0.       ]\n",
      " [0.3009395]\n",
      " [0.       ]\n",
      " [0.       ]\n",
      " [0.       ]\n",
      " [0.       ]\n",
      " [0.       ]\n",
      " [0.       ]]\n",
      "[[0.        ]\n",
      " [0.24868116]\n",
      " [0.        ]\n",
      " [0.        ]\n",
      " [0.        ]\n",
      " [0.        ]\n",
      " [0.        ]\n",
      " [0.        ]]\n",
      "[[0.        ]\n",
      " [0.24461381]\n",
      " [0.        ]\n",
      " [0.        ]\n",
      " [0.        ]\n",
      " [0.        ]\n",
      " [0.        ]\n",
      " [0.        ]]\n",
      "[[0.        ]\n",
      " [0.29284696]\n",
      " [0.        ]\n",
      " [0.        ]\n",
      " [0.        ]\n",
      " [0.        ]\n",
      " [0.        ]\n",
      " [0.        ]]\n",
      "progressing\n",
      "[[0.        ]\n",
      " [0.14266484]\n",
      " [0.        ]\n",
      " [0.        ]\n",
      " [0.        ]\n",
      " [0.        ]\n",
      " [0.        ]\n",
      " [0.        ]]\n",
      "[[0.        ]\n",
      " [0.16406494]\n",
      " [0.        ]\n",
      " [0.        ]\n",
      " [0.        ]\n",
      " [0.        ]\n",
      " [0.        ]\n",
      " [0.        ]]\n",
      "[[0.        ]\n",
      " [0.10563971]\n",
      " [0.        ]\n",
      " [0.        ]\n",
      " [0.        ]\n",
      " [0.        ]\n",
      " [0.        ]\n",
      " [0.        ]]\n",
      "[[0.        ]\n",
      " [0.09938131]\n",
      " [0.        ]\n",
      " [0.        ]\n",
      " [0.        ]\n",
      " [0.        ]\n",
      " [0.        ]\n",
      " [0.        ]]\n",
      "[[0.        ]\n",
      " [0.15068688]\n",
      " [0.        ]\n",
      " [0.        ]\n",
      " [0.        ]\n",
      " [0.        ]\n",
      " [0.        ]\n",
      " [0.        ]]\n",
      "progressing\n",
      "[[0.        ]\n",
      " [0.00214968]\n",
      " [0.        ]\n",
      " [0.        ]\n",
      " [0.        ]\n",
      " [0.        ]\n",
      " [0.        ]\n",
      " [0.        ]]\n",
      "[[0.        ]\n",
      " [0.02719037]\n",
      " [0.        ]\n",
      " [0.        ]\n",
      " [0.        ]\n",
      " [0.        ]\n",
      " [0.        ]\n",
      " [0.        ]]\n",
      "[[0.]\n",
      " [0.]\n",
      " [0.]\n",
      " [0.]\n",
      " [0.]\n",
      " [0.]\n",
      " [0.]\n",
      " [0.]]\n",
      "[[0.]\n",
      " [0.]\n",
      " [0.]\n",
      " [0.]\n",
      " [0.]\n",
      " [0.]\n",
      " [0.]\n",
      " [0.]]\n",
      "[[0.        ]\n",
      " [0.00852681]\n",
      " [0.        ]\n",
      " [0.        ]\n",
      " [0.        ]\n",
      " [0.        ]\n",
      " [0.        ]\n",
      " [0.        ]]\n",
      "progressing\n",
      "[[0.]\n",
      " [0.]\n",
      " [0.]\n",
      " [0.]\n",
      " [0.]\n",
      " [0.]\n",
      " [0.]\n",
      " [0.]]\n",
      "[[0.]\n",
      " [0.]\n",
      " [0.]\n",
      " [0.]\n",
      " [0.]\n",
      " [0.]\n",
      " [0.]\n",
      " [0.]]\n",
      "[[0.]\n",
      " [0.]\n",
      " [0.]\n",
      " [0.]\n",
      " [0.]\n",
      " [0.]\n",
      " [0.]\n",
      " [0.]]\n",
      "[[0.]\n",
      " [0.]\n",
      " [0.]\n",
      " [0.]\n",
      " [0.]\n",
      " [0.]\n",
      " [0.]\n",
      " [0.]]\n",
      "[[0.]\n",
      " [0.]\n",
      " [0.]\n",
      " [0.]\n",
      " [0.]\n",
      " [0.]\n",
      " [0.]\n",
      " [0.]]\n",
      "progressing\n",
      "[[0.]\n",
      " [0.]\n",
      " [0.]\n",
      " [0.]\n",
      " [0.]\n",
      " [0.]\n",
      " [0.]\n",
      " [0.]]\n",
      "[[0.]\n",
      " [0.]\n",
      " [0.]\n",
      " [0.]\n",
      " [0.]\n",
      " [0.]\n",
      " [0.]\n",
      " [0.]]\n",
      "[[0.]\n",
      " [0.]\n",
      " [0.]\n",
      " [0.]\n",
      " [0.]\n",
      " [0.]\n",
      " [0.]\n",
      " [0.]]\n",
      "[[0.]\n",
      " [0.]\n",
      " [0.]\n",
      " [0.]\n",
      " [0.]\n",
      " [0.]\n",
      " [0.]\n",
      " [0.]]\n",
      "[[0.]\n",
      " [0.]\n",
      " [0.]\n",
      " [0.]\n",
      " [0.]\n",
      " [0.]\n",
      " [0.]\n",
      " [0.]]\n",
      "progressing\n"
     ]
    }
   ],
   "source": [
    "def standardize(X):\n",
    "    X_centered = X - np.mean(X,axis=1)[:, np.newaxis]\n",
    "    X_std = np.std(X_centered, axis = 1)[:, np.newaxis]\n",
    "    print(X_std)\n",
    "    #print(X[0])\n",
    "    return X/X_std\n",
    "    return X_standardized\n",
    "\n",
    "# Build cross validation function, return regression error for each test and derived labels\n",
    "def cross_validation(data,labels,k:int,alpha):\n",
    "    \n",
    "    m,n=np.shape(data)\n",
    "    data_with_labels=np.mat(np.row_stack((data,labels))).astype(np.float64)\n",
    "    #print(data_with_labels.shape)\n",
    "    a=n//k\n",
    "    fold=[0 for i in range(k)]\n",
    "    for i in range(k):\n",
    "        if i!=k-1:\n",
    "            fold[i]=data_with_labels[:,i*a:(i+1)*a].astype(np.float64)\n",
    "        else:\n",
    "            fold[i]=data_with_labels[:,i*a:].astype(np.float64)\n",
    "    reg_error=[0 for i in range(k)]\n",
    "    labels_derived=np.mat([0 for i in range(n)]).astype(np.float64).T\n",
    "    w_arr = []\n",
    "    for i in range(k):\n",
    "        test_data=fold[i].astype(np.float64)\n",
    "        mi,ni=np.shape(fold[i])\n",
    "        training_data=np.mat([[0 for j in range(n-ni)] for i in range(m+1)]).astype(np.float64)\n",
    "        sample_number=0\n",
    "        for j in range(k):\n",
    "            if j==i:\n",
    "                continue\n",
    "            mj,nj=np.shape(fold[j])\n",
    "            training_data[:,sample_number:sample_number+nj]=fold[j]\n",
    "            sample_number=sample_number+nj\n",
    "        # Algorithm implementation\n",
    "        reg = linear_model.LassoLars(alpha = alpha)\n",
    "        #reg.fit(np.vstack((training_data[:m, :], np.ones((1, training_data.shape[1])))).T, training_data[m].T)\n",
    "        #print(np.vstack((training_data[:m, :], np.ones((1, training_data.shape[1])))).T.shape)\n",
    "        #print(training_data[:m,:].shape, training_data[m].T.shape)\n",
    "        reg.fit(training_data[:m, :].T, training_data[m].T)\n",
    "        w = reg.coef_[np.newaxis].T\n",
    "        print(w)\n",
    "        #test_data_hat=np.row_stack((test_data[:m,:],np.mat([1 for x in range(ni)])))\n",
    "        #print(w.shape)\n",
    "        #y=test_data[:m,:].T.dot(w)\n",
    "        y = test_data[:m,:].T.dot(w)\n",
    "        if i!=k-1:\n",
    "            labels_derived[i*a:(i+1)*a]=y\n",
    "            reg_error[i]=la.norm(y-np.asarray(labels)[i*a:(i+1)*a].astype(np.float64),2)\n",
    "        else:\n",
    "            labels_derived[i*a:]=y\n",
    "            #print(y-np.asarray(labels)[i*a:].astype(np.float64))\n",
    "            reg_error[i]=la.norm(y-np.asarray(labels)[i*a:].astype(np.float64),2)\n",
    "        w_arr.append(w.T.tolist()[0])\n",
    "    print('progressing')\n",
    "    w_arr = np.asarray(w_arr)\n",
    "    \n",
    "    w_arr_avg = np.mean(w_arr, axis = 0)\n",
    "    overall_error=np.mean(reg_error)\n",
    "    return reg_error,labels_derived,overall_error, w_arr_avg\n",
    "\"\"\"reg = linear_model.LassoLars(alpha=.1)\n",
    "data_array = np.asarray(data).T\n",
    "print(targets)\n",
    "reg.fit(data_array, targets)\n",
    "print(reg.coef_)\"\"\"\n",
    "\n",
    "data=(CO_measured,NMHC_measured,NOx_measured,NO2_measured,O3_measured,temp,RH,AH)\n",
    "data = np.asarray(data).astype(np.float64).T\n",
    "targets = np.asarray(list(map(float, targets)))\n",
    "index_data = [i for i, e in enumerate(data) if str(e[0])!='nan' and e[0]>0]\n",
    "#print(targets)\n",
    "data_cleaned = data[index_data]\n",
    "targets_cleaned = targets[index_data]\n",
    "data_standardized_cleaned = standardize(np.asarray(data_cleaned).T)\n",
    "targets_standardized_cleaned = standardize(targets_cleaned[np.newaxis].astype(np.float64))\n",
    "\n",
    "\n",
    "\n",
    "\n",
    "lasso_err_arr = []\n",
    "error_arr = []\n",
    "weights_list = []\n",
    "for a in np.linspace(0, 0.015, num=10):\n",
    "    lasso_err, targets_est, overall_error, weights = cross_validation(data_standardized_cleaned, \n",
    "                                                                      targets_standardized_cleaned[0], 5, a)\n",
    "    lasso_err_arr.append(lasso_err)\n",
    "    error_arr.append(overall_error)\n",
    "    weights_list.append(weights)\n",
    "\n",
    "\n",
    "\n",
    "\n",
    "\n",
    "#data_regularized_cleaned = np.asarray([x for x in data_regularized if str(x[0])!='nan'])\n",
    "\n",
    "#lasso_err, targets_est, overall_error, weights = cross_validation(data_regularized_cleaned.T, targets_cleaned, 5, 0.01)\n",
    "\n",
    "    \n"
   ]
  },
  {
   "cell_type": "code",
   "execution_count": 9,
   "metadata": {},
   "outputs": [
    {
     "data": {
      "image/png": "[encoded data removed]",
      "text/plain": [
       "<Figure size 432x288 with 1 Axes>"
      ]
     },
     "metadata": {
      "needs_background": "light"
     },
     "output_type": "display_data"
    },
    {
     "data": {
      "image/png": "[encoded data removed]",
      "text/plain": [
       "<Figure size 432x288 with 1 Axes>"
      ]
     },
     "metadata": {
      "needs_background": "light"
     },
     "output_type": "display_data"
    },
    {
     "data": {
      "image/png": "[encoded data removed]",
      "text/plain": [
       "<Figure size 432x288 with 1 Axes>"
      ]
     },
     "metadata": {
      "needs_background": "light"
     },
     "output_type": "display_data"
    }
   ],
   "source": [
    "#data=(CO_measured,NMHC_measured,NOx_measured,NO2_measured,O3_measured,temp,RH,AH)\n",
    "plt.figure()\n",
    "weights_plot = np.vstack(weights_list)\n",
    "plt.plot(np.linspace(0, 0.02, num=10), weights_plot)\n",
    "plt.xlabel('alpha in Lasso Regression')\n",
    "plt.ylabel('magnitude of weights')\n",
    "plt.legend(['CO_measured','NMHC_measured','NOx_measured','NO2_measured','O3_measured','temp','RH','AH'])\n",
    "\n",
    "plt.figure()\n",
    "weights_plot = weights_plot/weights_plot[0]\n",
    "plt.plot(np.linspace(0, 0.02, num=10), weights_plot)\n",
    "plt.xlabel('alpha in Lasso Regression')\n",
    "plt.ylabel('magnitude of normalized weights')\n",
    "\n",
    "plt.legend(['CO_measured','NMHC_measured','NOx_measured','NO2_measured','O3_measured','temp','RH','AH'])\n",
    "plt.show()\n",
    "\n",
    "plt.figure()\n",
    "plt.plot(np.linspace(0, 0.02, num=10), error_arr)\n",
    "plt.xlabel('alpha in Lasso Regression')\n",
    "plt.ylabel('magnitude of error')\n",
    "\n",
    "plt.legend(['error'])\n",
    "plt.show()"
   ]
  },
  {
   "cell_type": "code",
   "execution_count": null,
   "metadata": {},
   "outputs": [],
   "source": [
    "plt.subplot(2, 1, 1)\n",
    "weights_arr = np.asarray(weights_list).T\n",
    "plt.plot(range(weights_arr.shape[0]), weights_arr)\n",
    "plt.xlabel('time (s)')\n",
    "plt.ylabel('voltage (mV)')\n",
    "\n",
    "\n",
    "plt.title('A sine wave with a gap of NaNs between 0.4 and 0.6')\n",
    "plt.grid(True)"
   ]
  },
  {
   "cell_type": "code",
   "execution_count": null,
   "metadata": {},
   "outputs": [],
   "source": [
    "weights_list = weights_list.tolist()"
   ]
  },
  {
   "cell_type": "markdown",
   "metadata": {},
   "source": [
    "#### Discussion:\n",
    "At the start of coding this algorithm, there was a great issue. The dataset was provided by UCI, which didn't tag the labels dimension in all the 14 dimensions. Picking the right attribute took a long period of time. The process was as below.  \n",
    "Firstly, we assumed UCI just provided this dataset for free-researching, i.e. there was no explicit attribute in all the attributes so that we could pick any one by our requirement to check our algorithm freely.  \n",
    "Our first pick was picking the true value of CO as the labels attribute and estimate it with the responses from the 5 sensors.Firstly we directly plotted a true-versus-measured plot of CO concentration to find out if it fitted linear model."
   ]
  },
  {
   "cell_type": "code",
   "execution_count": null,
   "metadata": {},
   "outputs": [],
   "source": [
    "plt.scatter(CO_true,CO_measured)\n",
    "plt.title('CO_True VS CO_Measured')"
   ]
  },
  {
   "cell_type": "markdown",
   "metadata": {},
   "source": [
    "It can be indicated from the plot that the model is totally non-linear.The response of the sensor is likely to be random when the true concentration of CO is exactly at some certain value, plotted as vertical straight-line-like shapes in the scatter plot.  \n",
    "That was the reason why we decided to treat the problem as random model, and directly implement LS solution to find out one answer:\n",
    "Is there any potential relationships between the responses from the 5 sensors so that we can input all of them to get a better result on when measuring concentration of one certain kind of the substance? That is to say,if we input all the 5 measured attribute into regression algorithm, can we get a lower regression error to the true CO concentration than only inputting the measured CO concentration?  \n",
    "To find out the answer, firstly we put only the measured CO concentration into LS regression algorithm to get the error:"
   ]
  },
  {
   "cell_type": "code",
   "execution_count": null,
   "metadata": {},
   "outputs": [],
   "source": [
    "ls_regression(CO_measured,CO_true)"
   ]
  },
  {
   "cell_type": "markdown",
   "metadata": {},
   "source": [
    "Then we implemented LS regression with input dataset of all the 5 sensors responses, the result was:"
   ]
  },
  {
   "cell_type": "code",
   "execution_count": null,
   "metadata": {},
   "outputs": [],
   "source": [
    "data=(CO_measured,NMHC_measured,NOx_measured,NO2_measured,O3_measured,temp,RH,AH)\n",
    "labels=CO_true\n",
    "ls_regression(data,labels)"
   ]
  },
  {
   "cell_type": "markdown",
   "metadata": {},
   "source": [
    "It can be indicated by comparing the two L2-Loss that there is no enhancement by adding more attributes to the input.It seems hard to continue using the same attribute as labels.  \n",
    "Finally we directly read the paper cited on the UCL dataset page and found out that the purpose of the collection of this dataset was to estimate the potential of true benzene concentration and the responses of sensors. By setting correct attribute on such data and labels we finally got the above results."
   ]
  },
  {
   "cell_type": "code",
   "execution_count": null,
   "metadata": {},
   "outputs": [],
   "source": []
  },
  {
   "cell_type": "code",
   "execution_count": 69,
   "metadata": {},
   "outputs": [],
   "source": [
    "import numpy as np\n",
    "import os\n",
    "import pandas as pd\n",
    "from sklearn.cluster import KMeans\n",
    "from sklearn.cluster import AgglomerativeClustering\n",
    "from scipy import stats\n",
    "from sklearn import metrics\n",
    "from sklearn.preprocessing import MinMaxScaler\n",
    "import matplotlib.pyplot as plt"
   ]
  },
  {
   "cell_type": "code",
   "execution_count": 72,
   "metadata": {},
   "outputs": [
    {
     "name": "stdout",
     "output_type": "stream",
     "text": [
      "        User_ID Product_ID Gender    Age  Occupation City_Category  \\\n",
      "180833  1003929  P00329442      M  26-35           5             B   \n",
      "84374   1001055  P00265242      M  36-45           0             A   \n",
      "527100  1003262  P00110042      M  26-35          14             B   \n",
      "58755   1003067  P00192542      F  26-35           0             A   \n",
      "400083  1001579  P00303642      M  26-35           0             A   \n",
      "\n",
      "       Stay_In_Current_City_Years  Marital_Status  Product_Category_1  \\\n",
      "180833                          1               1                   5   \n",
      "84374                           1               1                   5   \n",
      "527100                          2               1                   5   \n",
      "58755                           1               0                   1   \n",
      "400083                          0               0                   8   \n",
      "\n",
      "        Product_Category_2  Product_Category_3  Purchase  \n",
      "180833                 8.0                 NaN      7015  \n",
      "84374                  8.0                 NaN      6859  \n",
      "527100                14.0                 NaN      3635  \n",
      "58755                  2.0                 9.0     11868  \n",
      "400083                14.0                 NaN      8075  \n"
     ]
    }
   ],
   "source": [
    "df_allData=pd.read_csv(os.path.join('blackfriday', 'BlackFriday.csv'))\n",
    "print(df_allData.sample(n=5))"
   ]
  },
  {
   "cell_type": "markdown",
   "metadata": {},
   "source": [
    "raw data has 12 columns and there are a lot of missing values in \"Product_Category_2\" and \"Product_Category_3\". Which means some of the product whould just have one category."
   ]
  },
  {
   "cell_type": "markdown",
   "metadata": {},
   "source": [
    "## data pre-processing\n"
   ]
  },
  {
   "cell_type": "markdown",
   "metadata": {},
   "source": [
    "In our opinion, we think our model would do cluster on different people, so our key is people.\n",
    "\n",
    "But the dataset includes different records of one-single people. So at the beginning we use gruopby to get each people's whole records. \n",
    "\n",
    "Then we try to get the mode of each one's \"Product_Category_1\" to represent the main product category and get the mean of one people's whole \"Purchase\" as a feature of \"average purchase\". (We are not sure weather this is a good way buy we have to do this because we cannot keep all the data to train)\n",
    "\n",
    "What's more, we change the \"Gender\" attribute to 0-1 attribute."
   ]
  },
  {
   "cell_type": "code",
   "execution_count": 73,
   "metadata": {},
   "outputs": [
    {
     "name": "stderr",
     "output_type": "stream",
     "text": [
      "F:\\Anaconda\\lib\\site-packages\\scipy\\stats\\stats.py:245: RuntimeWarning: The input array could not be properly checked for nan values. nan values will be ignored.\n",
      "  \"values. nan values will be ignored.\", RuntimeWarning)\n"
     ]
    },
    {
     "name": "stdout",
     "output_type": "stream",
     "text": [
      "           Age City_Category  Marital_Status  Occupation  Product_CateGory_1  \\\n",
      "User_ID                                                                        \n",
      "1003886  36-45             A               1           7                   1   \n",
      "1002421  36-45             C               1           7                   1   \n",
      "1004825  26-35             B               0          17                   1   \n",
      "1002830  36-45             B               0           7                   1   \n",
      "1005698  36-45             B               0          14                   1   \n",
      "\n",
      "        Stay_In_Current_City_Years  times  Gender_M      Purchase  \n",
      "User_ID                                                            \n",
      "1003886                         4+     44         1  11360.977273  \n",
      "1002421                          2     38         1  13478.263158  \n",
      "1004825                          2     22         1  14230.863636  \n",
      "1002830                          0     55         1   9262.381818  \n",
      "1005698                          3    174         1   9342.068966  \n"
     ]
    }
   ],
   "source": [
    "groupByUserData=df_allData.groupby(['User_ID'])\n",
    "\n",
    "times=df_allData['User_ID'].value_counts()\n",
    "times=times.sort_index()\n",
    "\n",
    "#get the mean\n",
    "meanData=groupByUserData.mean()\n",
    "\n",
    "#get the mode\n",
    "modeData=groupByUserData.agg(lambda x: stats.mode(x)[0][0])\n",
    "\n",
    "mean_mode_data={'Gender':modeData['Gender'],'Occupation':modeData['Occupation'],'Age':modeData['Age'],'City_Category':modeData['City_Category'],'Marital_Status':modeData['Marital_Status'],'Product_CateGory_1':modeData['Product_Category_1'],'Stay_In_Current_City_Years':modeData['Stay_In_Current_City_Years']}\n",
    "mean_mode_data=pd.DataFrame(mean_mode_data)\n",
    "mean_mode_data['times']=times\n",
    "mean_mode_data['Gender_M']=pd.get_dummies(mean_mode_data['Gender'])['M']\n",
    "mean_mode_data=mean_mode_data.drop(['Gender'],axis=1)\n",
    "mean_mode_data['Purchase']=meanData['Purchase']\n",
    "\n",
    "print (mean_mode_data.sample(5))"
   ]
  },
  {
   "cell_type": "markdown",
   "metadata": {},
   "source": [
    "## feature extraction"
   ]
  },
  {
   "cell_type": "markdown",
   "metadata": {},
   "source": [
    "This is the hardest part of our cluster project.\n",
    "\n",
    "There are two key problems we have to face:\n",
    "\n",
    "##### 1. **how to handle the discrete attributes?**\n",
    "    \n",
    "    There are a lot of disordered discrete attributes in our data, likes \"Marital_Status\", \"Gender\" and \"Product_Category_1\", we cannot just simplely calculate their euclidean distance. We try to take them as continuous variables and apply several cluster algorithms on them but we just get a bad output which looks no special meanning.\n",
    "\n",
    "##### 2. **how to evaluate our feature extraction performance?**\n",
    "\n",
    "    Since we have so many choices of extracting the features and we do not know how to assign the weights on these feautres and this is a cluster problem, we had not a clearly mind of have to evaluate our work when we doing the feature extraction. And it is unrealistic to try all the choices and train them then evaluate the final models. The best solution is that we can find some explainable output of our feature extraction.\n",
    "    \n",
    "#### deal with discrete attributes\n",
    "\n",
    "To solve the key problems 1, we came up with ideas.\n",
    "\n",
    "1. do one-hot encoding on the discrete attributes\n",
    "\n",
    "1. use k-modes or k-prototype model\n",
    "\n",
    "1. drop those discrete attributes\n",
    "\n",
    "But their would raise some new problems if we use these solutions:\n",
    "\n",
    "    one-hot encoding would make the features very sparse.\n",
    "    \n",
    "    It is not easy to combine the VDM distance and Minkowski distance together.\n",
    "    \n",
    "    Some discrete features may be very important like occupation but it would have a lot of possible value.\n",
    "    \n",
    "#### deal with evaluation\n",
    "\n",
    "We do not find a good way to solve this problem, we just living with it, but we still did some tries. Likes using the average purchase to evaluate the cluster output. And we use Calinski-Harabasz score and Value Difference Metrix to evalue our final clusters."
   ]
  },
  {
   "cell_type": "markdown",
   "metadata": {},
   "source": [
    "## data pre-processing before training\n",
    "\n",
    "Since we have features of different units, we must do the data standardization and assign different weights to different features.\n",
    "\n",
    "We choose min-max standardization and assign the weights by feeling."
   ]
  },
  {
   "cell_type": "markdown",
   "metadata": {},
   "source": [
    "## specific approach 1 by Chaoji: k-modes"
   ]
  },
  {
   "cell_type": "markdown",
   "metadata": {},
   "source": [
    "I try to use the k-modes only on the categorical values to train a model, then use one-hot encoidng data to calculate the jaccard distance and euclidean distance inside each cluster."
   ]
  },
  {
   "cell_type": "code",
   "execution_count": 74,
   "metadata": {},
   "outputs": [
    {
     "ename": "ImportError",
     "evalue": "No module named 'kmodes'",
     "output_type": "error",
     "traceback": [
      "\u001b[1;31m---------------------------------------------------------------------------\u001b[0m",
      "\u001b[1;31mImportError\u001b[0m                               Traceback (most recent call last)",
      "\u001b[1;32m<ipython-input-74-d2a60c27d9c0>\u001b[0m in \u001b[0;36m<module>\u001b[1;34m()\u001b[0m\n\u001b[1;32m----> 1\u001b[1;33m \u001b[1;32mfrom\u001b[0m \u001b[0mkmodes\u001b[0m\u001b[1;33m.\u001b[0m\u001b[0mkmodes\u001b[0m \u001b[1;32mimport\u001b[0m \u001b[0mKModes\u001b[0m\u001b[1;33m\u001b[0m\u001b[0m\n\u001b[0m",
      "\u001b[1;31mImportError\u001b[0m: No module named 'kmodes'"
     ]
    }
   ],
   "source": [
    "from kmodes.kmodes import KModes"
   ]
  },
  {
   "cell_type": "code",
   "execution_count": 107,
   "metadata": {},
   "outputs": [
    {
     "name": "stdout",
     "output_type": "stream",
     "text": [
      "categorical data:\n",
      "           Age City_Category Gender  Marital_Status  Occupation  \\\n",
      "User_ID                                                           \n",
      "1002460  51-55             C      F               1           1   \n",
      "1003371  26-35             A      M               0           2   \n",
      "\n",
      "         Product_CateGory_1 Stay_In_Current_City_Years  \n",
      "User_ID                                                 \n",
      "1002460                   1                          1  \n",
      "1003371                   8                          3  \n",
      "one-hot encoding data:\n",
      "         0-17  18-25  26-35  36-45  46-50  51-55  55+  A  B  C  \\\n",
      "User_ID                                                          \n",
      "1001734     0      0      0      0      1      0    0  0  1  0   \n",
      "1000511     0      0      0      0      1      0    0  0  0  1   \n",
      "\n",
      "              ...        8  10  11  12  13  15  16  18  Gender_M  \\\n",
      "User_ID       ...                                                  \n",
      "1001734       ...        1   0   0   0   0   0   0   0         1   \n",
      "1000511       ...        1   0   0   0   0   0   0   0         0   \n",
      "\n",
      "         Marital_Status  \n",
      "User_ID                  \n",
      "1001734               1  \n",
      "1000511               1  \n",
      "\n",
      "[2 rows x 53 columns]\n"
     ]
    }
   ],
   "source": [
    "X=pd.DataFrame({'Gender':modeData['Gender'],'Occupation':modeData['Occupation'],'Age':modeData['Age'],'City_Category':modeData['City_Category'],'Marital_Status':modeData['Marital_Status'],'Product_CateGory_1':modeData['Product_Category_1'],\"Stay_In_Current_City_Years\":modeData[\"Stay_In_Current_City_Years\"]})\n",
    "\n",
    "one_hot_city=pd.get_dummies(mean_mode_data['City_Category'])\n",
    "one_hot_age=pd.get_dummies(mean_mode_data['Age'])\n",
    "one_hot_occupation=pd.get_dummies(mean_mode_data['Occupation'])\n",
    "one_hot_years=pd.get_dummies(mean_mode_data['Stay_In_Current_City_Years'])\n",
    "one_hot_product=pd.get_dummies(mean_mode_data['Product_CateGory_1'])\n",
    "XX=pd.concat([one_hot_age,one_hot_city,one_hot_occupation,one_hot_years,one_hot_product],axis=1)\n",
    "XX['Gender_M']=mean_mode_data['Gender_M']\n",
    "XX['Marital_Status']=mean_mode_data['Marital_Status']\n",
    "\n",
    "print (\"categorical data:\")\n",
    "print(X.sample(2))\n",
    "print(\"one-hot encoding data:\")\n",
    "print(XX.sample(2))\n"
   ]
  },
  {
   "cell_type": "markdown",
   "metadata": {},
   "source": [
    "At first, I think the key is finding the best clusters number n, but I don't have ideas about how to evalue the output. I just thought maybe different cluster's average price can reflect some difference.\n",
    "\n",
    "I try to use jaccard distance and eulicdean distance, but the jaccard distance inside a cluster would alway decrease when n increase."
   ]
  },
  {
   "cell_type": "code",
   "execution_count": null,
   "metadata": {},
   "outputs": [],
   "source": [
    "from sklearn.metrics import jaccard_similarity_score\n",
    "ecArr=[]\n",
    "jcArr=[]\n",
    "jcXArr=[]\n",
    "for i in range(2,10):\n",
    "    km=KModes(n_clusters=i)\n",
    "    y=km.fit_predict(X)\n",
    "    tempArrjc=[]\n",
    "    tempArrec=[]\n",
    "    tempArrjcX=[]\n",
    "    for j in range(i):\n",
    "        #print(sum(y==j))\n",
    "        #print(XX[y==j].mode())\n",
    "        jcscore=[]\n",
    "        ecscore=[]\n",
    "        jcXscore=[]\n",
    "        for k in XX[y==j].T:\n",
    "            try:\n",
    "                #jcscore.append(jaccard_similarity_score(XX.loc[k],XX[y==j].mode().T[0]))\n",
    "                \n",
    "                ecscore.append(np.linalg.norm(np.array(XX.loc[k])-np.array(XX[y==j].mode().T[0])))\n",
    "                \n",
    "                jcXscore.append(jaccard_similarity_score(list(X.loc[k]),list(X[y==j].mode().T[0])))\n",
    "\n",
    "            except:\n",
    "                #print(XX.loc[k].T)\n",
    "                #print(XX[y==j].mode())\n",
    "                print(k)\n",
    "                break;\n",
    "        #print(np.mean(jcscore))\n",
    "        #tempArrjc.append(np.mean(jcscore))\n",
    "        #tempArrec.append(np.mean(ecscore))\n",
    "        tempArrjcX.append(np.mean(jcXscore))\n",
    "\n",
    "    print(\"n_cluster =\",i,\":\",np.mean(tempArrjcX))\n",
    "    #jcArr.append(np.mean(tempArrjc))\n",
    "    #ecArr.append(np.mean(tempArrec))\n",
    "    jcXArr.append(np.mean(tempArrjcX))"
   ]
  },
  {
   "cell_type": "markdown",
   "metadata": {},
   "source": [
    "Lack of the ways to evaluate better n, I decide to focus on features more rather than n.\n",
    "\n",
    "Then I camp up with an idea that I can calculate the eulidean distance between a cluster's mode point and the other point's mode point.\n",
    "\n",
    "So I do some tries."
   ]
  },
  {
   "cell_type": "code",
   "execution_count": null,
   "metadata": {},
   "outputs": [],
   "source": [
    "XXXX=X.drop(['Marital_Status','Product_CateGory_1','Stay_In_Current_City_Years','Age'],axis=1)\n",
    "print(XXXX.sample(2))"
   ]
  },
  {
   "cell_type": "code",
   "execution_count": null,
   "metadata": {},
   "outputs": [],
   "source": [
    "from sklearn.metrics import jaccard_similarity_score\n",
    "ecArr=[]\n",
    "jcArr=[]\n",
    "jcXArr=[]\n",
    "for i in range(10,11):\n",
    "    km=KModes(n_clusters=i)\n",
    "    y=km.fit_predict(XXXX)\n",
    "   "
   ]
  },
  {
   "cell_type": "code",
   "execution_count": null,
   "metadata": {},
   "outputs": [],
   "source": [
    "dis_jc=[]\n",
    "dis_ec=[]\n",
    "for i in range(10):\n",
    "    dis_jc.append(jaccard_similarity_score(list(XXXX[y==i].mode().T[0]),list(XXXX[y!=i].mode().T[0])))\n",
    "    \n",
    "print(\"average jc distance in selected features:\",np.mean(dis_jc))\n",
    "    \n",
    "for i in range(10):\n",
    "    dis_ec.append(np.linalg.norm((np.array(XX[y==i].mode().T[0])-np.array(XX[y!=i].mode().T[0]))))\n",
    "    \n",
    "print(\"average ec distance in all one-hot features:\",np.mean(dis_ec))"
   ]
  },
  {
   "cell_type": "code",
   "execution_count": null,
   "metadata": {},
   "outputs": [],
   "source": [
    "purchase_y=pd.DataFrame({\"y\":y,\"Purchase\":mean_mode_data[\"Purchase\"]})\n",
    "plt.scatter(purchase_y['y'],purchase_y['Purchase'])\n",
    "for i in range(10):\n",
    "    plt.scatter(i,purchase_y[purchase_y['y']==i].Purchase.mean(),c='r')"
   ]
  },
  {
   "cell_type": "code",
   "execution_count": null,
   "metadata": {},
   "outputs": [],
   "source": [
    "XXXXX=X.drop(['Stay_In_Current_City_Years'],axis=1)\n",
    "print(XXXXX.sample(2))"
   ]
  },
  {
   "cell_type": "code",
   "execution_count": null,
   "metadata": {},
   "outputs": [],
   "source": [
    "ecArr=[]\n",
    "jcArr=[]\n",
    "jcXArr=[]\n",
    "for i in range(10,11):\n",
    "    km=KModes(n_clusters=i)\n",
    "    y=km.fit_predict(XXXXX)\n",
    "\n",
    "dis_jc=[]\n",
    "dis_ec=[]\n",
    "for i in range(10):\n",
    "    dis_jc.append(jaccard_similarity_score(list(XXXXX[y==i].mode().T[0]),list(XXXXX[y!=i].mode().T[0])))\n",
    "    \n",
    "for i in range(10):\n",
    "    dis_ec.append(np.linalg.norm((np.array(XX[y==i].mode().T[0])-np.array(XX[y!=i].mode().T[0]))))\n",
    "    \n",
    "print(\"average jc distance in selected features:\",np.mean(dis_jc))\n",
    "print(\"average ec distance in all one-hot features:\",np.mean(dis_ec))"
   ]
  },
  {
   "cell_type": "code",
   "execution_count": null,
   "metadata": {},
   "outputs": [],
   "source": [
    "purchase_y=pd.DataFrame({\"y\":y,\"Purchase\":mean_mode_data[\"Purchase\"]})\n",
    "plt.scatter(purchase_y['y'],purchase_y['Purchase'])\n",
    "for i in range(10):\n",
    "    plt.scatter(i,purchase_y[purchase_y['y']==i].Purchase.mean(),c='r')"
   ]
  },
  {
   "cell_type": "markdown",
   "metadata": {},
   "source": [
    "### conclusion"
   ]
  },
  {
   "cell_type": "markdown",
   "metadata": {},
   "source": [
    "Thought the process is hard, I think I get something surpringly at the end.\n",
    "\n",
    "I paid too much attentation on the cluster number n and the distance between a cluster but I haven't had a great evaluation way.\n",
    "\n",
    "But when I campared different features as input to k-modes with the same n, I got some pretty things.\n",
    "\n",
    "The change in average euclidean distance showed the feature 'Marital_Status' , 'Product_CateGory_1', 'Age' do influence on the whole cluster performance.\n",
    "\n",
    "What't more, the 'Purchase' would really reflect the performance of cluster in some way.\n",
    "\n",
    "With this conclusion, it means we can do further work about how different categorial features influence the cluster. The best feature may have the biggest influence on average euclidean distance."
   ]
  },
  {
   "cell_type": "markdown",
   "metadata": {},
   "source": [
    "## specific approach 2: K-means on continuous features by Shuyu Chen"
   ]
  },
  {
   "cell_type": "code",
   "execution_count": 104,
   "metadata": {
    "scrolled": true
   },
   "outputs": [
    {
     "name": "stdout",
     "output_type": "stream",
     "text": [
      "User_ID\n",
      "1000001     34\n",
      "1000002     76\n",
      "1000003     29\n",
      "1000004     13\n",
      "1000005    106\n",
      "1000006     46\n",
      "1000007     16\n",
      "1000008     76\n",
      "1000009     57\n",
      "1000010    222\n",
      "1000011     69\n",
      "1000012     11\n",
      "1000013     60\n",
      "1000014     13\n",
      "1000015    116\n",
      "1000016     21\n",
      "1000017    114\n",
      "1000018    179\n",
      "1000019    144\n",
      "1000020     12\n",
      "1000021     13\n",
      "1000022    155\n",
      "1000023    171\n",
      "1000024     76\n",
      "1000025     43\n",
      "1000026    226\n",
      "1000027     41\n",
      "1000028     57\n",
      "1000029     52\n",
      "1000030     30\n",
      "          ... \n",
      "1006011     99\n",
      "1006012     15\n",
      "1006013     72\n",
      "1006014     54\n",
      "1006015     32\n",
      "1006016    469\n",
      "1006017     15\n",
      "1006018     76\n",
      "1006019     44\n",
      "1006020     23\n",
      "1006021     64\n",
      "1006022     24\n",
      "1006023     77\n",
      "1006024     55\n",
      "1006025    142\n",
      "1006026     42\n",
      "1006027     22\n",
      "1006028     26\n",
      "1006029     14\n",
      "1006030     53\n",
      "1006031     30\n",
      "1006032     51\n",
      "1006033     35\n",
      "1006034     11\n",
      "1006035    143\n",
      "1006036    476\n",
      "1006037    116\n",
      "1006038     10\n",
      "1006039     67\n",
      "1006040    169\n",
      "Name: times, Length: 5891, dtype: int64\n",
      "User_ID\n",
      "1000001     9808.264706\n",
      "1000002    10662.539474\n",
      "1000003    11780.517241\n",
      "1000004    15845.153846\n",
      "1000005     7745.292453\n",
      "1000006     8248.913043\n",
      "1000007    14651.687500\n",
      "1000008    10480.855263\n",
      "1000009    10420.350877\n",
      "1000010     9772.459459\n",
      "1000011     8071.043478\n",
      "1000012    10981.909091\n",
      "1000013    11898.783333\n",
      "1000014     9817.615385\n",
      "1000015     9026.931034\n",
      "1000016     7163.238095\n",
      "1000017    12504.394737\n",
      "1000018    11054.050279\n",
      "1000019    10124.569444\n",
      "1000020    15478.916667\n",
      "1000021     9749.538462\n",
      "1000022     8255.987097\n",
      "1000023     9771.918129\n",
      "1000024     9484.868421\n",
      "1000025    12423.604651\n",
      "1000026     7106.964602\n",
      "1000027    10940.536585\n",
      "1000028     9062.456140\n",
      "1000029    13388.480769\n",
      "1000030     8699.500000\n",
      "               ...     \n",
      "1006011    11535.777778\n",
      "1006012     8503.466667\n",
      "1006013     8460.486111\n",
      "1006014     8874.518519\n",
      "1006015     7994.125000\n",
      "1006016     7552.972281\n",
      "1006017     8426.533333\n",
      "1006018    11999.355263\n",
      "1006019    11440.022727\n",
      "1006020    16281.521739\n",
      "1006021    10476.093750\n",
      "1006022    10086.541667\n",
      "1006023    14193.181818\n",
      "1006024    13625.327273\n",
      "1006025     6938.133803\n",
      "1006026    10509.785714\n",
      "1006027    11650.545455\n",
      "1006028    12898.115385\n",
      "1006029     9354.928571\n",
      "1006030    12576.037736\n",
      "1006031     8893.166667\n",
      "1006032     9423.803922\n",
      "1006033    14327.857143\n",
      "1006034    17006.363636\n",
      "1006035     6477.426573\n",
      "1006036     8028.710084\n",
      "1006037     9267.560345\n",
      "1006038     8085.900000\n",
      "1006039     8276.179104\n",
      "1006040     9246.242604\n",
      "Name: Purchase, Length: 5891, dtype: float64\n",
      "[ 34  76  29 ...  10  67 169]\n",
      "1.0\n",
      "0.9999999999999999\n",
      "progressing: \n",
      "progressing: \n",
      "progressing: \n",
      "progressing: \n",
      "progressing: \n",
      "progressing: \n",
      "progressing: \n",
      "progressing: \n",
      "progressing: \n",
      "progressing: \n",
      "progressing: \n",
      "progressing: \n",
      "progressing: \n",
      "progressing: \n",
      "progressing: \n",
      "progressing: \n",
      "progressing: \n",
      "progressing: \n",
      "progressing: \n",
      "progressing: \n",
      "progressing: \n",
      "progressing: \n",
      "progressing: \n",
      "progressing: \n",
      "progressing: \n",
      "progressing: \n",
      "progressing: \n",
      "progressing: \n",
      "progressing: \n",
      "progressing: \n",
      "progressing: \n",
      "progressing: \n",
      "progressing: \n",
      "progressing: \n",
      "progressing: \n",
      "progressing: \n",
      "progressing: \n",
      "progressing: \n",
      "progressing: \n",
      "progressing: \n",
      "progressing: \n",
      "progressing: \n",
      "progressing: \n",
      "progressing: \n",
      "progressing: \n",
      "progressing: \n",
      "progressing: \n",
      "progressing: \n",
      "progressing: \n",
      "progressing: \n",
      "progressing: \n",
      "progressing: \n",
      "progressing: \n",
      "progressing: \n",
      "progressing: \n",
      "progressing: \n",
      "progressing: \n",
      "progressing: \n",
      "progressing: \n",
      "progressing: \n",
      "progressing: \n",
      "progressing: \n",
      "progressing: \n",
      "progressing: \n",
      "progressing: \n",
      "progressing: \n",
      "progressing: \n",
      "progressing: \n",
      "progressing: \n",
      "progressing: \n",
      "progressing: \n",
      "progressing: \n",
      "progressing: \n",
      "progressing: \n",
      "progressing: \n",
      "progressing: \n",
      "progressing: \n",
      "progressing: \n",
      "progressing: \n",
      "progressing: \n",
      "progressing: \n",
      "progressing: \n",
      "progressing: \n",
      "progressing: \n",
      "progressing: \n",
      "progressing: \n",
      "progressing: \n",
      "progressing: \n",
      "progressing: \n",
      "progressing: \n",
      "progressing: \n",
      "progressing: \n",
      "progressing: \n"
     ]
    }
   ],
   "source": [
    "def recenter_regularize(X):\n",
    "    #X_mean = np.mean(X, axis = 1)[np.newaxis]\n",
    "    X_mean = np.mean(X)\n",
    "    X_centered = X - X_mean\n",
    "    #X_norm = np.linalg.norm(X_centered)[np.newaxis]\n",
    "    X_var = np.sqrt(np.var(X_centered))\n",
    "    X_normalized = X_centered/X_var\n",
    "    print(np.var(X_normalized))\n",
    "    return X_normalized\n",
    "\n",
    "numGroup = 10\n",
    "\n",
    "print(mean_mode_data['times'])\n",
    "print(mean_mode_data['Purchase'])\n",
    "print(np.array(mean_mode_data.times))\n",
    "times_arr = np.array(mean_mode_data.times)\n",
    "times_regularized = recenter_regularize(times_arr)\n",
    "purchases_regularized = recenter_regularize(np.array(mean_mode_data['Purchase']))\n",
    "\n",
    "ini_index = np.random.choice(a=range(len(times_arr)), size=len(times_arr), replace=False)\n",
    "\n",
    "X_2d = np.vstack((np.asarray([times_regularized, purchases_regularized]), list(range(len(times_regularized))))).T\n",
    "X_2d_group = []\n",
    "icr = int(np.floor(len(ini_index)/numGroup))\n",
    "for i in range(numGroup):\n",
    "    X_2d_group.append(X_2d[i*icr:(i+1)*icr])\n",
    "\n",
    "isFinished = False\n",
    "counter = 0\n",
    "while((not isFinished) and counter <= 200):\n",
    "    print(\"progressing: \")\n",
    "    isFinished = True\n",
    "    numDiff=0\n",
    "    #print(X_2d_group[2])\n",
    "    X_mean_group = [np.mean(X, axis = 0) for X in X_2d_group]\n",
    "    #print(len(X_mean_group[0]))\n",
    "    X_2d_group_new =[[] for h in range(numGroup)]\n",
    "    for i in range(numGroup):\n",
    "        \n",
    "        X_2d_this = X_2d_group[i]\n",
    "        for j in range(len(X_2d_this)):\n",
    "           \n",
    "            sample = X_2d_this[j]\n",
    "            dist_group = [[] for h in range(numGroup)]\n",
    "            for k in range(numGroup):\n",
    "                #print(len(sample))\n",
    "                #print(X_mean_group[k].shape)\n",
    "                dist_group[k] = np.linalg.norm(np.asarray(sample)[:2] - np.asarray(X_mean_group[k])[:2])\n",
    "            \n",
    "            group = np.argmin(dist_group)\n",
    "            #print(group)\n",
    "            if(i != group):\n",
    "                isFinished = False\n",
    "                numDiff += 1\n",
    "            X_2d_group_new[group].append(sample)\n",
    "    \n",
    "        #if(len(X_2d_this_new)>0):\n",
    "        #for k in range(numGroup):\n",
    "        #    X_2d_group_new[k] = np.vstack(X_2d_group_new[k])\n",
    "        #else:\n",
    "        #    X_2d_group_new.append(np.asarray([]))\n",
    "    #print(numDiff)\n",
    "    X_2d_group = X_2d_group_new\n",
    "    if numDiff == 0:\n",
    "        break\n",
    "    #print(len(X_2d_group))\n",
    "    counter+=1\n",
    "\n",
    "    "
   ]
  },
  {
   "cell_type": "code",
   "execution_count": 105,
   "metadata": {},
   "outputs": [
    {
     "data": {
      "image/png": "[encoded data removed]",
      "text/plain": [
       "<Figure size 432x288 with 1 Axes>"
      ]
     },
     "metadata": {
      "needs_background": "light"
     },
     "output_type": "display_data"
    }
   ],
   "source": [
    "X_2d_group_arr = np.asarray(list(map(np.vstack,X_2d_group)))\n",
    "plt.figure()\n",
    "for i in range(numGroup):\n",
    "    #for j in range(len(X_2d_group_arr[i])):\n",
    "    plt.scatter(X_2d_group_arr[i][:,0], X_2d_group_arr[i][:,1], color = [0.1, 1-0.1*i, 0.1*i])\n",
    "        \n",
    "plt.xlabel('times of purchases')\n",
    "plt.ylabel('value of the item')\n",
    "plt.show()\n",
    "\n",
    "\n"
   ]
  },
  {
   "cell_type": "code",
   "execution_count": 117,
   "metadata": {},
   "outputs": [
    {
     "name": "stdout",
     "output_type": "stream",
     "text": [
      "Product Category attributes of the samples in cluster one\n",
      "[1, 1, 1, 1, 1, 1, 1, 1, 1, 3, 1, 1, 1, 1, 6, 7, 10, 1, 1, 1, 1, 1, 1, 1, 10, 1, 1, 1, 1, 1, 1, 1, 1, 1, 1, 1, 1, 1, 1, 1, 1, 1, 1, 1, 1, 1, 1, 1, 1, 1, 1, 1, 1, 1, 1, 1, 1, 1, 1, 1, 6, 1, 7, 1, 1, 1, 1, 1, 6, 1, 1, 1, 1, 1, 8, 1, 1, 1, 6, 8, 1, 1, 1, 1, 10, 1, 1, 5, 1, 1, 1, 3, 1, 1, 1, 1, 1, 1, 1, 1, 1, 1, 1, 1, 1, 1, 1, 1, 1, 1, 1, 1, 1, 2, 1, 1, 1, 1, 1, 1, 1, 1, 8, 1, 1, 1, 1, 1, 1, 1, 1, 1, 1, 1, 1, 1, 1, 10, 1, 1, 1, 1, 1, 1, 1, 1, 1, 1, 1, 1, 1, 1, 1, 1, 1, 10, 1, 1, 1, 1, 1, 1, 1, 1, 1, 8, 1, 1, 1, 1, 1, 1, 1, 1, 1, 1, 1, 1, 1, 1, 1, 1, 1, 1, 1, 1, 1, 1, 1, 1, 8, 5, 1, 1, 1, 1, 1, 1, 1, 1, 1, 1, 6, 1, 1, 1, 1, 1, 1, 7, 1, 1, 1, 1, 1, 1, 1, 1, 1, 1, 6, 1, 1, 1, 1, 1, 1, 1, 1, 1, 1, 1, 1, 10, 1, 1, 1, 1, 1, 1, 1, 5, 1, 1, 1, 1, 1, 1, 1, 1, 1, 1, 1, 1, 6, 1, 1, 1, 1, 1, 1, 1, 1, 1, 1, 1, 1, 1, 1, 8, 1, 1, 1, 1, 1, 6, 1, 1, 1, 1, 8, 1, 1, 1, 1, 1, 1, 10, 1, 1, 1, 1, 1, 10, 1, 1, 1]\n"
     ]
    }
   ],
   "source": [
    "X_2d_group_arr = np.asarray(X_2d_group)\n",
    "productCategory = np.array(mean_mode_data['Product_CateGory_1'])\n",
    "cateList = []\n",
    "for j in range(len(X_2d_group_arr[0])):\n",
    "    idx = X_2d_group_arr[0][j][-1]\n",
    "    cateList.append(productCategory[int(idx)])\n",
    "\n",
    "print('Product Category attributes of the samples in cluster one')\n",
    "print(cateList)\n",
    "    "
   ]
  },
  {
   "cell_type": "code",
   "execution_count": 101,
   "metadata": {},
   "outputs": [
    {
     "name": "stdout",
     "output_type": "stream",
     "text": [
      "[array([[1, 2, 3],\n",
      "       [4, 5, 6],\n",
      "       [7, 8, 9]])\n",
      " array([[11, 12, 13],\n",
      "       [14, 15, 16]])\n",
      " array([[21, 22, 23],\n",
      "       [24, 25, 26]])]\n"
     ]
    }
   ],
   "source": [
    "A = np.asarray((list(map(np.array, [[[1,2,3], [4,5,6], [7,8,9]], [[11, 12, 13], [14,15,16]], [[21, 22, 23], [24,25,26]]]))))\n",
    "\n",
    "print(A)"
   ]
  },
  {
   "cell_type": "code",
   "execution_count": null,
   "metadata": {},
   "outputs": [],
   "source": [
    "mean_mode_data['Product_CateGory_1'].value_counts()"
   ]
  },
  {
   "cell_type": "markdown",
   "metadata": {},
   "source": [
    "## specific model 3:"
   ]
  },
  {
   "cell_type": "code",
   "execution_count": 110,
   "metadata": {},
   "outputs": [],
   "source": [
    "from sklearn.metrics import jaccard_similarity_score"
   ]
  },
  {
   "cell_type": "markdown",
   "metadata": {},
   "source": [
    "## Specific Model 3: ROCK Clustering by Changlin Jiang\n",
    "- After searching relavant paper dealing with discrete features clustering,we decide to implement a algorithm termed ROCK.  \n",
    "- The main idea is:  \n",
    "    - Compute the Jaccard score between 2 data points.Input a threshold theta such that if the Jaccard score is larger than the threshold,say these 2 points are neighbors (i.e. they have a Neighbor label which is originally 0 and can be set to 1 if their Jaccard score is larger than the threshold theta.)  \n",
    "    - Compute the Neighbor label of every 2 data,put them in a Neighbors Matrix A,A[i,j]=1 if point i and j are neighbors,A[i,j]=0 if not.\n",
    "    - Initialization:If note the number of data points with n,initialize the clusters with n clusters,each cluster includes only one data point.\n",
    "    - Gooodness:The goodness of 2 clusters $C_i$ and $C_j$ can be determined by: $$goodness=\\frac{link(C_i,C_j)}{(n1+n2)^{1+2f(\\theta)}-n1^{1+2f(\\theta)}-n2^{1+2f(\\theta)}}$$In this formula,link(Ci,Cj) is the total number of neighbors of the two clusters $C_i$ and $C_j$,$$f(\\theta)=\\frac{1-\\theta}{1+\\theta}$$is the penalty if the size of the cluster has got too many members.\n",
    "    - Compute goodness of every 2 different clusters,find the pair of clusters with the largest goodness.\n",
    "    - Process:Merge the two clusters into one clusters and loop the whole process untill converge or number of clusters is smaller than a wanted number."
   ]
  },
  {
   "cell_type": "code",
   "execution_count": 108,
   "metadata": {},
   "outputs": [
    {
     "name": "stdout",
     "output_type": "stream",
     "text": [
      "[[1 'A' 'F' ... 10 3 2]\n",
      " [1 'C' 'M' ... 16 1 4]\n",
      " [1 'A' 'M' ... 15 1 3]\n",
      " ...\n",
      " [1 'C' 'M' ... 7 5 1]\n",
      " [1 'B' 'M' ... 0 10 1]\n",
      " [1 'B' 'F' ... 0 11 3]]\n"
     ]
    }
   ],
   "source": [
    "X=np.array(X)\n",
    "X0=list(X[:,0])\n",
    "X2=list(X[:,2])\n",
    "X3=list(X[:,3])\n",
    "X6=list(X[:,6])\n",
    "\n",
    "X0=[0 if x=='M' else 1 for x in X0]\n",
    "\n",
    "X2=[0 if x=='0-17' else x for x in X2]\n",
    "X2=[1 if x=='18-25' else x for x in X2]\n",
    "X2=[2 if x=='26-35' else x for x in X2]\n",
    "X2=[3 if x=='36-45' else x for x in X2]\n",
    "X2=[4 if x=='46-50' else x for x in X2]\n",
    "X2=[5 if x=='51-55' else x for x in X2]\n",
    "X2=[6 if x=='55+' else x for x in X2]\n",
    "\n",
    "X3=[0 if x=='A' else x for x in X3]\n",
    "X3=[1 if x=='B' else x for x in X3]\n",
    "X3=[2 if x=='C' else x for x in X3]\n",
    "\n",
    "X6=[0 if x=='0' else x for x in X6]\n",
    "X6=[1 if x=='1' else x for x in X6]\n",
    "X6=[2 if x=='2' else x for x in X6]\n",
    "X6=[3 if x=='3' else x for x in X6]\n",
    "X6=[4 if x=='4+' else x for x in X6]\n",
    "\n",
    "X[:,0]=np.array(X0).T\n",
    "X[:,2]=np.array(X2).T\n",
    "X[:,3]=np.array(X3).T\n",
    "X[:,6]=np.array(X6).T\n",
    "\n",
    "X1=X[:300,:]\n",
    "print(X1)"
   ]
  },
  {
   "cell_type": "markdown",
   "metadata": {},
   "source": [
    "### Derive neighbors matrix A:"
   ]
  },
  {
   "cell_type": "code",
   "execution_count": 111,
   "metadata": {},
   "outputs": [
    {
     "name": "stdout",
     "output_type": "stream",
     "text": [
      "[[1 0 0 ... 0 0 0]\n",
      " [0 1 1 ... 0 0 0]\n",
      " [0 1 1 ... 0 0 0]\n",
      " ...\n",
      " [0 0 0 ... 1 0 0]\n",
      " [0 0 0 ... 0 1 0]\n",
      " [0 0 0 ... 0 0 1]]\n"
     ]
    }
   ],
   "source": [
    "def neighbors_matrix(data,theta):\n",
    "    m,n=np.shape(data)\n",
    "    A=np.zeros((m,m))\n",
    "    for i in range(m):\n",
    "        for j in range(m):\n",
    "            if jaccard_similarity_score(np.reshape(list(data[i,:]),-1),np.reshape(list(data[j,:]),-1))>=theta:\n",
    "                A[i,j]=1\n",
    "    return A.astype(int)\n",
    "\n",
    "A=neighbors_matrix(X1,0.5)\n",
    "print(A)"
   ]
  },
  {
   "cell_type": "markdown",
   "metadata": {},
   "source": [
    "### Compute the $link(C_i,C_j)$ of $C_i$ and $C_j$"
   ]
  },
  {
   "cell_type": "code",
   "execution_count": 112,
   "metadata": {},
   "outputs": [],
   "source": [
    "def link(A,c1,c2):\n",
    "    m,n=np.shape(A)\n",
    "    sum_=0\n",
    "    if isinstance(c1,int)==True:\n",
    "        n1=1\n",
    "    else:\n",
    "        n1=len(c1)\n",
    "    if isinstance(c2,int)==True:\n",
    "        n2=1\n",
    "    else:\n",
    "        n2=len(c2)\n",
    "    for i in range(n1):\n",
    "        for j in range(n2):\n",
    "            if isinstance(c1,int)==True:\n",
    "                k1=c1\n",
    "            else:\n",
    "                k1=c1[i]\n",
    "            if isinstance(c2,int)==True:\n",
    "                k2=c2\n",
    "            else:\n",
    "                k2=c2[j]\n",
    "            sum_+=A[k1,k2]\n",
    "    return sum_"
   ]
  },
  {
   "cell_type": "markdown",
   "metadata": {},
   "source": [
    "### Compute goodness of $C_i$ and $C_j$"
   ]
  },
  {
   "cell_type": "code",
   "execution_count": 113,
   "metadata": {},
   "outputs": [],
   "source": [
    "def goodness(A,c1,c2,theta):\n",
    "    if isinstance(c1,int)==True:\n",
    "        n1=1\n",
    "    else:\n",
    "        n1=len(c1)\n",
    "    if isinstance(c2,int)==True:\n",
    "        n2=1\n",
    "    else:\n",
    "        n2=len(c2)\n",
    "    ftheta=(1-theta)/(1+theta)\n",
    "    if c1==c2:\n",
    "        gm=0\n",
    "    else:\n",
    "        gm=link(A,c1,c2)/((n1+n2)**(1+2*ftheta)-n1**(1+2*ftheta)-n2**(1+2*ftheta))\n",
    "    return gm"
   ]
  },
  {
   "cell_type": "markdown",
   "metadata": {},
   "source": [
    "### Find the best pair"
   ]
  },
  {
   "cell_type": "code",
   "execution_count": 114,
   "metadata": {},
   "outputs": [],
   "source": [
    "def find_best_pair(A,clusters,theta):\n",
    "    maximum_goodness = 0.0;\n",
    "    cluster_indexes = [-1, -1];\n",
    "        \n",
    "    for i in range(0, len(clusters)):\n",
    "        for j in range(i + 1, len(clusters)):\n",
    "            gm = goodness(A,clusters[i], clusters[j],theta);\n",
    "            if (gm > maximum_goodness):\n",
    "                maximum_goodness = gm;\n",
    "                cluster_indexes = [i, j]\n",
    "        \n",
    "    return cluster_indexes;"
   ]
  },
  {
   "cell_type": "code",
   "execution_count": 115,
   "metadata": {},
   "outputs": [],
   "source": [
    "def merge(clusters,cluster_indexes):\n",
    "    if isinstance(clusters[cluster_indexes[0]],int)==True:\n",
    "        clusters[cluster_indexes[0]]=[clusters[cluster_indexes[0]]]\n",
    "    if isinstance(clusters[cluster_indexes[1]],int)==True:\n",
    "        clusters[cluster_indexes[1]]=[clusters[cluster_indexes[1]]]\n",
    "    clusters[cluster_indexes[0]].extend(clusters[cluster_indexes[1]])\n",
    "    clusters.pop(cluster_indexes[1])\n",
    "    \n",
    "    return clusters"
   ]
  },
  {
   "cell_type": "markdown",
   "metadata": {},
   "source": [
    "### Process and clustering result"
   ]
  },
  {
   "cell_type": "code",
   "execution_count": 116,
   "metadata": {},
   "outputs": [
    {
     "name": "stdout",
     "output_type": "stream",
     "text": [
      "Number of clusters<=10\n",
      "[[0, 5, 33, 48, 67, 138, 197, 215, 244, 276, 292, 96, 115, 190, 196, 241, 266, 10, 36, 87, 103, 128, 149, 172, 178, 192, 210, 225, 238, 245, 263, 60, 11, 30, 54, 105, 108, 208, 271, 153, 186, 201, 212, 81, 82, 131, 148, 187, 198, 65, 37, 295, 296, 21, 40, 216, 35, 205, 222, 230, 254, 132, 219, 165, 24, 127, 141, 49, 74, 28, 221, 224, 58, 91, 177, 195, 202, 159, 213, 255, 118, 209, 110, 1, 16, 97, 114, 247, 289, 13, 116, 117, 125, 139, 170, 176, 181, 184, 251, 274, 293, 63, 84, 249, 281, 8, 43, 104, 168, 229, 156, 261, 99, 182, 38, 70, 143, 158, 258, 14, 218, 283, 122, 175, 226, 257, 267, 80, 161, 223, 252, 278, 256, 18, 55, 188, 107, 185, 240, 231, 2, 19, 50, 242, 269, 234, 272, 135, 83, 102, 206, 57, 140, 204, 207, 106, 236, 250, 166, 211, 248, 89, 160, 220, 298, 285, 92, 12, 77, 130, 277, 62, 79, 112, 297, 46, 262, 291, 26, 151, 253, 286, 34, 51, 120, 232, 275, 287, 6, 39, 90, 137, 243, 259, 200, 61, 235, 101, 88, 270, 44, 214, 123, 154, 157, 7, 203, 134, 53, 227, 45, 124, 194, 294, 268, 113, 246, 3, 73, 100, 173, 22, 145, 41, 126, 144, 279, 162, 121, 265, 109, 25, 239, 169, 282, 95, 189, 86, 273, 290, 191, 4, 264, 32, 174, 98, 119, 150, 85, 93, 193, 29, 129, 284, 133, 146, 164, 152, 68, 237, 94, 66], [9, 15, 23, 27, 42, 47, 69, 75, 78, 142, 147, 155, 179, 260, 288, 31, 180, 299, 199, 217, 56, 167, 64, 228], [17, 52, 59, 171, 183, 233, 76], 20, 71, 72, 111, 136, 163, 280]\n"
     ]
    }
   ],
   "source": [
    "clusters=list([i for i in range(300)])\n",
    "for i in range(len(clusters)-10):\n",
    "    new_clusters=merge(clusters,find_best_pair(A,clusters,0.5))\n",
    "    if len(new_clusters)<=10:\n",
    "        print(\"Number of clusters<=10\")\n",
    "        print(clusters)\n",
    "        break;\n",
    "    else:\n",
    "        clusters=new_clusters"
   ]
  },
  {
   "cell_type": "code",
   "execution_count": null,
   "metadata": {},
   "outputs": [],
   "source": []
  }
 ],
 "metadata": {
  "kernelspec": {
   "display_name": "Python 3",
   "language": "python",
   "name": "python3"
  },
  "language_info": {
   "codemirror_mode": {
    "name": "ipython",
    "version": 3
   },
   "file_extension": ".py",
   "mimetype": "text/x-python",
   "name": "python",
   "nbconvert_exporter": "python",
   "pygments_lexer": "ipython3",
   "version": "3.5.0"
  }
 },
 "nbformat": 4,
 "nbformat_minor": 2
}
